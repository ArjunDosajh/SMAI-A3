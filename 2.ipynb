{
 "cells": [
  {
   "cell_type": "code",
   "execution_count": 1,
   "metadata": {},
   "outputs": [],
   "source": [
    "import numpy as np\n",
    "import pandas as pd\n",
    "from sklearn.preprocessing import StandardScaler\n",
    "from sklearn.model_selection import train_test_split\n",
    "import wandb\n",
    "from sklearn.metrics import accuracy_score, f1_score, precision_score, recall_score, classification_report"
   ]
  },
  {
   "cell_type": "code",
   "execution_count": 2,
   "metadata": {},
   "outputs": [
    {
     "data": {
      "text/html": [
       "<div>\n",
       "<style scoped>\n",
       "    .dataframe tbody tr th:only-of-type {\n",
       "        vertical-align: middle;\n",
       "    }\n",
       "\n",
       "    .dataframe tbody tr th {\n",
       "        vertical-align: top;\n",
       "    }\n",
       "\n",
       "    .dataframe thead th {\n",
       "        text-align: right;\n",
       "    }\n",
       "</style>\n",
       "<table border=\"1\" class=\"dataframe\">\n",
       "  <thead>\n",
       "    <tr style=\"text-align: right;\">\n",
       "      <th></th>\n",
       "      <th>fixed acidity</th>\n",
       "      <th>volatile acidity</th>\n",
       "      <th>citric acid</th>\n",
       "      <th>residual sugar</th>\n",
       "      <th>chlorides</th>\n",
       "      <th>free sulfur dioxide</th>\n",
       "      <th>total sulfur dioxide</th>\n",
       "      <th>density</th>\n",
       "      <th>pH</th>\n",
       "      <th>sulphates</th>\n",
       "      <th>alcohol</th>\n",
       "      <th>quality</th>\n",
       "      <th>Id</th>\n",
       "    </tr>\n",
       "  </thead>\n",
       "  <tbody>\n",
       "    <tr>\n",
       "      <th>0</th>\n",
       "      <td>7.4</td>\n",
       "      <td>0.70</td>\n",
       "      <td>0.00</td>\n",
       "      <td>1.9</td>\n",
       "      <td>0.076</td>\n",
       "      <td>11.0</td>\n",
       "      <td>34.0</td>\n",
       "      <td>0.9978</td>\n",
       "      <td>3.51</td>\n",
       "      <td>0.56</td>\n",
       "      <td>9.4</td>\n",
       "      <td>5</td>\n",
       "      <td>0</td>\n",
       "    </tr>\n",
       "    <tr>\n",
       "      <th>1</th>\n",
       "      <td>7.8</td>\n",
       "      <td>0.88</td>\n",
       "      <td>0.00</td>\n",
       "      <td>2.6</td>\n",
       "      <td>0.098</td>\n",
       "      <td>25.0</td>\n",
       "      <td>67.0</td>\n",
       "      <td>0.9968</td>\n",
       "      <td>3.20</td>\n",
       "      <td>0.68</td>\n",
       "      <td>9.8</td>\n",
       "      <td>5</td>\n",
       "      <td>1</td>\n",
       "    </tr>\n",
       "    <tr>\n",
       "      <th>2</th>\n",
       "      <td>7.8</td>\n",
       "      <td>0.76</td>\n",
       "      <td>0.04</td>\n",
       "      <td>2.3</td>\n",
       "      <td>0.092</td>\n",
       "      <td>15.0</td>\n",
       "      <td>54.0</td>\n",
       "      <td>0.9970</td>\n",
       "      <td>3.26</td>\n",
       "      <td>0.65</td>\n",
       "      <td>9.8</td>\n",
       "      <td>5</td>\n",
       "      <td>2</td>\n",
       "    </tr>\n",
       "    <tr>\n",
       "      <th>3</th>\n",
       "      <td>11.2</td>\n",
       "      <td>0.28</td>\n",
       "      <td>0.56</td>\n",
       "      <td>1.9</td>\n",
       "      <td>0.075</td>\n",
       "      <td>17.0</td>\n",
       "      <td>60.0</td>\n",
       "      <td>0.9980</td>\n",
       "      <td>3.16</td>\n",
       "      <td>0.58</td>\n",
       "      <td>9.8</td>\n",
       "      <td>6</td>\n",
       "      <td>3</td>\n",
       "    </tr>\n",
       "    <tr>\n",
       "      <th>4</th>\n",
       "      <td>7.4</td>\n",
       "      <td>0.70</td>\n",
       "      <td>0.00</td>\n",
       "      <td>1.9</td>\n",
       "      <td>0.076</td>\n",
       "      <td>11.0</td>\n",
       "      <td>34.0</td>\n",
       "      <td>0.9978</td>\n",
       "      <td>3.51</td>\n",
       "      <td>0.56</td>\n",
       "      <td>9.4</td>\n",
       "      <td>5</td>\n",
       "      <td>4</td>\n",
       "    </tr>\n",
       "  </tbody>\n",
       "</table>\n",
       "</div>"
      ],
      "text/plain": [
       "   fixed acidity  volatile acidity  citric acid  residual sugar  chlorides  \\\n",
       "0            7.4              0.70         0.00             1.9      0.076   \n",
       "1            7.8              0.88         0.00             2.6      0.098   \n",
       "2            7.8              0.76         0.04             2.3      0.092   \n",
       "3           11.2              0.28         0.56             1.9      0.075   \n",
       "4            7.4              0.70         0.00             1.9      0.076   \n",
       "\n",
       "   free sulfur dioxide  total sulfur dioxide  density    pH  sulphates  \\\n",
       "0                 11.0                  34.0   0.9978  3.51       0.56   \n",
       "1                 25.0                  67.0   0.9968  3.20       0.68   \n",
       "2                 15.0                  54.0   0.9970  3.26       0.65   \n",
       "3                 17.0                  60.0   0.9980  3.16       0.58   \n",
       "4                 11.0                  34.0   0.9978  3.51       0.56   \n",
       "\n",
       "   alcohol  quality  Id  \n",
       "0      9.4        5   0  \n",
       "1      9.8        5   1  \n",
       "2      9.8        5   2  \n",
       "3      9.8        6   3  \n",
       "4      9.4        5   4  "
      ]
     },
     "execution_count": 2,
     "metadata": {},
     "output_type": "execute_result"
    }
   ],
   "source": [
    "wine_dataset = pd.read_csv('WineQT.csv')\n",
    "wine_dataset.head()"
   ]
  },
  {
   "cell_type": "code",
   "execution_count": 3,
   "metadata": {},
   "outputs": [
    {
     "name": "stderr",
     "output_type": "stream",
     "text": [
      "Failed to detect the name of this notebook, you can set it manually with the WANDB_NOTEBOOK_NAME environment variable to enable code saving.\n",
      "\u001b[34m\u001b[1mwandb\u001b[0m: Currently logged in as: \u001b[33marjundosajh100\u001b[0m (\u001b[33marjundosajh\u001b[0m). Use \u001b[1m`wandb login --relogin`\u001b[0m to force relogin\n"
     ]
    },
    {
     "data": {
      "text/plain": [
       "True"
      ]
     },
     "execution_count": 3,
     "metadata": {},
     "output_type": "execute_result"
    }
   ],
   "source": [
    "wandb.login()"
   ]
  },
  {
   "cell_type": "code",
   "execution_count": 4,
   "metadata": {},
   "outputs": [
    {
     "name": "stdout",
     "output_type": "stream",
     "text": [
      "Size of training set = 925\n",
      "Size of validation set = 103\n",
      "Size of test set = 115\n"
     ]
    }
   ],
   "source": [
    "X = wine_dataset.drop('quality', axis=1)\n",
    "y = wine_dataset['quality']\n",
    "\n",
    "X_train, X_test, y_train, y_test = train_test_split(X, y, test_size=0.1, random_state=42)\n",
    "X_train, X_val, y_train, y_val = train_test_split(X_train, y_train, test_size=0.1, random_state=52)\n",
    "\n",
    "print(f\"Size of training set = {len(X_train)}\\nSize of validation set = {len(X_val)}\\nSize of test set = {len(X_test)}\")"
   ]
  },
  {
   "cell_type": "code",
   "execution_count": 5,
   "metadata": {},
   "outputs": [
    {
     "name": "stdout",
     "output_type": "stream",
     "text": [
      "[3 3 4 3 2 2 3 3 3 3 2 0 4 2 3 2 4 2 3 1 2 3 3 3 2 3 3 3 2 2 3 2 3 2 2 4 1\n",
      " 3 2 3 3 2 2 3 3 3 2 3 3 2 2 4 2 3 3 2 2 2 3 3 3 3 2 4 3 3 2 2 2 2 3 2 4 2\n",
      " 2 3 2 2 4 2 3 2 4 3 2 3 2 3 1 3 2 2 4 3 2 3 3 2 3 1]\n"
     ]
    }
   ],
   "source": [
    "X_train = X_train.to_numpy()\n",
    "y_train = y_train.to_numpy()\n",
    "y_train -= 3 # To make the range of values from 0 to 5\n",
    "print(y_train[:100])\n",
    "\n",
    "X_val = X_val.to_numpy()\n",
    "y_val = y_val.to_numpy()\n",
    "y_val -= 3 # To make the range of values from 0 to 5\n",
    "\n",
    "X_test = X_test.to_numpy()\n",
    "y_test = y_test.to_numpy()\n",
    "y_test -= 3 # To make the range of values from 0 to 5\n",
    "\n",
    "scaler = StandardScaler()\n",
    "X_train = scaler.fit_transform(X_train)\n",
    "X_val = scaler.fit_transform(X_val)\n",
    "X_test = scaler.fit_transform(X_test)"
   ]
  },
  {
   "cell_type": "code",
   "execution_count": 6,
   "metadata": {},
   "outputs": [
    {
     "data": {
      "text/plain": [
       "((925, 12), (925,))"
      ]
     },
     "execution_count": 6,
     "metadata": {},
     "output_type": "execute_result"
    }
   ],
   "source": [
    "X_train.shape, y_train.shape"
   ]
  },
  {
   "cell_type": "code",
   "execution_count": 7,
   "metadata": {},
   "outputs": [],
   "source": [
    "class MultiLayerPerceptronClassifier():\n",
    "    def __init__(self, X_train, y_train, X_val, y_val, hidden_layers, activation_function=\"sigmoid\", learning_rate=0.01, optimizer=\"sgd\", log_to_wandb=False):\n",
    "        self.log_to_wandb = log_to_wandb\n",
    "        self.X_train = X_train\n",
    "        self.y_train = self.one_hot_encode(y_train)\n",
    "        self.X_val = X_val\n",
    "        self.y_val = self.one_hot_encode(y_val)\n",
    "\n",
    "        self.input_size = X_train.shape[1]\n",
    "        self.output_size = self.y_train.shape[1]\n",
    "        self.learning_rate = learning_rate\n",
    "        self.layers = [self.input_size] + hidden_layers + [self.output_size]\n",
    "        self.weights = [np.random.randn(self.layers[i], self.layers[i+1]) for i in range(len(self.layers) - 1)]\n",
    "        self.biases = [np.random.randn(1, self.layers[i+1]) for i in range(len(self.layers) - 1)]\n",
    "        \n",
    "        if activation_function == \"linear\":\n",
    "            self.activation = self.linear\n",
    "            self.activation_derivative = self.linear_derivative\n",
    "        elif activation_function == \"sigmoid\":\n",
    "            self.activation = self.sigmoid\n",
    "            self.activation_derivative = self.sigmoid_derivative\n",
    "        elif activation_function == \"tanh\":\n",
    "            self.activation = self.tanh\n",
    "            self.activation_derivative = self.tanh_derivative\n",
    "        elif activation_function == \"relu\":\n",
    "            self.activation = self.relu\n",
    "            self.activation_derivative = self.relu_derivative\n",
    "        \n",
    "        self.optimizer = optimizer\n",
    "\n",
    "    def linear(self, x):\n",
    "        return x\n",
    "    \n",
    "    def linear_derivative(self, x):\n",
    "        return 1\n",
    "\n",
    "    def sigmoid(self, x):\n",
    "        return 1 / (1 + np.exp(-x))\n",
    "\n",
    "    def sigmoid_derivative(self, x):\n",
    "        return x * (1 - x)\n",
    "\n",
    "    def tanh(self, x):\n",
    "        return np.tanh(x)\n",
    "\n",
    "    def tanh_derivative(self, x):\n",
    "        return 1.0 - np.tanh(x)**2\n",
    "\n",
    "    def relu(self, x):\n",
    "        return np.maximum(0, x)\n",
    "\n",
    "    def relu_derivative(self, x):\n",
    "        return np.where(x > 0, 1, 0)\n",
    "\n",
    "    def one_hot_encode(self, y):\n",
    "        n_values = int(np.max(y)) + 1\n",
    "        return np.eye(n_values)[y]\n",
    "    \n",
    "    def predict(self, X):\n",
    "        outputs = self.forward(X)\n",
    "        # Get the index of the maximum value in each output (this corresponds to the predicted class)\n",
    "        predictions = np.argmax(outputs, axis=1)\n",
    "        return predictions\n",
    "\n",
    "    def accuracy(self, X, y_true):\n",
    "        y_pred = self.predict(X)\n",
    "        correct_predictions = np.sum(y_pred == y_true)\n",
    "        total_samples = len(y_true)\n",
    "        return (correct_predictions / total_samples) * 100 # returns percentage accuracy\n",
    "    \n",
    "    def compute_loss(self, y_true, y_pred):\n",
    "        # I have uesd the MSE loss function\n",
    "        m = y_true.shape[0]\n",
    "        loss = (1 / (2 * m)) * np.sum(np.square(y_pred - y_true))\n",
    "        return loss\n",
    "\n",
    "    def forward(self, input_data):\n",
    "        input_data = np.atleast_2d(input_data) # to make sure that input data has atleast 2 dimensions\n",
    "        \n",
    "        self.a_values = [input_data]\n",
    "        self.z_values = []\n",
    "\n",
    "        for i in range(len(self.weights)):\n",
    "            z = np.dot(self.a_values[-1], self.weights[i]) + self.biases[i]\n",
    "            a = self.activation(z)\n",
    "            self.z_values.append(z)\n",
    "            self.a_values.append(a)\n",
    "\n",
    "        return self.a_values[-1]\n",
    "\n",
    "    def backpropagation(self, X, y):\n",
    "        m = X.shape[0]\n",
    "        self.dz_values = [self.a_values[-1] - y]\n",
    "        self.dw_values = [np.dot(self.a_values[-2].T, self.dz_values[0]) / m]\n",
    "        self.db_values = [np.sum(self.dz_values[0], axis=0, keepdims=True) / m]\n",
    "\n",
    "        for i in range(len(self.weights) - 1, 0, -1):\n",
    "            dz = np.dot(self.dz_values[0], self.weights[i].T) * self.activation_derivative(self.a_values[i])\n",
    "            dw = np.dot(self.a_values[i-1].T, dz) / m\n",
    "            db = np.sum(dz, axis=0, keepdims=True) / m\n",
    "            self.dz_values.insert(0, dz)\n",
    "            self.dw_values.insert(0, dw)\n",
    "            self.db_values.insert(0, db)\n",
    "\n",
    "    def update_weights(self):\n",
    "        for i in range(len(self.weights)):\n",
    "            self.weights[i] -= self.learning_rate * self.dw_values[i]\n",
    "            self.biases[i] -= self.learning_rate * self.db_values[i]\n",
    "\n",
    "    def train(self, epochs=100, batch_size=None):\n",
    "        if self.optimizer == \"sgd\":\n",
    "            for epoch in range(epochs):\n",
    "                for x, target in zip(self.X_train, self.y_train):\n",
    "                    self.forward(x)\n",
    "                    self.backpropagation(x.reshape(1, -1), target.reshape(1, -1))\n",
    "                    self.update_weights()\n",
    "                self.print_epoch_stats(epoch, epochs)\n",
    "        \n",
    "        elif self.optimizer == \"bgd\":\n",
    "            for epoch in range(epochs):\n",
    "                self.forward(self.X_train)\n",
    "                self.backpropagation(self.X_train, self.y_train)\n",
    "                self.update_weights()\n",
    "                self.print_epoch_stats(epoch, epochs)\n",
    "        \n",
    "        elif self.optimizer == \"mbgd\":\n",
    "            n_samples = self.X_train.shape[0]\n",
    "            n_batches = n_samples // batch_size\n",
    "\n",
    "            for epoch in range(epochs):\n",
    "                for i in range(0, n_samples, batch_size):\n",
    "                    end = i + batch_size if i + batch_size <= n_samples else n_samples\n",
    "                    batch_X, batch_y = self.X_train[i:end], self.y_train[i:end]\n",
    "                    self.forward(batch_X)\n",
    "                    self.backpropagation(batch_X, batch_y)\n",
    "                    self.update_weights()\n",
    "                self.print_epoch_stats(epoch, epochs)\n",
    "\n",
    "    def print_epoch_stats(self, epoch, epochs):\n",
    "        train_predictions = self.forward(self.X_train)\n",
    "        train_loss = self.compute_loss(self.y_train, train_predictions)\n",
    "        \n",
    "        train_pred_labels = np.argmax(train_predictions, axis=1) # one hot encoded lables to class labels\n",
    "        train_true_labels = np.argmax(self.y_train, axis=1)\n",
    "        \n",
    "        val_predictions = self.forward(self.X_val)\n",
    "        val_loss = self.compute_loss(self.y_val, val_predictions)\n",
    "        \n",
    "        val_pred_labels = np.argmax(val_predictions, axis=1)\n",
    "        val_true_labels = np.argmax(self.y_val, axis=1)\n",
    "\n",
    "        # Computing various metrics using sklearn.metrics\n",
    "        train_accuracy = accuracy_score(train_true_labels, train_pred_labels)\n",
    "        train_precision = precision_score(train_true_labels, train_pred_labels, average='macro', zero_division=1)\n",
    "        train_recall = recall_score(train_true_labels, train_pred_labels, average='macro')\n",
    "        train_f1 = f1_score(train_true_labels, train_pred_labels, average='macro')\n",
    "        \n",
    "        val_accuracy = accuracy_score(val_true_labels, val_pred_labels)\n",
    "        val_precision = precision_score(val_true_labels, val_pred_labels, average='macro', zero_division=1)\n",
    "        val_recall = recall_score(val_true_labels, val_pred_labels, average='macro')\n",
    "        val_f1 = f1_score(val_true_labels, val_pred_labels, average='macro')\n",
    "\n",
    "        # Log the metrics to wandb\n",
    "        if self.log_to_wandb:\n",
    "            metrics = {\n",
    "                \"train_loss\": train_loss, \n",
    "                \"train_accuracy\": train_accuracy, \n",
    "                \"train_precision\": train_precision, \n",
    "                \"train_recall\": train_recall, \n",
    "                \"train_f1\": train_f1,\n",
    "                \"val_loss\": val_loss, \n",
    "                \"val_accuracy\": val_accuracy, \n",
    "                \"val_precision\": val_precision, \n",
    "                \"val_recall\": val_recall, \n",
    "                \"val_f1\": val_f1,\n",
    "                \"epoch\": epoch + 1\n",
    "            }\n",
    "            wandb.log(metrics)\n",
    "\n",
    "        # print the metrics\n",
    "        else:\n",
    "            print(f\"Epoch {epoch + 1}/{epochs} - Training Loss: {train_loss:.4f}, Training Accuracy: {train_accuracy:.2f}%\")"
   ]
  },
  {
   "cell_type": "code",
   "execution_count": 8,
   "metadata": {},
   "outputs": [
    {
     "name": "stdout",
     "output_type": "stream",
     "text": [
      "Epoch 1/100 - Training Loss: 0.3371, Training Accuracy: 0.57%\n",
      "Epoch 2/100 - Training Loss: 0.3128, Training Accuracy: 0.56%\n",
      "Epoch 3/100 - Training Loss: 0.3054, Training Accuracy: 0.57%\n",
      "Epoch 4/100 - Training Loss: 0.3010, Training Accuracy: 0.58%\n",
      "Epoch 5/100 - Training Loss: 0.2975, Training Accuracy: 0.58%\n",
      "Epoch 6/100 - Training Loss: 0.2945, Training Accuracy: 0.58%\n",
      "Epoch 7/100 - Training Loss: 0.2919, Training Accuracy: 0.58%\n",
      "Epoch 8/100 - Training Loss: 0.2895, Training Accuracy: 0.59%\n",
      "Epoch 9/100 - Training Loss: 0.2872, Training Accuracy: 0.60%\n",
      "Epoch 10/100 - Training Loss: 0.2851, Training Accuracy: 0.60%\n",
      "Epoch 11/100 - Training Loss: 0.2835, Training Accuracy: 0.60%\n",
      "Epoch 12/100 - Training Loss: 0.2822, Training Accuracy: 0.60%\n",
      "Epoch 13/100 - Training Loss: 0.2811, Training Accuracy: 0.60%\n",
      "Epoch 14/100 - Training Loss: 0.2801, Training Accuracy: 0.60%\n",
      "Epoch 15/100 - Training Loss: 0.2792, Training Accuracy: 0.60%\n",
      "Epoch 16/100 - Training Loss: 0.2785, Training Accuracy: 0.60%\n",
      "Epoch 17/100 - Training Loss: 0.2778, Training Accuracy: 0.61%\n",
      "Epoch 18/100 - Training Loss: 0.2772, Training Accuracy: 0.61%\n",
      "Epoch 19/100 - Training Loss: 0.2767, Training Accuracy: 0.61%\n",
      "Epoch 20/100 - Training Loss: 0.2764, Training Accuracy: 0.61%\n",
      "Epoch 21/100 - Training Loss: 0.2761, Training Accuracy: 0.61%\n",
      "Epoch 22/100 - Training Loss: 0.2758, Training Accuracy: 0.61%\n",
      "Epoch 23/100 - Training Loss: 0.2756, Training Accuracy: 0.61%\n",
      "Epoch 24/100 - Training Loss: 0.2753, Training Accuracy: 0.61%\n",
      "Epoch 25/100 - Training Loss: 0.2750, Training Accuracy: 0.61%\n",
      "Epoch 26/100 - Training Loss: 0.2745, Training Accuracy: 0.61%\n",
      "Epoch 27/100 - Training Loss: 0.2739, Training Accuracy: 0.61%\n",
      "Epoch 28/100 - Training Loss: 0.2731, Training Accuracy: 0.61%\n",
      "Epoch 29/100 - Training Loss: 0.2721, Training Accuracy: 0.61%\n",
      "Epoch 30/100 - Training Loss: 0.2707, Training Accuracy: 0.61%\n",
      "Epoch 31/100 - Training Loss: 0.2693, Training Accuracy: 0.61%\n",
      "Epoch 32/100 - Training Loss: 0.2677, Training Accuracy: 0.61%\n",
      "Epoch 33/100 - Training Loss: 0.2662, Training Accuracy: 0.61%\n",
      "Epoch 34/100 - Training Loss: 0.2649, Training Accuracy: 0.61%\n",
      "Epoch 35/100 - Training Loss: 0.2638, Training Accuracy: 0.61%\n",
      "Epoch 36/100 - Training Loss: 0.2628, Training Accuracy: 0.61%\n",
      "Epoch 37/100 - Training Loss: 0.2620, Training Accuracy: 0.61%\n",
      "Epoch 38/100 - Training Loss: 0.2613, Training Accuracy: 0.61%\n",
      "Epoch 39/100 - Training Loss: 0.2606, Training Accuracy: 0.61%\n",
      "Epoch 40/100 - Training Loss: 0.2601, Training Accuracy: 0.61%\n",
      "Epoch 41/100 - Training Loss: 0.2595, Training Accuracy: 0.61%\n",
      "Epoch 42/100 - Training Loss: 0.2591, Training Accuracy: 0.60%\n",
      "Epoch 43/100 - Training Loss: 0.2586, Training Accuracy: 0.60%\n",
      "Epoch 44/100 - Training Loss: 0.2582, Training Accuracy: 0.60%\n",
      "Epoch 45/100 - Training Loss: 0.2578, Training Accuracy: 0.60%\n",
      "Epoch 46/100 - Training Loss: 0.2574, Training Accuracy: 0.61%\n",
      "Epoch 47/100 - Training Loss: 0.2571, Training Accuracy: 0.61%\n",
      "Epoch 48/100 - Training Loss: 0.2567, Training Accuracy: 0.62%\n",
      "Epoch 49/100 - Training Loss: 0.2564, Training Accuracy: 0.62%\n",
      "Epoch 50/100 - Training Loss: 0.2561, Training Accuracy: 0.62%\n",
      "Epoch 51/100 - Training Loss: 0.2558, Training Accuracy: 0.63%\n",
      "Epoch 52/100 - Training Loss: 0.2555, Training Accuracy: 0.63%\n",
      "Epoch 53/100 - Training Loss: 0.2552, Training Accuracy: 0.63%\n",
      "Epoch 54/100 - Training Loss: 0.2549, Training Accuracy: 0.63%\n",
      "Epoch 55/100 - Training Loss: 0.2546, Training Accuracy: 0.63%\n",
      "Epoch 56/100 - Training Loss: 0.2543, Training Accuracy: 0.63%\n",
      "Epoch 57/100 - Training Loss: 0.2539, Training Accuracy: 0.63%\n",
      "Epoch 58/100 - Training Loss: 0.2535, Training Accuracy: 0.63%\n",
      "Epoch 59/100 - Training Loss: 0.2531, Training Accuracy: 0.63%\n",
      "Epoch 60/100 - Training Loss: 0.2527, Training Accuracy: 0.63%\n",
      "Epoch 61/100 - Training Loss: 0.2524, Training Accuracy: 0.64%\n",
      "Epoch 62/100 - Training Loss: 0.2520, Training Accuracy: 0.64%\n",
      "Epoch 63/100 - Training Loss: 0.2517, Training Accuracy: 0.63%\n",
      "Epoch 64/100 - Training Loss: 0.2514, Training Accuracy: 0.64%\n",
      "Epoch 65/100 - Training Loss: 0.2511, Training Accuracy: 0.64%\n",
      "Epoch 66/100 - Training Loss: 0.2508, Training Accuracy: 0.64%\n",
      "Epoch 67/100 - Training Loss: 0.2505, Training Accuracy: 0.64%\n",
      "Epoch 68/100 - Training Loss: 0.2502, Training Accuracy: 0.64%\n",
      "Epoch 69/100 - Training Loss: 0.2500, Training Accuracy: 0.64%\n",
      "Epoch 70/100 - Training Loss: 0.2497, Training Accuracy: 0.64%\n",
      "Epoch 71/100 - Training Loss: 0.2495, Training Accuracy: 0.64%\n",
      "Epoch 72/100 - Training Loss: 0.2492, Training Accuracy: 0.64%\n",
      "Epoch 73/100 - Training Loss: 0.2490, Training Accuracy: 0.64%\n",
      "Epoch 74/100 - Training Loss: 0.2488, Training Accuracy: 0.64%\n",
      "Epoch 75/100 - Training Loss: 0.2486, Training Accuracy: 0.64%\n",
      "Epoch 76/100 - Training Loss: 0.2484, Training Accuracy: 0.64%\n",
      "Epoch 77/100 - Training Loss: 0.2482, Training Accuracy: 0.64%\n",
      "Epoch 78/100 - Training Loss: 0.2480, Training Accuracy: 0.64%\n",
      "Epoch 79/100 - Training Loss: 0.2478, Training Accuracy: 0.64%\n",
      "Epoch 80/100 - Training Loss: 0.2476, Training Accuracy: 0.64%\n",
      "Epoch 81/100 - Training Loss: 0.2474, Training Accuracy: 0.64%\n",
      "Epoch 82/100 - Training Loss: 0.2472, Training Accuracy: 0.64%\n",
      "Epoch 83/100 - Training Loss: 0.2470, Training Accuracy: 0.65%\n",
      "Epoch 84/100 - Training Loss: 0.2469, Training Accuracy: 0.65%\n",
      "Epoch 85/100 - Training Loss: 0.2467, Training Accuracy: 0.65%\n",
      "Epoch 86/100 - Training Loss: 0.2465, Training Accuracy: 0.65%\n",
      "Epoch 87/100 - Training Loss: 0.2463, Training Accuracy: 0.64%\n",
      "Epoch 88/100 - Training Loss: 0.2462, Training Accuracy: 0.64%\n",
      "Epoch 89/100 - Training Loss: 0.2460, Training Accuracy: 0.64%\n",
      "Epoch 90/100 - Training Loss: 0.2458, Training Accuracy: 0.64%\n",
      "Epoch 91/100 - Training Loss: 0.2457, Training Accuracy: 0.64%\n",
      "Epoch 92/100 - Training Loss: 0.2455, Training Accuracy: 0.64%\n",
      "Epoch 93/100 - Training Loss: 0.2453, Training Accuracy: 0.64%\n",
      "Epoch 94/100 - Training Loss: 0.2451, Training Accuracy: 0.64%\n",
      "Epoch 95/100 - Training Loss: 0.2449, Training Accuracy: 0.64%\n",
      "Epoch 96/100 - Training Loss: 0.2448, Training Accuracy: 0.64%\n",
      "Epoch 97/100 - Training Loss: 0.2446, Training Accuracy: 0.65%\n",
      "Epoch 98/100 - Training Loss: 0.2444, Training Accuracy: 0.65%\n",
      "Epoch 99/100 - Training Loss: 0.2442, Training Accuracy: 0.65%\n",
      "Epoch 100/100 - Training Loss: 0.2440, Training Accuracy: 0.65%\n"
     ]
    }
   ],
   "source": [
    "mlp = MultiLayerPerceptronClassifier(X_train, y_train, X_val, y_val, hidden_layers=[6, 6], activation_function=\"tanh\", learning_rate=0.01, optimizer=\"sgd\")\n",
    "mlp.train(epochs=100)"
   ]
  },
  {
   "cell_type": "markdown",
   "metadata": {},
   "source": [
    "## Hyperparameter Tuning - Trying out different activation functions and optimizers"
   ]
  },
  {
   "cell_type": "code",
   "execution_count": 9,
   "metadata": {},
   "outputs": [
    {
     "data": {
      "text/html": [
       "Tracking run with wandb version 0.15.12"
      ],
      "text/plain": [
       "<IPython.core.display.HTML object>"
      ]
     },
     "metadata": {},
     "output_type": "display_data"
    },
    {
     "data": {
      "text/html": [
       "Run data is saved locally in <code>/Users/arjundosajh/IIITH/Sem 5/SMAI/assignment-3-ArjunDosajh/wandb/run-20231014_174106-6n29mxt8</code>"
      ],
      "text/plain": [
       "<IPython.core.display.HTML object>"
      ]
     },
     "metadata": {},
     "output_type": "display_data"
    },
    {
     "data": {
      "text/html": [
       "Syncing run <strong><a href='https://wandb.ai/arjundosajh/SMAI-Assignment-3-Task-2.2.1/runs/6n29mxt8' target=\"_blank\">MLP_Classifier_relu_sgd_0.01</a></strong> to <a href='https://wandb.ai/arjundosajh/SMAI-Assignment-3-Task-2.2.1' target=\"_blank\">Weights & Biases</a> (<a href='https://wandb.me/run' target=\"_blank\">docs</a>)<br/>"
      ],
      "text/plain": [
       "<IPython.core.display.HTML object>"
      ]
     },
     "metadata": {},
     "output_type": "display_data"
    },
    {
     "data": {
      "text/html": [
       " View project at <a href='https://wandb.ai/arjundosajh/SMAI-Assignment-3-Task-2.2.1' target=\"_blank\">https://wandb.ai/arjundosajh/SMAI-Assignment-3-Task-2.2.1</a>"
      ],
      "text/plain": [
       "<IPython.core.display.HTML object>"
      ]
     },
     "metadata": {},
     "output_type": "display_data"
    },
    {
     "data": {
      "text/html": [
       " View run at <a href='https://wandb.ai/arjundosajh/SMAI-Assignment-3-Task-2.2.1/runs/6n29mxt8' target=\"_blank\">https://wandb.ai/arjundosajh/SMAI-Assignment-3-Task-2.2.1/runs/6n29mxt8</a>"
      ],
      "text/plain": [
       "<IPython.core.display.HTML object>"
      ]
     },
     "metadata": {},
     "output_type": "display_data"
    },
    {
     "data": {
      "text/html": [
       "Finishing last run (ID:6n29mxt8) before initializing another..."
      ],
      "text/plain": [
       "<IPython.core.display.HTML object>"
      ]
     },
     "metadata": {},
     "output_type": "display_data"
    },
    {
     "data": {
      "text/html": [
       "Waiting for W&B process to finish... <strong style=\"color:green\">(success).</strong>"
      ],
      "text/plain": [
       "<IPython.core.display.HTML object>"
      ]
     },
     "metadata": {},
     "output_type": "display_data"
    },
    {
     "name": "stderr",
     "output_type": "stream",
     "text": [
      "wandb: WARNING Source type is set to 'repo' but some required information is missing from the environment. A job will not be created from this run. See https://docs.wandb.ai/guides/launch/create-job\n"
     ]
    },
    {
     "data": {
      "text/html": [
       "<style>\n",
       "    table.wandb td:nth-child(1) { padding: 0 10px; text-align: left ; width: auto;} td:nth-child(2) {text-align: left ; width: 100%}\n",
       "    .wandb-row { display: flex; flex-direction: row; flex-wrap: wrap; justify-content: flex-start; width: 100% }\n",
       "    .wandb-col { display: flex; flex-direction: column; flex-basis: 100%; flex: 1; padding: 10px; }\n",
       "    </style>\n",
       "<div class=\"wandb-row\"><div class=\"wandb-col\"><h3>Run history:</h3><br/><table class=\"wandb\"><tr><td>epoch</td><td>▁▁▁▂▂▂▂▂▂▃▃▃▃▃▄▄▄▄▄▄▅▅▅▅▅▅▆▆▆▆▆▇▇▇▇▇▇███</td></tr><tr><td>train_accuracy</td><td>▁▂▃▄▅▄▆▆▇▇▇██▆▇▇▇█▇██▇▆▇██▇█▇█▇██▇██▆▇▇▇</td></tr><tr><td>train_f1</td><td>▁▂▂▄▅▅▆▆▇▇▇██▇▇▇██████▇███▇██████▇██▇█▇▇</td></tr><tr><td>train_loss</td><td>█▇▇▆▆▆▅▄▃▃▃▂▂▂▂▂▂▂▂▁▁▁▃▁▁▁▂▁▁▁▂▁▁▂▁▁▃▁▂▂</td></tr><tr><td>train_precision</td><td>█▄▄▁▃▂▂▃▆▅▅▆▇▆▅▇▇▇███▆▅▆█▆▅█▆▇▆█▇▅▇▇▄▇▄▅</td></tr><tr><td>train_recall</td><td>▁▁▂▄▅▄▆▆▇▇▇██▇████████▇█████████████▇███</td></tr><tr><td>val_accuracy</td><td>▁▃▆▆█▆█▆▆▆▃▆██▆▆█▃▆▆▆▃▃▃▆▃▃▆▃▆▆▆▃▃▃▃▆▃▃▃</td></tr><tr><td>val_f1</td><td>▁▂▃▃▆▅█▇▇▇▄▇██▇▇█▄▅▅▅▄▄▄▅▄▄▅▄▅▅▅▄▄▄▄▅▄▄▄</td></tr><tr><td>val_loss</td><td>▆▅▄▃▃▄▁▂▂▃▄▃▃▂▂▃▄▆▅▅▅▅▇▆▅▅▄▄▆▆▅▄▅▆▅▅█▆▇█</td></tr><tr><td>val_precision</td><td>█▆▇▂▆▆▆▆▆▆▁▆▅▇▆▆▇▅▆▆▆▅▆▅▆▅▅▆▅▆▆▆▅▅▅▅▆▅▅▅</td></tr><tr><td>val_recall</td><td>▁▂▃▃▆▅█▇▇▇▄▇██▇▇█▄▅▅▅▄▄▄▅▄▄▅▄▅▅▅▄▄▄▄▅▄▄▄</td></tr></table><br/></div><div class=\"wandb-col\"><h3>Run summary:</h3><br/><table class=\"wandb\"><tr><td>epoch</td><td>1000</td></tr><tr><td>train_accuracy</td><td>0.47135</td></tr><tr><td>train_f1</td><td>0.17998</td></tr><tr><td>train_loss</td><td>0.3049</td></tr><tr><td>train_precision</td><td>0.90213</td></tr><tr><td>train_recall</td><td>0.21366</td></tr><tr><td>val_accuracy</td><td>0.42718</td></tr><tr><td>val_f1</td><td>0.12404</td></tr><tr><td>val_loss</td><td>0.31855</td></tr><tr><td>val_precision</td><td>0.79389</td></tr><tr><td>val_recall</td><td>0.18182</td></tr></table><br/></div></div>"
      ],
      "text/plain": [
       "<IPython.core.display.HTML object>"
      ]
     },
     "metadata": {},
     "output_type": "display_data"
    },
    {
     "data": {
      "text/html": [
       " View run <strong style=\"color:#cdcd00\">MLP_Classifier_relu_sgd_0.01</strong> at: <a href='https://wandb.ai/arjundosajh/SMAI-Assignment-3-Task-2.2.1/runs/6n29mxt8' target=\"_blank\">https://wandb.ai/arjundosajh/SMAI-Assignment-3-Task-2.2.1/runs/6n29mxt8</a><br/>Synced 5 W&B file(s), 0 media file(s), 0 artifact file(s) and 0 other file(s)"
      ],
      "text/plain": [
       "<IPython.core.display.HTML object>"
      ]
     },
     "metadata": {},
     "output_type": "display_data"
    },
    {
     "data": {
      "text/html": [
       "Find logs at: <code>./wandb/run-20231014_174106-6n29mxt8/logs</code>"
      ],
      "text/plain": [
       "<IPython.core.display.HTML object>"
      ]
     },
     "metadata": {},
     "output_type": "display_data"
    },
    {
     "data": {
      "text/html": [
       "Successfully finished last run (ID:6n29mxt8). Initializing new run:<br/>"
      ],
      "text/plain": [
       "<IPython.core.display.HTML object>"
      ]
     },
     "metadata": {},
     "output_type": "display_data"
    },
    {
     "data": {
      "text/html": [
       "Tracking run with wandb version 0.15.12"
      ],
      "text/plain": [
       "<IPython.core.display.HTML object>"
      ]
     },
     "metadata": {},
     "output_type": "display_data"
    },
    {
     "data": {
      "text/html": [
       "Run data is saved locally in <code>/Users/arjundosajh/IIITH/Sem 5/SMAI/assignment-3-ArjunDosajh/wandb/run-20231014_174259-4j0wigcl</code>"
      ],
      "text/plain": [
       "<IPython.core.display.HTML object>"
      ]
     },
     "metadata": {},
     "output_type": "display_data"
    },
    {
     "data": {
      "text/html": [
       "Syncing run <strong><a href='https://wandb.ai/arjundosajh/SMAI-Assignment-3-Task-2.2.1/runs/4j0wigcl' target=\"_blank\">MLP_Classifier_relu_bgd_0.01</a></strong> to <a href='https://wandb.ai/arjundosajh/SMAI-Assignment-3-Task-2.2.1' target=\"_blank\">Weights & Biases</a> (<a href='https://wandb.me/run' target=\"_blank\">docs</a>)<br/>"
      ],
      "text/plain": [
       "<IPython.core.display.HTML object>"
      ]
     },
     "metadata": {},
     "output_type": "display_data"
    },
    {
     "data": {
      "text/html": [
       " View project at <a href='https://wandb.ai/arjundosajh/SMAI-Assignment-3-Task-2.2.1' target=\"_blank\">https://wandb.ai/arjundosajh/SMAI-Assignment-3-Task-2.2.1</a>"
      ],
      "text/plain": [
       "<IPython.core.display.HTML object>"
      ]
     },
     "metadata": {},
     "output_type": "display_data"
    },
    {
     "data": {
      "text/html": [
       " View run at <a href='https://wandb.ai/arjundosajh/SMAI-Assignment-3-Task-2.2.1/runs/4j0wigcl' target=\"_blank\">https://wandb.ai/arjundosajh/SMAI-Assignment-3-Task-2.2.1/runs/4j0wigcl</a>"
      ],
      "text/plain": [
       "<IPython.core.display.HTML object>"
      ]
     },
     "metadata": {},
     "output_type": "display_data"
    },
    {
     "data": {
      "text/html": [
       "Finishing last run (ID:4j0wigcl) before initializing another..."
      ],
      "text/plain": [
       "<IPython.core.display.HTML object>"
      ]
     },
     "metadata": {},
     "output_type": "display_data"
    },
    {
     "data": {
      "text/html": [
       "Waiting for W&B process to finish... <strong style=\"color:green\">(success).</strong>"
      ],
      "text/plain": [
       "<IPython.core.display.HTML object>"
      ]
     },
     "metadata": {},
     "output_type": "display_data"
    },
    {
     "name": "stderr",
     "output_type": "stream",
     "text": [
      "wandb: WARNING Source type is set to 'repo' but some required information is missing from the environment. A job will not be created from this run. See https://docs.wandb.ai/guides/launch/create-job\n"
     ]
    },
    {
     "data": {
      "text/html": [
       "<style>\n",
       "    table.wandb td:nth-child(1) { padding: 0 10px; text-align: left ; width: auto;} td:nth-child(2) {text-align: left ; width: 100%}\n",
       "    .wandb-row { display: flex; flex-direction: row; flex-wrap: wrap; justify-content: flex-start; width: 100% }\n",
       "    .wandb-col { display: flex; flex-direction: column; flex-basis: 100%; flex: 1; padding: 10px; }\n",
       "    </style>\n",
       "<div class=\"wandb-row\"><div class=\"wandb-col\"><h3>Run history:</h3><br/><table class=\"wandb\"><tr><td>epoch</td><td>▁▁▁▂▂▂▂▂▂▃▃▃▃▃▄▄▄▄▄▄▅▅▅▅▅▅▆▆▆▆▆▇▇▇▇▇▇███</td></tr><tr><td>train_accuracy</td><td>▁▁▁▂▃▄▆▆▇▇▇▇▇▇▇▇▇▇▇▇▇▇▇▇▇▇██████████████</td></tr><tr><td>train_f1</td><td>▁▁▂▂▃▄▅▅▆▆▆▆▇▇▇▇▇▇▇▇▇▇▇▇▇▇▇▇████████████</td></tr><tr><td>train_loss</td><td>█▃▂▂▂▂▂▂▁▁▁▁▁▁▁▁▁▁▁▁▁▁▁▁▁▁▁▁▁▁▁▁▁▁▁▁▁▁▁▁</td></tr><tr><td>train_precision</td><td>█▆▁▄▄▄▅▅▅▅▅▄▄▇▇▇▇▇▇▇▇▇▇▇▇▇▄▄▄▅▅▅▅▅▅▅▅▅▅▅</td></tr><tr><td>train_recall</td><td>██▅▅▂▁▄▅▃▄▄▄▄▄▅▅▅▄▄▅▅▅▅▅▅▅▅▅▆▆▆▆▆▆▆▆▆▇▇▇</td></tr><tr><td>val_accuracy</td><td>▁▁▁▂▃▅▅▅▆▆▆▆▇▆▆▆▇▇▇▇▇▇▇▇▇▇▇▇████████████</td></tr><tr><td>val_f1</td><td>▁▁▂▃▃▄▄▄▅▆▅▆▇▆▆▆▇█▇▇▇▇▇▇▇▇▇▇███████▇▇█▇▇</td></tr><tr><td>val_loss</td><td>█▃▂▂▂▂▂▂▁▁▁▁▁▁▁▁▁▁▁▁▁▁▁▁▁▁▁▁▁▁▁▁▁▁▁▁▁▁▁▁</td></tr><tr><td>val_precision</td><td>▆▆▇▇▆▆▆▆▆▂▁▅▅▄▄▄▄▅▄▄▄███████████████████</td></tr><tr><td>val_recall</td><td>▇▇▇█▁▂▃▃▄▄▄▄▄▄▄▄▅▅▅▅▅▅▅▅▅▅▅▅▆▆▆▆▆▆▆▅▅▆▅▅</td></tr></table><br/></div><div class=\"wandb-col\"><h3>Run summary:</h3><br/><table class=\"wandb\"><tr><td>epoch</td><td>1000</td></tr><tr><td>train_accuracy</td><td>0.44649</td></tr><tr><td>train_f1</td><td>0.14896</td></tr><tr><td>train_loss</td><td>0.32191</td></tr><tr><td>train_precision</td><td>0.54329</td></tr><tr><td>train_recall</td><td>0.1786</td></tr><tr><td>val_accuracy</td><td>0.40777</td></tr><tr><td>val_f1</td><td>0.13662</td></tr><tr><td>val_loss</td><td>0.32314</td></tr><tr><td>val_precision</td><td>0.81107</td></tr><tr><td>val_recall</td><td>0.16191</td></tr></table><br/></div></div>"
      ],
      "text/plain": [
       "<IPython.core.display.HTML object>"
      ]
     },
     "metadata": {},
     "output_type": "display_data"
    },
    {
     "data": {
      "text/html": [
       " View run <strong style=\"color:#cdcd00\">MLP_Classifier_relu_bgd_0.01</strong> at: <a href='https://wandb.ai/arjundosajh/SMAI-Assignment-3-Task-2.2.1/runs/4j0wigcl' target=\"_blank\">https://wandb.ai/arjundosajh/SMAI-Assignment-3-Task-2.2.1/runs/4j0wigcl</a><br/>Synced 5 W&B file(s), 0 media file(s), 0 artifact file(s) and 0 other file(s)"
      ],
      "text/plain": [
       "<IPython.core.display.HTML object>"
      ]
     },
     "metadata": {},
     "output_type": "display_data"
    },
    {
     "data": {
      "text/html": [
       "Find logs at: <code>./wandb/run-20231014_174259-4j0wigcl/logs</code>"
      ],
      "text/plain": [
       "<IPython.core.display.HTML object>"
      ]
     },
     "metadata": {},
     "output_type": "display_data"
    },
    {
     "data": {
      "text/html": [
       "Successfully finished last run (ID:4j0wigcl). Initializing new run:<br/>"
      ],
      "text/plain": [
       "<IPython.core.display.HTML object>"
      ]
     },
     "metadata": {},
     "output_type": "display_data"
    },
    {
     "data": {
      "text/html": [
       "Tracking run with wandb version 0.15.12"
      ],
      "text/plain": [
       "<IPython.core.display.HTML object>"
      ]
     },
     "metadata": {},
     "output_type": "display_data"
    },
    {
     "data": {
      "text/html": [
       "Run data is saved locally in <code>/Users/arjundosajh/IIITH/Sem 5/SMAI/assignment-3-ArjunDosajh/wandb/run-20231014_174321-clnvk34p</code>"
      ],
      "text/plain": [
       "<IPython.core.display.HTML object>"
      ]
     },
     "metadata": {},
     "output_type": "display_data"
    },
    {
     "data": {
      "text/html": [
       "Syncing run <strong><a href='https://wandb.ai/arjundosajh/SMAI-Assignment-3-Task-2.2.1/runs/clnvk34p' target=\"_blank\">MLP_Classifier_relu_mbgd_0.01</a></strong> to <a href='https://wandb.ai/arjundosajh/SMAI-Assignment-3-Task-2.2.1' target=\"_blank\">Weights & Biases</a> (<a href='https://wandb.me/run' target=\"_blank\">docs</a>)<br/>"
      ],
      "text/plain": [
       "<IPython.core.display.HTML object>"
      ]
     },
     "metadata": {},
     "output_type": "display_data"
    },
    {
     "data": {
      "text/html": [
       " View project at <a href='https://wandb.ai/arjundosajh/SMAI-Assignment-3-Task-2.2.1' target=\"_blank\">https://wandb.ai/arjundosajh/SMAI-Assignment-3-Task-2.2.1</a>"
      ],
      "text/plain": [
       "<IPython.core.display.HTML object>"
      ]
     },
     "metadata": {},
     "output_type": "display_data"
    },
    {
     "data": {
      "text/html": [
       " View run at <a href='https://wandb.ai/arjundosajh/SMAI-Assignment-3-Task-2.2.1/runs/clnvk34p' target=\"_blank\">https://wandb.ai/arjundosajh/SMAI-Assignment-3-Task-2.2.1/runs/clnvk34p</a>"
      ],
      "text/plain": [
       "<IPython.core.display.HTML object>"
      ]
     },
     "metadata": {},
     "output_type": "display_data"
    },
    {
     "data": {
      "text/html": [
       "Finishing last run (ID:clnvk34p) before initializing another..."
      ],
      "text/plain": [
       "<IPython.core.display.HTML object>"
      ]
     },
     "metadata": {},
     "output_type": "display_data"
    },
    {
     "data": {
      "text/html": [
       "Waiting for W&B process to finish... <strong style=\"color:green\">(success).</strong>"
      ],
      "text/plain": [
       "<IPython.core.display.HTML object>"
      ]
     },
     "metadata": {},
     "output_type": "display_data"
    },
    {
     "name": "stderr",
     "output_type": "stream",
     "text": [
      "wandb: WARNING Source type is set to 'repo' but some required information is missing from the environment. A job will not be created from this run. See https://docs.wandb.ai/guides/launch/create-job\n"
     ]
    },
    {
     "data": {
      "text/html": [
       "<style>\n",
       "    table.wandb td:nth-child(1) { padding: 0 10px; text-align: left ; width: auto;} td:nth-child(2) {text-align: left ; width: 100%}\n",
       "    .wandb-row { display: flex; flex-direction: row; flex-wrap: wrap; justify-content: flex-start; width: 100% }\n",
       "    .wandb-col { display: flex; flex-direction: column; flex-basis: 100%; flex: 1; padding: 10px; }\n",
       "    </style>\n",
       "<div class=\"wandb-row\"><div class=\"wandb-col\"><h3>Run history:</h3><br/><table class=\"wandb\"><tr><td>epoch</td><td>▁▁▁▂▂▂▂▂▂▃▃▃▃▃▄▄▄▄▄▄▅▅▅▅▅▅▆▆▆▆▆▇▇▇▇▇▇███</td></tr><tr><td>train_accuracy</td><td>▁▂▂▂▂▃▅▆▆▆▆▆▆▆▆▆▆▆▆▆▆▆▆▆▆▇▇▇▇▇▇█████████</td></tr><tr><td>train_f1</td><td>▁▂▂▂▃▃▅▆▆▆▆▅▅▅▅▅▅▅▅▅▅▅▅▅▅▅▇█████████████</td></tr><tr><td>train_loss</td><td>█▄▄▄▃▃▃▃▂▂▂▂▂▂▂▂▂▂▂▂▂▂▂▂▂▂▂▁▁▁▁▁▁▁▁▁▁▁▁▁</td></tr><tr><td>train_precision</td><td>▂▁▂▂▂▂▂▆▆▇▇▇▇▇▇▇▇▇▇▇▇▇▇▇▇▆▆▇▇▇▇▇▇▇██████</td></tr><tr><td>train_recall</td><td>▁▁▂▂▂▃▅▆▅▅▅▅▄▄▄▄▄▄▄▄▅▅▅▅▅▅▇▇▇███████████</td></tr><tr><td>val_accuracy</td><td>▁▁▁▁▁▁▂▃▃▃▃▃▃▄▄▄▄▄▄▅▆▅▆▆▆▆▇▇▆▆▇█████████</td></tr><tr><td>val_f1</td><td>▁▁▁▁▁▁▄▆▆▄▅▅▅▅▅▅▅▅▅▆▆▆▆▆▆▆▇▇▇▇▇█████████</td></tr><tr><td>val_loss</td><td>█▃▂▂▂▂▂▂▂▂▂▂▂▂▂▂▂▂▂▂▂▂▂▂▁▁▁▁▁▁▁▁▁▁▁▁▁▁▁▁</td></tr><tr><td>val_precision</td><td>▃███▃▅▂▃▃▁▆▆▆▆▆▆▆▆▆▆▆▆▆▆▆▆▇▇▂▂▂▂▂▂▂▂▂▂▂▂</td></tr><tr><td>val_recall</td><td>▁▁▁▁▁▁▃▄▄▃▃▃▃▄▄▄▄▄▄▅▆▅▆▆▆▆▇▇▆▆▇█████████</td></tr></table><br/></div><div class=\"wandb-col\"><h3>Run summary:</h3><br/><table class=\"wandb\"><tr><td>epoch</td><td>1000</td></tr><tr><td>train_accuracy</td><td>0.60216</td></tr><tr><td>train_f1</td><td>0.28408</td></tr><tr><td>train_loss</td><td>0.26861</td></tr><tr><td>train_precision</td><td>0.83634</td></tr><tr><td>train_recall</td><td>0.28036</td></tr><tr><td>val_accuracy</td><td>0.58252</td></tr><tr><td>val_f1</td><td>0.20782</td></tr><tr><td>val_loss</td><td>0.29398</td></tr><tr><td>val_precision</td><td>0.69653</td></tr><tr><td>val_recall</td><td>0.23062</td></tr></table><br/></div></div>"
      ],
      "text/plain": [
       "<IPython.core.display.HTML object>"
      ]
     },
     "metadata": {},
     "output_type": "display_data"
    },
    {
     "data": {
      "text/html": [
       " View run <strong style=\"color:#cdcd00\">MLP_Classifier_relu_mbgd_0.01</strong> at: <a href='https://wandb.ai/arjundosajh/SMAI-Assignment-3-Task-2.2.1/runs/clnvk34p' target=\"_blank\">https://wandb.ai/arjundosajh/SMAI-Assignment-3-Task-2.2.1/runs/clnvk34p</a><br/>Synced 5 W&B file(s), 0 media file(s), 0 artifact file(s) and 0 other file(s)"
      ],
      "text/plain": [
       "<IPython.core.display.HTML object>"
      ]
     },
     "metadata": {},
     "output_type": "display_data"
    },
    {
     "data": {
      "text/html": [
       "Find logs at: <code>./wandb/run-20231014_174321-clnvk34p/logs</code>"
      ],
      "text/plain": [
       "<IPython.core.display.HTML object>"
      ]
     },
     "metadata": {},
     "output_type": "display_data"
    },
    {
     "data": {
      "text/html": [
       "Successfully finished last run (ID:clnvk34p). Initializing new run:<br/>"
      ],
      "text/plain": [
       "<IPython.core.display.HTML object>"
      ]
     },
     "metadata": {},
     "output_type": "display_data"
    },
    {
     "data": {
      "text/html": [
       "Tracking run with wandb version 0.15.12"
      ],
      "text/plain": [
       "<IPython.core.display.HTML object>"
      ]
     },
     "metadata": {},
     "output_type": "display_data"
    },
    {
     "data": {
      "text/html": [
       "Run data is saved locally in <code>/Users/arjundosajh/IIITH/Sem 5/SMAI/assignment-3-ArjunDosajh/wandb/run-20231014_174355-jrwfrta5</code>"
      ],
      "text/plain": [
       "<IPython.core.display.HTML object>"
      ]
     },
     "metadata": {},
     "output_type": "display_data"
    },
    {
     "data": {
      "text/html": [
       "Syncing run <strong><a href='https://wandb.ai/arjundosajh/SMAI-Assignment-3-Task-2.2.1/runs/jrwfrta5' target=\"_blank\">MLP_Classifier_sigmoid_sgd_0.01</a></strong> to <a href='https://wandb.ai/arjundosajh/SMAI-Assignment-3-Task-2.2.1' target=\"_blank\">Weights & Biases</a> (<a href='https://wandb.me/run' target=\"_blank\">docs</a>)<br/>"
      ],
      "text/plain": [
       "<IPython.core.display.HTML object>"
      ]
     },
     "metadata": {},
     "output_type": "display_data"
    },
    {
     "data": {
      "text/html": [
       " View project at <a href='https://wandb.ai/arjundosajh/SMAI-Assignment-3-Task-2.2.1' target=\"_blank\">https://wandb.ai/arjundosajh/SMAI-Assignment-3-Task-2.2.1</a>"
      ],
      "text/plain": [
       "<IPython.core.display.HTML object>"
      ]
     },
     "metadata": {},
     "output_type": "display_data"
    },
    {
     "data": {
      "text/html": [
       " View run at <a href='https://wandb.ai/arjundosajh/SMAI-Assignment-3-Task-2.2.1/runs/jrwfrta5' target=\"_blank\">https://wandb.ai/arjundosajh/SMAI-Assignment-3-Task-2.2.1/runs/jrwfrta5</a>"
      ],
      "text/plain": [
       "<IPython.core.display.HTML object>"
      ]
     },
     "metadata": {},
     "output_type": "display_data"
    },
    {
     "data": {
      "text/html": [
       "Finishing last run (ID:jrwfrta5) before initializing another..."
      ],
      "text/plain": [
       "<IPython.core.display.HTML object>"
      ]
     },
     "metadata": {},
     "output_type": "display_data"
    },
    {
     "data": {
      "text/html": [
       "Waiting for W&B process to finish... <strong style=\"color:green\">(success).</strong>"
      ],
      "text/plain": [
       "<IPython.core.display.HTML object>"
      ]
     },
     "metadata": {},
     "output_type": "display_data"
    },
    {
     "name": "stderr",
     "output_type": "stream",
     "text": [
      "wandb: WARNING Source type is set to 'repo' but some required information is missing from the environment. A job will not be created from this run. See https://docs.wandb.ai/guides/launch/create-job\n"
     ]
    },
    {
     "data": {
      "text/html": [
       "<style>\n",
       "    table.wandb td:nth-child(1) { padding: 0 10px; text-align: left ; width: auto;} td:nth-child(2) {text-align: left ; width: 100%}\n",
       "    .wandb-row { display: flex; flex-direction: row; flex-wrap: wrap; justify-content: flex-start; width: 100% }\n",
       "    .wandb-col { display: flex; flex-direction: column; flex-basis: 100%; flex: 1; padding: 10px; }\n",
       "    </style>\n",
       "<div class=\"wandb-row\"><div class=\"wandb-col\"><h3>Run history:</h3><br/><table class=\"wandb\"><tr><td>epoch</td><td>▁▁▁▂▂▂▂▂▂▃▃▃▃▃▄▄▄▄▄▄▅▅▅▅▅▅▆▆▆▆▆▇▇▇▇▇▇███</td></tr><tr><td>train_accuracy</td><td>▁▅▅▅▆▆▆▆▆▆▆▇▇▇▇▇▇▇██████████████████████</td></tr><tr><td>train_f1</td><td>▁▆▆▆▇▇▇▇▇▇▇▇▇▇▇▇▇███████████████████████</td></tr><tr><td>train_loss</td><td>█▆▅▅▄▄▄▃▃▃▃▃▃▂▂▂▂▂▂▂▂▂▂▂▂▂▁▁▁▁▁▁▁▁▁▁▁▁▁▁</td></tr><tr><td>train_precision</td><td>▁▆▆▆▇▇▇▇▇▇▇▇▇▇▇▇▇███████████████████████</td></tr><tr><td>train_recall</td><td>▁▆▆▆▇▇▇▇▇▆▇▇▇▇▇▇▇▇▇█████████████████████</td></tr><tr><td>val_accuracy</td><td>▃▆▇▇▆▅▅▄▄▄▅▅▆▇██▇▅▅▅▅▄▅▄▄▂▂▂▂▂▂▂▂▁▁▂▂▂▂▃</td></tr><tr><td>val_f1</td><td>▁▆▆▇▆▆▆▆▆▆▆▇▇▇███▇▇▇▇▆▆▆▆▅▅▅▅▅▅▅▅▅▅▅▅▆▆▆</td></tr><tr><td>val_loss</td><td>▅▂▁▁▁▁▂▃▃▄▄▃▃▃▃▃▄▄▅▅▅▆▆▆▆▇▇▇▇▇██████████</td></tr><tr><td>val_precision</td><td>█▃▃▄▃▃▃▂▂▃▃▃▄▄▅▅▄▃▃▃▃▂▃▂▂▂▂▂▂▂▂▁▁▁▁▂▂▂▂▂</td></tr><tr><td>val_recall</td><td>▁▆▇█▆▆▆▅▅▆▆▆▆▇███▇▇▇▇▆▇▆▆▆▆▆▆▆▆▅▅▅▅▆▆▆▆▇</td></tr></table><br/></div><div class=\"wandb-col\"><h3>Run summary:</h3><br/><table class=\"wandb\"><tr><td>epoch</td><td>1000</td></tr><tr><td>train_accuracy</td><td>0.71135</td></tr><tr><td>train_f1</td><td>0.34495</td></tr><tr><td>train_loss</td><td>0.19606</td></tr><tr><td>train_precision</td><td>0.83342</td></tr><tr><td>train_recall</td><td>0.36635</td></tr><tr><td>val_accuracy</td><td>0.57282</td></tr><tr><td>val_f1</td><td>0.28499</td></tr><tr><td>val_loss</td><td>0.3035</td></tr><tr><td>val_precision</td><td>0.77243</td></tr><tr><td>val_recall</td><td>0.30558</td></tr></table><br/></div></div>"
      ],
      "text/plain": [
       "<IPython.core.display.HTML object>"
      ]
     },
     "metadata": {},
     "output_type": "display_data"
    },
    {
     "data": {
      "text/html": [
       " View run <strong style=\"color:#cdcd00\">MLP_Classifier_sigmoid_sgd_0.01</strong> at: <a href='https://wandb.ai/arjundosajh/SMAI-Assignment-3-Task-2.2.1/runs/jrwfrta5' target=\"_blank\">https://wandb.ai/arjundosajh/SMAI-Assignment-3-Task-2.2.1/runs/jrwfrta5</a><br/>Synced 5 W&B file(s), 0 media file(s), 0 artifact file(s) and 0 other file(s)"
      ],
      "text/plain": [
       "<IPython.core.display.HTML object>"
      ]
     },
     "metadata": {},
     "output_type": "display_data"
    },
    {
     "data": {
      "text/html": [
       "Find logs at: <code>./wandb/run-20231014_174355-jrwfrta5/logs</code>"
      ],
      "text/plain": [
       "<IPython.core.display.HTML object>"
      ]
     },
     "metadata": {},
     "output_type": "display_data"
    },
    {
     "data": {
      "text/html": [
       "Successfully finished last run (ID:jrwfrta5). Initializing new run:<br/>"
      ],
      "text/plain": [
       "<IPython.core.display.HTML object>"
      ]
     },
     "metadata": {},
     "output_type": "display_data"
    },
    {
     "data": {
      "text/html": [
       "Tracking run with wandb version 0.15.12"
      ],
      "text/plain": [
       "<IPython.core.display.HTML object>"
      ]
     },
     "metadata": {},
     "output_type": "display_data"
    },
    {
     "data": {
      "text/html": [
       "Run data is saved locally in <code>/Users/arjundosajh/IIITH/Sem 5/SMAI/assignment-3-ArjunDosajh/wandb/run-20231014_174559-pw2lygqx</code>"
      ],
      "text/plain": [
       "<IPython.core.display.HTML object>"
      ]
     },
     "metadata": {},
     "output_type": "display_data"
    },
    {
     "data": {
      "text/html": [
       "Syncing run <strong><a href='https://wandb.ai/arjundosajh/SMAI-Assignment-3-Task-2.2.1/runs/pw2lygqx' target=\"_blank\">MLP_Classifier_sigmoid_bgd_0.01</a></strong> to <a href='https://wandb.ai/arjundosajh/SMAI-Assignment-3-Task-2.2.1' target=\"_blank\">Weights & Biases</a> (<a href='https://wandb.me/run' target=\"_blank\">docs</a>)<br/>"
      ],
      "text/plain": [
       "<IPython.core.display.HTML object>"
      ]
     },
     "metadata": {},
     "output_type": "display_data"
    },
    {
     "data": {
      "text/html": [
       " View project at <a href='https://wandb.ai/arjundosajh/SMAI-Assignment-3-Task-2.2.1' target=\"_blank\">https://wandb.ai/arjundosajh/SMAI-Assignment-3-Task-2.2.1</a>"
      ],
      "text/plain": [
       "<IPython.core.display.HTML object>"
      ]
     },
     "metadata": {},
     "output_type": "display_data"
    },
    {
     "data": {
      "text/html": [
       " View run at <a href='https://wandb.ai/arjundosajh/SMAI-Assignment-3-Task-2.2.1/runs/pw2lygqx' target=\"_blank\">https://wandb.ai/arjundosajh/SMAI-Assignment-3-Task-2.2.1/runs/pw2lygqx</a>"
      ],
      "text/plain": [
       "<IPython.core.display.HTML object>"
      ]
     },
     "metadata": {},
     "output_type": "display_data"
    },
    {
     "data": {
      "text/html": [
       "Finishing last run (ID:pw2lygqx) before initializing another..."
      ],
      "text/plain": [
       "<IPython.core.display.HTML object>"
      ]
     },
     "metadata": {},
     "output_type": "display_data"
    },
    {
     "data": {
      "text/html": [
       "Waiting for W&B process to finish... <strong style=\"color:green\">(success).</strong>"
      ],
      "text/plain": [
       "<IPython.core.display.HTML object>"
      ]
     },
     "metadata": {},
     "output_type": "display_data"
    },
    {
     "name": "stderr",
     "output_type": "stream",
     "text": [
      "wandb: WARNING Source type is set to 'repo' but some required information is missing from the environment. A job will not be created from this run. See https://docs.wandb.ai/guides/launch/create-job\n"
     ]
    },
    {
     "data": {
      "text/html": [
       "<style>\n",
       "    table.wandb td:nth-child(1) { padding: 0 10px; text-align: left ; width: auto;} td:nth-child(2) {text-align: left ; width: 100%}\n",
       "    .wandb-row { display: flex; flex-direction: row; flex-wrap: wrap; justify-content: flex-start; width: 100% }\n",
       "    .wandb-col { display: flex; flex-direction: column; flex-basis: 100%; flex: 1; padding: 10px; }\n",
       "    </style>\n",
       "<div class=\"wandb-row\"><div class=\"wandb-col\"><h3>Run history:</h3><br/><table class=\"wandb\"><tr><td>epoch</td><td>▁▁▁▂▂▂▂▂▂▃▃▃▃▃▄▄▄▄▄▄▅▅▅▅▅▅▆▆▆▆▆▇▇▇▇▇▇███</td></tr><tr><td>train_accuracy</td><td>▁▁▁▂▄▆▇▇▇▇▇▇▇▇▇▇▇▇▇█████████████████████</td></tr><tr><td>train_f1</td><td>▁▁▁▂▆▇▇█▇▇▇▇▇▇▇▇▇▇▇█████████████████████</td></tr><tr><td>train_loss</td><td>█▇▅▄▃▃▂▂▂▂▁▁▁▁▁▁▁▁▁▁▁▁▁▁▁▁▁▁▁▁▁▁▁▁▁▁▁▁▁▁</td></tr><tr><td>train_precision</td><td>▅▅▁▁▂▂▂▂▅███████████████████████████████</td></tr><tr><td>train_recall</td><td>█▆▆▃▄▁▂▂▂▂▁▁▂▂▂▁▂▂▂▂▂▂▂▂▂▂▂▂▂▃▃▃▃▃▃▃▃▃▃▃</td></tr><tr><td>val_accuracy</td><td>▁▁▁▂▃▅▇▇▇▇▇▇▇▇▇▇▇▇▇▇▇▇▇█████████████████</td></tr><tr><td>val_f1</td><td>▁▁▁▃▄▆▇▇▆▆▇▇▇▇▇▇▇▇▇▇▇▇▇█████████████████</td></tr><tr><td>val_loss</td><td>█▇▅▄▃▃▂▂▂▂▁▁▁▁▁▁▁▁▁▁▁▁▁▁▁▁▁▁▁▁▁▁▁▁▁▁▁▁▁▁</td></tr><tr><td>val_precision</td><td>▅▅▄▂▁▁▁▁▄▇▇▇████████████████████████████</td></tr><tr><td>val_recall</td><td>███▅▁▃▄▄▄▄▄▄▄▄▄▄▄▄▄▄▄▄▄▄▅▅▅▅▅▅▅▅▅▅▅▅▅▅▅▅</td></tr></table><br/></div><div class=\"wandb-col\"><h3>Run summary:</h3><br/><table class=\"wandb\"><tr><td>epoch</td><td>1000</td></tr><tr><td>train_accuracy</td><td>0.46486</td></tr><tr><td>train_f1</td><td>0.16986</td></tr><tr><td>train_loss</td><td>0.32418</td></tr><tr><td>train_precision</td><td>0.82135</td></tr><tr><td>train_recall</td><td>0.18836</td></tr><tr><td>val_accuracy</td><td>0.45631</td></tr><tr><td>val_f1</td><td>0.16476</td></tr><tr><td>val_loss</td><td>0.32535</td></tr><tr><td>val_precision</td><td>0.81866</td></tr><tr><td>val_recall</td><td>0.18023</td></tr></table><br/></div></div>"
      ],
      "text/plain": [
       "<IPython.core.display.HTML object>"
      ]
     },
     "metadata": {},
     "output_type": "display_data"
    },
    {
     "data": {
      "text/html": [
       " View run <strong style=\"color:#cdcd00\">MLP_Classifier_sigmoid_bgd_0.01</strong> at: <a href='https://wandb.ai/arjundosajh/SMAI-Assignment-3-Task-2.2.1/runs/pw2lygqx' target=\"_blank\">https://wandb.ai/arjundosajh/SMAI-Assignment-3-Task-2.2.1/runs/pw2lygqx</a><br/>Synced 5 W&B file(s), 0 media file(s), 0 artifact file(s) and 0 other file(s)"
      ],
      "text/plain": [
       "<IPython.core.display.HTML object>"
      ]
     },
     "metadata": {},
     "output_type": "display_data"
    },
    {
     "data": {
      "text/html": [
       "Find logs at: <code>./wandb/run-20231014_174559-pw2lygqx/logs</code>"
      ],
      "text/plain": [
       "<IPython.core.display.HTML object>"
      ]
     },
     "metadata": {},
     "output_type": "display_data"
    },
    {
     "data": {
      "text/html": [
       "Successfully finished last run (ID:pw2lygqx). Initializing new run:<br/>"
      ],
      "text/plain": [
       "<IPython.core.display.HTML object>"
      ]
     },
     "metadata": {},
     "output_type": "display_data"
    },
    {
     "data": {
      "text/html": [
       "Tracking run with wandb version 0.15.12"
      ],
      "text/plain": [
       "<IPython.core.display.HTML object>"
      ]
     },
     "metadata": {},
     "output_type": "display_data"
    },
    {
     "data": {
      "text/html": [
       "Run data is saved locally in <code>/Users/arjundosajh/IIITH/Sem 5/SMAI/assignment-3-ArjunDosajh/wandb/run-20231014_174624-ea4wivpm</code>"
      ],
      "text/plain": [
       "<IPython.core.display.HTML object>"
      ]
     },
     "metadata": {},
     "output_type": "display_data"
    },
    {
     "data": {
      "text/html": [
       "Syncing run <strong><a href='https://wandb.ai/arjundosajh/SMAI-Assignment-3-Task-2.2.1/runs/ea4wivpm' target=\"_blank\">MLP_Classifier_sigmoid_mbgd_0.01</a></strong> to <a href='https://wandb.ai/arjundosajh/SMAI-Assignment-3-Task-2.2.1' target=\"_blank\">Weights & Biases</a> (<a href='https://wandb.me/run' target=\"_blank\">docs</a>)<br/>"
      ],
      "text/plain": [
       "<IPython.core.display.HTML object>"
      ]
     },
     "metadata": {},
     "output_type": "display_data"
    },
    {
     "data": {
      "text/html": [
       " View project at <a href='https://wandb.ai/arjundosajh/SMAI-Assignment-3-Task-2.2.1' target=\"_blank\">https://wandb.ai/arjundosajh/SMAI-Assignment-3-Task-2.2.1</a>"
      ],
      "text/plain": [
       "<IPython.core.display.HTML object>"
      ]
     },
     "metadata": {},
     "output_type": "display_data"
    },
    {
     "data": {
      "text/html": [
       " View run at <a href='https://wandb.ai/arjundosajh/SMAI-Assignment-3-Task-2.2.1/runs/ea4wivpm' target=\"_blank\">https://wandb.ai/arjundosajh/SMAI-Assignment-3-Task-2.2.1/runs/ea4wivpm</a>"
      ],
      "text/plain": [
       "<IPython.core.display.HTML object>"
      ]
     },
     "metadata": {},
     "output_type": "display_data"
    },
    {
     "data": {
      "text/html": [
       "Finishing last run (ID:ea4wivpm) before initializing another..."
      ],
      "text/plain": [
       "<IPython.core.display.HTML object>"
      ]
     },
     "metadata": {},
     "output_type": "display_data"
    },
    {
     "data": {
      "text/html": [
       "Waiting for W&B process to finish... <strong style=\"color:green\">(success).</strong>"
      ],
      "text/plain": [
       "<IPython.core.display.HTML object>"
      ]
     },
     "metadata": {},
     "output_type": "display_data"
    },
    {
     "name": "stderr",
     "output_type": "stream",
     "text": [
      "wandb: WARNING Source type is set to 'repo' but some required information is missing from the environment. A job will not be created from this run. See https://docs.wandb.ai/guides/launch/create-job\n"
     ]
    },
    {
     "data": {
      "text/html": [
       "<style>\n",
       "    table.wandb td:nth-child(1) { padding: 0 10px; text-align: left ; width: auto;} td:nth-child(2) {text-align: left ; width: 100%}\n",
       "    .wandb-row { display: flex; flex-direction: row; flex-wrap: wrap; justify-content: flex-start; width: 100% }\n",
       "    .wandb-col { display: flex; flex-direction: column; flex-basis: 100%; flex: 1; padding: 10px; }\n",
       "    </style>\n",
       "<div class=\"wandb-row\"><div class=\"wandb-col\"><h3>Run history:</h3><br/><table class=\"wandb\"><tr><td>epoch</td><td>▁▁▁▂▂▂▂▂▂▃▃▃▃▃▄▄▄▄▄▄▅▅▅▅▅▅▆▆▆▆▆▇▇▇▇▇▇███</td></tr><tr><td>train_accuracy</td><td>▁▄▅▆▆▇▇▇▇▇▇▇▇▇▇▇▇▇▇▇▇▇▇▇████████████████</td></tr><tr><td>train_f1</td><td>▁▃▄▄▅▅▅▅▅▅▅▅▅▅▅▅▅▅▅▅▅▅▅▆▆▇▇▇████████████</td></tr><tr><td>train_loss</td><td>█▅▅▄▃▃▃▂▂▂▂▂▂▂▂▂▂▂▂▂▂▂▂▂▂▁▁▁▁▁▁▁▁▁▁▁▁▁▁▁</td></tr><tr><td>train_precision</td><td>▂▅▆▇▇▇▇█▇▇█████████████▁▂▃▃▃▃▃▃▂▂▂▂▂▂▂▂▂</td></tr><tr><td>train_recall</td><td>▁▃▄▅▅▅▅▅▅▅▅▅▅▅▅▅▅▅▅▅▅▅▅▆▆▇▇▇▇███████████</td></tr><tr><td>val_accuracy</td><td>▁▅▆▇▆▆▆▆▆▆▆▆▆▆▆▆▆▇▇▇▇▇▇▆▇▇▇▇▇▇██████████</td></tr><tr><td>val_f1</td><td>▁▄▄▅▅▅▅▅▅▅▅▅▅▅▅▅▅▅▅▆▆▆▆▅▇██▇▇███████████</td></tr><tr><td>val_loss</td><td>█▅▄▃▃▂▂▂▂▂▂▂▂▂▂▂▂▂▂▂▂▂▂▁▁▁▁▁▁▁▁▁▁▁▁▁▁▁▁▁</td></tr><tr><td>val_precision</td><td>▅▇▇██▇▇▇▇▇▇▇▇▇▇▇▇██████▁▄▄▄▄▄▄▄▄▄▄▄▄▄▄▄▄</td></tr><tr><td>val_recall</td><td>▁▄▅▆▅▅▅▅▅▅▅▅▅▅▅▅▅▆▆▆▆▆▆▅▇██▇▇███████████</td></tr></table><br/></div><div class=\"wandb-col\"><h3>Run summary:</h3><br/><table class=\"wandb\"><tr><td>epoch</td><td>1000</td></tr><tr><td>train_accuracy</td><td>0.61622</td></tr><tr><td>train_f1</td><td>0.28941</td></tr><tr><td>train_loss</td><td>0.25177</td></tr><tr><td>train_precision</td><td>0.79809</td></tr><tr><td>train_recall</td><td>0.28969</td></tr><tr><td>val_accuracy</td><td>0.63107</td></tr><tr><td>val_f1</td><td>0.26837</td></tr><tr><td>val_loss</td><td>0.25809</td></tr><tr><td>val_precision</td><td>0.78071</td></tr><tr><td>val_recall</td><td>0.27193</td></tr></table><br/></div></div>"
      ],
      "text/plain": [
       "<IPython.core.display.HTML object>"
      ]
     },
     "metadata": {},
     "output_type": "display_data"
    },
    {
     "data": {
      "text/html": [
       " View run <strong style=\"color:#cdcd00\">MLP_Classifier_sigmoid_mbgd_0.01</strong> at: <a href='https://wandb.ai/arjundosajh/SMAI-Assignment-3-Task-2.2.1/runs/ea4wivpm' target=\"_blank\">https://wandb.ai/arjundosajh/SMAI-Assignment-3-Task-2.2.1/runs/ea4wivpm</a><br/>Synced 5 W&B file(s), 0 media file(s), 0 artifact file(s) and 0 other file(s)"
      ],
      "text/plain": [
       "<IPython.core.display.HTML object>"
      ]
     },
     "metadata": {},
     "output_type": "display_data"
    },
    {
     "data": {
      "text/html": [
       "Find logs at: <code>./wandb/run-20231014_174624-ea4wivpm/logs</code>"
      ],
      "text/plain": [
       "<IPython.core.display.HTML object>"
      ]
     },
     "metadata": {},
     "output_type": "display_data"
    },
    {
     "data": {
      "text/html": [
       "Successfully finished last run (ID:ea4wivpm). Initializing new run:<br/>"
      ],
      "text/plain": [
       "<IPython.core.display.HTML object>"
      ]
     },
     "metadata": {},
     "output_type": "display_data"
    },
    {
     "data": {
      "text/html": [
       "Tracking run with wandb version 0.15.12"
      ],
      "text/plain": [
       "<IPython.core.display.HTML object>"
      ]
     },
     "metadata": {},
     "output_type": "display_data"
    },
    {
     "data": {
      "text/html": [
       "Run data is saved locally in <code>/Users/arjundosajh/IIITH/Sem 5/SMAI/assignment-3-ArjunDosajh/wandb/run-20231014_174650-4bs2vcl0</code>"
      ],
      "text/plain": [
       "<IPython.core.display.HTML object>"
      ]
     },
     "metadata": {},
     "output_type": "display_data"
    },
    {
     "data": {
      "text/html": [
       "Syncing run <strong><a href='https://wandb.ai/arjundosajh/SMAI-Assignment-3-Task-2.2.1/runs/4bs2vcl0' target=\"_blank\">MLP_Classifier_tanh_sgd_0.01</a></strong> to <a href='https://wandb.ai/arjundosajh/SMAI-Assignment-3-Task-2.2.1' target=\"_blank\">Weights & Biases</a> (<a href='https://wandb.me/run' target=\"_blank\">docs</a>)<br/>"
      ],
      "text/plain": [
       "<IPython.core.display.HTML object>"
      ]
     },
     "metadata": {},
     "output_type": "display_data"
    },
    {
     "data": {
      "text/html": [
       " View project at <a href='https://wandb.ai/arjundosajh/SMAI-Assignment-3-Task-2.2.1' target=\"_blank\">https://wandb.ai/arjundosajh/SMAI-Assignment-3-Task-2.2.1</a>"
      ],
      "text/plain": [
       "<IPython.core.display.HTML object>"
      ]
     },
     "metadata": {},
     "output_type": "display_data"
    },
    {
     "data": {
      "text/html": [
       " View run at <a href='https://wandb.ai/arjundosajh/SMAI-Assignment-3-Task-2.2.1/runs/4bs2vcl0' target=\"_blank\">https://wandb.ai/arjundosajh/SMAI-Assignment-3-Task-2.2.1/runs/4bs2vcl0</a>"
      ],
      "text/plain": [
       "<IPython.core.display.HTML object>"
      ]
     },
     "metadata": {},
     "output_type": "display_data"
    },
    {
     "data": {
      "text/html": [
       "Finishing last run (ID:4bs2vcl0) before initializing another..."
      ],
      "text/plain": [
       "<IPython.core.display.HTML object>"
      ]
     },
     "metadata": {},
     "output_type": "display_data"
    },
    {
     "data": {
      "text/html": [
       "Waiting for W&B process to finish... <strong style=\"color:green\">(success).</strong>"
      ],
      "text/plain": [
       "<IPython.core.display.HTML object>"
      ]
     },
     "metadata": {},
     "output_type": "display_data"
    },
    {
     "name": "stderr",
     "output_type": "stream",
     "text": [
      "wandb: WARNING Source type is set to 'repo' but some required information is missing from the environment. A job will not be created from this run. See https://docs.wandb.ai/guides/launch/create-job\n"
     ]
    },
    {
     "data": {
      "text/html": [
       "<style>\n",
       "    table.wandb td:nth-child(1) { padding: 0 10px; text-align: left ; width: auto;} td:nth-child(2) {text-align: left ; width: 100%}\n",
       "    .wandb-row { display: flex; flex-direction: row; flex-wrap: wrap; justify-content: flex-start; width: 100% }\n",
       "    .wandb-col { display: flex; flex-direction: column; flex-basis: 100%; flex: 1; padding: 10px; }\n",
       "    </style>\n",
       "<div class=\"wandb-row\"><div class=\"wandb-col\"><h3>Run history:</h3><br/><table class=\"wandb\"><tr><td>epoch</td><td>▁▁▁▂▂▂▂▂▂▃▃▃▃▃▄▄▄▄▄▄▅▅▅▅▅▅▆▆▆▆▆▇▇▇▇▇▇███</td></tr><tr><td>train_accuracy</td><td>▁▁▂▄▅▆▆▆▆▆▆▆▆▆▆▆▆▆▆▆▆▇▇▇▇█████████▇████▇</td></tr><tr><td>train_f1</td><td>▁▁▂▄▅▆▇▆▇▆▆▆▇▇▇▇▇▇▇▇▇▇██████████████████</td></tr><tr><td>train_loss</td><td>█▅▅▄▄▃▃▃▃▃▃▃▂▂▂▂▂▂▂▂▂▂▁▁▁▁▁▁▁▁▁▁▁▁▁▁▁▁▁▁</td></tr><tr><td>train_precision</td><td>▁▆▆▇▇▇█▇█▇██████████████████████████████</td></tr><tr><td>train_recall</td><td>▁▂▃▄▅▆▇▇▇▇▇▇███▇▇██████████▇██████▇████▇</td></tr><tr><td>val_accuracy</td><td>▃▁▂▄▅█▇▇▅▅▄▅▅▅▅▅▅▅▇▆▅▅▅▄▄▅▅▅▅▅▅▅▅▅▅▅▅▅▅▄</td></tr><tr><td>val_f1</td><td>▄▁▂▂▄███▆▅▄▄▅▅▅▅▅▆▆▆▄▄▅▅▅▅▅▅▆▆▆▆▆▆▆▆▅▅▅▄</td></tr><tr><td>val_loss</td><td>█▅▄▃▂▁▁▂▂▂▂▂▃▄▄▄▄▄▄▃▂▂▂▂▂▂▂▂▃▃▃▃▃▃▃▃▃▂▂▃</td></tr><tr><td>val_precision</td><td>█▁▂▂▄▇▆▆▅▄▃▄▄▄▄▄▄▅▆▅▄▄▅▄▄▅▄▄▅▅▅▅▅▅▅▅▄▅▄▄</td></tr><tr><td>val_recall</td><td>▂▁▂▁▄███▆▆▄▅▅▅▅▅▅▅▆▆▄▄▅▄▄▅▅▅▅▅▅▅▅▅▅▅▅▅▅▄</td></tr></table><br/></div><div class=\"wandb-col\"><h3>Run summary:</h3><br/><table class=\"wandb\"><tr><td>epoch</td><td>1000</td></tr><tr><td>train_accuracy</td><td>0.68865</td></tr><tr><td>train_f1</td><td>0.34049</td></tr><tr><td>train_loss</td><td>0.22818</td></tr><tr><td>train_precision</td><td>0.82952</td></tr><tr><td>train_recall</td><td>0.3529</td></tr><tr><td>val_accuracy</td><td>0.63107</td></tr><tr><td>val_f1</td><td>0.29713</td></tr><tr><td>val_loss</td><td>0.26278</td></tr><tr><td>val_precision</td><td>0.78949</td></tr><tr><td>val_recall</td><td>0.30576</td></tr></table><br/></div></div>"
      ],
      "text/plain": [
       "<IPython.core.display.HTML object>"
      ]
     },
     "metadata": {},
     "output_type": "display_data"
    },
    {
     "data": {
      "text/html": [
       " View run <strong style=\"color:#cdcd00\">MLP_Classifier_tanh_sgd_0.01</strong> at: <a href='https://wandb.ai/arjundosajh/SMAI-Assignment-3-Task-2.2.1/runs/4bs2vcl0' target=\"_blank\">https://wandb.ai/arjundosajh/SMAI-Assignment-3-Task-2.2.1/runs/4bs2vcl0</a><br/>Synced 5 W&B file(s), 0 media file(s), 0 artifact file(s) and 0 other file(s)"
      ],
      "text/plain": [
       "<IPython.core.display.HTML object>"
      ]
     },
     "metadata": {},
     "output_type": "display_data"
    },
    {
     "data": {
      "text/html": [
       "Find logs at: <code>./wandb/run-20231014_174650-4bs2vcl0/logs</code>"
      ],
      "text/plain": [
       "<IPython.core.display.HTML object>"
      ]
     },
     "metadata": {},
     "output_type": "display_data"
    },
    {
     "data": {
      "text/html": [
       "Successfully finished last run (ID:4bs2vcl0). Initializing new run:<br/>"
      ],
      "text/plain": [
       "<IPython.core.display.HTML object>"
      ]
     },
     "metadata": {},
     "output_type": "display_data"
    },
    {
     "data": {
      "text/html": [
       "Tracking run with wandb version 0.15.12"
      ],
      "text/plain": [
       "<IPython.core.display.HTML object>"
      ]
     },
     "metadata": {},
     "output_type": "display_data"
    },
    {
     "data": {
      "text/html": [
       "Run data is saved locally in <code>/Users/arjundosajh/IIITH/Sem 5/SMAI/assignment-3-ArjunDosajh/wandb/run-20231014_174838-7nqyzqcs</code>"
      ],
      "text/plain": [
       "<IPython.core.display.HTML object>"
      ]
     },
     "metadata": {},
     "output_type": "display_data"
    },
    {
     "data": {
      "text/html": [
       "Syncing run <strong><a href='https://wandb.ai/arjundosajh/SMAI-Assignment-3-Task-2.2.1/runs/7nqyzqcs' target=\"_blank\">MLP_Classifier_tanh_bgd_0.01</a></strong> to <a href='https://wandb.ai/arjundosajh/SMAI-Assignment-3-Task-2.2.1' target=\"_blank\">Weights & Biases</a> (<a href='https://wandb.me/run' target=\"_blank\">docs</a>)<br/>"
      ],
      "text/plain": [
       "<IPython.core.display.HTML object>"
      ]
     },
     "metadata": {},
     "output_type": "display_data"
    },
    {
     "data": {
      "text/html": [
       " View project at <a href='https://wandb.ai/arjundosajh/SMAI-Assignment-3-Task-2.2.1' target=\"_blank\">https://wandb.ai/arjundosajh/SMAI-Assignment-3-Task-2.2.1</a>"
      ],
      "text/plain": [
       "<IPython.core.display.HTML object>"
      ]
     },
     "metadata": {},
     "output_type": "display_data"
    },
    {
     "data": {
      "text/html": [
       " View run at <a href='https://wandb.ai/arjundosajh/SMAI-Assignment-3-Task-2.2.1/runs/7nqyzqcs' target=\"_blank\">https://wandb.ai/arjundosajh/SMAI-Assignment-3-Task-2.2.1/runs/7nqyzqcs</a>"
      ],
      "text/plain": [
       "<IPython.core.display.HTML object>"
      ]
     },
     "metadata": {},
     "output_type": "display_data"
    },
    {
     "data": {
      "text/html": [
       "Finishing last run (ID:7nqyzqcs) before initializing another..."
      ],
      "text/plain": [
       "<IPython.core.display.HTML object>"
      ]
     },
     "metadata": {},
     "output_type": "display_data"
    },
    {
     "data": {
      "text/html": [
       "Waiting for W&B process to finish... <strong style=\"color:green\">(success).</strong>"
      ],
      "text/plain": [
       "<IPython.core.display.HTML object>"
      ]
     },
     "metadata": {},
     "output_type": "display_data"
    },
    {
     "name": "stderr",
     "output_type": "stream",
     "text": [
      "wandb: WARNING Source type is set to 'repo' but some required information is missing from the environment. A job will not be created from this run. See https://docs.wandb.ai/guides/launch/create-job\n"
     ]
    },
    {
     "data": {
      "text/html": [
       "<style>\n",
       "    table.wandb td:nth-child(1) { padding: 0 10px; text-align: left ; width: auto;} td:nth-child(2) {text-align: left ; width: 100%}\n",
       "    .wandb-row { display: flex; flex-direction: row; flex-wrap: wrap; justify-content: flex-start; width: 100% }\n",
       "    .wandb-col { display: flex; flex-direction: column; flex-basis: 100%; flex: 1; padding: 10px; }\n",
       "    </style>\n",
       "<div class=\"wandb-row\"><div class=\"wandb-col\"><h3>Run history:</h3><br/><table class=\"wandb\"><tr><td>epoch</td><td>▁▁▁▂▂▂▂▂▂▃▃▃▃▃▄▄▄▄▄▄▅▅▅▅▅▅▆▆▆▆▆▇▇▇▇▇▇███</td></tr><tr><td>train_accuracy</td><td>▁▃▃▃▄▄▄▄▄▄▅▅▅▅▅▅▆▆▆▆▆▆▆▆▆▇▇▇▆▇▇▇▇▇▇▇▇███</td></tr><tr><td>train_f1</td><td>▆▆▅▆▁▂▄▅▅▇███████▇▆▆▆▆▆▅▆▆▆▆▆▆▆▆▆▆▆▆▆▇▇▇</td></tr><tr><td>train_loss</td><td>█▆▅▅▄▄▃▃▂▂▂▂▂▂▂▂▂▁▁▁▁▁▁▁▁▁▁▁▁▁▁▁▁▁▁▁▁▁▁▁</td></tr><tr><td>train_precision</td><td>▂▂▂▃▁▁▂▅▅▅▅▅▅▅▅▅▅▅▅▅▅▅▅█████████████████</td></tr><tr><td>train_recall</td><td>█▆▅▅▁▁▃▃▄▆▇▇▇▇▇▇▇▆▅▆▅▅▆▆▆▆▆▆▆▆▆▇▇▇▇▇▇███</td></tr><tr><td>val_accuracy</td><td>▁▃▄▄▄▅▅▆▅▆▇▇▇▇▇▇▇▇▇▇▇▇▇▇████████████▇▇▇▇</td></tr><tr><td>val_f1</td><td>▁▂▅██▅▅▇▆▇██▇███▇▆▆▆▅▅▅▄▄▅▅▅▅▅▄▄▄▄▄▄▄▄▄▄</td></tr><tr><td>val_loss</td><td>█▆▅▄▄▄▃▃▃▂▂▂▂▂▂▂▂▁▁▁▁▁▁▁▁▁▁▁▁▁▁▁▁▁▁▁▁▁▁▁</td></tr><tr><td>val_precision</td><td>▁▁▄▇▅▅▄▄▄▄▄▄▇████▇██▇▇▇▅▅▅▅▅▅▅▅▅▅▅▅▅▅▅▅▅</td></tr><tr><td>val_recall</td><td>▁▃▆▇▇▅▅▆▆▇██▇█▇█▇▆▇▇▆▆▆▆▆▆▆▆▆▆▆▆▆▆▆▆▆▆▆▆</td></tr></table><br/></div><div class=\"wandb-col\"><h3>Run summary:</h3><br/><table class=\"wandb\"><tr><td>epoch</td><td>1000</td></tr><tr><td>train_accuracy</td><td>0.47892</td></tr><tr><td>train_f1</td><td>0.18465</td></tr><tr><td>train_loss</td><td>0.35994</td></tr><tr><td>train_precision</td><td>0.51592</td></tr><tr><td>train_recall</td><td>0.1969</td></tr><tr><td>val_accuracy</td><td>0.50485</td></tr><tr><td>val_f1</td><td>0.18439</td></tr><tr><td>val_loss</td><td>0.36109</td></tr><tr><td>val_precision</td><td>0.50751</td></tr><tr><td>val_recall</td><td>0.19891</td></tr></table><br/></div></div>"
      ],
      "text/plain": [
       "<IPython.core.display.HTML object>"
      ]
     },
     "metadata": {},
     "output_type": "display_data"
    },
    {
     "data": {
      "text/html": [
       " View run <strong style=\"color:#cdcd00\">MLP_Classifier_tanh_bgd_0.01</strong> at: <a href='https://wandb.ai/arjundosajh/SMAI-Assignment-3-Task-2.2.1/runs/7nqyzqcs' target=\"_blank\">https://wandb.ai/arjundosajh/SMAI-Assignment-3-Task-2.2.1/runs/7nqyzqcs</a><br/>Synced 5 W&B file(s), 0 media file(s), 0 artifact file(s) and 0 other file(s)"
      ],
      "text/plain": [
       "<IPython.core.display.HTML object>"
      ]
     },
     "metadata": {},
     "output_type": "display_data"
    },
    {
     "data": {
      "text/html": [
       "Find logs at: <code>./wandb/run-20231014_174838-7nqyzqcs/logs</code>"
      ],
      "text/plain": [
       "<IPython.core.display.HTML object>"
      ]
     },
     "metadata": {},
     "output_type": "display_data"
    },
    {
     "data": {
      "text/html": [
       "Successfully finished last run (ID:7nqyzqcs). Initializing new run:<br/>"
      ],
      "text/plain": [
       "<IPython.core.display.HTML object>"
      ]
     },
     "metadata": {},
     "output_type": "display_data"
    },
    {
     "data": {
      "text/html": [
       "Tracking run with wandb version 0.15.12"
      ],
      "text/plain": [
       "<IPython.core.display.HTML object>"
      ]
     },
     "metadata": {},
     "output_type": "display_data"
    },
    {
     "data": {
      "text/html": [
       "Run data is saved locally in <code>/Users/arjundosajh/IIITH/Sem 5/SMAI/assignment-3-ArjunDosajh/wandb/run-20231014_174900-azyijqa9</code>"
      ],
      "text/plain": [
       "<IPython.core.display.HTML object>"
      ]
     },
     "metadata": {},
     "output_type": "display_data"
    },
    {
     "data": {
      "text/html": [
       "Syncing run <strong><a href='https://wandb.ai/arjundosajh/SMAI-Assignment-3-Task-2.2.1/runs/azyijqa9' target=\"_blank\">MLP_Classifier_tanh_mbgd_0.01</a></strong> to <a href='https://wandb.ai/arjundosajh/SMAI-Assignment-3-Task-2.2.1' target=\"_blank\">Weights & Biases</a> (<a href='https://wandb.me/run' target=\"_blank\">docs</a>)<br/>"
      ],
      "text/plain": [
       "<IPython.core.display.HTML object>"
      ]
     },
     "metadata": {},
     "output_type": "display_data"
    },
    {
     "data": {
      "text/html": [
       " View project at <a href='https://wandb.ai/arjundosajh/SMAI-Assignment-3-Task-2.2.1' target=\"_blank\">https://wandb.ai/arjundosajh/SMAI-Assignment-3-Task-2.2.1</a>"
      ],
      "text/plain": [
       "<IPython.core.display.HTML object>"
      ]
     },
     "metadata": {},
     "output_type": "display_data"
    },
    {
     "data": {
      "text/html": [
       " View run at <a href='https://wandb.ai/arjundosajh/SMAI-Assignment-3-Task-2.2.1/runs/azyijqa9' target=\"_blank\">https://wandb.ai/arjundosajh/SMAI-Assignment-3-Task-2.2.1/runs/azyijqa9</a>"
      ],
      "text/plain": [
       "<IPython.core.display.HTML object>"
      ]
     },
     "metadata": {},
     "output_type": "display_data"
    }
   ],
   "source": [
    "activation_functions = ['relu', 'sigmoid', 'tanh']\n",
    "optimizers = ['sgd', 'bgd', 'mbgd']\n",
    "hidden_layers = [6, 6]\n",
    "batch_size = 16\n",
    "num_epochs = 1000\n",
    "learning_rate = 0.01\n",
    "\n",
    "# Running the model for all possible configurations of hyperparameters\n",
    "for activation_function in activation_functions:\n",
    "    for optimizer in optimizers:\n",
    "            wandb.init(project='SMAI-Assignment-3-Task-2.2.1', name=f'MLP_Classifier_{activation_function}_{optimizer}_{learning_rate}', config={\n",
    "                \"model\": \"MLP Classifier\",\n",
    "                \"activation_function\": activation_function,\n",
    "                \"optimizer\": optimizer,\n",
    "                \"learning_rate\": learning_rate,\n",
    "            })\n",
    "            mlp = MultiLayerPerceptronClassifier(X_train, y_train, X_val, y_val, hidden_layers=hidden_layers, activation_function=activation_function, learning_rate=learning_rate, optimizer=optimizer, log_to_wandb=True)\n",
    "            mlp.train(epochs=num_epochs, batch_size=batch_size)"
   ]
  },
  {
   "cell_type": "code",
   "execution_count": 10,
   "metadata": {},
   "outputs": [],
   "source": [
    "api = wandb.Api()"
   ]
  },
  {
   "cell_type": "code",
   "execution_count": 11,
   "metadata": {},
   "outputs": [
    {
     "data": {
      "text/html": [
       "<div>\n",
       "<style scoped>\n",
       "    .dataframe tbody tr th:only-of-type {\n",
       "        vertical-align: middle;\n",
       "    }\n",
       "\n",
       "    .dataframe tbody tr th {\n",
       "        vertical-align: top;\n",
       "    }\n",
       "\n",
       "    .dataframe thead th {\n",
       "        text-align: right;\n",
       "    }\n",
       "</style>\n",
       "<table border=\"1\" class=\"dataframe\">\n",
       "  <thead>\n",
       "    <tr style=\"text-align: right;\">\n",
       "      <th></th>\n",
       "      <th>train_accuracy</th>\n",
       "      <th>train_precision</th>\n",
       "      <th>train_recall</th>\n",
       "      <th>train_f1</th>\n",
       "      <th>val_accuracy</th>\n",
       "      <th>val_precision</th>\n",
       "      <th>val_recall</th>\n",
       "      <th>val_f1</th>\n",
       "    </tr>\n",
       "  </thead>\n",
       "  <tbody>\n",
       "    <tr>\n",
       "      <th>2</th>\n",
       "      <td>0.688649</td>\n",
       "      <td>0.829522</td>\n",
       "      <td>0.352904</td>\n",
       "      <td>0.340487</td>\n",
       "      <td>0.631068</td>\n",
       "      <td>0.789486</td>\n",
       "      <td>0.305761</td>\n",
       "      <td>0.297128</td>\n",
       "    </tr>\n",
       "    <tr>\n",
       "      <th>0</th>\n",
       "      <td>0.631351</td>\n",
       "      <td>0.814071</td>\n",
       "      <td>0.306717</td>\n",
       "      <td>0.305760</td>\n",
       "      <td>0.650485</td>\n",
       "      <td>0.790215</td>\n",
       "      <td>0.291226</td>\n",
       "      <td>0.285148</td>\n",
       "    </tr>\n",
       "    <tr>\n",
       "      <th>5</th>\n",
       "      <td>0.711351</td>\n",
       "      <td>0.833417</td>\n",
       "      <td>0.366348</td>\n",
       "      <td>0.344949</td>\n",
       "      <td>0.572816</td>\n",
       "      <td>0.772433</td>\n",
       "      <td>0.305585</td>\n",
       "      <td>0.284988</td>\n",
       "    </tr>\n",
       "    <tr>\n",
       "      <th>3</th>\n",
       "      <td>0.616216</td>\n",
       "      <td>0.798088</td>\n",
       "      <td>0.289687</td>\n",
       "      <td>0.289408</td>\n",
       "      <td>0.631068</td>\n",
       "      <td>0.780713</td>\n",
       "      <td>0.271934</td>\n",
       "      <td>0.268372</td>\n",
       "    </tr>\n",
       "    <tr>\n",
       "      <th>6</th>\n",
       "      <td>0.602162</td>\n",
       "      <td>0.836341</td>\n",
       "      <td>0.280360</td>\n",
       "      <td>0.284085</td>\n",
       "      <td>0.582524</td>\n",
       "      <td>0.696535</td>\n",
       "      <td>0.230620</td>\n",
       "      <td>0.207819</td>\n",
       "    </tr>\n",
       "    <tr>\n",
       "      <th>1</th>\n",
       "      <td>0.478919</td>\n",
       "      <td>0.515922</td>\n",
       "      <td>0.196901</td>\n",
       "      <td>0.184649</td>\n",
       "      <td>0.504854</td>\n",
       "      <td>0.507510</td>\n",
       "      <td>0.198908</td>\n",
       "      <td>0.184389</td>\n",
       "    </tr>\n",
       "    <tr>\n",
       "      <th>4</th>\n",
       "      <td>0.464865</td>\n",
       "      <td>0.821346</td>\n",
       "      <td>0.188365</td>\n",
       "      <td>0.169859</td>\n",
       "      <td>0.456311</td>\n",
       "      <td>0.818657</td>\n",
       "      <td>0.180233</td>\n",
       "      <td>0.164764</td>\n",
       "    </tr>\n",
       "    <tr>\n",
       "      <th>7</th>\n",
       "      <td>0.446486</td>\n",
       "      <td>0.543287</td>\n",
       "      <td>0.178596</td>\n",
       "      <td>0.148960</td>\n",
       "      <td>0.407767</td>\n",
       "      <td>0.811072</td>\n",
       "      <td>0.161910</td>\n",
       "      <td>0.136615</td>\n",
       "    </tr>\n",
       "    <tr>\n",
       "      <th>8</th>\n",
       "      <td>0.471351</td>\n",
       "      <td>0.902125</td>\n",
       "      <td>0.213658</td>\n",
       "      <td>0.179983</td>\n",
       "      <td>0.427184</td>\n",
       "      <td>0.793889</td>\n",
       "      <td>0.181818</td>\n",
       "      <td>0.124043</td>\n",
       "    </tr>\n",
       "  </tbody>\n",
       "</table>\n",
       "</div>"
      ],
      "text/plain": [
       "   train_accuracy  train_precision  train_recall  train_f1  val_accuracy  \\\n",
       "2        0.688649         0.829522      0.352904  0.340487      0.631068   \n",
       "0        0.631351         0.814071      0.306717  0.305760      0.650485   \n",
       "5        0.711351         0.833417      0.366348  0.344949      0.572816   \n",
       "3        0.616216         0.798088      0.289687  0.289408      0.631068   \n",
       "6        0.602162         0.836341      0.280360  0.284085      0.582524   \n",
       "1        0.478919         0.515922      0.196901  0.184649      0.504854   \n",
       "4        0.464865         0.821346      0.188365  0.169859      0.456311   \n",
       "7        0.446486         0.543287      0.178596  0.148960      0.407767   \n",
       "8        0.471351         0.902125      0.213658  0.179983      0.427184   \n",
       "\n",
       "   val_precision  val_recall    val_f1  \n",
       "2       0.789486    0.305761  0.297128  \n",
       "0       0.790215    0.291226  0.285148  \n",
       "5       0.772433    0.305585  0.284988  \n",
       "3       0.780713    0.271934  0.268372  \n",
       "6       0.696535    0.230620  0.207819  \n",
       "1       0.507510    0.198908  0.184389  \n",
       "4       0.818657    0.180233  0.164764  \n",
       "7       0.811072    0.161910  0.136615  \n",
       "8       0.793889    0.181818  0.124043  "
      ]
     },
     "execution_count": 11,
     "metadata": {},
     "output_type": "execute_result"
    }
   ],
   "source": [
    "runs = api.runs(f\"arjundosajh/SMAI-Assignment-3-Task-2.2.1\")\n",
    "\n",
    "# Extract metrics from each run\n",
    "train_accuracies = []\n",
    "train_precisions = []\n",
    "train_recalls = []\n",
    "train_f1_scores = []\n",
    "\n",
    "val_accuracies = []\n",
    "val_precisions = []\n",
    "val_recalls = []\n",
    "val_f1_scores = []\n",
    "\n",
    "for run in runs:\n",
    "    train_accuracies.append(run.summary.get('train_accuracy', None))\n",
    "    train_precisions.append(run.summary.get('train_precision', None))\n",
    "    train_recalls.append(run.summary.get('train_recall', None))\n",
    "    train_f1_scores.append(run.summary.get('train_f1', None))\n",
    "\n",
    "    val_accuracies.append(run.summary.get('val_accuracy', None))\n",
    "    val_precisions.append(run.summary.get('val_precision', None))\n",
    "    val_recalls.append(run.summary.get('val_recall', None))\n",
    "    val_f1_scores.append(run.summary.get('val_f1', None))\n",
    "\n",
    "# Create a pandas dataframe with columns accuracy, precision, recall, f1_score \n",
    "# and rows as the values of each of these metrics\n",
    "df = pd.DataFrame(list(zip(train_accuracies, train_precisions, train_recalls, train_f1_scores, val_accuracies, val_precisions, val_recalls, val_f1_scores)), \n",
    "                  columns=['train_accuracy', 'train_precision', 'train_recall', 'train_f1', 'val_accuracy', 'val_precision', 'val_recall', 'val_f1'])\n",
    "\n",
    "sorted_df = df.sort_values(by='val_f1', ascending=False)\n",
    "sorted_df"
   ]
  },
  {
   "cell_type": "markdown",
   "metadata": {},
   "source": [
    "## Hyperparameter Tuning - Tuning epochs, learning rate and number of hidden layers and the neurons in them"
   ]
  },
  {
   "cell_type": "code",
   "execution_count": 17,
   "metadata": {},
   "outputs": [
    {
     "data": {
      "text/html": [
       "Finishing last run (ID:761elrfr) before initializing another..."
      ],
      "text/plain": [
       "<IPython.core.display.HTML object>"
      ]
     },
     "metadata": {},
     "output_type": "display_data"
    },
    {
     "data": {
      "text/html": [
       "Waiting for W&B process to finish... <strong style=\"color:green\">(success).</strong>"
      ],
      "text/plain": [
       "<IPython.core.display.HTML object>"
      ]
     },
     "metadata": {},
     "output_type": "display_data"
    },
    {
     "name": "stderr",
     "output_type": "stream",
     "text": [
      "wandb: ERROR Dropped streaming file chunk (see wandb/debug-internal.log)\n",
      "wandb: WARNING Source type is set to 'repo' but some required information is missing from the environment. A job will not be created from this run. See https://docs.wandb.ai/guides/launch/create-job\n"
     ]
    },
    {
     "data": {
      "text/html": [
       "<style>\n",
       "    table.wandb td:nth-child(1) { padding: 0 10px; text-align: left ; width: auto;} td:nth-child(2) {text-align: left ; width: 100%}\n",
       "    .wandb-row { display: flex; flex-direction: row; flex-wrap: wrap; justify-content: flex-start; width: 100% }\n",
       "    .wandb-col { display: flex; flex-direction: column; flex-basis: 100%; flex: 1; padding: 10px; }\n",
       "    </style>\n",
       "<div class=\"wandb-row\"><div class=\"wandb-col\"><h3>Run history:</h3><br/><table class=\"wandb\"><tr><td>epoch</td><td>▁▁▁▂▂▂▂▂▂▃▃▃▃▃▄▄▄▄▄▄▅▅▅▅▅▅▆▆▆▆▆▇▇▇▇▇▇███</td></tr><tr><td>train_accuracy</td><td>▁▃▅▅▅▆▆▆▇▇▇▇▇▆▆▆▆▆▇▇█▇█▇█▇█▇██████▇██▇█▇</td></tr><tr><td>train_f1</td><td>▁▃▄▅▅▅▆▆▇▇▇▆▇▆▆▆▇▆▇▇█▇█▇█▇█▇██████▇██▇█▇</td></tr><tr><td>train_loss</td><td>█▅▅▄▄▃▃▃▂▂▂▂▂▂▂▂▂▂▂▂▁▁▁▂▁▂▁▂▁▁▁▁▁▁▁▁▁▂▁▁</td></tr><tr><td>train_precision</td><td>▁▂▅▄▅▅▅▅▇██▇▆▅▆▆▆▅▇▇▇▇▇▇▇▆█▇█▇████▇█▇▇█▇</td></tr><tr><td>train_recall</td><td>▁▂▄▅▅▆▆▆▆▆▆▆▇▇▇▇▇▇███▇█▇█▇████████▇██▇█▇</td></tr><tr><td>val_accuracy</td><td>▇▂▄▂▃▁▃▄▄▄▄▄▂▄▄▄▅█▄▄▃▅▄▄▆▄▇▆▄▅▅▄▅▅▅▅▅▅▅▅</td></tr><tr><td>val_f1</td><td>▄▁▁▂▂▁▄▄▄▄▅▄▄▅▆▅▇█▆▆▅▇▆▆▇▆█▇▆▇▇▆▇▇▇▇▇▇▇▇</td></tr><tr><td>val_loss</td><td>▃▃▄▇▆▇█▆▆▆▄▅▅█▇▇▅▁▆▃▄▃▄▃▄▃▁▂▂▂▂▂▂▂▂▃▂▂▃▂</td></tr><tr><td>val_precision</td><td>▆▂▂▂▂▁▄▄▅▆▇▆▄▅▆▅▇█▆▆▅▇▆▆▇▆█▇▆▇▇▆▇▇▇▇▇▇▇▇</td></tr><tr><td>val_recall</td><td>▄▁▁▃▃▂▆▅▃▄▄▃▅▆▆▆▇█▆▆▆▇▆▆▇▆█▇▆▇▇▆▇▇▇▇▇▇▇▇</td></tr></table><br/></div><div class=\"wandb-col\"><h3>Run summary:</h3><br/><table class=\"wandb\"><tr><td>epoch</td><td>774</td></tr><tr><td>train_accuracy</td><td>0.71568</td></tr><tr><td>train_f1</td><td>0.35898</td></tr><tr><td>train_loss</td><td>0.19591</td></tr><tr><td>train_precision</td><td>0.8469</td></tr><tr><td>train_recall</td><td>0.37693</td></tr><tr><td>val_accuracy</td><td>0.6699</td></tr><tr><td>val_f1</td><td>0.33333</td></tr><tr><td>val_loss</td><td>0.24002</td></tr><tr><td>val_precision</td><td>0.82695</td></tr><tr><td>val_recall</td><td>0.3439</td></tr></table><br/></div></div>"
      ],
      "text/plain": [
       "<IPython.core.display.HTML object>"
      ]
     },
     "metadata": {},
     "output_type": "display_data"
    },
    {
     "data": {
      "text/html": [
       " View run <strong style=\"color:#cdcd00\">MLP_Classifier_0.1_[6, 6]_1000</strong> at: <a href='https://wandb.ai/arjundosajh/SMAI-Assignment-3-Task-2.2.4/runs/761elrfr' target=\"_blank\">https://wandb.ai/arjundosajh/SMAI-Assignment-3-Task-2.2.4/runs/761elrfr</a><br/>Synced 5 W&B file(s), 0 media file(s), 0 artifact file(s) and 0 other file(s)"
      ],
      "text/plain": [
       "<IPython.core.display.HTML object>"
      ]
     },
     "metadata": {},
     "output_type": "display_data"
    },
    {
     "data": {
      "text/html": [
       "Find logs at: <code>./wandb/run-20231014_190210-761elrfr/logs</code>"
      ],
      "text/plain": [
       "<IPython.core.display.HTML object>"
      ]
     },
     "metadata": {},
     "output_type": "display_data"
    },
    {
     "data": {
      "text/html": [
       "Successfully finished last run (ID:761elrfr). Initializing new run:<br/>"
      ],
      "text/plain": [
       "<IPython.core.display.HTML object>"
      ]
     },
     "metadata": {},
     "output_type": "display_data"
    },
    {
     "data": {
      "text/html": [
       "Tracking run with wandb version 0.15.12"
      ],
      "text/plain": [
       "<IPython.core.display.HTML object>"
      ]
     },
     "metadata": {},
     "output_type": "display_data"
    },
    {
     "data": {
      "text/html": [
       "Run data is saved locally in <code>/Users/arjundosajh/IIITH/Sem 5/SMAI/assignment-3-ArjunDosajh/wandb/run-20231014_190522-vdtztymo</code>"
      ],
      "text/plain": [
       "<IPython.core.display.HTML object>"
      ]
     },
     "metadata": {},
     "output_type": "display_data"
    },
    {
     "data": {
      "text/html": [
       "Syncing run <strong><a href='https://wandb.ai/arjundosajh/SMAI-Assignment-3-Task-2.2.4/runs/vdtztymo' target=\"_blank\">MLP_Classifier_0.1_[4, 4]_500</a></strong> to <a href='https://wandb.ai/arjundosajh/SMAI-Assignment-3-Task-2.2.4' target=\"_blank\">Weights & Biases</a> (<a href='https://wandb.me/run' target=\"_blank\">docs</a>)<br/>"
      ],
      "text/plain": [
       "<IPython.core.display.HTML object>"
      ]
     },
     "metadata": {},
     "output_type": "display_data"
    },
    {
     "data": {
      "text/html": [
       " View project at <a href='https://wandb.ai/arjundosajh/SMAI-Assignment-3-Task-2.2.4' target=\"_blank\">https://wandb.ai/arjundosajh/SMAI-Assignment-3-Task-2.2.4</a>"
      ],
      "text/plain": [
       "<IPython.core.display.HTML object>"
      ]
     },
     "metadata": {},
     "output_type": "display_data"
    },
    {
     "data": {
      "text/html": [
       " View run at <a href='https://wandb.ai/arjundosajh/SMAI-Assignment-3-Task-2.2.4/runs/vdtztymo' target=\"_blank\">https://wandb.ai/arjundosajh/SMAI-Assignment-3-Task-2.2.4/runs/vdtztymo</a>"
      ],
      "text/plain": [
       "<IPython.core.display.HTML object>"
      ]
     },
     "metadata": {},
     "output_type": "display_data"
    },
    {
     "data": {
      "text/html": [
       "Finishing last run (ID:vdtztymo) before initializing another..."
      ],
      "text/plain": [
       "<IPython.core.display.HTML object>"
      ]
     },
     "metadata": {},
     "output_type": "display_data"
    },
    {
     "data": {
      "text/html": [
       "Waiting for W&B process to finish... <strong style=\"color:green\">(success).</strong>"
      ],
      "text/plain": [
       "<IPython.core.display.HTML object>"
      ]
     },
     "metadata": {},
     "output_type": "display_data"
    },
    {
     "name": "stderr",
     "output_type": "stream",
     "text": [
      "wandb: WARNING Source type is set to 'repo' but some required information is missing from the environment. A job will not be created from this run. See https://docs.wandb.ai/guides/launch/create-job\n"
     ]
    },
    {
     "data": {
      "text/html": [
       "<style>\n",
       "    table.wandb td:nth-child(1) { padding: 0 10px; text-align: left ; width: auto;} td:nth-child(2) {text-align: left ; width: 100%}\n",
       "    .wandb-row { display: flex; flex-direction: row; flex-wrap: wrap; justify-content: flex-start; width: 100% }\n",
       "    .wandb-col { display: flex; flex-direction: column; flex-basis: 100%; flex: 1; padding: 10px; }\n",
       "    </style>\n",
       "<div class=\"wandb-row\"><div class=\"wandb-col\"><h3>Run history:</h3><br/><table class=\"wandb\"><tr><td>epoch</td><td>▁▁▁▂▂▂▂▂▂▃▃▃▃▃▄▄▄▄▄▄▅▅▅▅▅▅▆▆▆▆▆▇▇▇▇▇▇███</td></tr><tr><td>train_accuracy</td><td>▁▄▅▆▆▆▇▇▇▆▇▇▆▇▇▇▇▇▇▇▇██▇▇█████▇████▇▇▇██</td></tr><tr><td>train_f1</td><td>▁▆▇▇▇▇▇▇▇▇▇▇▇▇▇▇▇███████████████████████</td></tr><tr><td>train_loss</td><td>█▅▄▃▃▃▃▃▃▃▃▃▂▂▂▂▂▂▂▂▂▁▁▂▂▁▁▁▁▁▂▁▁▁▁▂▁▁▁▁</td></tr><tr><td>train_precision</td><td>█▁▂▃▃▃▄▄▄▄▄▄▃▄▄▄▄▅▅▅▅▅▅▅▅▅▅▅▅▅▅▅▅▅▅▄▅▅▅▅</td></tr><tr><td>train_recall</td><td>▁▅▇▇▇▇▇▇▇▇▇▇▇▇▇▇▇███▇███████████████████</td></tr><tr><td>val_accuracy</td><td>█▇▅▂▁▃▂▁▄▅▄▅▄▂▃▄▄▄▄▃▄▃▃▃▃▄▄▄▄▄▅▄▄▄▄▄▄▄▄▃</td></tr><tr><td>val_f1</td><td>▁█▅▃▃▄▄▃▅▆▆▆▅▄▅▅▅▆▅▅▆▅▅▅▅▆▆▆▅▆▇▆▆▅▆▆▅▅▅▄</td></tr><tr><td>val_loss</td><td>▂▁▃▅▆▆▆▅▄▄▄▄▇██▇▇███▇█▇███▇▇▇█▅▇█▇▆▅▆▇▇▇</td></tr><tr><td>val_precision</td><td>█▃▂▁▁▂▁▁▂▂▂▂▂▂▂▂▂▃▂▂▃▂▂▂▂▃▂▂▂▃▃▂▃▂▂▂▂▂▂▂</td></tr><tr><td>val_recall</td><td>▁█▅▁▂▄▃▂▅▆▅▆▄▃▄▄▄▅▄▄▅▄▄▄▄▅▄▅▄▅▇▅▅▄▅▅▄▄▄▄</td></tr></table><br/></div><div class=\"wandb-col\"><h3>Run summary:</h3><br/><table class=\"wandb\"><tr><td>epoch</td><td>500</td></tr><tr><td>train_accuracy</td><td>0.69838</td></tr><tr><td>train_f1</td><td>0.34926</td></tr><tr><td>train_loss</td><td>0.22112</td></tr><tr><td>train_precision</td><td>0.84122</td></tr><tr><td>train_recall</td><td>0.36093</td></tr><tr><td>val_accuracy</td><td>0.57282</td></tr><tr><td>val_f1</td><td>0.26208</td></tr><tr><td>val_loss</td><td>0.28352</td></tr><tr><td>val_precision</td><td>0.75643</td></tr><tr><td>val_recall</td><td>0.27123</td></tr></table><br/></div></div>"
      ],
      "text/plain": [
       "<IPython.core.display.HTML object>"
      ]
     },
     "metadata": {},
     "output_type": "display_data"
    },
    {
     "data": {
      "text/html": [
       " View run <strong style=\"color:#cdcd00\">MLP_Classifier_0.1_[4, 4]_500</strong> at: <a href='https://wandb.ai/arjundosajh/SMAI-Assignment-3-Task-2.2.4/runs/vdtztymo' target=\"_blank\">https://wandb.ai/arjundosajh/SMAI-Assignment-3-Task-2.2.4/runs/vdtztymo</a><br/>Synced 5 W&B file(s), 0 media file(s), 0 artifact file(s) and 0 other file(s)"
      ],
      "text/plain": [
       "<IPython.core.display.HTML object>"
      ]
     },
     "metadata": {},
     "output_type": "display_data"
    },
    {
     "data": {
      "text/html": [
       "Find logs at: <code>./wandb/run-20231014_190522-vdtztymo/logs</code>"
      ],
      "text/plain": [
       "<IPython.core.display.HTML object>"
      ]
     },
     "metadata": {},
     "output_type": "display_data"
    },
    {
     "data": {
      "text/html": [
       "Successfully finished last run (ID:vdtztymo). Initializing new run:<br/>"
      ],
      "text/plain": [
       "<IPython.core.display.HTML object>"
      ]
     },
     "metadata": {},
     "output_type": "display_data"
    },
    {
     "data": {
      "text/html": [
       "Tracking run with wandb version 0.15.12"
      ],
      "text/plain": [
       "<IPython.core.display.HTML object>"
      ]
     },
     "metadata": {},
     "output_type": "display_data"
    },
    {
     "data": {
      "text/html": [
       "Run data is saved locally in <code>/Users/arjundosajh/IIITH/Sem 5/SMAI/assignment-3-ArjunDosajh/wandb/run-20231014_190624-sh10gqcg</code>"
      ],
      "text/plain": [
       "<IPython.core.display.HTML object>"
      ]
     },
     "metadata": {},
     "output_type": "display_data"
    },
    {
     "data": {
      "text/html": [
       "Syncing run <strong><a href='https://wandb.ai/arjundosajh/SMAI-Assignment-3-Task-2.2.4/runs/sh10gqcg' target=\"_blank\">MLP_Classifier_0.1_[4, 4]_1000</a></strong> to <a href='https://wandb.ai/arjundosajh/SMAI-Assignment-3-Task-2.2.4' target=\"_blank\">Weights & Biases</a> (<a href='https://wandb.me/run' target=\"_blank\">docs</a>)<br/>"
      ],
      "text/plain": [
       "<IPython.core.display.HTML object>"
      ]
     },
     "metadata": {},
     "output_type": "display_data"
    },
    {
     "data": {
      "text/html": [
       " View project at <a href='https://wandb.ai/arjundosajh/SMAI-Assignment-3-Task-2.2.4' target=\"_blank\">https://wandb.ai/arjundosajh/SMAI-Assignment-3-Task-2.2.4</a>"
      ],
      "text/plain": [
       "<IPython.core.display.HTML object>"
      ]
     },
     "metadata": {},
     "output_type": "display_data"
    },
    {
     "data": {
      "text/html": [
       " View run at <a href='https://wandb.ai/arjundosajh/SMAI-Assignment-3-Task-2.2.4/runs/sh10gqcg' target=\"_blank\">https://wandb.ai/arjundosajh/SMAI-Assignment-3-Task-2.2.4/runs/sh10gqcg</a>"
      ],
      "text/plain": [
       "<IPython.core.display.HTML object>"
      ]
     },
     "metadata": {},
     "output_type": "display_data"
    },
    {
     "data": {
      "text/html": [
       "Finishing last run (ID:sh10gqcg) before initializing another..."
      ],
      "text/plain": [
       "<IPython.core.display.HTML object>"
      ]
     },
     "metadata": {},
     "output_type": "display_data"
    },
    {
     "data": {
      "text/html": [
       "Waiting for W&B process to finish... <strong style=\"color:green\">(success).</strong>"
      ],
      "text/plain": [
       "<IPython.core.display.HTML object>"
      ]
     },
     "metadata": {},
     "output_type": "display_data"
    },
    {
     "name": "stderr",
     "output_type": "stream",
     "text": [
      "wandb: WARNING Source type is set to 'repo' but some required information is missing from the environment. A job will not be created from this run. See https://docs.wandb.ai/guides/launch/create-job\n"
     ]
    },
    {
     "data": {
      "text/html": [
       "<style>\n",
       "    table.wandb td:nth-child(1) { padding: 0 10px; text-align: left ; width: auto;} td:nth-child(2) {text-align: left ; width: 100%}\n",
       "    .wandb-row { display: flex; flex-direction: row; flex-wrap: wrap; justify-content: flex-start; width: 100% }\n",
       "    .wandb-col { display: flex; flex-direction: column; flex-basis: 100%; flex: 1; padding: 10px; }\n",
       "    </style>\n",
       "<div class=\"wandb-row\"><div class=\"wandb-col\"><h3>Run history:</h3><br/><table class=\"wandb\"><tr><td>epoch</td><td>▁▁▁▂▂▂▂▂▂▃▃▃▃▃▄▄▄▄▄▄▅▅▅▅▅▅▆▆▆▆▆▇▇▇▇▇▇███</td></tr><tr><td>train_accuracy</td><td>▁▃▄▆▆▆▆▇▇▇▇▇▇▇▇▇▇███████████████████████</td></tr><tr><td>train_f1</td><td>▁▃▄▅▆▆▆▆▆▆▇▇▇▇▇▇▇▇▇█████████████████████</td></tr><tr><td>train_loss</td><td>█▆▅▄▄▃▃▃▃▃▂▂▂▂▂▂▂▂▂▁▁▁▁▁▁▁▁▁▁▁▁▁▁▁▁▁▁▁▁▁</td></tr><tr><td>train_precision</td><td>▁▃▄▅▆▅▆▆▆▆▆▇▇▇▇▇▇▇▇█████████████████████</td></tr><tr><td>train_recall</td><td>▁▃▅▆▆▆▇▇▇▇▇▇▇▇▇▇▇███████████████████████</td></tr><tr><td>val_accuracy</td><td>▁▇██▇▇▇▇████████▇▇███▇▇▇▇▇▇▇▇▇▇▇▇▇▇▇▇▇▇▇</td></tr><tr><td>val_f1</td><td>▁▅██▇▇▇▇████████▅▅▆▆▆▅▅▅▅▅▅▅▅▅▅▅▅▅▅▅▅▅▅▅</td></tr><tr><td>val_loss</td><td>█▄▁▄▅▄▄▄▄▄▄▄▄▅▅▄▄▅▄▄▄▆▇▇▇▇▇▇▇▇▇▇▇▇▇▇▇▇▇▇</td></tr><tr><td>val_precision</td><td>▁▄▇▇▆▆▆▆▇▇██████▅▅▆▆▆▅▅▅▅▅▅▅▅▅▅▅▅▅▅▅▅▅▅▅</td></tr><tr><td>val_recall</td><td>▁▅██▇▇▇▇████████▅▅▆▆▆▅▅▅▅▅▅▅▅▅▅▅▅▅▅▅▅▅▅▅</td></tr></table><br/></div><div class=\"wandb-col\"><h3>Run summary:</h3><br/><table class=\"wandb\"><tr><td>epoch</td><td>1000</td></tr><tr><td>train_accuracy</td><td>0.71459</td></tr><tr><td>train_f1</td><td>0.35864</td></tr><tr><td>train_loss</td><td>0.22018</td></tr><tr><td>train_precision</td><td>0.84763</td></tr><tr><td>train_recall</td><td>0.37057</td></tr><tr><td>val_accuracy</td><td>0.65049</td></tr><tr><td>val_f1</td><td>0.30443</td></tr><tr><td>val_loss</td><td>0.25785</td></tr><tr><td>val_precision</td><td>0.79677</td></tr><tr><td>val_recall</td><td>0.31351</td></tr></table><br/></div></div>"
      ],
      "text/plain": [
       "<IPython.core.display.HTML object>"
      ]
     },
     "metadata": {},
     "output_type": "display_data"
    },
    {
     "data": {
      "text/html": [
       " View run <strong style=\"color:#cdcd00\">MLP_Classifier_0.1_[4, 4]_1000</strong> at: <a href='https://wandb.ai/arjundosajh/SMAI-Assignment-3-Task-2.2.4/runs/sh10gqcg' target=\"_blank\">https://wandb.ai/arjundosajh/SMAI-Assignment-3-Task-2.2.4/runs/sh10gqcg</a><br/>Synced 5 W&B file(s), 0 media file(s), 0 artifact file(s) and 0 other file(s)"
      ],
      "text/plain": [
       "<IPython.core.display.HTML object>"
      ]
     },
     "metadata": {},
     "output_type": "display_data"
    },
    {
     "data": {
      "text/html": [
       "Find logs at: <code>./wandb/run-20231014_190624-sh10gqcg/logs</code>"
      ],
      "text/plain": [
       "<IPython.core.display.HTML object>"
      ]
     },
     "metadata": {},
     "output_type": "display_data"
    },
    {
     "data": {
      "text/html": [
       "Successfully finished last run (ID:sh10gqcg). Initializing new run:<br/>"
      ],
      "text/plain": [
       "<IPython.core.display.HTML object>"
      ]
     },
     "metadata": {},
     "output_type": "display_data"
    },
    {
     "data": {
      "text/html": [
       "Tracking run with wandb version 0.15.12"
      ],
      "text/plain": [
       "<IPython.core.display.HTML object>"
      ]
     },
     "metadata": {},
     "output_type": "display_data"
    },
    {
     "data": {
      "text/html": [
       "Run data is saved locally in <code>/Users/arjundosajh/IIITH/Sem 5/SMAI/assignment-3-ArjunDosajh/wandb/run-20231014_190851-7zpozqj7</code>"
      ],
      "text/plain": [
       "<IPython.core.display.HTML object>"
      ]
     },
     "metadata": {},
     "output_type": "display_data"
    },
    {
     "data": {
      "text/html": [
       "Syncing run <strong><a href='https://wandb.ai/arjundosajh/SMAI-Assignment-3-Task-2.2.4/runs/7zpozqj7' target=\"_blank\">MLP_Classifier_0.1_[4, 4, 4]_500</a></strong> to <a href='https://wandb.ai/arjundosajh/SMAI-Assignment-3-Task-2.2.4' target=\"_blank\">Weights & Biases</a> (<a href='https://wandb.me/run' target=\"_blank\">docs</a>)<br/>"
      ],
      "text/plain": [
       "<IPython.core.display.HTML object>"
      ]
     },
     "metadata": {},
     "output_type": "display_data"
    },
    {
     "data": {
      "text/html": [
       " View project at <a href='https://wandb.ai/arjundosajh/SMAI-Assignment-3-Task-2.2.4' target=\"_blank\">https://wandb.ai/arjundosajh/SMAI-Assignment-3-Task-2.2.4</a>"
      ],
      "text/plain": [
       "<IPython.core.display.HTML object>"
      ]
     },
     "metadata": {},
     "output_type": "display_data"
    },
    {
     "data": {
      "text/html": [
       " View run at <a href='https://wandb.ai/arjundosajh/SMAI-Assignment-3-Task-2.2.4/runs/7zpozqj7' target=\"_blank\">https://wandb.ai/arjundosajh/SMAI-Assignment-3-Task-2.2.4/runs/7zpozqj7</a>"
      ],
      "text/plain": [
       "<IPython.core.display.HTML object>"
      ]
     },
     "metadata": {},
     "output_type": "display_data"
    },
    {
     "data": {
      "text/html": [
       "Finishing last run (ID:7zpozqj7) before initializing another..."
      ],
      "text/plain": [
       "<IPython.core.display.HTML object>"
      ]
     },
     "metadata": {},
     "output_type": "display_data"
    },
    {
     "data": {
      "text/html": [
       "Waiting for W&B process to finish... <strong style=\"color:green\">(success).</strong>"
      ],
      "text/plain": [
       "<IPython.core.display.HTML object>"
      ]
     },
     "metadata": {},
     "output_type": "display_data"
    },
    {
     "name": "stderr",
     "output_type": "stream",
     "text": [
      "wandb: WARNING Source type is set to 'repo' but some required information is missing from the environment. A job will not be created from this run. See https://docs.wandb.ai/guides/launch/create-job\n"
     ]
    },
    {
     "data": {
      "text/html": [
       "<style>\n",
       "    table.wandb td:nth-child(1) { padding: 0 10px; text-align: left ; width: auto;} td:nth-child(2) {text-align: left ; width: 100%}\n",
       "    .wandb-row { display: flex; flex-direction: row; flex-wrap: wrap; justify-content: flex-start; width: 100% }\n",
       "    .wandb-col { display: flex; flex-direction: column; flex-basis: 100%; flex: 1; padding: 10px; }\n",
       "    </style>\n",
       "<div class=\"wandb-row\"><div class=\"wandb-col\"><h3>Run history:</h3><br/><table class=\"wandb\"><tr><td>epoch</td><td>▁▁▁▂▂▂▂▂▂▃▃▃▃▃▄▄▄▄▄▄▅▅▅▅▅▅▆▆▆▆▆▇▇▇▇▇▇███</td></tr><tr><td>train_accuracy</td><td>▁▂▆▆▅▅▆▇▇▇▇█▇▇▇█▆▇▇█▇█▆▇▇▇█▇▇▇▇█▆▅▅▆▆▅▆▅</td></tr><tr><td>train_f1</td><td>▁▁▇▇▇▇██████████▇▇████▇█████████▇▇▇▇▇▇▇▇</td></tr><tr><td>train_loss</td><td>█▅▄▃▃▃▂▂▂▂▂▂▂▂▂▂▂▂▂▂▂▂▂▁▂▂▁▁▂▁▂▁▂▂▂▂▂▂▂▃</td></tr><tr><td>train_precision</td><td>▇█▂▂▂▂▂▃▃▃▃▃▃▃▃▃▂▂▃▃▂▃▂▃▃▃▃▃▂▃▂▃▂▂▂▂▁▁▂▁</td></tr><tr><td>train_recall</td><td>▁▁▆▇▇▇▇█████████▆▇▇▇▇▇▇▇▇▇█▇█▇▇██▇██▇▇█▆</td></tr><tr><td>val_accuracy</td><td>█▅▄▅▂▇▆▇▆▇▅▆▅▅▆▆▃▃▆▃▆▃▄▅▃▅▄▆▃▄▁▅▅▄▆▅▃▅▃▅</td></tr><tr><td>val_f1</td><td>▃▁▆▆▄█▆▇▇▇▆▆▆▆▇▇▅▆▆▅▆▅▅▆▅▅▅▆▅▅▄▅▇▆█▇▅▇▆▆</td></tr><tr><td>val_loss</td><td>▁▂▄▃▃▂▄▅▅▅▆▆▅▆▆▆▆▆▅▇▆▇▇▆▇▇▇▅▆▇█▆▃▆▃▄▇▆▇▇</td></tr><tr><td>val_precision</td><td>█▇▃▂▁▄▃▃▃▃▃▃▃▂▃▃▂▂▃▂▃▂▂▂▂▂▂▃▂▂▁▂▃▃▃▃▂▃▂▃</td></tr><tr><td>val_recall</td><td>▃▁▄▆▃▇▅▇▆▆▆▅▆▅▆▆▄▅▅▄▄▄▄▄▄▄▄▅▅▄▃▄▇▆██▄▇▆▆</td></tr></table><br/></div><div class=\"wandb-col\"><h3>Run summary:</h3><br/><table class=\"wandb\"><tr><td>epoch</td><td>500</td></tr><tr><td>train_accuracy</td><td>0.63676</td></tr><tr><td>train_f1</td><td>0.31183</td></tr><tr><td>train_loss</td><td>0.24589</td></tr><tr><td>train_precision</td><td>0.79967</td></tr><tr><td>train_recall</td><td>0.33107</td></tr><tr><td>val_accuracy</td><td>0.54369</td></tr><tr><td>val_f1</td><td>0.26422</td></tr><tr><td>val_loss</td><td>0.29654</td></tr><tr><td>val_precision</td><td>0.75531</td></tr><tr><td>val_recall</td><td>0.28233</td></tr></table><br/></div></div>"
      ],
      "text/plain": [
       "<IPython.core.display.HTML object>"
      ]
     },
     "metadata": {},
     "output_type": "display_data"
    },
    {
     "data": {
      "text/html": [
       " View run <strong style=\"color:#cdcd00\">MLP_Classifier_0.1_[4, 4, 4]_500</strong> at: <a href='https://wandb.ai/arjundosajh/SMAI-Assignment-3-Task-2.2.4/runs/7zpozqj7' target=\"_blank\">https://wandb.ai/arjundosajh/SMAI-Assignment-3-Task-2.2.4/runs/7zpozqj7</a><br/>Synced 5 W&B file(s), 0 media file(s), 0 artifact file(s) and 0 other file(s)"
      ],
      "text/plain": [
       "<IPython.core.display.HTML object>"
      ]
     },
     "metadata": {},
     "output_type": "display_data"
    },
    {
     "data": {
      "text/html": [
       "Find logs at: <code>./wandb/run-20231014_190851-7zpozqj7/logs</code>"
      ],
      "text/plain": [
       "<IPython.core.display.HTML object>"
      ]
     },
     "metadata": {},
     "output_type": "display_data"
    },
    {
     "data": {
      "text/html": [
       "Successfully finished last run (ID:7zpozqj7). Initializing new run:<br/>"
      ],
      "text/plain": [
       "<IPython.core.display.HTML object>"
      ]
     },
     "metadata": {},
     "output_type": "display_data"
    },
    {
     "data": {
      "text/html": [
       "Tracking run with wandb version 0.15.12"
      ],
      "text/plain": [
       "<IPython.core.display.HTML object>"
      ]
     },
     "metadata": {},
     "output_type": "display_data"
    },
    {
     "data": {
      "text/html": [
       "Run data is saved locally in <code>/Users/arjundosajh/IIITH/Sem 5/SMAI/assignment-3-ArjunDosajh/wandb/run-20231014_191049-lk0e0cib</code>"
      ],
      "text/plain": [
       "<IPython.core.display.HTML object>"
      ]
     },
     "metadata": {},
     "output_type": "display_data"
    },
    {
     "data": {
      "text/html": [
       "Syncing run <strong><a href='https://wandb.ai/arjundosajh/SMAI-Assignment-3-Task-2.2.4/runs/lk0e0cib' target=\"_blank\">MLP_Classifier_0.1_[4, 4, 4]_1000</a></strong> to <a href='https://wandb.ai/arjundosajh/SMAI-Assignment-3-Task-2.2.4' target=\"_blank\">Weights & Biases</a> (<a href='https://wandb.me/run' target=\"_blank\">docs</a>)<br/>"
      ],
      "text/plain": [
       "<IPython.core.display.HTML object>"
      ]
     },
     "metadata": {},
     "output_type": "display_data"
    },
    {
     "data": {
      "text/html": [
       " View project at <a href='https://wandb.ai/arjundosajh/SMAI-Assignment-3-Task-2.2.4' target=\"_blank\">https://wandb.ai/arjundosajh/SMAI-Assignment-3-Task-2.2.4</a>"
      ],
      "text/plain": [
       "<IPython.core.display.HTML object>"
      ]
     },
     "metadata": {},
     "output_type": "display_data"
    },
    {
     "data": {
      "text/html": [
       " View run at <a href='https://wandb.ai/arjundosajh/SMAI-Assignment-3-Task-2.2.4/runs/lk0e0cib' target=\"_blank\">https://wandb.ai/arjundosajh/SMAI-Assignment-3-Task-2.2.4/runs/lk0e0cib</a>"
      ],
      "text/plain": [
       "<IPython.core.display.HTML object>"
      ]
     },
     "metadata": {},
     "output_type": "display_data"
    },
    {
     "data": {
      "text/html": [
       "Finishing last run (ID:lk0e0cib) before initializing another..."
      ],
      "text/plain": [
       "<IPython.core.display.HTML object>"
      ]
     },
     "metadata": {},
     "output_type": "display_data"
    },
    {
     "data": {
      "text/html": [
       "Waiting for W&B process to finish... <strong style=\"color:green\">(success).</strong>"
      ],
      "text/plain": [
       "<IPython.core.display.HTML object>"
      ]
     },
     "metadata": {},
     "output_type": "display_data"
    },
    {
     "name": "stderr",
     "output_type": "stream",
     "text": [
      "wandb: WARNING Source type is set to 'repo' but some required information is missing from the environment. A job will not be created from this run. See https://docs.wandb.ai/guides/launch/create-job\n"
     ]
    },
    {
     "data": {
      "text/html": [
       "<style>\n",
       "    table.wandb td:nth-child(1) { padding: 0 10px; text-align: left ; width: auto;} td:nth-child(2) {text-align: left ; width: 100%}\n",
       "    .wandb-row { display: flex; flex-direction: row; flex-wrap: wrap; justify-content: flex-start; width: 100% }\n",
       "    .wandb-col { display: flex; flex-direction: column; flex-basis: 100%; flex: 1; padding: 10px; }\n",
       "    </style>\n",
       "<div class=\"wandb-row\"><div class=\"wandb-col\"><h3>Run history:</h3><br/><table class=\"wandb\"><tr><td>epoch</td><td>▁▁▁▂▂▂▂▂▂▃▃▃▃▃▄▄▄▄▄▄▅▅▅▅▅▅▆▆▆▆▆▇▇▇▇▇▇███</td></tr><tr><td>train_accuracy</td><td>▁▄▅▆▆▇▆▆▆▅▇▅▇▇▆▆▆▆▇▇█▅▆▇▅▇▆▆▆▆▆▇▅▇▆▅▇▇█▅</td></tr><tr><td>train_f1</td><td>▁▇▇▇██▇▇▇▇█▇███▇▇▇███▇██▇██▇█▇██▇█▇▇███▇</td></tr><tr><td>train_loss</td><td>█▄▃▃▃▃▂▂▃▃▂▃▂▂▂▂▃▂▂▁▁▂▂▂▂▁▂▂▁▂▂▂▃▁▂▃▂▁▁▃</td></tr><tr><td>train_precision</td><td>█▁▂▂▃▃▃▂▂▂▃▂▃▃▃▃▃▃▃▃▄▃▃▃▂▃▃▃▃▃▃▃▂▃▃▂▃▄▄▂</td></tr><tr><td>train_recall</td><td>▁▆▇▇█████▇█▇███▇█████▇██▇██▇█▇██▇██▇███▇</td></tr><tr><td>val_accuracy</td><td>█▂▄▄▄▅▃▂▂▃▁▃▂▂▁▂▄▂▁▄▁▄▂▄▄▁▂▁▁▃▂▃▅▃▁▅▄▂▃▅</td></tr><tr><td>val_f1</td><td>▁▃▅▆▅▇▅▄▄▆▃▅▄▃▃▄▆▄▂▅▃▆▄▆▅▃▄▃▃▅▅▄█▆▃█▆▄▆▇</td></tr><tr><td>val_loss</td><td>▁▃▅▄▅▆▆▅▇▇▇▅▇▇█▇▆▇▇▆█▆▆▅▅█▆██▆▇▆▄▆█▅▅▇▇▅</td></tr><tr><td>val_precision</td><td>█▁▂▂▂▃▂▂▁▂▁▂▂▂▁▁▂▂▁▂▁▂▂▂▂▁▂▁▁▂▂▂▃▂▁▃▂▂▂▃</td></tr><tr><td>val_recall</td><td>▂▂▅▅▅▆▅▄▃▆▃▅▃▃▃▄▅▃▁▅▃▅▄▅▅▂▄▂▃▄▅▄█▆▃▇▅▃▆▇</td></tr></table><br/></div><div class=\"wandb-col\"><h3>Run summary:</h3><br/><table class=\"wandb\"><tr><td>epoch</td><td>1000</td></tr><tr><td>train_accuracy</td><td>0.67243</td></tr><tr><td>train_f1</td><td>0.33823</td></tr><tr><td>train_loss</td><td>0.22527</td></tr><tr><td>train_precision</td><td>0.82763</td></tr><tr><td>train_recall</td><td>0.35721</td></tr><tr><td>val_accuracy</td><td>0.53398</td></tr><tr><td>val_f1</td><td>0.25571</td></tr><tr><td>val_loss</td><td>0.31841</td></tr><tr><td>val_precision</td><td>0.74943</td></tr><tr><td>val_recall</td><td>0.26709</td></tr></table><br/></div></div>"
      ],
      "text/plain": [
       "<IPython.core.display.HTML object>"
      ]
     },
     "metadata": {},
     "output_type": "display_data"
    },
    {
     "data": {
      "text/html": [
       " View run <strong style=\"color:#cdcd00\">MLP_Classifier_0.1_[4, 4, 4]_1000</strong> at: <a href='https://wandb.ai/arjundosajh/SMAI-Assignment-3-Task-2.2.4/runs/lk0e0cib' target=\"_blank\">https://wandb.ai/arjundosajh/SMAI-Assignment-3-Task-2.2.4/runs/lk0e0cib</a><br/>Synced 5 W&B file(s), 0 media file(s), 0 artifact file(s) and 0 other file(s)"
      ],
      "text/plain": [
       "<IPython.core.display.HTML object>"
      ]
     },
     "metadata": {},
     "output_type": "display_data"
    },
    {
     "data": {
      "text/html": [
       "Find logs at: <code>./wandb/run-20231014_191049-lk0e0cib/logs</code>"
      ],
      "text/plain": [
       "<IPython.core.display.HTML object>"
      ]
     },
     "metadata": {},
     "output_type": "display_data"
    },
    {
     "data": {
      "text/html": [
       "Successfully finished last run (ID:lk0e0cib). Initializing new run:<br/>"
      ],
      "text/plain": [
       "<IPython.core.display.HTML object>"
      ]
     },
     "metadata": {},
     "output_type": "display_data"
    },
    {
     "data": {
      "text/html": [
       "Tracking run with wandb version 0.15.12"
      ],
      "text/plain": [
       "<IPython.core.display.HTML object>"
      ]
     },
     "metadata": {},
     "output_type": "display_data"
    },
    {
     "data": {
      "text/html": [
       "Run data is saved locally in <code>/Users/arjundosajh/IIITH/Sem 5/SMAI/assignment-3-ArjunDosajh/wandb/run-20231014_191432-g6mm7dl4</code>"
      ],
      "text/plain": [
       "<IPython.core.display.HTML object>"
      ]
     },
     "metadata": {},
     "output_type": "display_data"
    },
    {
     "data": {
      "text/html": [
       "Syncing run <strong><a href='https://wandb.ai/arjundosajh/SMAI-Assignment-3-Task-2.2.4/runs/g6mm7dl4' target=\"_blank\">MLP_Classifier_0.1_[6, 6]_500</a></strong> to <a href='https://wandb.ai/arjundosajh/SMAI-Assignment-3-Task-2.2.4' target=\"_blank\">Weights & Biases</a> (<a href='https://wandb.me/run' target=\"_blank\">docs</a>)<br/>"
      ],
      "text/plain": [
       "<IPython.core.display.HTML object>"
      ]
     },
     "metadata": {},
     "output_type": "display_data"
    },
    {
     "data": {
      "text/html": [
       " View project at <a href='https://wandb.ai/arjundosajh/SMAI-Assignment-3-Task-2.2.4' target=\"_blank\">https://wandb.ai/arjundosajh/SMAI-Assignment-3-Task-2.2.4</a>"
      ],
      "text/plain": [
       "<IPython.core.display.HTML object>"
      ]
     },
     "metadata": {},
     "output_type": "display_data"
    },
    {
     "data": {
      "text/html": [
       " View run at <a href='https://wandb.ai/arjundosajh/SMAI-Assignment-3-Task-2.2.4/runs/g6mm7dl4' target=\"_blank\">https://wandb.ai/arjundosajh/SMAI-Assignment-3-Task-2.2.4/runs/g6mm7dl4</a>"
      ],
      "text/plain": [
       "<IPython.core.display.HTML object>"
      ]
     },
     "metadata": {},
     "output_type": "display_data"
    },
    {
     "data": {
      "text/html": [
       "Finishing last run (ID:g6mm7dl4) before initializing another..."
      ],
      "text/plain": [
       "<IPython.core.display.HTML object>"
      ]
     },
     "metadata": {},
     "output_type": "display_data"
    },
    {
     "data": {
      "text/html": [
       "Waiting for W&B process to finish... <strong style=\"color:green\">(success).</strong>"
      ],
      "text/plain": [
       "<IPython.core.display.HTML object>"
      ]
     },
     "metadata": {},
     "output_type": "display_data"
    },
    {
     "name": "stderr",
     "output_type": "stream",
     "text": [
      "wandb: WARNING Source type is set to 'repo' but some required information is missing from the environment. A job will not be created from this run. See https://docs.wandb.ai/guides/launch/create-job\n"
     ]
    },
    {
     "data": {
      "text/html": [
       "<style>\n",
       "    table.wandb td:nth-child(1) { padding: 0 10px; text-align: left ; width: auto;} td:nth-child(2) {text-align: left ; width: 100%}\n",
       "    .wandb-row { display: flex; flex-direction: row; flex-wrap: wrap; justify-content: flex-start; width: 100% }\n",
       "    .wandb-col { display: flex; flex-direction: column; flex-basis: 100%; flex: 1; padding: 10px; }\n",
       "    </style>\n",
       "<div class=\"wandb-row\"><div class=\"wandb-col\"><h3>Run history:</h3><br/><table class=\"wandb\"><tr><td>epoch</td><td>▁▁▁▂▂▂▂▂▂▃▃▃▃▃▄▄▄▄▄▄▅▅▅▅▅▅▆▆▆▆▆▇▇▇▇▇▇███</td></tr><tr><td>train_accuracy</td><td>▁▂▃▄▅▅▅▆▅▆▆▆▇▇▆▇▇▇▇▇██████████▇██▇▇▇▇▇▇▇</td></tr><tr><td>train_f1</td><td>▁▃▃▃▄▄▄▄▄▅▅▅▅▅▅▅▅▆▇███████████▇███▇▇▇█▇█</td></tr><tr><td>train_loss</td><td>█▆▅▅▄▄▄▃▄▄▂▂▂▂▃▂▂▁▂▁▁▁▁▁▁▁▁▁▁▁▁▁▁▁▁▂▂▁▁▁</td></tr><tr><td>train_precision</td><td>▁▂▃▄▄▅▅▅▅▆▆▆▇▇▆▇▇▇▇▇███████▇██▇██▇▇▇▇▇▇▇</td></tr><tr><td>train_recall</td><td>▁▄▄▅▅▅▅▅▅▅▆▆▆▆▆▆▆▇▇▇███████▇██▇██▇▇▇▇█▇█</td></tr><tr><td>val_accuracy</td><td>█▇█▅▅▆▅▄▃▂▂▂▂▂▁▂▂▂▂▂▁▂▂▂▂▂▂▂▃▃▂▂▃▂▂▂▁▂▁▂</td></tr><tr><td>val_f1</td><td>▄▆█▅▅▆▆▄▄▃▂▂▂▃▂▃▂▃▃▁▁▃▃▁▃▃▃▂▃▃▃▁▃▃▂▂▂▃▂▂</td></tr><tr><td>val_loss</td><td>▂▁▂▂▃▂▃▃▅▆▆▆▆▆▇▇▇███████████▇▇▇▇▇███████</td></tr><tr><td>val_precision</td><td>▇▇█▇▇▇▇▇▇▆▆▆▆▆▆▆▆▇▆▆▆▆▆▆▁▁▁▁▇▁▆▆▁▇▆▆▆▆▆▆</td></tr><tr><td>val_recall</td><td>▂▆█▆▆▆▇▅▄▃▃▃▃▃▂▃▃▃▃▁▁▃▃▁▃▃▃▁▄▄▃▁▄▃▃▃▂▃▂▃</td></tr></table><br/></div><div class=\"wandb-col\"><h3>Run summary:</h3><br/><table class=\"wandb\"><tr><td>epoch</td><td>500</td></tr><tr><td>train_accuracy</td><td>0.69405</td></tr><tr><td>train_f1</td><td>0.37002</td></tr><tr><td>train_loss</td><td>0.21085</td></tr><tr><td>train_precision</td><td>0.83313</td></tr><tr><td>train_recall</td><td>0.37994</td></tr><tr><td>val_accuracy</td><td>0.5534</td></tr><tr><td>val_f1</td><td>0.27792</td></tr><tr><td>val_loss</td><td>0.31024</td></tr><tr><td>val_precision</td><td>0.76468</td></tr><tr><td>val_recall</td><td>0.29774</td></tr></table><br/></div></div>"
      ],
      "text/plain": [
       "<IPython.core.display.HTML object>"
      ]
     },
     "metadata": {},
     "output_type": "display_data"
    },
    {
     "data": {
      "text/html": [
       " View run <strong style=\"color:#cdcd00\">MLP_Classifier_0.1_[6, 6]_500</strong> at: <a href='https://wandb.ai/arjundosajh/SMAI-Assignment-3-Task-2.2.4/runs/g6mm7dl4' target=\"_blank\">https://wandb.ai/arjundosajh/SMAI-Assignment-3-Task-2.2.4/runs/g6mm7dl4</a><br/>Synced 5 W&B file(s), 0 media file(s), 0 artifact file(s) and 0 other file(s)"
      ],
      "text/plain": [
       "<IPython.core.display.HTML object>"
      ]
     },
     "metadata": {},
     "output_type": "display_data"
    },
    {
     "data": {
      "text/html": [
       "Find logs at: <code>./wandb/run-20231014_191432-g6mm7dl4/logs</code>"
      ],
      "text/plain": [
       "<IPython.core.display.HTML object>"
      ]
     },
     "metadata": {},
     "output_type": "display_data"
    },
    {
     "data": {
      "text/html": [
       "Successfully finished last run (ID:g6mm7dl4). Initializing new run:<br/>"
      ],
      "text/plain": [
       "<IPython.core.display.HTML object>"
      ]
     },
     "metadata": {},
     "output_type": "display_data"
    },
    {
     "data": {
      "text/html": [
       "Tracking run with wandb version 0.15.12"
      ],
      "text/plain": [
       "<IPython.core.display.HTML object>"
      ]
     },
     "metadata": {},
     "output_type": "display_data"
    },
    {
     "data": {
      "text/html": [
       "Run data is saved locally in <code>/Users/arjundosajh/IIITH/Sem 5/SMAI/assignment-3-ArjunDosajh/wandb/run-20231014_191556-bdolt2hs</code>"
      ],
      "text/plain": [
       "<IPython.core.display.HTML object>"
      ]
     },
     "metadata": {},
     "output_type": "display_data"
    },
    {
     "data": {
      "text/html": [
       "Syncing run <strong><a href='https://wandb.ai/arjundosajh/SMAI-Assignment-3-Task-2.2.4/runs/bdolt2hs' target=\"_blank\">MLP_Classifier_0.1_[6, 6]_1000</a></strong> to <a href='https://wandb.ai/arjundosajh/SMAI-Assignment-3-Task-2.2.4' target=\"_blank\">Weights & Biases</a> (<a href='https://wandb.me/run' target=\"_blank\">docs</a>)<br/>"
      ],
      "text/plain": [
       "<IPython.core.display.HTML object>"
      ]
     },
     "metadata": {},
     "output_type": "display_data"
    },
    {
     "data": {
      "text/html": [
       " View project at <a href='https://wandb.ai/arjundosajh/SMAI-Assignment-3-Task-2.2.4' target=\"_blank\">https://wandb.ai/arjundosajh/SMAI-Assignment-3-Task-2.2.4</a>"
      ],
      "text/plain": [
       "<IPython.core.display.HTML object>"
      ]
     },
     "metadata": {},
     "output_type": "display_data"
    },
    {
     "data": {
      "text/html": [
       " View run at <a href='https://wandb.ai/arjundosajh/SMAI-Assignment-3-Task-2.2.4/runs/bdolt2hs' target=\"_blank\">https://wandb.ai/arjundosajh/SMAI-Assignment-3-Task-2.2.4/runs/bdolt2hs</a>"
      ],
      "text/plain": [
       "<IPython.core.display.HTML object>"
      ]
     },
     "metadata": {},
     "output_type": "display_data"
    },
    {
     "data": {
      "text/html": [
       "Finishing last run (ID:bdolt2hs) before initializing another..."
      ],
      "text/plain": [
       "<IPython.core.display.HTML object>"
      ]
     },
     "metadata": {},
     "output_type": "display_data"
    },
    {
     "data": {
      "text/html": [
       "Waiting for W&B process to finish... <strong style=\"color:green\">(success).</strong>"
      ],
      "text/plain": [
       "<IPython.core.display.HTML object>"
      ]
     },
     "metadata": {},
     "output_type": "display_data"
    },
    {
     "name": "stderr",
     "output_type": "stream",
     "text": [
      "wandb: WARNING Source type is set to 'repo' but some required information is missing from the environment. A job will not be created from this run. See https://docs.wandb.ai/guides/launch/create-job\n"
     ]
    },
    {
     "data": {
      "text/html": [
       "<style>\n",
       "    table.wandb td:nth-child(1) { padding: 0 10px; text-align: left ; width: auto;} td:nth-child(2) {text-align: left ; width: 100%}\n",
       "    .wandb-row { display: flex; flex-direction: row; flex-wrap: wrap; justify-content: flex-start; width: 100% }\n",
       "    .wandb-col { display: flex; flex-direction: column; flex-basis: 100%; flex: 1; padding: 10px; }\n",
       "    </style>\n",
       "<div class=\"wandb-row\"><div class=\"wandb-col\"><h3>Run history:</h3><br/><table class=\"wandb\"><tr><td>epoch</td><td>▁▁▁▂▂▂▂▂▂▃▃▃▃▃▄▄▄▄▄▄▅▅▅▅▅▅▆▆▆▆▆▇▇▇▇▇▇███</td></tr><tr><td>train_accuracy</td><td>▁▄▅▅▅▅▆▇▆▆▆▆▆▆▆▆▅▆▆▆▆▇▇▇▇▇█▇██▇█▇▇████▇█</td></tr><tr><td>train_f1</td><td>▁▅▅▅▅▅▆▆▆▆▆▆▆▆▆▆▅▆▆▆▆▇▇▇▆▇▇▇▇▇▇█▇▇█▇▇███</td></tr><tr><td>train_loss</td><td>█▆▅▅▄▄▃▃▃▃▃▃▃▃▃▃▄▃▃▃▃▃▂▂▃▂▂▂▂▂▂▁▂▂▁▁▁▁▂▁</td></tr><tr><td>train_precision</td><td>▁▅▅▅▅▅▆▇▇▆▇▇▆▆▆▆▄▆▆▆▆▇▇▇▇▇█▇▇▇▇█▇▇█▇▇█▇█</td></tr><tr><td>train_recall</td><td>▁▅▅▆▅▅▆▆▆▆▆▆▆▆▆▆▅▆▆▅▆▆▇▇▆▆▇▇▇▇▇▇▇▇▇▇▇███</td></tr><tr><td>val_accuracy</td><td>█▇▅▇▆▄▅▅▅▅▅▅▁▆▄▄▄▁▂▄▃▄▃▅▄▅▂▅▄▄▅▄▄▄▂▃▂▁▂▃</td></tr><tr><td>val_f1</td><td>▇█▆█▇▄▅▅▅▅▅▄▁▆▄▄▄▂▂▄▄▄▄▅▅▆▃▅▅▄▅▄▄▄▃▃▄▃▃▄</td></tr><tr><td>val_loss</td><td>▁▁▂▁▃▄▄▄▄▅▅▅▆▅▅▅▅▆▇▆▅▅▆▆▆▆▇▆▆▇▆▆▆▆▆▆▇▇██</td></tr><tr><td>val_precision</td><td>█▇▆██▄▅▅▅▅▅▄▁▇▄▄▄▂▂▄▄▄▃▄▅▆▃▅▄▄▅▄▄▄▃▃▃▂▃▄</td></tr><tr><td>val_recall</td><td>▇█▇█▆▄▅▅▅▅▅▄▁▆▄▄▄▃▂▄▄▄▄▅▅▇▃▅▅▄▅▄▄▄▃▄▄▄▄▆</td></tr></table><br/></div><div class=\"wandb-col\"><h3>Run summary:</h3><br/><table class=\"wandb\"><tr><td>epoch</td><td>1000</td></tr><tr><td>train_accuracy</td><td>0.70919</td></tr><tr><td>train_f1</td><td>0.35542</td></tr><tr><td>train_loss</td><td>0.20482</td></tr><tr><td>train_precision</td><td>0.84174</td></tr><tr><td>train_recall</td><td>0.37755</td></tr><tr><td>val_accuracy</td><td>0.54369</td></tr><tr><td>val_f1</td><td>0.27781</td></tr><tr><td>val_loss</td><td>0.33897</td></tr><tr><td>val_precision</td><td>0.76667</td></tr><tr><td>val_recall</td><td>0.30488</td></tr></table><br/></div></div>"
      ],
      "text/plain": [
       "<IPython.core.display.HTML object>"
      ]
     },
     "metadata": {},
     "output_type": "display_data"
    },
    {
     "data": {
      "text/html": [
       " View run <strong style=\"color:#cdcd00\">MLP_Classifier_0.1_[6, 6]_1000</strong> at: <a href='https://wandb.ai/arjundosajh/SMAI-Assignment-3-Task-2.2.4/runs/bdolt2hs' target=\"_blank\">https://wandb.ai/arjundosajh/SMAI-Assignment-3-Task-2.2.4/runs/bdolt2hs</a><br/>Synced 5 W&B file(s), 0 media file(s), 0 artifact file(s) and 0 other file(s)"
      ],
      "text/plain": [
       "<IPython.core.display.HTML object>"
      ]
     },
     "metadata": {},
     "output_type": "display_data"
    },
    {
     "data": {
      "text/html": [
       "Find logs at: <code>./wandb/run-20231014_191556-bdolt2hs/logs</code>"
      ],
      "text/plain": [
       "<IPython.core.display.HTML object>"
      ]
     },
     "metadata": {},
     "output_type": "display_data"
    },
    {
     "data": {
      "text/html": [
       "Successfully finished last run (ID:bdolt2hs). Initializing new run:<br/>"
      ],
      "text/plain": [
       "<IPython.core.display.HTML object>"
      ]
     },
     "metadata": {},
     "output_type": "display_data"
    },
    {
     "data": {
      "text/html": [
       "Tracking run with wandb version 0.15.12"
      ],
      "text/plain": [
       "<IPython.core.display.HTML object>"
      ]
     },
     "metadata": {},
     "output_type": "display_data"
    },
    {
     "data": {
      "text/html": [
       "Run data is saved locally in <code>/Users/arjundosajh/IIITH/Sem 5/SMAI/assignment-3-ArjunDosajh/wandb/run-20231014_191823-q062mcjp</code>"
      ],
      "text/plain": [
       "<IPython.core.display.HTML object>"
      ]
     },
     "metadata": {},
     "output_type": "display_data"
    },
    {
     "data": {
      "text/html": [
       "Syncing run <strong><a href='https://wandb.ai/arjundosajh/SMAI-Assignment-3-Task-2.2.4/runs/q062mcjp' target=\"_blank\">MLP_Classifier_0.1_[8, 8]_500</a></strong> to <a href='https://wandb.ai/arjundosajh/SMAI-Assignment-3-Task-2.2.4' target=\"_blank\">Weights & Biases</a> (<a href='https://wandb.me/run' target=\"_blank\">docs</a>)<br/>"
      ],
      "text/plain": [
       "<IPython.core.display.HTML object>"
      ]
     },
     "metadata": {},
     "output_type": "display_data"
    },
    {
     "data": {
      "text/html": [
       " View project at <a href='https://wandb.ai/arjundosajh/SMAI-Assignment-3-Task-2.2.4' target=\"_blank\">https://wandb.ai/arjundosajh/SMAI-Assignment-3-Task-2.2.4</a>"
      ],
      "text/plain": [
       "<IPython.core.display.HTML object>"
      ]
     },
     "metadata": {},
     "output_type": "display_data"
    },
    {
     "data": {
      "text/html": [
       " View run at <a href='https://wandb.ai/arjundosajh/SMAI-Assignment-3-Task-2.2.4/runs/q062mcjp' target=\"_blank\">https://wandb.ai/arjundosajh/SMAI-Assignment-3-Task-2.2.4/runs/q062mcjp</a>"
      ],
      "text/plain": [
       "<IPython.core.display.HTML object>"
      ]
     },
     "metadata": {},
     "output_type": "display_data"
    },
    {
     "data": {
      "text/html": [
       "Finishing last run (ID:q062mcjp) before initializing another..."
      ],
      "text/plain": [
       "<IPython.core.display.HTML object>"
      ]
     },
     "metadata": {},
     "output_type": "display_data"
    },
    {
     "data": {
      "text/html": [
       "Waiting for W&B process to finish... <strong style=\"color:green\">(success).</strong>"
      ],
      "text/plain": [
       "<IPython.core.display.HTML object>"
      ]
     },
     "metadata": {},
     "output_type": "display_data"
    },
    {
     "name": "stderr",
     "output_type": "stream",
     "text": [
      "wandb: WARNING Source type is set to 'repo' but some required information is missing from the environment. A job will not be created from this run. See https://docs.wandb.ai/guides/launch/create-job\n"
     ]
    },
    {
     "data": {
      "text/html": [
       "<style>\n",
       "    table.wandb td:nth-child(1) { padding: 0 10px; text-align: left ; width: auto;} td:nth-child(2) {text-align: left ; width: 100%}\n",
       "    .wandb-row { display: flex; flex-direction: row; flex-wrap: wrap; justify-content: flex-start; width: 100% }\n",
       "    .wandb-col { display: flex; flex-direction: column; flex-basis: 100%; flex: 1; padding: 10px; }\n",
       "    </style>\n",
       "<div class=\"wandb-row\"><div class=\"wandb-col\"><h3>Run history:</h3><br/><table class=\"wandb\"><tr><td>epoch</td><td>▁▁▁▂▂▂▂▂▂▃▃▃▃▃▄▄▄▄▄▄▅▅▅▅▅▅▆▆▆▆▆▇▇▇▇▇▇███</td></tr><tr><td>train_accuracy</td><td>▁▃▅▆▆▆▇▇▇▇▇▇▆▆▇▆▆▇▇▇▇█████▇███████▇█████</td></tr><tr><td>train_f1</td><td>▁▃▄▄▄▅▆▅▅▅▆▆▇▆▇▇▇▇▇▇▇█▇▇▇▇▇█▇▆▇▇▇▇▆▇▇▇▇▇</td></tr><tr><td>train_loss</td><td>█▆▅▄▃▃▃▂▃▃▂▂▂▂▂▂▂▂▂▂▂▂▂▂▁▁▂▁▁▁▁▁▁▁▂▁▁▁▁▁</td></tr><tr><td>train_precision</td><td>▆▇▇▇█████████▆▄▄▄▇▇▇▇▃▇▇▇▇▇▃▇▆▁▇▇▇▆▇▇▇▇▇</td></tr><tr><td>train_recall</td><td>▁▄▅▅▅▅▆▆▆▆▇▇▇▆▇▇▇▇▇▇▇█▇▇█▇▇██▇▇▇▇▇▇▇▇▇██</td></tr><tr><td>val_accuracy</td><td>▅█▆▇▃▄▄▃▃▂▄▅▅▂▃▁▃▁▄▃▁▄▂▃▁▃▃▄▅▄▄▂▂▄▄▂▄▂▂▃</td></tr><tr><td>val_f1</td><td>▂▇██▃▄▃▂▃▄▄▅▅▃▃▂▃▁▄▃▁▄▁▃▂▃▃▄▆▂▄▁▃▅▅▃▅▃▃▄</td></tr><tr><td>val_loss</td><td>▃▁▃▃▅▅▆▆██▇▆▆▇▇▇▇█▇▇▇▇█▇▇█▆▇▆▇▇▇▇▇▇█▇██▇</td></tr><tr><td>val_precision</td><td>████▇█▇▇▇▇▇▄▁▄▄▄▇▄▄▄▄▄▄▄▄▄▄▁▄▄▄▄▄▄▄▄▄▄▄▄</td></tr><tr><td>val_recall</td><td>▂▇██▃▄▃▂▃▄▄▅▅▃▃▂▃▁▄▃▁▄▁▃▂▃▃▄▆▂▄▁▃▅▅▃▅▃▃▅</td></tr></table><br/></div><div class=\"wandb-col\"><h3>Run summary:</h3><br/><table class=\"wandb\"><tr><td>epoch</td><td>500</td></tr><tr><td>train_accuracy</td><td>0.75568</td></tr><tr><td>train_f1</td><td>0.40748</td></tr><tr><td>train_loss</td><td>0.17537</td></tr><tr><td>train_precision</td><td>0.82823</td></tr><tr><td>train_recall</td><td>0.40157</td></tr><tr><td>val_accuracy</td><td>0.61165</td></tr><tr><td>val_f1</td><td>0.29247</td></tr><tr><td>val_loss</td><td>0.30444</td></tr><tr><td>val_precision</td><td>0.62111</td></tr><tr><td>val_recall</td><td>0.29827</td></tr></table><br/></div></div>"
      ],
      "text/plain": [
       "<IPython.core.display.HTML object>"
      ]
     },
     "metadata": {},
     "output_type": "display_data"
    },
    {
     "data": {
      "text/html": [
       " View run <strong style=\"color:#cdcd00\">MLP_Classifier_0.1_[8, 8]_500</strong> at: <a href='https://wandb.ai/arjundosajh/SMAI-Assignment-3-Task-2.2.4/runs/q062mcjp' target=\"_blank\">https://wandb.ai/arjundosajh/SMAI-Assignment-3-Task-2.2.4/runs/q062mcjp</a><br/>Synced 5 W&B file(s), 0 media file(s), 0 artifact file(s) and 0 other file(s)"
      ],
      "text/plain": [
       "<IPython.core.display.HTML object>"
      ]
     },
     "metadata": {},
     "output_type": "display_data"
    },
    {
     "data": {
      "text/html": [
       "Find logs at: <code>./wandb/run-20231014_191823-q062mcjp/logs</code>"
      ],
      "text/plain": [
       "<IPython.core.display.HTML object>"
      ]
     },
     "metadata": {},
     "output_type": "display_data"
    },
    {
     "data": {
      "text/html": [
       "Successfully finished last run (ID:q062mcjp). Initializing new run:<br/>"
      ],
      "text/plain": [
       "<IPython.core.display.HTML object>"
      ]
     },
     "metadata": {},
     "output_type": "display_data"
    },
    {
     "data": {
      "text/html": [
       "Tracking run with wandb version 0.15.12"
      ],
      "text/plain": [
       "<IPython.core.display.HTML object>"
      ]
     },
     "metadata": {},
     "output_type": "display_data"
    },
    {
     "data": {
      "text/html": [
       "Run data is saved locally in <code>/Users/arjundosajh/IIITH/Sem 5/SMAI/assignment-3-ArjunDosajh/wandb/run-20231014_191937-6jphbcso</code>"
      ],
      "text/plain": [
       "<IPython.core.display.HTML object>"
      ]
     },
     "metadata": {},
     "output_type": "display_data"
    },
    {
     "data": {
      "text/html": [
       "Syncing run <strong><a href='https://wandb.ai/arjundosajh/SMAI-Assignment-3-Task-2.2.4/runs/6jphbcso' target=\"_blank\">MLP_Classifier_0.1_[8, 8]_1000</a></strong> to <a href='https://wandb.ai/arjundosajh/SMAI-Assignment-3-Task-2.2.4' target=\"_blank\">Weights & Biases</a> (<a href='https://wandb.me/run' target=\"_blank\">docs</a>)<br/>"
      ],
      "text/plain": [
       "<IPython.core.display.HTML object>"
      ]
     },
     "metadata": {},
     "output_type": "display_data"
    },
    {
     "data": {
      "text/html": [
       " View project at <a href='https://wandb.ai/arjundosajh/SMAI-Assignment-3-Task-2.2.4' target=\"_blank\">https://wandb.ai/arjundosajh/SMAI-Assignment-3-Task-2.2.4</a>"
      ],
      "text/plain": [
       "<IPython.core.display.HTML object>"
      ]
     },
     "metadata": {},
     "output_type": "display_data"
    },
    {
     "data": {
      "text/html": [
       " View run at <a href='https://wandb.ai/arjundosajh/SMAI-Assignment-3-Task-2.2.4/runs/6jphbcso' target=\"_blank\">https://wandb.ai/arjundosajh/SMAI-Assignment-3-Task-2.2.4/runs/6jphbcso</a>"
      ],
      "text/plain": [
       "<IPython.core.display.HTML object>"
      ]
     },
     "metadata": {},
     "output_type": "display_data"
    },
    {
     "data": {
      "text/html": [
       "Finishing last run (ID:6jphbcso) before initializing another..."
      ],
      "text/plain": [
       "<IPython.core.display.HTML object>"
      ]
     },
     "metadata": {},
     "output_type": "display_data"
    },
    {
     "data": {
      "text/html": [
       "Waiting for W&B process to finish... <strong style=\"color:green\">(success).</strong>"
      ],
      "text/plain": [
       "<IPython.core.display.HTML object>"
      ]
     },
     "metadata": {},
     "output_type": "display_data"
    },
    {
     "name": "stderr",
     "output_type": "stream",
     "text": [
      "wandb: WARNING Source type is set to 'repo' but some required information is missing from the environment. A job will not be created from this run. See https://docs.wandb.ai/guides/launch/create-job\n"
     ]
    },
    {
     "data": {
      "text/html": [
       "<style>\n",
       "    table.wandb td:nth-child(1) { padding: 0 10px; text-align: left ; width: auto;} td:nth-child(2) {text-align: left ; width: 100%}\n",
       "    .wandb-row { display: flex; flex-direction: row; flex-wrap: wrap; justify-content: flex-start; width: 100% }\n",
       "    .wandb-col { display: flex; flex-direction: column; flex-basis: 100%; flex: 1; padding: 10px; }\n",
       "    </style>\n",
       "<div class=\"wandb-row\"><div class=\"wandb-col\"><h3>Run history:</h3><br/><table class=\"wandb\"><tr><td>epoch</td><td>▁▁▁▂▂▂▂▂▂▃▃▃▃▃▄▄▄▄▄▄▅▅▅▅▅▅▆▆▆▆▆▇▇▇▇▇▇███</td></tr><tr><td>train_accuracy</td><td>▁▄▅▅▆▆▇▇▇▇▇▇▇█▇▇▇█▇▇▇█▇███████▇████████▇</td></tr><tr><td>train_f1</td><td>▁▄▄▄▅▅▆████▆▆▆▆▆▆▆▆▆▆▆▆▆▆▆▆▆▇▆▆▆▆▆▆▆▆▆▆▆</td></tr><tr><td>train_loss</td><td>█▅▅▄▃▃▃▃▂▂▂▂▂▂▃▂▂▂▂▂▂▂▂▁▂▁▁▁▁▂▂▂▁▁▁▁▁▁▁▁</td></tr><tr><td>train_precision</td><td>▅▇▇▇▇▇▁▃▄▃▃█████████████████████████████</td></tr><tr><td>train_recall</td><td>▁▄▄▅▅▆▆████▇▇▇▇▇▇▇▇▇▇▇▇█▇▇▇██▇▇▇█▇▇▇▇▇▇▇</td></tr><tr><td>val_accuracy</td><td>▆▃▃▄▄▄▆▇▇▆▆▆▆▆▆▆▅▃▁▂▃▃▅▅▄▃▆▄▃▃▃▅▃▅▅▅▅██▃</td></tr><tr><td>val_f1</td><td>▃▁▁▃▃▃▄▅▅▅▅▆▆▅▆▆▅▃▂▃▄▃▆▅▅▄▆▅▄▃▄▅▄▄▅▅▅▇█▄</td></tr><tr><td>val_loss</td><td>▁▃▃▄▄▃▄▄▄▄▄▄▅▅▅▅▅▇█▆▇▇▆▆▅▅▅▅▆▆▆▆▇▇▆▆▆▅▅▆</td></tr><tr><td>val_precision</td><td>▄▁▁▄▄▄▅▆▆▇▆▆▆▆▆▇▅▃▂▃▄▄▇▆▅▅▆▅▅▄▄▅▅▅▆▆▄▇█▄</td></tr><tr><td>val_recall</td><td>▃▁▁▃▃▃▄▅▅▄▄▅▅▅▅▆▅▃▂▃▄▃▅▅▄▄▅▄▄▃▃▅▄▃▅▅▅▇█▄</td></tr></table><br/></div><div class=\"wandb-col\"><h3>Run summary:</h3><br/><table class=\"wandb\"><tr><td>epoch</td><td>1000</td></tr><tr><td>train_accuracy</td><td>0.77946</td></tr><tr><td>train_f1</td><td>0.3934</td></tr><tr><td>train_loss</td><td>0.16018</td></tr><tr><td>train_precision</td><td>0.88004</td></tr><tr><td>train_recall</td><td>0.40928</td></tr><tr><td>val_accuracy</td><td>0.63107</td></tr><tr><td>val_f1</td><td>0.29898</td></tr><tr><td>val_loss</td><td>0.30304</td></tr><tr><td>val_precision</td><td>0.79313</td></tr><tr><td>val_recall</td><td>0.30585</td></tr></table><br/></div></div>"
      ],
      "text/plain": [
       "<IPython.core.display.HTML object>"
      ]
     },
     "metadata": {},
     "output_type": "display_data"
    },
    {
     "data": {
      "text/html": [
       " View run <strong style=\"color:#cdcd00\">MLP_Classifier_0.1_[8, 8]_1000</strong> at: <a href='https://wandb.ai/arjundosajh/SMAI-Assignment-3-Task-2.2.4/runs/6jphbcso' target=\"_blank\">https://wandb.ai/arjundosajh/SMAI-Assignment-3-Task-2.2.4/runs/6jphbcso</a><br/>Synced 5 W&B file(s), 0 media file(s), 0 artifact file(s) and 0 other file(s)"
      ],
      "text/plain": [
       "<IPython.core.display.HTML object>"
      ]
     },
     "metadata": {},
     "output_type": "display_data"
    },
    {
     "data": {
      "text/html": [
       "Find logs at: <code>./wandb/run-20231014_191937-6jphbcso/logs</code>"
      ],
      "text/plain": [
       "<IPython.core.display.HTML object>"
      ]
     },
     "metadata": {},
     "output_type": "display_data"
    },
    {
     "data": {
      "text/html": [
       "Successfully finished last run (ID:6jphbcso). Initializing new run:<br/>"
      ],
      "text/plain": [
       "<IPython.core.display.HTML object>"
      ]
     },
     "metadata": {},
     "output_type": "display_data"
    },
    {
     "data": {
      "text/html": [
       "Tracking run with wandb version 0.15.12"
      ],
      "text/plain": [
       "<IPython.core.display.HTML object>"
      ]
     },
     "metadata": {},
     "output_type": "display_data"
    },
    {
     "data": {
      "text/html": [
       "Run data is saved locally in <code>/Users/arjundosajh/IIITH/Sem 5/SMAI/assignment-3-ArjunDosajh/wandb/run-20231014_192158-ykndhpk4</code>"
      ],
      "text/plain": [
       "<IPython.core.display.HTML object>"
      ]
     },
     "metadata": {},
     "output_type": "display_data"
    },
    {
     "data": {
      "text/html": [
       "Syncing run <strong><a href='https://wandb.ai/arjundosajh/SMAI-Assignment-3-Task-2.2.4/runs/ykndhpk4' target=\"_blank\">MLP_Classifier_0.01_[4, 4]_500</a></strong> to <a href='https://wandb.ai/arjundosajh/SMAI-Assignment-3-Task-2.2.4' target=\"_blank\">Weights & Biases</a> (<a href='https://wandb.me/run' target=\"_blank\">docs</a>)<br/>"
      ],
      "text/plain": [
       "<IPython.core.display.HTML object>"
      ]
     },
     "metadata": {},
     "output_type": "display_data"
    },
    {
     "data": {
      "text/html": [
       " View project at <a href='https://wandb.ai/arjundosajh/SMAI-Assignment-3-Task-2.2.4' target=\"_blank\">https://wandb.ai/arjundosajh/SMAI-Assignment-3-Task-2.2.4</a>"
      ],
      "text/plain": [
       "<IPython.core.display.HTML object>"
      ]
     },
     "metadata": {},
     "output_type": "display_data"
    },
    {
     "data": {
      "text/html": [
       " View run at <a href='https://wandb.ai/arjundosajh/SMAI-Assignment-3-Task-2.2.4/runs/ykndhpk4' target=\"_blank\">https://wandb.ai/arjundosajh/SMAI-Assignment-3-Task-2.2.4/runs/ykndhpk4</a>"
      ],
      "text/plain": [
       "<IPython.core.display.HTML object>"
      ]
     },
     "metadata": {},
     "output_type": "display_data"
    },
    {
     "data": {
      "text/html": [
       "Finishing last run (ID:ykndhpk4) before initializing another..."
      ],
      "text/plain": [
       "<IPython.core.display.HTML object>"
      ]
     },
     "metadata": {},
     "output_type": "display_data"
    },
    {
     "data": {
      "text/html": [
       "Waiting for W&B process to finish... <strong style=\"color:green\">(success).</strong>"
      ],
      "text/plain": [
       "<IPython.core.display.HTML object>"
      ]
     },
     "metadata": {},
     "output_type": "display_data"
    },
    {
     "name": "stderr",
     "output_type": "stream",
     "text": [
      "wandb: WARNING Source type is set to 'repo' but some required information is missing from the environment. A job will not be created from this run. See https://docs.wandb.ai/guides/launch/create-job\n"
     ]
    },
    {
     "data": {
      "text/html": [
       "<style>\n",
       "    table.wandb td:nth-child(1) { padding: 0 10px; text-align: left ; width: auto;} td:nth-child(2) {text-align: left ; width: 100%}\n",
       "    .wandb-row { display: flex; flex-direction: row; flex-wrap: wrap; justify-content: flex-start; width: 100% }\n",
       "    .wandb-col { display: flex; flex-direction: column; flex-basis: 100%; flex: 1; padding: 10px; }\n",
       "    </style>\n",
       "<div class=\"wandb-row\"><div class=\"wandb-col\"><h3>Run history:</h3><br/><table class=\"wandb\"><tr><td>epoch</td><td>▁▁▁▂▂▂▂▂▂▃▃▃▃▃▄▄▄▄▄▄▅▅▅▅▅▅▆▆▆▆▆▇▇▇▇▇▇███</td></tr><tr><td>train_accuracy</td><td>▁▅▅▆▆▆▆▆▇▇▇▇▇▇██████████████████████████</td></tr><tr><td>train_f1</td><td>▁▃▄▄▆▇▇▇▇▇██████████████████████████████</td></tr><tr><td>train_loss</td><td>█▅▄▄▃▃▃▃▃▂▂▂▂▂▂▂▂▂▂▂▁▁▁▁▁▁▁▁▁▁▁▁▁▁▁▁▁▁▁▁</td></tr><tr><td>train_precision</td><td>▃▇██▁▁▁▂▂▂▃▃▃▃▃▃▄▄▄▄▄▄▄▃▄▄▄▄▄▄▄▄▄▄▄▄▄▄▄▄</td></tr><tr><td>train_recall</td><td>▁▃▃▃▅▆▇▇▇▇▇█████████████████████████████</td></tr><tr><td>val_accuracy</td><td>▁▆▆▆█▇███▇▆▇▇▆▆▆▆▆▆▅▅▅▅▅▅▅▄▄▄▄▄▅▅▅▅▅▅▅▅▅</td></tr><tr><td>val_f1</td><td>▁▄▄▄█▇███▇▇▇▇▆▆▆▆▆▆▆▆▆▆▆▆▆▅▅▅▅▅▆▆▆▆▆▆▆▆▆</td></tr><tr><td>val_loss</td><td>█▃▂▂▂▁▁▁▁▁▁▁▂▂▃▃▃▃▃▃▄▄▄▄▄▄▄▅▅▅▅▅▅▅▅▅▅▅▅▅</td></tr><tr><td>val_precision</td><td>▅███▆▄▅▅▄▃▃▃▃▃▃▃▃▂▂▂▂▂▂▂▁▁▁▁▁▁▁▁▁▁▂▂▂▂▂▁</td></tr><tr><td>val_recall</td><td>▁▄▄▄▇▇███▇▇▇▇▆▆▆▆▆▆▆▆▆▆▆▆▆▅▅▅▅▅▆▆▆▆▆▆▆▆▆</td></tr></table><br/></div><div class=\"wandb-col\"><h3>Run summary:</h3><br/><table class=\"wandb\"><tr><td>epoch</td><td>500</td></tr><tr><td>train_accuracy</td><td>0.66162</td></tr><tr><td>train_f1</td><td>0.32603</td></tr><tr><td>train_loss</td><td>0.22887</td></tr><tr><td>train_precision</td><td>0.81888</td></tr><tr><td>train_recall</td><td>0.34174</td></tr><tr><td>val_accuracy</td><td>0.57282</td></tr><tr><td>val_f1</td><td>0.2632</td></tr><tr><td>val_loss</td><td>0.28613</td></tr><tr><td>val_precision</td><td>0.75876</td></tr><tr><td>val_recall</td><td>0.2833</td></tr></table><br/></div></div>"
      ],
      "text/plain": [
       "<IPython.core.display.HTML object>"
      ]
     },
     "metadata": {},
     "output_type": "display_data"
    },
    {
     "data": {
      "text/html": [
       " View run <strong style=\"color:#cdcd00\">MLP_Classifier_0.01_[4, 4]_500</strong> at: <a href='https://wandb.ai/arjundosajh/SMAI-Assignment-3-Task-2.2.4/runs/ykndhpk4' target=\"_blank\">https://wandb.ai/arjundosajh/SMAI-Assignment-3-Task-2.2.4/runs/ykndhpk4</a><br/>Synced 5 W&B file(s), 0 media file(s), 0 artifact file(s) and 0 other file(s)"
      ],
      "text/plain": [
       "<IPython.core.display.HTML object>"
      ]
     },
     "metadata": {},
     "output_type": "display_data"
    },
    {
     "data": {
      "text/html": [
       "Find logs at: <code>./wandb/run-20231014_192158-ykndhpk4/logs</code>"
      ],
      "text/plain": [
       "<IPython.core.display.HTML object>"
      ]
     },
     "metadata": {},
     "output_type": "display_data"
    },
    {
     "data": {
      "text/html": [
       "Successfully finished last run (ID:ykndhpk4). Initializing new run:<br/>"
      ],
      "text/plain": [
       "<IPython.core.display.HTML object>"
      ]
     },
     "metadata": {},
     "output_type": "display_data"
    },
    {
     "data": {
      "text/html": [
       "Tracking run with wandb version 0.15.12"
      ],
      "text/plain": [
       "<IPython.core.display.HTML object>"
      ]
     },
     "metadata": {},
     "output_type": "display_data"
    },
    {
     "data": {
      "text/html": [
       "Run data is saved locally in <code>/Users/arjundosajh/IIITH/Sem 5/SMAI/assignment-3-ArjunDosajh/wandb/run-20231014_192311-l2yfd1vc</code>"
      ],
      "text/plain": [
       "<IPython.core.display.HTML object>"
      ]
     },
     "metadata": {},
     "output_type": "display_data"
    },
    {
     "data": {
      "text/html": [
       "Syncing run <strong><a href='https://wandb.ai/arjundosajh/SMAI-Assignment-3-Task-2.2.4/runs/l2yfd1vc' target=\"_blank\">MLP_Classifier_0.01_[4, 4]_1000</a></strong> to <a href='https://wandb.ai/arjundosajh/SMAI-Assignment-3-Task-2.2.4' target=\"_blank\">Weights & Biases</a> (<a href='https://wandb.me/run' target=\"_blank\">docs</a>)<br/>"
      ],
      "text/plain": [
       "<IPython.core.display.HTML object>"
      ]
     },
     "metadata": {},
     "output_type": "display_data"
    },
    {
     "data": {
      "text/html": [
       " View project at <a href='https://wandb.ai/arjundosajh/SMAI-Assignment-3-Task-2.2.4' target=\"_blank\">https://wandb.ai/arjundosajh/SMAI-Assignment-3-Task-2.2.4</a>"
      ],
      "text/plain": [
       "<IPython.core.display.HTML object>"
      ]
     },
     "metadata": {},
     "output_type": "display_data"
    },
    {
     "data": {
      "text/html": [
       " View run at <a href='https://wandb.ai/arjundosajh/SMAI-Assignment-3-Task-2.2.4/runs/l2yfd1vc' target=\"_blank\">https://wandb.ai/arjundosajh/SMAI-Assignment-3-Task-2.2.4/runs/l2yfd1vc</a>"
      ],
      "text/plain": [
       "<IPython.core.display.HTML object>"
      ]
     },
     "metadata": {},
     "output_type": "display_data"
    },
    {
     "data": {
      "text/html": [
       "Finishing last run (ID:l2yfd1vc) before initializing another..."
      ],
      "text/plain": [
       "<IPython.core.display.HTML object>"
      ]
     },
     "metadata": {},
     "output_type": "display_data"
    },
    {
     "data": {
      "text/html": [
       "Waiting for W&B process to finish... <strong style=\"color:green\">(success).</strong>"
      ],
      "text/plain": [
       "<IPython.core.display.HTML object>"
      ]
     },
     "metadata": {},
     "output_type": "display_data"
    },
    {
     "name": "stderr",
     "output_type": "stream",
     "text": [
      "wandb: WARNING Source type is set to 'repo' but some required information is missing from the environment. A job will not be created from this run. See https://docs.wandb.ai/guides/launch/create-job\n"
     ]
    },
    {
     "data": {
      "text/html": [
       "<style>\n",
       "    table.wandb td:nth-child(1) { padding: 0 10px; text-align: left ; width: auto;} td:nth-child(2) {text-align: left ; width: 100%}\n",
       "    .wandb-row { display: flex; flex-direction: row; flex-wrap: wrap; justify-content: flex-start; width: 100% }\n",
       "    .wandb-col { display: flex; flex-direction: column; flex-basis: 100%; flex: 1; padding: 10px; }\n",
       "    </style>\n",
       "<div class=\"wandb-row\"><div class=\"wandb-col\"><h3>Run history:</h3><br/><table class=\"wandb\"><tr><td>epoch</td><td>▁▁▁▂▂▂▂▂▂▃▃▃▃▃▄▄▄▄▄▄▅▅▅▅▅▅▆▆▆▆▆▇▇▇▇▇▇███</td></tr><tr><td>train_accuracy</td><td>▁▅▆▆▆▆▇▇▇▇▇▇███▇▇▇▇█████████████████████</td></tr><tr><td>train_f1</td><td>▁▆▇▇▇▇▇▇▇███████████████████████████████</td></tr><tr><td>train_loss</td><td>█▄▃▃▃▃▂▂▂▂▂▂▂▂▂▂▂▂▂▂▂▂▁▁▁▁▁▁▁▁▁▁▁▁▁▁▁▁▁▁</td></tr><tr><td>train_precision</td><td>█▁▂▃▃▃▃▄▄▅▆▆▇▇▆▆▆▆▆▇▇▇▇▇▇████████▇▇▇▇▇▇▇</td></tr><tr><td>train_recall</td><td>▁▅▇▇▇▇▇█████████████████████████████████</td></tr><tr><td>val_accuracy</td><td>▁▅▅▆▆▇█▇▇▇▇▆▇▇██▇▇▇▇▆▆▇▇▇▇▆▆▆▆▆▆▆▆▆▆▆▆▆▆</td></tr><tr><td>val_f1</td><td>▁▅▆▇▇██▇▇▇▇▇▇▇██▇▇▇▇▇▇▇▇▇▇▇▇▇▇▇▇▇▇▇▇▇▇▇▇</td></tr><tr><td>val_loss</td><td>█▃▂▁▁▁▁▁▁▁▁▁▁▁▁▁▁▂▂▂▃▃▃▃▃▃▃▄▄▄▄▄▄▄▄▄▄▄▄▄</td></tr><tr><td>val_precision</td><td>█▁▃▃▄▅▆▄▅▅▅▄▅▅▅▅▅▄▅▅▅▅▇▇▇▇▅▅▅▅▅▅▅▅▅▅▅▅▅▅</td></tr><tr><td>val_recall</td><td>▁▄▆▆▇██▇▇▇▇▇▇▇▇▇▇▆▆▆▆▆▆▆▆▆▆▆▆▆▆▆▆▆▆▆▆▆▆▆</td></tr></table><br/></div><div class=\"wandb-col\"><h3>Run summary:</h3><br/><table class=\"wandb\"><tr><td>epoch</td><td>1000</td></tr><tr><td>train_accuracy</td><td>0.68541</td></tr><tr><td>train_f1</td><td>0.3397</td></tr><tr><td>train_loss</td><td>0.22461</td></tr><tr><td>train_precision</td><td>0.83394</td></tr><tr><td>train_recall</td><td>0.34602</td></tr><tr><td>val_accuracy</td><td>0.63107</td></tr><tr><td>val_f1</td><td>0.29656</td></tr><tr><td>val_loss</td><td>0.26988</td></tr><tr><td>val_precision</td><td>0.80756</td></tr><tr><td>val_recall</td><td>0.2944</td></tr></table><br/></div></div>"
      ],
      "text/plain": [
       "<IPython.core.display.HTML object>"
      ]
     },
     "metadata": {},
     "output_type": "display_data"
    },
    {
     "data": {
      "text/html": [
       " View run <strong style=\"color:#cdcd00\">MLP_Classifier_0.01_[4, 4]_1000</strong> at: <a href='https://wandb.ai/arjundosajh/SMAI-Assignment-3-Task-2.2.4/runs/l2yfd1vc' target=\"_blank\">https://wandb.ai/arjundosajh/SMAI-Assignment-3-Task-2.2.4/runs/l2yfd1vc</a><br/>Synced 5 W&B file(s), 0 media file(s), 0 artifact file(s) and 0 other file(s)"
      ],
      "text/plain": [
       "<IPython.core.display.HTML object>"
      ]
     },
     "metadata": {},
     "output_type": "display_data"
    },
    {
     "data": {
      "text/html": [
       "Find logs at: <code>./wandb/run-20231014_192311-l2yfd1vc/logs</code>"
      ],
      "text/plain": [
       "<IPython.core.display.HTML object>"
      ]
     },
     "metadata": {},
     "output_type": "display_data"
    },
    {
     "data": {
      "text/html": [
       "Successfully finished last run (ID:l2yfd1vc). Initializing new run:<br/>"
      ],
      "text/plain": [
       "<IPython.core.display.HTML object>"
      ]
     },
     "metadata": {},
     "output_type": "display_data"
    },
    {
     "data": {
      "text/html": [
       "Tracking run with wandb version 0.15.12"
      ],
      "text/plain": [
       "<IPython.core.display.HTML object>"
      ]
     },
     "metadata": {},
     "output_type": "display_data"
    },
    {
     "data": {
      "text/html": [
       "Run data is saved locally in <code>/Users/arjundosajh/IIITH/Sem 5/SMAI/assignment-3-ArjunDosajh/wandb/run-20231014_192552-xnf6wqpm</code>"
      ],
      "text/plain": [
       "<IPython.core.display.HTML object>"
      ]
     },
     "metadata": {},
     "output_type": "display_data"
    },
    {
     "data": {
      "text/html": [
       "Syncing run <strong><a href='https://wandb.ai/arjundosajh/SMAI-Assignment-3-Task-2.2.4/runs/xnf6wqpm' target=\"_blank\">MLP_Classifier_0.01_[4, 4, 4]_500</a></strong> to <a href='https://wandb.ai/arjundosajh/SMAI-Assignment-3-Task-2.2.4' target=\"_blank\">Weights & Biases</a> (<a href='https://wandb.me/run' target=\"_blank\">docs</a>)<br/>"
      ],
      "text/plain": [
       "<IPython.core.display.HTML object>"
      ]
     },
     "metadata": {},
     "output_type": "display_data"
    },
    {
     "data": {
      "text/html": [
       " View project at <a href='https://wandb.ai/arjundosajh/SMAI-Assignment-3-Task-2.2.4' target=\"_blank\">https://wandb.ai/arjundosajh/SMAI-Assignment-3-Task-2.2.4</a>"
      ],
      "text/plain": [
       "<IPython.core.display.HTML object>"
      ]
     },
     "metadata": {},
     "output_type": "display_data"
    },
    {
     "data": {
      "text/html": [
       " View run at <a href='https://wandb.ai/arjundosajh/SMAI-Assignment-3-Task-2.2.4/runs/xnf6wqpm' target=\"_blank\">https://wandb.ai/arjundosajh/SMAI-Assignment-3-Task-2.2.4/runs/xnf6wqpm</a>"
      ],
      "text/plain": [
       "<IPython.core.display.HTML object>"
      ]
     },
     "metadata": {},
     "output_type": "display_data"
    },
    {
     "data": {
      "text/html": [
       "Finishing last run (ID:xnf6wqpm) before initializing another..."
      ],
      "text/plain": [
       "<IPython.core.display.HTML object>"
      ]
     },
     "metadata": {},
     "output_type": "display_data"
    },
    {
     "data": {
      "text/html": [
       "Waiting for W&B process to finish... <strong style=\"color:green\">(success).</strong>"
      ],
      "text/plain": [
       "<IPython.core.display.HTML object>"
      ]
     },
     "metadata": {},
     "output_type": "display_data"
    },
    {
     "name": "stderr",
     "output_type": "stream",
     "text": [
      "wandb: WARNING Source type is set to 'repo' but some required information is missing from the environment. A job will not be created from this run. See https://docs.wandb.ai/guides/launch/create-job\n"
     ]
    },
    {
     "data": {
      "text/html": [
       "<style>\n",
       "    table.wandb td:nth-child(1) { padding: 0 10px; text-align: left ; width: auto;} td:nth-child(2) {text-align: left ; width: 100%}\n",
       "    .wandb-row { display: flex; flex-direction: row; flex-wrap: wrap; justify-content: flex-start; width: 100% }\n",
       "    .wandb-col { display: flex; flex-direction: column; flex-basis: 100%; flex: 1; padding: 10px; }\n",
       "    </style>\n",
       "<div class=\"wandb-row\"><div class=\"wandb-col\"><h3>Run history:</h3><br/><table class=\"wandb\"><tr><td>epoch</td><td>▁▁▁▂▂▂▂▂▂▃▃▃▃▃▄▄▄▄▄▄▅▅▅▅▅▅▆▆▆▆▆▇▇▇▇▇▇███</td></tr><tr><td>train_accuracy</td><td>▁▅▆▆▆▆▆▆▆▆▆▇▇▇▇▇▇▇█▇▇▇██████████████████</td></tr><tr><td>train_f1</td><td>▁▄▄▄▄▄▄▆▇▇▇▇▇▇▇▇████████████████████████</td></tr><tr><td>train_loss</td><td>█▅▄▄▄▄▃▃▃▃▃▃▂▂▂▂▂▂▂▂▁▁▁▁▁▁▁▁▁▁▁▁▁▁▁▁▁▁▁▁</td></tr><tr><td>train_precision</td><td>█▅▅▆▆▆▆▂▂▁▁▂▂▂▂▂▂▃▃▃▃▃▃▃▃▃▃▃▃▃▃▃▃▃▃▃▃▃▃▃</td></tr><tr><td>train_recall</td><td>▁▄▄▄▄▄▄▅▆▆▆▇▇▇▇▇▇███████████████████████</td></tr><tr><td>val_accuracy</td><td>▁▇▇▇▇▇▆▇█▇▇▆▅▆▆▇▇▇▇▇▇▇█████▇▇▇▇▇▇▇██████</td></tr><tr><td>val_f1</td><td>▁▆▅▅▅▅▅▇█▇▇▇▇▇▇███▇▇████████████████████</td></tr><tr><td>val_loss</td><td>█▃▂▂▂▂▂▂▂▂▃▃▃▃▃▃▂▂▂▂▂▂▁▁▁▁▁▁▁▁▁▁▁▁▁▁▁▁▁▁</td></tr><tr><td>val_precision</td><td>█▇▇▇▆▆▆▃▄▂▁▂▁▁▂▂▂▂▂▂▂▂▃▃▂▂▂▂▂▂▂▂▂▂▂▂▃▂▂▂</td></tr><tr><td>val_recall</td><td>▁▅▅▅▅▅▅▆▇▇▆▇▇▇▇███▇▇▇███████████████████</td></tr></table><br/></div><div class=\"wandb-col\"><h3>Run summary:</h3><br/><table class=\"wandb\"><tr><td>epoch</td><td>500</td></tr><tr><td>train_accuracy</td><td>0.69405</td></tr><tr><td>train_f1</td><td>0.34521</td></tr><tr><td>train_loss</td><td>0.2242</td></tr><tr><td>train_precision</td><td>0.83257</td></tr><tr><td>train_recall</td><td>0.36091</td></tr><tr><td>val_accuracy</td><td>0.65049</td></tr><tr><td>val_f1</td><td>0.29167</td></tr><tr><td>val_loss</td><td>0.25112</td></tr><tr><td>val_precision</td><td>0.78611</td></tr><tr><td>val_recall</td><td>0.30241</td></tr></table><br/></div></div>"
      ],
      "text/plain": [
       "<IPython.core.display.HTML object>"
      ]
     },
     "metadata": {},
     "output_type": "display_data"
    },
    {
     "data": {
      "text/html": [
       " View run <strong style=\"color:#cdcd00\">MLP_Classifier_0.01_[4, 4, 4]_500</strong> at: <a href='https://wandb.ai/arjundosajh/SMAI-Assignment-3-Task-2.2.4/runs/xnf6wqpm' target=\"_blank\">https://wandb.ai/arjundosajh/SMAI-Assignment-3-Task-2.2.4/runs/xnf6wqpm</a><br/>Synced 5 W&B file(s), 0 media file(s), 0 artifact file(s) and 0 other file(s)"
      ],
      "text/plain": [
       "<IPython.core.display.HTML object>"
      ]
     },
     "metadata": {},
     "output_type": "display_data"
    },
    {
     "data": {
      "text/html": [
       "Find logs at: <code>./wandb/run-20231014_192552-xnf6wqpm/logs</code>"
      ],
      "text/plain": [
       "<IPython.core.display.HTML object>"
      ]
     },
     "metadata": {},
     "output_type": "display_data"
    },
    {
     "data": {
      "text/html": [
       "Successfully finished last run (ID:xnf6wqpm). Initializing new run:<br/>"
      ],
      "text/plain": [
       "<IPython.core.display.HTML object>"
      ]
     },
     "metadata": {},
     "output_type": "display_data"
    },
    {
     "data": {
      "text/html": [
       "Tracking run with wandb version 0.15.12"
      ],
      "text/plain": [
       "<IPython.core.display.HTML object>"
      ]
     },
     "metadata": {},
     "output_type": "display_data"
    },
    {
     "data": {
      "text/html": [
       "Run data is saved locally in <code>/Users/arjundosajh/IIITH/Sem 5/SMAI/assignment-3-ArjunDosajh/wandb/run-20231014_192737-vuee8cf1</code>"
      ],
      "text/plain": [
       "<IPython.core.display.HTML object>"
      ]
     },
     "metadata": {},
     "output_type": "display_data"
    },
    {
     "data": {
      "text/html": [
       "Syncing run <strong><a href='https://wandb.ai/arjundosajh/SMAI-Assignment-3-Task-2.2.4/runs/vuee8cf1' target=\"_blank\">MLP_Classifier_0.01_[4, 4, 4]_1000</a></strong> to <a href='https://wandb.ai/arjundosajh/SMAI-Assignment-3-Task-2.2.4' target=\"_blank\">Weights & Biases</a> (<a href='https://wandb.me/run' target=\"_blank\">docs</a>)<br/>"
      ],
      "text/plain": [
       "<IPython.core.display.HTML object>"
      ]
     },
     "metadata": {},
     "output_type": "display_data"
    },
    {
     "data": {
      "text/html": [
       " View project at <a href='https://wandb.ai/arjundosajh/SMAI-Assignment-3-Task-2.2.4' target=\"_blank\">https://wandb.ai/arjundosajh/SMAI-Assignment-3-Task-2.2.4</a>"
      ],
      "text/plain": [
       "<IPython.core.display.HTML object>"
      ]
     },
     "metadata": {},
     "output_type": "display_data"
    },
    {
     "data": {
      "text/html": [
       " View run at <a href='https://wandb.ai/arjundosajh/SMAI-Assignment-3-Task-2.2.4/runs/vuee8cf1' target=\"_blank\">https://wandb.ai/arjundosajh/SMAI-Assignment-3-Task-2.2.4/runs/vuee8cf1</a>"
      ],
      "text/plain": [
       "<IPython.core.display.HTML object>"
      ]
     },
     "metadata": {},
     "output_type": "display_data"
    },
    {
     "data": {
      "text/html": [
       "Finishing last run (ID:vuee8cf1) before initializing another..."
      ],
      "text/plain": [
       "<IPython.core.display.HTML object>"
      ]
     },
     "metadata": {},
     "output_type": "display_data"
    },
    {
     "data": {
      "text/html": [
       "Waiting for W&B process to finish... <strong style=\"color:green\">(success).</strong>"
      ],
      "text/plain": [
       "<IPython.core.display.HTML object>"
      ]
     },
     "metadata": {},
     "output_type": "display_data"
    },
    {
     "name": "stderr",
     "output_type": "stream",
     "text": [
      "wandb: WARNING Source type is set to 'repo' but some required information is missing from the environment. A job will not be created from this run. See https://docs.wandb.ai/guides/launch/create-job\n"
     ]
    },
    {
     "data": {
      "text/html": [
       "<style>\n",
       "    table.wandb td:nth-child(1) { padding: 0 10px; text-align: left ; width: auto;} td:nth-child(2) {text-align: left ; width: 100%}\n",
       "    .wandb-row { display: flex; flex-direction: row; flex-wrap: wrap; justify-content: flex-start; width: 100% }\n",
       "    .wandb-col { display: flex; flex-direction: column; flex-basis: 100%; flex: 1; padding: 10px; }\n",
       "    </style>\n",
       "<div class=\"wandb-row\"><div class=\"wandb-col\"><h3>Run history:</h3><br/><table class=\"wandb\"><tr><td>epoch</td><td>▁▁▁▂▂▂▂▂▂▃▃▃▃▃▄▄▄▄▄▄▅▅▅▅▅▅▆▆▆▆▆▇▇▇▇▇▇███</td></tr><tr><td>train_accuracy</td><td>▁▅▅▅▆▆▆▇▇▇▇▇▇▇▇▇▇▇▇▇▇███████████████████</td></tr><tr><td>train_f1</td><td>▁▄▄▄▆▇▇▇▇▇▇▇████████████████████████████</td></tr><tr><td>train_loss</td><td>█▅▄▄▄▃▃▃▃▂▂▂▂▂▂▂▂▂▂▂▂▂▂▁▁▁▁▁▁▁▁▁▁▁▁▁▁▁▁▁</td></tr><tr><td>train_precision</td><td>█▅▅▅▁▁▁▁▂▁▂▂▂▂▂▂▂▃▃▂▃▃▃▃▃▃▃▃▃▃▃▃▄▃▃▃▃▃▃▃</td></tr><tr><td>train_recall</td><td>▁▃▄▄▅▆▇▇▇▇▇▇▇▇██████████████████████████</td></tr><tr><td>val_accuracy</td><td>▁███▇██▇██▇▆▇▇████████▇█████████████████</td></tr><tr><td>val_f1</td><td>▁▅▅▅▅▇▇▇▇▇▇▇▇▇▇▇██▇▇▇▇▇▇▇████▇▇▇▇▇▇▇████</td></tr><tr><td>val_loss</td><td>█▃▁▁▁▁▁▂▃▃▄▄▄▄▄▅▅▅▅▅▄▄▄▄▄▄▄▄▄▅▅▅▅▅▅▅▅▅▅▅</td></tr><tr><td>val_precision</td><td>█▇▇▇▁▄▃▃▃▃▃▃▃▃▃▃▃▃▃▃▃▃▃▃▃▄▄▄▄▃▃▃▃▃▃▃▄▄▄▄</td></tr><tr><td>val_recall</td><td>▁▅▅▅▅▇▇▇▇▇▇▆▇▇▇▇▇▇▇▇▇▇▆▇▇████▇▇▇▇▇▇▇████</td></tr></table><br/></div><div class=\"wandb-col\"><h3>Run summary:</h3><br/><table class=\"wandb\"><tr><td>epoch</td><td>1000</td></tr><tr><td>train_accuracy</td><td>0.70378</td></tr><tr><td>train_f1</td><td>0.34804</td></tr><tr><td>train_loss</td><td>0.22055</td></tr><tr><td>train_precision</td><td>0.83759</td></tr><tr><td>train_recall</td><td>0.35953</td></tr><tr><td>val_accuracy</td><td>0.58252</td></tr><tr><td>val_f1</td><td>0.27298</td></tr><tr><td>val_loss</td><td>0.29917</td></tr><tr><td>val_precision</td><td>0.77266</td></tr><tr><td>val_recall</td><td>0.27528</td></tr></table><br/></div></div>"
      ],
      "text/plain": [
       "<IPython.core.display.HTML object>"
      ]
     },
     "metadata": {},
     "output_type": "display_data"
    },
    {
     "data": {
      "text/html": [
       " View run <strong style=\"color:#cdcd00\">MLP_Classifier_0.01_[4, 4, 4]_1000</strong> at: <a href='https://wandb.ai/arjundosajh/SMAI-Assignment-3-Task-2.2.4/runs/vuee8cf1' target=\"_blank\">https://wandb.ai/arjundosajh/SMAI-Assignment-3-Task-2.2.4/runs/vuee8cf1</a><br/>Synced 5 W&B file(s), 0 media file(s), 0 artifact file(s) and 0 other file(s)"
      ],
      "text/plain": [
       "<IPython.core.display.HTML object>"
      ]
     },
     "metadata": {},
     "output_type": "display_data"
    },
    {
     "data": {
      "text/html": [
       "Find logs at: <code>./wandb/run-20231014_192737-vuee8cf1/logs</code>"
      ],
      "text/plain": [
       "<IPython.core.display.HTML object>"
      ]
     },
     "metadata": {},
     "output_type": "display_data"
    },
    {
     "data": {
      "text/html": [
       "Successfully finished last run (ID:vuee8cf1). Initializing new run:<br/>"
      ],
      "text/plain": [
       "<IPython.core.display.HTML object>"
      ]
     },
     "metadata": {},
     "output_type": "display_data"
    },
    {
     "data": {
      "text/html": [
       "Tracking run with wandb version 0.15.12"
      ],
      "text/plain": [
       "<IPython.core.display.HTML object>"
      ]
     },
     "metadata": {},
     "output_type": "display_data"
    },
    {
     "data": {
      "text/html": [
       "Run data is saved locally in <code>/Users/arjundosajh/IIITH/Sem 5/SMAI/assignment-3-ArjunDosajh/wandb/run-20231014_193104-z1ex27tw</code>"
      ],
      "text/plain": [
       "<IPython.core.display.HTML object>"
      ]
     },
     "metadata": {},
     "output_type": "display_data"
    },
    {
     "data": {
      "text/html": [
       "Syncing run <strong><a href='https://wandb.ai/arjundosajh/SMAI-Assignment-3-Task-2.2.4/runs/z1ex27tw' target=\"_blank\">MLP_Classifier_0.01_[6, 6]_500</a></strong> to <a href='https://wandb.ai/arjundosajh/SMAI-Assignment-3-Task-2.2.4' target=\"_blank\">Weights & Biases</a> (<a href='https://wandb.me/run' target=\"_blank\">docs</a>)<br/>"
      ],
      "text/plain": [
       "<IPython.core.display.HTML object>"
      ]
     },
     "metadata": {},
     "output_type": "display_data"
    },
    {
     "data": {
      "text/html": [
       " View project at <a href='https://wandb.ai/arjundosajh/SMAI-Assignment-3-Task-2.2.4' target=\"_blank\">https://wandb.ai/arjundosajh/SMAI-Assignment-3-Task-2.2.4</a>"
      ],
      "text/plain": [
       "<IPython.core.display.HTML object>"
      ]
     },
     "metadata": {},
     "output_type": "display_data"
    },
    {
     "data": {
      "text/html": [
       " View run at <a href='https://wandb.ai/arjundosajh/SMAI-Assignment-3-Task-2.2.4/runs/z1ex27tw' target=\"_blank\">https://wandb.ai/arjundosajh/SMAI-Assignment-3-Task-2.2.4/runs/z1ex27tw</a>"
      ],
      "text/plain": [
       "<IPython.core.display.HTML object>"
      ]
     },
     "metadata": {},
     "output_type": "display_data"
    },
    {
     "data": {
      "text/html": [
       "Finishing last run (ID:z1ex27tw) before initializing another..."
      ],
      "text/plain": [
       "<IPython.core.display.HTML object>"
      ]
     },
     "metadata": {},
     "output_type": "display_data"
    },
    {
     "data": {
      "text/html": [
       "Waiting for W&B process to finish... <strong style=\"color:green\">(success).</strong>"
      ],
      "text/plain": [
       "<IPython.core.display.HTML object>"
      ]
     },
     "metadata": {},
     "output_type": "display_data"
    },
    {
     "name": "stderr",
     "output_type": "stream",
     "text": [
      "wandb: WARNING Source type is set to 'repo' but some required information is missing from the environment. A job will not be created from this run. See https://docs.wandb.ai/guides/launch/create-job\n"
     ]
    },
    {
     "data": {
      "text/html": [
       "<style>\n",
       "    table.wandb td:nth-child(1) { padding: 0 10px; text-align: left ; width: auto;} td:nth-child(2) {text-align: left ; width: 100%}\n",
       "    .wandb-row { display: flex; flex-direction: row; flex-wrap: wrap; justify-content: flex-start; width: 100% }\n",
       "    .wandb-col { display: flex; flex-direction: column; flex-basis: 100%; flex: 1; padding: 10px; }\n",
       "    </style>\n",
       "<div class=\"wandb-row\"><div class=\"wandb-col\"><h3>Run history:</h3><br/><table class=\"wandb\"><tr><td>epoch</td><td>▁▁▁▂▂▂▂▂▂▃▃▃▃▃▄▄▄▄▄▄▅▅▅▅▅▅▆▆▆▆▆▇▇▇▇▇▇███</td></tr><tr><td>train_accuracy</td><td>▁▄▅▅▆▆▆▆▆▆▆▆▆▆▆▇▇▇▇▇▇▇▇▇▇▇▇▇▇▇▇▇████████</td></tr><tr><td>train_f1</td><td>▁▅▆▆▆▇▇▇▇▇▇▇▇▇▇▇▇▇▇▇▇▇▇▇████████████████</td></tr><tr><td>train_loss</td><td>█▅▅▄▄▄▄▃▃▃▃▃▃▂▂▂▂▂▂▂▂▂▂▂▂▂▂▂▁▁▁▁▁▁▁▁▁▁▁▁</td></tr><tr><td>train_precision</td><td>▁▆▆▆▇▇▇▇▇▇▇▇▇▇▇▇▇▇▇▇▇▇▇▇█████▇▇█████████</td></tr><tr><td>train_recall</td><td>▁▄▅▆▆▆▆▇▇▇▇▇▇▇▇▇▇▇▇▇▇▇▇▇▇▇▇▇▇▇▇█████████</td></tr><tr><td>val_accuracy</td><td>▁▅▆▇▆▇▇▇▇▇█▇▇▇▇▇▇▇▇▅▅▅▅▅▅▅▅▅▅▅▆▆▆▆▅▆▆▆▆▅</td></tr><tr><td>val_f1</td><td>▁▆▆▇▇█▇█▇▇█▇▇▇▇▇▇▇▇▆▆▆▆▆▆▆▆▆▆▆▇▇▇▇▆▆▆▆▆▆</td></tr><tr><td>val_loss</td><td>█▅▄▃▂▂▂▁▁▁▁▁▁▁▁▁▁▂▂▂▂▂▂▂▂▃▃▃▃▃▃▃▃▃▃▃▄▄▄▅</td></tr><tr><td>val_precision</td><td>▁▇▇█▇██████▇▇▇▇▇▇▇▇▆▆▆▆▆▆▆▆▆▆▆▇▇▇▇▆▆▆▆▆▆</td></tr><tr><td>val_recall</td><td>▁▅▆▇▇█▇█▇▇█▇▇▇▇▇▇▇▇▆▆▆▆▆▆▆▆▆▆▆▇▇▇▇▆▆▆▆▆▆</td></tr></table><br/></div><div class=\"wandb-col\"><h3>Run summary:</h3><br/><table class=\"wandb\"><tr><td>epoch</td><td>500</td></tr><tr><td>train_accuracy</td><td>0.69946</td></tr><tr><td>train_f1</td><td>0.34917</td></tr><tr><td>train_loss</td><td>0.21723</td></tr><tr><td>train_precision</td><td>0.83615</td></tr><tr><td>train_recall</td><td>0.36499</td></tr><tr><td>val_accuracy</td><td>0.58252</td></tr><tr><td>val_f1</td><td>0.26922</td></tr><tr><td>val_loss</td><td>0.27398</td></tr><tr><td>val_precision</td><td>0.7635</td></tr><tr><td>val_recall</td><td>0.27528</td></tr></table><br/></div></div>"
      ],
      "text/plain": [
       "<IPython.core.display.HTML object>"
      ]
     },
     "metadata": {},
     "output_type": "display_data"
    },
    {
     "data": {
      "text/html": [
       " View run <strong style=\"color:#cdcd00\">MLP_Classifier_0.01_[6, 6]_500</strong> at: <a href='https://wandb.ai/arjundosajh/SMAI-Assignment-3-Task-2.2.4/runs/z1ex27tw' target=\"_blank\">https://wandb.ai/arjundosajh/SMAI-Assignment-3-Task-2.2.4/runs/z1ex27tw</a><br/>Synced 5 W&B file(s), 0 media file(s), 0 artifact file(s) and 0 other file(s)"
      ],
      "text/plain": [
       "<IPython.core.display.HTML object>"
      ]
     },
     "metadata": {},
     "output_type": "display_data"
    },
    {
     "data": {
      "text/html": [
       "Find logs at: <code>./wandb/run-20231014_193104-z1ex27tw/logs</code>"
      ],
      "text/plain": [
       "<IPython.core.display.HTML object>"
      ]
     },
     "metadata": {},
     "output_type": "display_data"
    },
    {
     "data": {
      "text/html": [
       "Successfully finished last run (ID:z1ex27tw). Initializing new run:<br/>"
      ],
      "text/plain": [
       "<IPython.core.display.HTML object>"
      ]
     },
     "metadata": {},
     "output_type": "display_data"
    },
    {
     "data": {
      "text/html": [
       "Tracking run with wandb version 0.15.12"
      ],
      "text/plain": [
       "<IPython.core.display.HTML object>"
      ]
     },
     "metadata": {},
     "output_type": "display_data"
    },
    {
     "data": {
      "text/html": [
       "Run data is saved locally in <code>/Users/arjundosajh/IIITH/Sem 5/SMAI/assignment-3-ArjunDosajh/wandb/run-20231014_193240-z1z64xgw</code>"
      ],
      "text/plain": [
       "<IPython.core.display.HTML object>"
      ]
     },
     "metadata": {},
     "output_type": "display_data"
    },
    {
     "data": {
      "text/html": [
       "Syncing run <strong><a href='https://wandb.ai/arjundosajh/SMAI-Assignment-3-Task-2.2.4/runs/z1z64xgw' target=\"_blank\">MLP_Classifier_0.01_[6, 6]_1000</a></strong> to <a href='https://wandb.ai/arjundosajh/SMAI-Assignment-3-Task-2.2.4' target=\"_blank\">Weights & Biases</a> (<a href='https://wandb.me/run' target=\"_blank\">docs</a>)<br/>"
      ],
      "text/plain": [
       "<IPython.core.display.HTML object>"
      ]
     },
     "metadata": {},
     "output_type": "display_data"
    },
    {
     "data": {
      "text/html": [
       " View project at <a href='https://wandb.ai/arjundosajh/SMAI-Assignment-3-Task-2.2.4' target=\"_blank\">https://wandb.ai/arjundosajh/SMAI-Assignment-3-Task-2.2.4</a>"
      ],
      "text/plain": [
       "<IPython.core.display.HTML object>"
      ]
     },
     "metadata": {},
     "output_type": "display_data"
    },
    {
     "data": {
      "text/html": [
       " View run at <a href='https://wandb.ai/arjundosajh/SMAI-Assignment-3-Task-2.2.4/runs/z1z64xgw' target=\"_blank\">https://wandb.ai/arjundosajh/SMAI-Assignment-3-Task-2.2.4/runs/z1z64xgw</a>"
      ],
      "text/plain": [
       "<IPython.core.display.HTML object>"
      ]
     },
     "metadata": {},
     "output_type": "display_data"
    },
    {
     "data": {
      "text/html": [
       "Finishing last run (ID:z1z64xgw) before initializing another..."
      ],
      "text/plain": [
       "<IPython.core.display.HTML object>"
      ]
     },
     "metadata": {},
     "output_type": "display_data"
    },
    {
     "data": {
      "text/html": [
       "Waiting for W&B process to finish... <strong style=\"color:green\">(success).</strong>"
      ],
      "text/plain": [
       "<IPython.core.display.HTML object>"
      ]
     },
     "metadata": {},
     "output_type": "display_data"
    },
    {
     "name": "stderr",
     "output_type": "stream",
     "text": [
      "wandb: WARNING Source type is set to 'repo' but some required information is missing from the environment. A job will not be created from this run. See https://docs.wandb.ai/guides/launch/create-job\n"
     ]
    },
    {
     "data": {
      "text/html": [
       "<style>\n",
       "    table.wandb td:nth-child(1) { padding: 0 10px; text-align: left ; width: auto;} td:nth-child(2) {text-align: left ; width: 100%}\n",
       "    .wandb-row { display: flex; flex-direction: row; flex-wrap: wrap; justify-content: flex-start; width: 100% }\n",
       "    .wandb-col { display: flex; flex-direction: column; flex-basis: 100%; flex: 1; padding: 10px; }\n",
       "    </style>\n",
       "<div class=\"wandb-row\"><div class=\"wandb-col\"><h3>Run history:</h3><br/><table class=\"wandb\"><tr><td>epoch</td><td>▁▁▁▂▂▂▂▂▂▃▃▃▃▃▄▄▄▄▄▄▅▅▅▅▅▅▆▆▆▆▆▇▇▇▇▇▇███</td></tr><tr><td>train_accuracy</td><td>▁▄▄▅▆▆▆▇▇▇▇▇▇▇▇▇▇▇▇█████████████████████</td></tr><tr><td>train_f1</td><td>▁▄▅▅▆▆▆▆▆▆▆▆▆▆▇▇▇▇▇▇▇▇▇▇▇▇▇▇▇▇▇▇▇███████</td></tr><tr><td>train_loss</td><td>█▅▅▄▄▃▃▃▃▂▂▂▂▂▂▂▂▂▂▂▂▂▁▁▁▁▁▁▁▁▁▁▁▁▁▁▁▁▁▁</td></tr><tr><td>train_precision</td><td>█▃▄▅▆▆▇▇▇▇▇▇▇▇▇▃▃▃▃▃▃▃▃▃▃▃▃▁▁▁▁▃▃▄▄▄▄▄▄▄</td></tr><tr><td>train_recall</td><td>▁▄▅▅▆▆▆▆▇▇▇▆▇▇▇▇▇▇▇▇▇▇▇▇▇▇▇▇▇▇▇█████████</td></tr><tr><td>val_accuracy</td><td>▂█▅▅▅▄▄▃▄▄▁▂▂▂▃▄▄▄▃▃▄▅▅▅▅▅▅▅▅▅▅▅▅▅▅▅▅▅▅▅</td></tr><tr><td>val_f1</td><td>▁█▇▇▆▆▆▅▆▆▄▄▄▄▅▆▆▆▅▅▆▇▇▇▇▇▇▇▇▇▇▇▇▇▇▇▇▇▇▇</td></tr><tr><td>val_loss</td><td>▆▁▂▃▄▅▅▅▆▆▇▇▇▇▇▇████████████▇▇▇▇▇▇▇▇▇▇▇▇</td></tr><tr><td>val_precision</td><td>█▇▆▆▆▆▆▅▆▆▅▅▅▅▅▅▅▁▁▁▁▂▂▂▂▂▂▂▂▂▂▂▂▂▂▂▂▂▂▂</td></tr><tr><td>val_recall</td><td>▁█▇▇▆▆▆▅▆▆▃▄▄▄▄▆▆▆▅▅▆▇▇▆▇▇▇▇▇▇▇▇▇▇▇▇▇▇▇▇</td></tr></table><br/></div><div class=\"wandb-col\"><h3>Run summary:</h3><br/><table class=\"wandb\"><tr><td>epoch</td><td>1000</td></tr><tr><td>train_accuracy</td><td>0.73189</td></tr><tr><td>train_f1</td><td>0.40654</td></tr><tr><td>train_loss</td><td>0.19447</td></tr><tr><td>train_precision</td><td>0.80087</td></tr><tr><td>train_recall</td><td>0.40037</td></tr><tr><td>val_accuracy</td><td>0.63107</td></tr><tr><td>val_f1</td><td>0.29081</td></tr><tr><td>val_loss</td><td>0.28884</td></tr><tr><td>val_precision</td><td>0.6212</td></tr><tr><td>val_recall</td><td>0.2944</td></tr></table><br/></div></div>"
      ],
      "text/plain": [
       "<IPython.core.display.HTML object>"
      ]
     },
     "metadata": {},
     "output_type": "display_data"
    },
    {
     "data": {
      "text/html": [
       " View run <strong style=\"color:#cdcd00\">MLP_Classifier_0.01_[6, 6]_1000</strong> at: <a href='https://wandb.ai/arjundosajh/SMAI-Assignment-3-Task-2.2.4/runs/z1z64xgw' target=\"_blank\">https://wandb.ai/arjundosajh/SMAI-Assignment-3-Task-2.2.4/runs/z1z64xgw</a><br/>Synced 5 W&B file(s), 0 media file(s), 0 artifact file(s) and 0 other file(s)"
      ],
      "text/plain": [
       "<IPython.core.display.HTML object>"
      ]
     },
     "metadata": {},
     "output_type": "display_data"
    },
    {
     "data": {
      "text/html": [
       "Find logs at: <code>./wandb/run-20231014_193240-z1z64xgw/logs</code>"
      ],
      "text/plain": [
       "<IPython.core.display.HTML object>"
      ]
     },
     "metadata": {},
     "output_type": "display_data"
    },
    {
     "data": {
      "text/html": [
       "Successfully finished last run (ID:z1z64xgw). Initializing new run:<br/>"
      ],
      "text/plain": [
       "<IPython.core.display.HTML object>"
      ]
     },
     "metadata": {},
     "output_type": "display_data"
    },
    {
     "data": {
      "text/html": [
       "Tracking run with wandb version 0.15.12"
      ],
      "text/plain": [
       "<IPython.core.display.HTML object>"
      ]
     },
     "metadata": {},
     "output_type": "display_data"
    },
    {
     "data": {
      "text/html": [
       "Run data is saved locally in <code>/Users/arjundosajh/IIITH/Sem 5/SMAI/assignment-3-ArjunDosajh/wandb/run-20231014_193534-e7xuppew</code>"
      ],
      "text/plain": [
       "<IPython.core.display.HTML object>"
      ]
     },
     "metadata": {},
     "output_type": "display_data"
    },
    {
     "data": {
      "text/html": [
       "Syncing run <strong><a href='https://wandb.ai/arjundosajh/SMAI-Assignment-3-Task-2.2.4/runs/e7xuppew' target=\"_blank\">MLP_Classifier_0.01_[8, 8]_500</a></strong> to <a href='https://wandb.ai/arjundosajh/SMAI-Assignment-3-Task-2.2.4' target=\"_blank\">Weights & Biases</a> (<a href='https://wandb.me/run' target=\"_blank\">docs</a>)<br/>"
      ],
      "text/plain": [
       "<IPython.core.display.HTML object>"
      ]
     },
     "metadata": {},
     "output_type": "display_data"
    },
    {
     "data": {
      "text/html": [
       " View project at <a href='https://wandb.ai/arjundosajh/SMAI-Assignment-3-Task-2.2.4' target=\"_blank\">https://wandb.ai/arjundosajh/SMAI-Assignment-3-Task-2.2.4</a>"
      ],
      "text/plain": [
       "<IPython.core.display.HTML object>"
      ]
     },
     "metadata": {},
     "output_type": "display_data"
    },
    {
     "data": {
      "text/html": [
       " View run at <a href='https://wandb.ai/arjundosajh/SMAI-Assignment-3-Task-2.2.4/runs/e7xuppew' target=\"_blank\">https://wandb.ai/arjundosajh/SMAI-Assignment-3-Task-2.2.4/runs/e7xuppew</a>"
      ],
      "text/plain": [
       "<IPython.core.display.HTML object>"
      ]
     },
     "metadata": {},
     "output_type": "display_data"
    },
    {
     "data": {
      "text/html": [
       "Finishing last run (ID:e7xuppew) before initializing another..."
      ],
      "text/plain": [
       "<IPython.core.display.HTML object>"
      ]
     },
     "metadata": {},
     "output_type": "display_data"
    },
    {
     "data": {
      "text/html": [
       "Waiting for W&B process to finish... <strong style=\"color:green\">(success).</strong>"
      ],
      "text/plain": [
       "<IPython.core.display.HTML object>"
      ]
     },
     "metadata": {},
     "output_type": "display_data"
    },
    {
     "name": "stderr",
     "output_type": "stream",
     "text": [
      "wandb: WARNING Source type is set to 'repo' but some required information is missing from the environment. A job will not be created from this run. See https://docs.wandb.ai/guides/launch/create-job\n"
     ]
    },
    {
     "data": {
      "text/html": [
       "<style>\n",
       "    table.wandb td:nth-child(1) { padding: 0 10px; text-align: left ; width: auto;} td:nth-child(2) {text-align: left ; width: 100%}\n",
       "    .wandb-row { display: flex; flex-direction: row; flex-wrap: wrap; justify-content: flex-start; width: 100% }\n",
       "    .wandb-col { display: flex; flex-direction: column; flex-basis: 100%; flex: 1; padding: 10px; }\n",
       "    </style>\n",
       "<div class=\"wandb-row\"><div class=\"wandb-col\"><h3>Run history:</h3><br/><table class=\"wandb\"><tr><td>epoch</td><td>▁▁▁▂▂▂▂▂▂▃▃▃▃▃▄▄▄▄▄▄▅▅▅▅▅▅▆▆▆▆▆▇▇▇▇▇▇███</td></tr><tr><td>train_accuracy</td><td>▁▄▄▄▅▅▅▅▆▆▆▆▆▇▇▇▇▇▇▇▇▇█▇████████████████</td></tr><tr><td>train_f1</td><td>▁▅▅▆▆▆▆▆▆▇▇▇▇▇▇▇▇▇▇██▇██████████████████</td></tr><tr><td>train_loss</td><td>█▆▆▅▅▅▅▄▄▄▄▃▃▃▃▂▂▂▂▂▂▂▂▂▂▂▁▁▁▁▁▁▁▁▁▁▁▁▁▁</td></tr><tr><td>train_precision</td><td>▅▁▁▂▃▃▃▄▄▅▅▅▅▆▆▆▆▆▆▆▆▇▇▇▇▇▇▇▇▇▇▇████████</td></tr><tr><td>train_recall</td><td>▁▄▅▆▆▆▆▆▆▇▇▇▇███████████████████████████</td></tr><tr><td>val_accuracy</td><td>▁▆▁▂▂▄▃▄█▇▆▆█▇▇▇▇▅▄▅▅▅▅▄▄▄▅▄▅▅▇▇▇▇▆▆▆▆▄▄</td></tr><tr><td>val_f1</td><td>▁▅▄▅▅▆▆▇█▇▇▇█████▇▇▇▇▇▇▇▇▇▇▆▇▇████████▆▆</td></tr><tr><td>val_loss</td><td>█▄▄▅▄▄▃▂▂▂▁▁▁▁▁▂▂▃▃▃▄▄▄▄▄▄▄▅▅▅▆▆▆▇▇▇▇███</td></tr><tr><td>val_precision</td><td>█▄▁▂▂▃▂▃▄▄▄▄▅▅▅▅▅▄▄▄▄▄▄▄▄▃▄▃▄▄▄▄▄▄▄▄▄▄▃▃</td></tr><tr><td>val_recall</td><td>▁▄▃▄▄▆▆▇██▇▇█████▇▇▇▇▇▇▆▆▆▆▆▇▇████▇▇▇▇▆▆</td></tr></table><br/></div><div class=\"wandb-col\"><h3>Run summary:</h3><br/><table class=\"wandb\"><tr><td>epoch</td><td>500</td></tr><tr><td>train_accuracy</td><td>0.73622</td></tr><tr><td>train_f1</td><td>0.37114</td></tr><tr><td>train_loss</td><td>0.18887</td></tr><tr><td>train_precision</td><td>0.86901</td></tr><tr><td>train_recall</td><td>0.3748</td></tr><tr><td>val_accuracy</td><td>0.60194</td></tr><tr><td>val_f1</td><td>0.28808</td></tr><tr><td>val_loss</td><td>0.28257</td></tr><tr><td>val_precision</td><td>0.78246</td></tr><tr><td>val_recall</td><td>0.29413</td></tr></table><br/></div></div>"
      ],
      "text/plain": [
       "<IPython.core.display.HTML object>"
      ]
     },
     "metadata": {},
     "output_type": "display_data"
    },
    {
     "data": {
      "text/html": [
       " View run <strong style=\"color:#cdcd00\">MLP_Classifier_0.01_[8, 8]_500</strong> at: <a href='https://wandb.ai/arjundosajh/SMAI-Assignment-3-Task-2.2.4/runs/e7xuppew' target=\"_blank\">https://wandb.ai/arjundosajh/SMAI-Assignment-3-Task-2.2.4/runs/e7xuppew</a><br/>Synced 5 W&B file(s), 0 media file(s), 0 artifact file(s) and 0 other file(s)"
      ],
      "text/plain": [
       "<IPython.core.display.HTML object>"
      ]
     },
     "metadata": {},
     "output_type": "display_data"
    },
    {
     "data": {
      "text/html": [
       "Find logs at: <code>./wandb/run-20231014_193534-e7xuppew/logs</code>"
      ],
      "text/plain": [
       "<IPython.core.display.HTML object>"
      ]
     },
     "metadata": {},
     "output_type": "display_data"
    },
    {
     "data": {
      "text/html": [
       "Successfully finished last run (ID:e7xuppew). Initializing new run:<br/>"
      ],
      "text/plain": [
       "<IPython.core.display.HTML object>"
      ]
     },
     "metadata": {},
     "output_type": "display_data"
    },
    {
     "data": {
      "text/html": [
       "Tracking run with wandb version 0.15.12"
      ],
      "text/plain": [
       "<IPython.core.display.HTML object>"
      ]
     },
     "metadata": {},
     "output_type": "display_data"
    },
    {
     "data": {
      "text/html": [
       "Run data is saved locally in <code>/Users/arjundosajh/IIITH/Sem 5/SMAI/assignment-3-ArjunDosajh/wandb/run-20231014_193654-brlb0j4d</code>"
      ],
      "text/plain": [
       "<IPython.core.display.HTML object>"
      ]
     },
     "metadata": {},
     "output_type": "display_data"
    },
    {
     "data": {
      "text/html": [
       "Syncing run <strong><a href='https://wandb.ai/arjundosajh/SMAI-Assignment-3-Task-2.2.4/runs/brlb0j4d' target=\"_blank\">MLP_Classifier_0.01_[8, 8]_1000</a></strong> to <a href='https://wandb.ai/arjundosajh/SMAI-Assignment-3-Task-2.2.4' target=\"_blank\">Weights & Biases</a> (<a href='https://wandb.me/run' target=\"_blank\">docs</a>)<br/>"
      ],
      "text/plain": [
       "<IPython.core.display.HTML object>"
      ]
     },
     "metadata": {},
     "output_type": "display_data"
    },
    {
     "data": {
      "text/html": [
       " View project at <a href='https://wandb.ai/arjundosajh/SMAI-Assignment-3-Task-2.2.4' target=\"_blank\">https://wandb.ai/arjundosajh/SMAI-Assignment-3-Task-2.2.4</a>"
      ],
      "text/plain": [
       "<IPython.core.display.HTML object>"
      ]
     },
     "metadata": {},
     "output_type": "display_data"
    },
    {
     "data": {
      "text/html": [
       " View run at <a href='https://wandb.ai/arjundosajh/SMAI-Assignment-3-Task-2.2.4/runs/brlb0j4d' target=\"_blank\">https://wandb.ai/arjundosajh/SMAI-Assignment-3-Task-2.2.4/runs/brlb0j4d</a>"
      ],
      "text/plain": [
       "<IPython.core.display.HTML object>"
      ]
     },
     "metadata": {},
     "output_type": "display_data"
    },
    {
     "data": {
      "text/html": [
       "Finishing last run (ID:brlb0j4d) before initializing another..."
      ],
      "text/plain": [
       "<IPython.core.display.HTML object>"
      ]
     },
     "metadata": {},
     "output_type": "display_data"
    },
    {
     "data": {
      "text/html": [
       "Waiting for W&B process to finish... <strong style=\"color:green\">(success).</strong>"
      ],
      "text/plain": [
       "<IPython.core.display.HTML object>"
      ]
     },
     "metadata": {},
     "output_type": "display_data"
    },
    {
     "name": "stderr",
     "output_type": "stream",
     "text": [
      "wandb: WARNING Source type is set to 'repo' but some required information is missing from the environment. A job will not be created from this run. See https://docs.wandb.ai/guides/launch/create-job\n"
     ]
    },
    {
     "data": {
      "text/html": [
       "<style>\n",
       "    table.wandb td:nth-child(1) { padding: 0 10px; text-align: left ; width: auto;} td:nth-child(2) {text-align: left ; width: 100%}\n",
       "    .wandb-row { display: flex; flex-direction: row; flex-wrap: wrap; justify-content: flex-start; width: 100% }\n",
       "    .wandb-col { display: flex; flex-direction: column; flex-basis: 100%; flex: 1; padding: 10px; }\n",
       "    </style>\n",
       "<div class=\"wandb-row\"><div class=\"wandb-col\"><h3>Run history:</h3><br/><table class=\"wandb\"><tr><td>epoch</td><td>▁▁▁▂▂▂▂▂▂▃▃▃▃▃▄▄▄▄▄▄▅▅▅▅▅▅▆▆▆▆▆▇▇▇▇▇▇███</td></tr><tr><td>train_accuracy</td><td>▁▂▃▃▄▅▅▅▆▆▆▆▆▆▆▇▇▇▇▇▇▇▇▇▇▇▇▇█▇▇█████████</td></tr><tr><td>train_f1</td><td>▁▄▄▅▅▆▆▆▆▆▆▆▇▇▇▇▇▇▇▇▇▇▇▇▇▇▇▇▇▇▇▇▇▇▇▇▇▇▇█</td></tr><tr><td>train_loss</td><td>█▇▆▆▅▅▄▄▄▃▃▃▃▃▃▃▃▂▂▂▂▂▂▂▂▂▂▂▂▁▁▁▁▁▁▁▁▁▁▁</td></tr><tr><td>train_precision</td><td>▆▁▁▂▃▄▄▅▅▅▆▆▆▆▆▆▆▇▇▆▆▇▇▇▇▇▇█████████████</td></tr><tr><td>train_recall</td><td>▁▄▄▅▅▆▆▆▆▆▇▇▇▇▇▇▇▇▇▇▇▇▇▇▇▇▇▇▇▇▇▇▇▇▇▇▇▇██</td></tr><tr><td>val_accuracy</td><td>▄▃▄▄▅▆▇▆▇███▇▇▆▆▆▆▆▆▆▅▅▅▅▅▄▃▃▃▂▃▃▃▃▂▂▂▁▁</td></tr><tr><td>val_f1</td><td>▁▄▅▅▆▇▇▆▇███▇▇▇▇▇▆▆▆▆▅▅▅▅▅▅▄▄▄▃▄▄▄▄▄▃▃▃▃</td></tr><tr><td>val_loss</td><td>▂▃▂▂▂▁▁▁▁▁▁▁▂▂▂▂▂▂▃▃▃▃▄▄▅▅▆▆▆▆▇▇▇▇▇█████</td></tr><tr><td>val_precision</td><td>█▂▃▃▃▄▄▄▄▅▅▅▄▄▄▄▄▄▄▄▃▃▃▃▃▃▂▂▂▂▁▂▂▂▂▁▁▁▁▁</td></tr><tr><td>val_recall</td><td>▁▃▄▅▆▇▇▆▇███▇▇▆▆▆▆▆▆▆▅▅▅▅▅▄▄▄▄▃▄▄▄▄▃▃▃▃▃</td></tr></table><br/></div><div class=\"wandb-col\"><h3>Run summary:</h3><br/><table class=\"wandb\"><tr><td>epoch</td><td>1000</td></tr><tr><td>train_accuracy</td><td>0.77514</td></tr><tr><td>train_f1</td><td>0.41479</td></tr><tr><td>train_loss</td><td>0.1738</td></tr><tr><td>train_precision</td><td>0.8808</td></tr><tr><td>train_recall</td><td>0.41979</td></tr><tr><td>val_accuracy</td><td>0.57282</td></tr><tr><td>val_f1</td><td>0.25959</td></tr><tr><td>val_loss</td><td>0.31055</td></tr><tr><td>val_precision</td><td>0.75158</td></tr><tr><td>val_recall</td><td>0.27176</td></tr></table><br/></div></div>"
      ],
      "text/plain": [
       "<IPython.core.display.HTML object>"
      ]
     },
     "metadata": {},
     "output_type": "display_data"
    },
    {
     "data": {
      "text/html": [
       " View run <strong style=\"color:#cdcd00\">MLP_Classifier_0.01_[8, 8]_1000</strong> at: <a href='https://wandb.ai/arjundosajh/SMAI-Assignment-3-Task-2.2.4/runs/brlb0j4d' target=\"_blank\">https://wandb.ai/arjundosajh/SMAI-Assignment-3-Task-2.2.4/runs/brlb0j4d</a><br/>Synced 5 W&B file(s), 0 media file(s), 0 artifact file(s) and 0 other file(s)"
      ],
      "text/plain": [
       "<IPython.core.display.HTML object>"
      ]
     },
     "metadata": {},
     "output_type": "display_data"
    },
    {
     "data": {
      "text/html": [
       "Find logs at: <code>./wandb/run-20231014_193654-brlb0j4d/logs</code>"
      ],
      "text/plain": [
       "<IPython.core.display.HTML object>"
      ]
     },
     "metadata": {},
     "output_type": "display_data"
    },
    {
     "data": {
      "text/html": [
       "Successfully finished last run (ID:brlb0j4d). Initializing new run:<br/>"
      ],
      "text/plain": [
       "<IPython.core.display.HTML object>"
      ]
     },
     "metadata": {},
     "output_type": "display_data"
    },
    {
     "data": {
      "text/html": [
       "Tracking run with wandb version 0.15.12"
      ],
      "text/plain": [
       "<IPython.core.display.HTML object>"
      ]
     },
     "metadata": {},
     "output_type": "display_data"
    },
    {
     "data": {
      "text/html": [
       "Run data is saved locally in <code>/Users/arjundosajh/IIITH/Sem 5/SMAI/assignment-3-ArjunDosajh/wandb/run-20231014_193933-enpy5bfl</code>"
      ],
      "text/plain": [
       "<IPython.core.display.HTML object>"
      ]
     },
     "metadata": {},
     "output_type": "display_data"
    },
    {
     "data": {
      "text/html": [
       "Syncing run <strong><a href='https://wandb.ai/arjundosajh/SMAI-Assignment-3-Task-2.2.4/runs/enpy5bfl' target=\"_blank\">MLP_Classifier_0.001_[4, 4]_500</a></strong> to <a href='https://wandb.ai/arjundosajh/SMAI-Assignment-3-Task-2.2.4' target=\"_blank\">Weights & Biases</a> (<a href='https://wandb.me/run' target=\"_blank\">docs</a>)<br/>"
      ],
      "text/plain": [
       "<IPython.core.display.HTML object>"
      ]
     },
     "metadata": {},
     "output_type": "display_data"
    },
    {
     "data": {
      "text/html": [
       " View project at <a href='https://wandb.ai/arjundosajh/SMAI-Assignment-3-Task-2.2.4' target=\"_blank\">https://wandb.ai/arjundosajh/SMAI-Assignment-3-Task-2.2.4</a>"
      ],
      "text/plain": [
       "<IPython.core.display.HTML object>"
      ]
     },
     "metadata": {},
     "output_type": "display_data"
    },
    {
     "data": {
      "text/html": [
       " View run at <a href='https://wandb.ai/arjundosajh/SMAI-Assignment-3-Task-2.2.4/runs/enpy5bfl' target=\"_blank\">https://wandb.ai/arjundosajh/SMAI-Assignment-3-Task-2.2.4/runs/enpy5bfl</a>"
      ],
      "text/plain": [
       "<IPython.core.display.HTML object>"
      ]
     },
     "metadata": {},
     "output_type": "display_data"
    },
    {
     "data": {
      "text/html": [
       "Finishing last run (ID:enpy5bfl) before initializing another..."
      ],
      "text/plain": [
       "<IPython.core.display.HTML object>"
      ]
     },
     "metadata": {},
     "output_type": "display_data"
    },
    {
     "data": {
      "text/html": [
       "Waiting for W&B process to finish... <strong style=\"color:green\">(success).</strong>"
      ],
      "text/plain": [
       "<IPython.core.display.HTML object>"
      ]
     },
     "metadata": {},
     "output_type": "display_data"
    },
    {
     "name": "stderr",
     "output_type": "stream",
     "text": [
      "wandb: WARNING Source type is set to 'repo' but some required information is missing from the environment. A job will not be created from this run. See https://docs.wandb.ai/guides/launch/create-job\n"
     ]
    },
    {
     "data": {
      "text/html": [
       "<style>\n",
       "    table.wandb td:nth-child(1) { padding: 0 10px; text-align: left ; width: auto;} td:nth-child(2) {text-align: left ; width: 100%}\n",
       "    .wandb-row { display: flex; flex-direction: row; flex-wrap: wrap; justify-content: flex-start; width: 100% }\n",
       "    .wandb-col { display: flex; flex-direction: column; flex-basis: 100%; flex: 1; padding: 10px; }\n",
       "    </style>\n",
       "<div class=\"wandb-row\"><div class=\"wandb-col\"><h3>Run history:</h3><br/><table class=\"wandb\"><tr><td>epoch</td><td>▁▁▁▂▂▂▂▂▂▃▃▃▃▃▄▄▄▄▄▄▅▅▅▅▅▅▆▆▆▆▆▇▇▇▇▇▇███</td></tr><tr><td>train_accuracy</td><td>▁▃▄▅▅▆▇▆▇▇▇▇▇▇▇▇▇▇▇▇▇▇▇▇▇▇▇▇████████████</td></tr><tr><td>train_f1</td><td>▁▃▄▅▅▅▆▆▆▆▆▆▆▆▆▆▆▆▆▆▆▆▆▆▆▆▆▆▇▇▇▇▇▇▇▇▇▇██</td></tr><tr><td>train_loss</td><td>█▆▆▆▅▅▄▃▃▂▂▂▂▂▂▂▂▂▂▂▂▂▂▂▂▁▁▁▁▁▁▁▁▁▁▁▁▁▁▁</td></tr><tr><td>train_precision</td><td>▆▆▇▇▇▇████████████████████▁▁▃▃▅▅▄▄▄▄▄▄▄▄</td></tr><tr><td>train_recall</td><td>▁▂▃▄▅▅▆▆▆▆▆▆▆▆▆▆▆▆▆▆▆▆▆▆▆▆▆▇▇▇▇▇▇▇▇▇▇▇▇█</td></tr><tr><td>val_accuracy</td><td>▁▂▂▂▄▅▆▆▆▇█▇▇▇█▇▇▇▇▇▇▇▇▇▇▇▇▇▇▇▇▇▇▇██████</td></tr><tr><td>val_f1</td><td>▁▃▃▃▄▅▅▅▅▆▆▆▆▆▆▆▆▆▆▆▆▆▆▆▆▆▆▆▆▇▇▇▇▇██████</td></tr><tr><td>val_loss</td><td>█▆▆▆▅▄▃▃▂▂▂▂▂▂▂▂▂▂▂▂▂▁▁▁▁▁▁▁▁▁▁▁▁▁▁▁▁▁▁▁</td></tr><tr><td>val_precision</td><td>█▃▃▃▄▅▅▅▅▆▆▆▆▆▆▆▆▆▆▆▆▆▆▆▆▆▆▆▆▆▆▁▁▁▃▃▃▃▃▃</td></tr><tr><td>val_recall</td><td>▁▂▂▂▃▄▅▅▅▆▆▆▆▆▆▆▆▆▆▆▆▆▆▆▆▆▆▆▆▇▇▇▇▇██████</td></tr></table><br/></div><div class=\"wandb-col\"><h3>Run summary:</h3><br/><table class=\"wandb\"><tr><td>epoch</td><td>500</td></tr><tr><td>train_accuracy</td><td>0.60649</td></tr><tr><td>train_f1</td><td>0.2501</td></tr><tr><td>train_loss</td><td>0.25762</td></tr><tr><td>train_precision</td><td>0.77359</td></tr><tr><td>train_recall</td><td>0.25865</td></tr><tr><td>val_accuracy</td><td>0.62136</td></tr><tr><td>val_f1</td><td>0.26774</td></tr><tr><td>val_loss</td><td>0.25708</td></tr><tr><td>val_precision</td><td>0.81755</td></tr><tr><td>val_recall</td><td>0.26823</td></tr></table><br/></div></div>"
      ],
      "text/plain": [
       "<IPython.core.display.HTML object>"
      ]
     },
     "metadata": {},
     "output_type": "display_data"
    },
    {
     "data": {
      "text/html": [
       " View run <strong style=\"color:#cdcd00\">MLP_Classifier_0.001_[4, 4]_500</strong> at: <a href='https://wandb.ai/arjundosajh/SMAI-Assignment-3-Task-2.2.4/runs/enpy5bfl' target=\"_blank\">https://wandb.ai/arjundosajh/SMAI-Assignment-3-Task-2.2.4/runs/enpy5bfl</a><br/>Synced 5 W&B file(s), 0 media file(s), 0 artifact file(s) and 0 other file(s)"
      ],
      "text/plain": [
       "<IPython.core.display.HTML object>"
      ]
     },
     "metadata": {},
     "output_type": "display_data"
    },
    {
     "data": {
      "text/html": [
       "Find logs at: <code>./wandb/run-20231014_193933-enpy5bfl/logs</code>"
      ],
      "text/plain": [
       "<IPython.core.display.HTML object>"
      ]
     },
     "metadata": {},
     "output_type": "display_data"
    },
    {
     "data": {
      "text/html": [
       "Successfully finished last run (ID:enpy5bfl). Initializing new run:<br/>"
      ],
      "text/plain": [
       "<IPython.core.display.HTML object>"
      ]
     },
     "metadata": {},
     "output_type": "display_data"
    },
    {
     "data": {
      "text/html": [
       "Tracking run with wandb version 0.15.12"
      ],
      "text/plain": [
       "<IPython.core.display.HTML object>"
      ]
     },
     "metadata": {},
     "output_type": "display_data"
    },
    {
     "data": {
      "text/html": [
       "Run data is saved locally in <code>/Users/arjundosajh/IIITH/Sem 5/SMAI/assignment-3-ArjunDosajh/wandb/run-20231014_194104-nlq768do</code>"
      ],
      "text/plain": [
       "<IPython.core.display.HTML object>"
      ]
     },
     "metadata": {},
     "output_type": "display_data"
    },
    {
     "data": {
      "text/html": [
       "Syncing run <strong><a href='https://wandb.ai/arjundosajh/SMAI-Assignment-3-Task-2.2.4/runs/nlq768do' target=\"_blank\">MLP_Classifier_0.001_[4, 4]_1000</a></strong> to <a href='https://wandb.ai/arjundosajh/SMAI-Assignment-3-Task-2.2.4' target=\"_blank\">Weights & Biases</a> (<a href='https://wandb.me/run' target=\"_blank\">docs</a>)<br/>"
      ],
      "text/plain": [
       "<IPython.core.display.HTML object>"
      ]
     },
     "metadata": {},
     "output_type": "display_data"
    },
    {
     "data": {
      "text/html": [
       " View project at <a href='https://wandb.ai/arjundosajh/SMAI-Assignment-3-Task-2.2.4' target=\"_blank\">https://wandb.ai/arjundosajh/SMAI-Assignment-3-Task-2.2.4</a>"
      ],
      "text/plain": [
       "<IPython.core.display.HTML object>"
      ]
     },
     "metadata": {},
     "output_type": "display_data"
    },
    {
     "data": {
      "text/html": [
       " View run at <a href='https://wandb.ai/arjundosajh/SMAI-Assignment-3-Task-2.2.4/runs/nlq768do' target=\"_blank\">https://wandb.ai/arjundosajh/SMAI-Assignment-3-Task-2.2.4/runs/nlq768do</a>"
      ],
      "text/plain": [
       "<IPython.core.display.HTML object>"
      ]
     },
     "metadata": {},
     "output_type": "display_data"
    },
    {
     "data": {
      "text/html": [
       "Finishing last run (ID:nlq768do) before initializing another..."
      ],
      "text/plain": [
       "<IPython.core.display.HTML object>"
      ]
     },
     "metadata": {},
     "output_type": "display_data"
    },
    {
     "data": {
      "text/html": [
       "Waiting for W&B process to finish... <strong style=\"color:green\">(success).</strong>"
      ],
      "text/plain": [
       "<IPython.core.display.HTML object>"
      ]
     },
     "metadata": {},
     "output_type": "display_data"
    },
    {
     "name": "stderr",
     "output_type": "stream",
     "text": [
      "wandb: WARNING Source type is set to 'repo' but some required information is missing from the environment. A job will not be created from this run. See https://docs.wandb.ai/guides/launch/create-job\n"
     ]
    },
    {
     "data": {
      "text/html": [
       "<style>\n",
       "    table.wandb td:nth-child(1) { padding: 0 10px; text-align: left ; width: auto;} td:nth-child(2) {text-align: left ; width: 100%}\n",
       "    .wandb-row { display: flex; flex-direction: row; flex-wrap: wrap; justify-content: flex-start; width: 100% }\n",
       "    .wandb-col { display: flex; flex-direction: column; flex-basis: 100%; flex: 1; padding: 10px; }\n",
       "    </style>\n",
       "<div class=\"wandb-row\"><div class=\"wandb-col\"><h3>Run history:</h3><br/><table class=\"wandb\"><tr><td>epoch</td><td>▁▁▁▂▂▂▂▂▂▃▃▃▃▃▄▄▄▄▄▄▅▅▅▅▅▅▆▆▆▆▆▇▇▇▇▇▇███</td></tr><tr><td>train_accuracy</td><td>▁▂▃▄▄▅▆▅▅▅▅▅▆▆▆▆▆▆▇▇▇▇▇▇▇▇▇▇▇▇▇█████████</td></tr><tr><td>train_f1</td><td>▁▂▂▃▃▃▃▃▃▃▃▃▄▄▄▄▄▅▆▆▇▇▇▇▇▇▇▇▇▇▇█████████</td></tr><tr><td>train_loss</td><td>█▇▇▆▅▄▃▃▃▃▃▃▃▃▂▂▂▂▂▂▂▂▂▂▂▂▂▁▁▁▁▁▁▁▁▁▁▁▁▁</td></tr><tr><td>train_precision</td><td>▄▄▅▆▇▇█▇▇▇██████▁▄▄▃▃▃▃▂▂▂▂▂▂▂▂▂▂▂▃▃▃▃▃▃</td></tr><tr><td>train_recall</td><td>▁▂▂▂▃▃▄▃▃▃▄▄▄▄▄▄▄▅▆▆▆▆▆▆▇▇▇▇▇▇▇▇▇███████</td></tr><tr><td>val_accuracy</td><td>▁▁▂▄▅▄▅▅▅▅▅▆▆▆▆▇█▇████▇▇▆▆▆▆▆▆▆▆▆▅▅▅▅▆▆▆</td></tr><tr><td>val_f1</td><td>▁▁▂▃▃▃▄▄▄▄▄▄▄▄▄▅▅▅▇▇██▇▇▇▆▇███▇▇▇▇▇▇▇█▇▇</td></tr><tr><td>val_loss</td><td>█▇▆▅▄▃▃▃▃▃▃▂▂▂▂▁▁▁▁▁▁▁▁▁▁▁▁▁▁▁▁▁▁▁▁▁▁▁▁▁</td></tr><tr><td>val_precision</td><td>▆▅▆▆▇▇▇▇▇▇▇▇▇▇▇██▁▅▅▆▆▆▃▃▃▄▄▄▄▄▃▃▃▃▃▃▃▃▃</td></tr><tr><td>val_recall</td><td>▁▁▂▃▄▃▄▄▄▄▄▄▄▅▅▆▆▆▇▇██▇▇▆▆▇███▇▇▇▇▇▇▇█▇▇</td></tr></table><br/></div><div class=\"wandb-col\"><h3>Run summary:</h3><br/><table class=\"wandb\"><tr><td>epoch</td><td>1000</td></tr><tr><td>train_accuracy</td><td>0.64973</td></tr><tr><td>train_f1</td><td>0.3196</td></tr><tr><td>train_loss</td><td>0.24236</td></tr><tr><td>train_precision</td><td>0.81324</td></tr><tr><td>train_recall</td><td>0.32658</td></tr><tr><td>val_accuracy</td><td>0.60194</td></tr><tr><td>val_f1</td><td>0.27637</td></tr><tr><td>val_loss</td><td>0.2564</td></tr><tr><td>val_precision</td><td>0.77108</td></tr><tr><td>val_recall</td><td>0.28303</td></tr></table><br/></div></div>"
      ],
      "text/plain": [
       "<IPython.core.display.HTML object>"
      ]
     },
     "metadata": {},
     "output_type": "display_data"
    },
    {
     "data": {
      "text/html": [
       " View run <strong style=\"color:#cdcd00\">MLP_Classifier_0.001_[4, 4]_1000</strong> at: <a href='https://wandb.ai/arjundosajh/SMAI-Assignment-3-Task-2.2.4/runs/nlq768do' target=\"_blank\">https://wandb.ai/arjundosajh/SMAI-Assignment-3-Task-2.2.4/runs/nlq768do</a><br/>Synced 5 W&B file(s), 0 media file(s), 0 artifact file(s) and 0 other file(s)"
      ],
      "text/plain": [
       "<IPython.core.display.HTML object>"
      ]
     },
     "metadata": {},
     "output_type": "display_data"
    },
    {
     "data": {
      "text/html": [
       "Find logs at: <code>./wandb/run-20231014_194104-nlq768do/logs</code>"
      ],
      "text/plain": [
       "<IPython.core.display.HTML object>"
      ]
     },
     "metadata": {},
     "output_type": "display_data"
    },
    {
     "data": {
      "text/html": [
       "Successfully finished last run (ID:nlq768do). Initializing new run:<br/>"
      ],
      "text/plain": [
       "<IPython.core.display.HTML object>"
      ]
     },
     "metadata": {},
     "output_type": "display_data"
    },
    {
     "data": {
      "text/html": [
       "Tracking run with wandb version 0.15.12"
      ],
      "text/plain": [
       "<IPython.core.display.HTML object>"
      ]
     },
     "metadata": {},
     "output_type": "display_data"
    },
    {
     "data": {
      "text/html": [
       "Run data is saved locally in <code>/Users/arjundosajh/IIITH/Sem 5/SMAI/assignment-3-ArjunDosajh/wandb/run-20231014_194407-4rquplxf</code>"
      ],
      "text/plain": [
       "<IPython.core.display.HTML object>"
      ]
     },
     "metadata": {},
     "output_type": "display_data"
    },
    {
     "data": {
      "text/html": [
       "Syncing run <strong><a href='https://wandb.ai/arjundosajh/SMAI-Assignment-3-Task-2.2.4/runs/4rquplxf' target=\"_blank\">MLP_Classifier_0.001_[4, 4, 4]_500</a></strong> to <a href='https://wandb.ai/arjundosajh/SMAI-Assignment-3-Task-2.2.4' target=\"_blank\">Weights & Biases</a> (<a href='https://wandb.me/run' target=\"_blank\">docs</a>)<br/>"
      ],
      "text/plain": [
       "<IPython.core.display.HTML object>"
      ]
     },
     "metadata": {},
     "output_type": "display_data"
    },
    {
     "data": {
      "text/html": [
       " View project at <a href='https://wandb.ai/arjundosajh/SMAI-Assignment-3-Task-2.2.4' target=\"_blank\">https://wandb.ai/arjundosajh/SMAI-Assignment-3-Task-2.2.4</a>"
      ],
      "text/plain": [
       "<IPython.core.display.HTML object>"
      ]
     },
     "metadata": {},
     "output_type": "display_data"
    },
    {
     "data": {
      "text/html": [
       " View run at <a href='https://wandb.ai/arjundosajh/SMAI-Assignment-3-Task-2.2.4/runs/4rquplxf' target=\"_blank\">https://wandb.ai/arjundosajh/SMAI-Assignment-3-Task-2.2.4/runs/4rquplxf</a>"
      ],
      "text/plain": [
       "<IPython.core.display.HTML object>"
      ]
     },
     "metadata": {},
     "output_type": "display_data"
    },
    {
     "data": {
      "text/html": [
       "Finishing last run (ID:4rquplxf) before initializing another..."
      ],
      "text/plain": [
       "<IPython.core.display.HTML object>"
      ]
     },
     "metadata": {},
     "output_type": "display_data"
    },
    {
     "data": {
      "text/html": [
       "Waiting for W&B process to finish... <strong style=\"color:green\">(success).</strong>"
      ],
      "text/plain": [
       "<IPython.core.display.HTML object>"
      ]
     },
     "metadata": {},
     "output_type": "display_data"
    },
    {
     "name": "stderr",
     "output_type": "stream",
     "text": [
      "wandb: WARNING Source type is set to 'repo' but some required information is missing from the environment. A job will not be created from this run. See https://docs.wandb.ai/guides/launch/create-job\n"
     ]
    },
    {
     "data": {
      "text/html": [
       "<style>\n",
       "    table.wandb td:nth-child(1) { padding: 0 10px; text-align: left ; width: auto;} td:nth-child(2) {text-align: left ; width: 100%}\n",
       "    .wandb-row { display: flex; flex-direction: row; flex-wrap: wrap; justify-content: flex-start; width: 100% }\n",
       "    .wandb-col { display: flex; flex-direction: column; flex-basis: 100%; flex: 1; padding: 10px; }\n",
       "    </style>\n",
       "<div class=\"wandb-row\"><div class=\"wandb-col\"><h3>Run history:</h3><br/><table class=\"wandb\"><tr><td>epoch</td><td>▁▁▁▂▂▂▂▂▂▃▃▃▃▃▄▄▄▄▄▄▅▅▅▅▅▅▆▆▆▆▆▇▇▇▇▇▇███</td></tr><tr><td>train_accuracy</td><td>▁▂▂▂▂▂▂▂▂▂▂▂▂▂▂▂▃▃▄▄▄▅▅▅▅▆▆▇▇▇▇▇████████</td></tr><tr><td>train_f1</td><td>▁▂▂▁▁▁▁▁▁▁▁▁▂▂▂▃▃▄▅▅▅▆▆▆▆▇▇▇████████████</td></tr><tr><td>train_loss</td><td>█▅▅▅▅▅▅▅▅▅▅▅▅▅▅▅▅▅▅▅▅▄▄▄▃▃▃▂▂▂▂▂▂▁▁▁▁▁▁▁</td></tr><tr><td>train_precision</td><td>█▂▃█████████▂▁▁▂▂▃▃▃▃▄▄▄▄▄▄▅▅▅▅▅▅▅▅▅▅▅▅▅</td></tr><tr><td>train_recall</td><td>▁▁▁▁▁▁▁▁▁▁▁▁▁▁▁▁▂▃▃▃▄▄▄▅▅▆▆▇▇▇▇▇████████</td></tr><tr><td>val_accuracy</td><td>▂▂▁▁▁▁▁▁▁▁▁▁▁▁▁▃▃▂▂▄▄▄▄▅▅▆▇▇▇▇▇▇▇▇██████</td></tr><tr><td>val_f1</td><td>▁▂▁▁▁▁▁▁▁▁▁▁▁▁▂▃▄▄▄▅▆▆▆▆▆▇▇▇▇▇██████████</td></tr><tr><td>val_loss</td><td>█▅▅▅▅▅▅▅▅▅▅▅▅▅▅▅▅▅▅▅▄▄▄▃▃▂▂▂▂▂▂▁▁▁▁▁▁▁▁▁</td></tr><tr><td>val_precision</td><td>█▅██████████▁▁▄▆▅▅▄▅▅▅▅▅▅▅▆▆▆▆▆▆▆▆▆▆▆▆▆▆</td></tr><tr><td>val_recall</td><td>▁▂▁▁▁▁▁▁▁▁▁▁▁▁▁▃▃▂▂▄▄▄▄▅▅▆▇▇▇▇▇▇▇▇██████</td></tr></table><br/></div><div class=\"wandb-col\"><h3>Run summary:</h3><br/><table class=\"wandb\"><tr><td>epoch</td><td>500</td></tr><tr><td>train_accuracy</td><td>0.5773</td></tr><tr><td>train_f1</td><td>0.21019</td></tr><tr><td>train_loss</td><td>0.26813</td></tr><tr><td>train_precision</td><td>0.8579</td></tr><tr><td>train_recall</td><td>0.23335</td></tr><tr><td>val_accuracy</td><td>0.59223</td></tr><tr><td>val_f1</td><td>0.21296</td></tr><tr><td>val_loss</td><td>0.27051</td></tr><tr><td>val_precision</td><td>0.86321</td></tr><tr><td>val_recall</td><td>0.23414</td></tr></table><br/></div></div>"
      ],
      "text/plain": [
       "<IPython.core.display.HTML object>"
      ]
     },
     "metadata": {},
     "output_type": "display_data"
    },
    {
     "data": {
      "text/html": [
       " View run <strong style=\"color:#cdcd00\">MLP_Classifier_0.001_[4, 4, 4]_500</strong> at: <a href='https://wandb.ai/arjundosajh/SMAI-Assignment-3-Task-2.2.4/runs/4rquplxf' target=\"_blank\">https://wandb.ai/arjundosajh/SMAI-Assignment-3-Task-2.2.4/runs/4rquplxf</a><br/>Synced 5 W&B file(s), 0 media file(s), 0 artifact file(s) and 0 other file(s)"
      ],
      "text/plain": [
       "<IPython.core.display.HTML object>"
      ]
     },
     "metadata": {},
     "output_type": "display_data"
    },
    {
     "data": {
      "text/html": [
       "Find logs at: <code>./wandb/run-20231014_194407-4rquplxf/logs</code>"
      ],
      "text/plain": [
       "<IPython.core.display.HTML object>"
      ]
     },
     "metadata": {},
     "output_type": "display_data"
    },
    {
     "data": {
      "text/html": [
       "Successfully finished last run (ID:4rquplxf). Initializing new run:<br/>"
      ],
      "text/plain": [
       "<IPython.core.display.HTML object>"
      ]
     },
     "metadata": {},
     "output_type": "display_data"
    },
    {
     "data": {
      "text/html": [
       "Tracking run with wandb version 0.15.12"
      ],
      "text/plain": [
       "<IPython.core.display.HTML object>"
      ]
     },
     "metadata": {},
     "output_type": "display_data"
    },
    {
     "data": {
      "text/html": [
       "Run data is saved locally in <code>/Users/arjundosajh/IIITH/Sem 5/SMAI/assignment-3-ArjunDosajh/wandb/run-20231014_194605-s5l9h8x7</code>"
      ],
      "text/plain": [
       "<IPython.core.display.HTML object>"
      ]
     },
     "metadata": {},
     "output_type": "display_data"
    },
    {
     "data": {
      "text/html": [
       "Syncing run <strong><a href='https://wandb.ai/arjundosajh/SMAI-Assignment-3-Task-2.2.4/runs/s5l9h8x7' target=\"_blank\">MLP_Classifier_0.001_[4, 4, 4]_1000</a></strong> to <a href='https://wandb.ai/arjundosajh/SMAI-Assignment-3-Task-2.2.4' target=\"_blank\">Weights & Biases</a> (<a href='https://wandb.me/run' target=\"_blank\">docs</a>)<br/>"
      ],
      "text/plain": [
       "<IPython.core.display.HTML object>"
      ]
     },
     "metadata": {},
     "output_type": "display_data"
    },
    {
     "data": {
      "text/html": [
       " View project at <a href='https://wandb.ai/arjundosajh/SMAI-Assignment-3-Task-2.2.4' target=\"_blank\">https://wandb.ai/arjundosajh/SMAI-Assignment-3-Task-2.2.4</a>"
      ],
      "text/plain": [
       "<IPython.core.display.HTML object>"
      ]
     },
     "metadata": {},
     "output_type": "display_data"
    },
    {
     "data": {
      "text/html": [
       " View run at <a href='https://wandb.ai/arjundosajh/SMAI-Assignment-3-Task-2.2.4/runs/s5l9h8x7' target=\"_blank\">https://wandb.ai/arjundosajh/SMAI-Assignment-3-Task-2.2.4/runs/s5l9h8x7</a>"
      ],
      "text/plain": [
       "<IPython.core.display.HTML object>"
      ]
     },
     "metadata": {},
     "output_type": "display_data"
    },
    {
     "data": {
      "text/html": [
       "Finishing last run (ID:s5l9h8x7) before initializing another..."
      ],
      "text/plain": [
       "<IPython.core.display.HTML object>"
      ]
     },
     "metadata": {},
     "output_type": "display_data"
    },
    {
     "data": {
      "text/html": [
       "Waiting for W&B process to finish... <strong style=\"color:green\">(success).</strong>"
      ],
      "text/plain": [
       "<IPython.core.display.HTML object>"
      ]
     },
     "metadata": {},
     "output_type": "display_data"
    },
    {
     "name": "stderr",
     "output_type": "stream",
     "text": [
      "wandb: WARNING Source type is set to 'repo' but some required information is missing from the environment. A job will not be created from this run. See https://docs.wandb.ai/guides/launch/create-job\n"
     ]
    },
    {
     "data": {
      "text/html": [
       "<style>\n",
       "    table.wandb td:nth-child(1) { padding: 0 10px; text-align: left ; width: auto;} td:nth-child(2) {text-align: left ; width: 100%}\n",
       "    .wandb-row { display: flex; flex-direction: row; flex-wrap: wrap; justify-content: flex-start; width: 100% }\n",
       "    .wandb-col { display: flex; flex-direction: column; flex-basis: 100%; flex: 1; padding: 10px; }\n",
       "    </style>\n",
       "<div class=\"wandb-row\"><div class=\"wandb-col\"><h3>Run history:</h3><br/><table class=\"wandb\"><tr><td>epoch</td><td>▁▁▁▂▂▂▂▂▂▃▃▃▃▃▄▄▄▄▄▄▅▅▅▅▅▅▆▆▆▆▆▇▇▇▇▇▇███</td></tr><tr><td>train_accuracy</td><td>▁▁▁▁▁▁▁▁▁▁▁▁▁▁▁▁▂▄▅▆▆▇▇█████████████████</td></tr><tr><td>train_f1</td><td>▁▁▁▁▁▁▁▁▁▁▁▁▁▁▁▂▄▅▆▇▇▇██████████████████</td></tr><tr><td>train_loss</td><td>█▇▇▇▇▇▇▇▇▇▇▇▇▇▇▇▇▆▆▅▄▃▃▂▂▂▂▂▂▂▂▁▁▁▁▁▁▁▁▁</td></tr><tr><td>train_precision</td><td>███████████████▁▁▂▃▄▄▄▅▅▅▅▅▅▅▅▅▅▅▅▅▅▅▅▅▅</td></tr><tr><td>train_recall</td><td>▁▁▁▁▁▁▁▁▁▁▁▁▁▁▁▁▂▄▅▆▇▇▇█████████████████</td></tr><tr><td>val_accuracy</td><td>▁▁▁▁▁▁▁▁▁▁▁▁▁▁▁▂▄▅▆▆▇██▇▇▇▇▇▇▇█▇▇▇▇▇▇▇▇▇</td></tr><tr><td>val_f1</td><td>▁▁▁▁▁▁▁▁▁▁▁▁▁▁▁▂▅▆▆▇▇██▇▇▇▇█████████████</td></tr><tr><td>val_loss</td><td>█▇▇▇▇▇▇▇▇▇▇▆▆▆▆▆▆▆▅▄▃▂▂▂▂▂▂▁▁▁▁▁▁▁▁▁▁▁▁▁</td></tr><tr><td>val_precision</td><td>███████████████▁▄▃▄▅▅▆▅▅▅▅▅▅▅▅▅▅▅▅▅▅▅▅▅▅</td></tr><tr><td>val_recall</td><td>▁▁▁▁▁▁▁▁▁▁▁▁▁▁▁▂▄▅▆▆▇██▇▇▇▇▇▇▇█▇▇▇▇▇▇▇▇▇</td></tr></table><br/></div><div class=\"wandb-col\"><h3>Run summary:</h3><br/><table class=\"wandb\"><tr><td>epoch</td><td>1000</td></tr><tr><td>train_accuracy</td><td>0.59459</td></tr><tr><td>train_f1</td><td>0.21757</td></tr><tr><td>train_loss</td><td>0.2601</td></tr><tr><td>train_precision</td><td>0.86528</td></tr><tr><td>train_recall</td><td>0.24088</td></tr><tr><td>val_accuracy</td><td>0.60194</td></tr><tr><td>val_f1</td><td>0.2171</td></tr><tr><td>val_loss</td><td>0.26754</td></tr><tr><td>val_precision</td><td>0.86692</td></tr><tr><td>val_recall</td><td>0.23784</td></tr></table><br/></div></div>"
      ],
      "text/plain": [
       "<IPython.core.display.HTML object>"
      ]
     },
     "metadata": {},
     "output_type": "display_data"
    },
    {
     "data": {
      "text/html": [
       " View run <strong style=\"color:#cdcd00\">MLP_Classifier_0.001_[4, 4, 4]_1000</strong> at: <a href='https://wandb.ai/arjundosajh/SMAI-Assignment-3-Task-2.2.4/runs/s5l9h8x7' target=\"_blank\">https://wandb.ai/arjundosajh/SMAI-Assignment-3-Task-2.2.4/runs/s5l9h8x7</a><br/>Synced 5 W&B file(s), 0 media file(s), 0 artifact file(s) and 0 other file(s)"
      ],
      "text/plain": [
       "<IPython.core.display.HTML object>"
      ]
     },
     "metadata": {},
     "output_type": "display_data"
    },
    {
     "data": {
      "text/html": [
       "Find logs at: <code>./wandb/run-20231014_194605-s5l9h8x7/logs</code>"
      ],
      "text/plain": [
       "<IPython.core.display.HTML object>"
      ]
     },
     "metadata": {},
     "output_type": "display_data"
    },
    {
     "data": {
      "text/html": [
       "Successfully finished last run (ID:s5l9h8x7). Initializing new run:<br/>"
      ],
      "text/plain": [
       "<IPython.core.display.HTML object>"
      ]
     },
     "metadata": {},
     "output_type": "display_data"
    },
    {
     "data": {
      "text/html": [
       "Tracking run with wandb version 0.15.12"
      ],
      "text/plain": [
       "<IPython.core.display.HTML object>"
      ]
     },
     "metadata": {},
     "output_type": "display_data"
    },
    {
     "data": {
      "text/html": [
       "Run data is saved locally in <code>/Users/arjundosajh/IIITH/Sem 5/SMAI/assignment-3-ArjunDosajh/wandb/run-20231014_194937-pbp5odjd</code>"
      ],
      "text/plain": [
       "<IPython.core.display.HTML object>"
      ]
     },
     "metadata": {},
     "output_type": "display_data"
    },
    {
     "data": {
      "text/html": [
       "Syncing run <strong><a href='https://wandb.ai/arjundosajh/SMAI-Assignment-3-Task-2.2.4/runs/pbp5odjd' target=\"_blank\">MLP_Classifier_0.001_[6, 6]_500</a></strong> to <a href='https://wandb.ai/arjundosajh/SMAI-Assignment-3-Task-2.2.4' target=\"_blank\">Weights & Biases</a> (<a href='https://wandb.me/run' target=\"_blank\">docs</a>)<br/>"
      ],
      "text/plain": [
       "<IPython.core.display.HTML object>"
      ]
     },
     "metadata": {},
     "output_type": "display_data"
    },
    {
     "data": {
      "text/html": [
       " View project at <a href='https://wandb.ai/arjundosajh/SMAI-Assignment-3-Task-2.2.4' target=\"_blank\">https://wandb.ai/arjundosajh/SMAI-Assignment-3-Task-2.2.4</a>"
      ],
      "text/plain": [
       "<IPython.core.display.HTML object>"
      ]
     },
     "metadata": {},
     "output_type": "display_data"
    },
    {
     "data": {
      "text/html": [
       " View run at <a href='https://wandb.ai/arjundosajh/SMAI-Assignment-3-Task-2.2.4/runs/pbp5odjd' target=\"_blank\">https://wandb.ai/arjundosajh/SMAI-Assignment-3-Task-2.2.4/runs/pbp5odjd</a>"
      ],
      "text/plain": [
       "<IPython.core.display.HTML object>"
      ]
     },
     "metadata": {},
     "output_type": "display_data"
    },
    {
     "data": {
      "text/html": [
       "Finishing last run (ID:pbp5odjd) before initializing another..."
      ],
      "text/plain": [
       "<IPython.core.display.HTML object>"
      ]
     },
     "metadata": {},
     "output_type": "display_data"
    },
    {
     "data": {
      "text/html": [
       "Waiting for W&B process to finish... <strong style=\"color:green\">(success).</strong>"
      ],
      "text/plain": [
       "<IPython.core.display.HTML object>"
      ]
     },
     "metadata": {},
     "output_type": "display_data"
    },
    {
     "name": "stderr",
     "output_type": "stream",
     "text": [
      "wandb: WARNING Source type is set to 'repo' but some required information is missing from the environment. A job will not be created from this run. See https://docs.wandb.ai/guides/launch/create-job\n"
     ]
    },
    {
     "data": {
      "text/html": [
       "<style>\n",
       "    table.wandb td:nth-child(1) { padding: 0 10px; text-align: left ; width: auto;} td:nth-child(2) {text-align: left ; width: 100%}\n",
       "    .wandb-row { display: flex; flex-direction: row; flex-wrap: wrap; justify-content: flex-start; width: 100% }\n",
       "    .wandb-col { display: flex; flex-direction: column; flex-basis: 100%; flex: 1; padding: 10px; }\n",
       "    </style>\n",
       "<div class=\"wandb-row\"><div class=\"wandb-col\"><h3>Run history:</h3><br/><table class=\"wandb\"><tr><td>epoch</td><td>▁▁▁▂▂▂▂▂▂▃▃▃▃▃▄▄▄▄▄▄▅▅▅▅▅▅▆▆▆▆▆▇▇▇▇▇▇███</td></tr><tr><td>train_accuracy</td><td>▁▃▄▄▄▅▅▅▅▆▆▆▆▆▆▆▆▇▇▇▇▇▇▇▇▇██████████████</td></tr><tr><td>train_f1</td><td>▁▃▃▃▃▃▄▄▄▄▄▄▄▄▄▄▅▆▆▇▇▇▇▇▇███████████████</td></tr><tr><td>train_loss</td><td>█▆▅▅▄▄▄▄▃▃▃▃▃▃▃▂▂▂▂▂▂▂▂▂▂▂▂▁▁▁▁▁▁▁▁▁▁▁▁▁</td></tr><tr><td>train_precision</td><td>▁▇▇▇▇▇██████████▇▇▇▇▇▇▆▆▆▆▆▆▆▆▆▆▆▆▆▆▆▆▆▆</td></tr><tr><td>train_recall</td><td>▁▂▃▃▃▃▃▄▄▄▄▄▄▄▄▄▅▆▆▆▆▇▇▇▇▇▇█████████████</td></tr><tr><td>val_accuracy</td><td>▁▃▃▄▄▅▅▆▆▆▅▅▆▆▆▆▆▇▇█▇▇▇▇▇▇▇█████████████</td></tr><tr><td>val_f1</td><td>▁▃▃▄▄▄▄▄▄▄▄▄▄▄▄▄▅▆▆▇▆▇▇▇▇▇▇█████████████</td></tr><tr><td>val_loss</td><td>█▆▅▄▄▄▄▃▃▃▃▃▂▂▂▂▂▂▁▁▁▁▁▁▁▁▁▁▁▁▁▁▁▁▁▁▁▁▁▁</td></tr><tr><td>val_precision</td><td>▃▅▅▆▇▇▇██▇▇▇████▂▃▃▃▁▂▂▃▃▃▃▄▄▄▄▄▄▄▄▃▃▃▃▃</td></tr><tr><td>val_recall</td><td>▁▂▂▃▃▄▄▄▄▄▄▄▄▄▄▄▅▆▆▆▆▆▆▇▇▇▇█████████████</td></tr></table><br/></div><div class=\"wandb-col\"><h3>Run summary:</h3><br/><table class=\"wandb\"><tr><td>epoch</td><td>500</td></tr><tr><td>train_accuracy</td><td>0.64216</td></tr><tr><td>train_f1</td><td>0.31651</td></tr><tr><td>train_loss</td><td>0.24647</td></tr><tr><td>train_precision</td><td>0.81636</td></tr><tr><td>train_recall</td><td>0.31886</td></tr><tr><td>val_accuracy</td><td>0.64078</td></tr><tr><td>val_f1</td><td>0.30499</td></tr><tr><td>val_loss</td><td>0.2544</td></tr><tr><td>val_precision</td><td>0.80164</td></tr><tr><td>val_recall</td><td>0.30973</td></tr></table><br/></div></div>"
      ],
      "text/plain": [
       "<IPython.core.display.HTML object>"
      ]
     },
     "metadata": {},
     "output_type": "display_data"
    },
    {
     "data": {
      "text/html": [
       " View run <strong style=\"color:#cdcd00\">MLP_Classifier_0.001_[6, 6]_500</strong> at: <a href='https://wandb.ai/arjundosajh/SMAI-Assignment-3-Task-2.2.4/runs/pbp5odjd' target=\"_blank\">https://wandb.ai/arjundosajh/SMAI-Assignment-3-Task-2.2.4/runs/pbp5odjd</a><br/>Synced 5 W&B file(s), 0 media file(s), 0 artifact file(s) and 0 other file(s)"
      ],
      "text/plain": [
       "<IPython.core.display.HTML object>"
      ]
     },
     "metadata": {},
     "output_type": "display_data"
    },
    {
     "data": {
      "text/html": [
       "Find logs at: <code>./wandb/run-20231014_194937-pbp5odjd/logs</code>"
      ],
      "text/plain": [
       "<IPython.core.display.HTML object>"
      ]
     },
     "metadata": {},
     "output_type": "display_data"
    },
    {
     "data": {
      "text/html": [
       "Successfully finished last run (ID:pbp5odjd). Initializing new run:<br/>"
      ],
      "text/plain": [
       "<IPython.core.display.HTML object>"
      ]
     },
     "metadata": {},
     "output_type": "display_data"
    },
    {
     "data": {
      "text/html": [
       "Tracking run with wandb version 0.15.12"
      ],
      "text/plain": [
       "<IPython.core.display.HTML object>"
      ]
     },
     "metadata": {},
     "output_type": "display_data"
    },
    {
     "data": {
      "text/html": [
       "Run data is saved locally in <code>/Users/arjundosajh/IIITH/Sem 5/SMAI/assignment-3-ArjunDosajh/wandb/run-20231014_195114-q3pmpuqo</code>"
      ],
      "text/plain": [
       "<IPython.core.display.HTML object>"
      ]
     },
     "metadata": {},
     "output_type": "display_data"
    },
    {
     "data": {
      "text/html": [
       "Syncing run <strong><a href='https://wandb.ai/arjundosajh/SMAI-Assignment-3-Task-2.2.4/runs/q3pmpuqo' target=\"_blank\">MLP_Classifier_0.001_[6, 6]_1000</a></strong> to <a href='https://wandb.ai/arjundosajh/SMAI-Assignment-3-Task-2.2.4' target=\"_blank\">Weights & Biases</a> (<a href='https://wandb.me/run' target=\"_blank\">docs</a>)<br/>"
      ],
      "text/plain": [
       "<IPython.core.display.HTML object>"
      ]
     },
     "metadata": {},
     "output_type": "display_data"
    },
    {
     "data": {
      "text/html": [
       " View project at <a href='https://wandb.ai/arjundosajh/SMAI-Assignment-3-Task-2.2.4' target=\"_blank\">https://wandb.ai/arjundosajh/SMAI-Assignment-3-Task-2.2.4</a>"
      ],
      "text/plain": [
       "<IPython.core.display.HTML object>"
      ]
     },
     "metadata": {},
     "output_type": "display_data"
    },
    {
     "data": {
      "text/html": [
       " View run at <a href='https://wandb.ai/arjundosajh/SMAI-Assignment-3-Task-2.2.4/runs/q3pmpuqo' target=\"_blank\">https://wandb.ai/arjundosajh/SMAI-Assignment-3-Task-2.2.4/runs/q3pmpuqo</a>"
      ],
      "text/plain": [
       "<IPython.core.display.HTML object>"
      ]
     },
     "metadata": {},
     "output_type": "display_data"
    },
    {
     "data": {
      "text/html": [
       "Finishing last run (ID:q3pmpuqo) before initializing another..."
      ],
      "text/plain": [
       "<IPython.core.display.HTML object>"
      ]
     },
     "metadata": {},
     "output_type": "display_data"
    },
    {
     "data": {
      "text/html": [
       "Waiting for W&B process to finish... <strong style=\"color:green\">(success).</strong>"
      ],
      "text/plain": [
       "<IPython.core.display.HTML object>"
      ]
     },
     "metadata": {},
     "output_type": "display_data"
    },
    {
     "name": "stderr",
     "output_type": "stream",
     "text": [
      "wandb: WARNING Source type is set to 'repo' but some required information is missing from the environment. A job will not be created from this run. See https://docs.wandb.ai/guides/launch/create-job\n"
     ]
    },
    {
     "data": {
      "text/html": [
       "<style>\n",
       "    table.wandb td:nth-child(1) { padding: 0 10px; text-align: left ; width: auto;} td:nth-child(2) {text-align: left ; width: 100%}\n",
       "    .wandb-row { display: flex; flex-direction: row; flex-wrap: wrap; justify-content: flex-start; width: 100% }\n",
       "    .wandb-col { display: flex; flex-direction: column; flex-basis: 100%; flex: 1; padding: 10px; }\n",
       "    </style>\n",
       "<div class=\"wandb-row\"><div class=\"wandb-col\"><h3>Run history:</h3><br/><table class=\"wandb\"><tr><td>epoch</td><td>▁▁▁▂▂▂▂▂▂▃▃▃▃▃▄▄▄▄▄▄▅▅▅▅▅▅▆▆▆▆▆▇▇▇▇▇▇███</td></tr><tr><td>train_accuracy</td><td>▁▃▅▆▆▆▆▆▆▆▆▆▆▇▇▇▇▇▇▇▇▇▇▇▇███████████████</td></tr><tr><td>train_f1</td><td>▁▂▄▅▅▅▅▅▅▅▅▅▆▆▇▇▇▇▇▇▇▇▇▇▇███████████████</td></tr><tr><td>train_loss</td><td>█▆▅▄▄▃▃▃▃▃▃▃▃▃▂▂▂▂▂▂▂▂▂▂▂▂▂▂▂▂▁▁▁▁▁▁▁▁▁▁</td></tr><tr><td>train_precision</td><td>▁▃▅▆▆▆▆▆▆▆▆▇▇▇▇▇▇▇▇▇▇▇▇▇▇▇▇▇▇▇▇█████████</td></tr><tr><td>train_recall</td><td>▁▂▄▄▄▄▅▅▅▅▅▅▅▆▆▇▇▇▇▇▇▇▇▇▇███████████████</td></tr><tr><td>val_accuracy</td><td>▁▄▆▆▆▆▆▆▆▆▇▇▇█▇▇▇███████▇▇▇▇▇▇▇▇▇▇▇▇▇▇▇▇</td></tr><tr><td>val_f1</td><td>▁▃▄▅▄▄▄▄▄▄▅▅▅▆▆▆▆███████████████████████</td></tr><tr><td>val_loss</td><td>█▆▅▄▄▃▃▃▃▃▃▂▂▂▂▂▂▁▁▁▁▁▁▁▁▁▁▁▁▁▁▁▁▁▁▁▁▁▁▁</td></tr><tr><td>val_precision</td><td>▁▃▄▄▄▄▄▄▄▄▄▄▅▆▆▆▇███████████████████████</td></tr><tr><td>val_recall</td><td>▁▃▄▅▅▅▅▅▄▄▅▅▅▆▆▆▆▇▇█████████████████▇▇▇▇</td></tr></table><br/></div><div class=\"wandb-col\"><h3>Run summary:</h3><br/><table class=\"wandb\"><tr><td>epoch</td><td>1000</td></tr><tr><td>train_accuracy</td><td>0.6573</td></tr><tr><td>train_f1</td><td>0.32338</td></tr><tr><td>train_loss</td><td>0.23378</td></tr><tr><td>train_precision</td><td>0.82202</td></tr><tr><td>train_recall</td><td>0.32675</td></tr><tr><td>val_accuracy</td><td>0.66019</td></tr><tr><td>val_f1</td><td>0.31032</td></tr><tr><td>val_loss</td><td>0.24422</td></tr><tr><td>val_precision</td><td>0.80481</td></tr><tr><td>val_recall</td><td>0.3173</td></tr></table><br/></div></div>"
      ],
      "text/plain": [
       "<IPython.core.display.HTML object>"
      ]
     },
     "metadata": {},
     "output_type": "display_data"
    },
    {
     "data": {
      "text/html": [
       " View run <strong style=\"color:#cdcd00\">MLP_Classifier_0.001_[6, 6]_1000</strong> at: <a href='https://wandb.ai/arjundosajh/SMAI-Assignment-3-Task-2.2.4/runs/q3pmpuqo' target=\"_blank\">https://wandb.ai/arjundosajh/SMAI-Assignment-3-Task-2.2.4/runs/q3pmpuqo</a><br/>Synced 5 W&B file(s), 0 media file(s), 0 artifact file(s) and 0 other file(s)"
      ],
      "text/plain": [
       "<IPython.core.display.HTML object>"
      ]
     },
     "metadata": {},
     "output_type": "display_data"
    },
    {
     "data": {
      "text/html": [
       "Find logs at: <code>./wandb/run-20231014_195114-q3pmpuqo/logs</code>"
      ],
      "text/plain": [
       "<IPython.core.display.HTML object>"
      ]
     },
     "metadata": {},
     "output_type": "display_data"
    },
    {
     "data": {
      "text/html": [
       "Successfully finished last run (ID:q3pmpuqo). Initializing new run:<br/>"
      ],
      "text/plain": [
       "<IPython.core.display.HTML object>"
      ]
     },
     "metadata": {},
     "output_type": "display_data"
    },
    {
     "data": {
      "text/html": [
       "Tracking run with wandb version 0.15.12"
      ],
      "text/plain": [
       "<IPython.core.display.HTML object>"
      ]
     },
     "metadata": {},
     "output_type": "display_data"
    },
    {
     "data": {
      "text/html": [
       "Run data is saved locally in <code>/Users/arjundosajh/IIITH/Sem 5/SMAI/assignment-3-ArjunDosajh/wandb/run-20231014_195404-lmhuh3j0</code>"
      ],
      "text/plain": [
       "<IPython.core.display.HTML object>"
      ]
     },
     "metadata": {},
     "output_type": "display_data"
    },
    {
     "data": {
      "text/html": [
       "Syncing run <strong><a href='https://wandb.ai/arjundosajh/SMAI-Assignment-3-Task-2.2.4/runs/lmhuh3j0' target=\"_blank\">MLP_Classifier_0.001_[8, 8]_500</a></strong> to <a href='https://wandb.ai/arjundosajh/SMAI-Assignment-3-Task-2.2.4' target=\"_blank\">Weights & Biases</a> (<a href='https://wandb.me/run' target=\"_blank\">docs</a>)<br/>"
      ],
      "text/plain": [
       "<IPython.core.display.HTML object>"
      ]
     },
     "metadata": {},
     "output_type": "display_data"
    },
    {
     "data": {
      "text/html": [
       " View project at <a href='https://wandb.ai/arjundosajh/SMAI-Assignment-3-Task-2.2.4' target=\"_blank\">https://wandb.ai/arjundosajh/SMAI-Assignment-3-Task-2.2.4</a>"
      ],
      "text/plain": [
       "<IPython.core.display.HTML object>"
      ]
     },
     "metadata": {},
     "output_type": "display_data"
    },
    {
     "data": {
      "text/html": [
       " View run at <a href='https://wandb.ai/arjundosajh/SMAI-Assignment-3-Task-2.2.4/runs/lmhuh3j0' target=\"_blank\">https://wandb.ai/arjundosajh/SMAI-Assignment-3-Task-2.2.4/runs/lmhuh3j0</a>"
      ],
      "text/plain": [
       "<IPython.core.display.HTML object>"
      ]
     },
     "metadata": {},
     "output_type": "display_data"
    },
    {
     "data": {
      "text/html": [
       "Finishing last run (ID:lmhuh3j0) before initializing another..."
      ],
      "text/plain": [
       "<IPython.core.display.HTML object>"
      ]
     },
     "metadata": {},
     "output_type": "display_data"
    },
    {
     "data": {
      "text/html": [
       "Waiting for W&B process to finish... <strong style=\"color:green\">(success).</strong>"
      ],
      "text/plain": [
       "<IPython.core.display.HTML object>"
      ]
     },
     "metadata": {},
     "output_type": "display_data"
    },
    {
     "name": "stderr",
     "output_type": "stream",
     "text": [
      "wandb: WARNING Source type is set to 'repo' but some required information is missing from the environment. A job will not be created from this run. See https://docs.wandb.ai/guides/launch/create-job\n"
     ]
    },
    {
     "data": {
      "text/html": [
       "<style>\n",
       "    table.wandb td:nth-child(1) { padding: 0 10px; text-align: left ; width: auto;} td:nth-child(2) {text-align: left ; width: 100%}\n",
       "    .wandb-row { display: flex; flex-direction: row; flex-wrap: wrap; justify-content: flex-start; width: 100% }\n",
       "    .wandb-col { display: flex; flex-direction: column; flex-basis: 100%; flex: 1; padding: 10px; }\n",
       "    </style>\n",
       "<div class=\"wandb-row\"><div class=\"wandb-col\"><h3>Run history:</h3><br/><table class=\"wandb\"><tr><td>epoch</td><td>▁▁▁▂▂▂▂▂▂▃▃▃▃▃▄▄▄▄▄▄▅▅▅▅▅▅▆▆▆▆▆▇▇▇▇▇▇███</td></tr><tr><td>train_accuracy</td><td>▁▄▅▆▆▆▆▆▆▆▇▇▇▇▇▇▇▇▇▇███▇████████████████</td></tr><tr><td>train_f1</td><td>▁▂▃▃▃▄▄▄▄▄▄▄▄▅▅▅▆▆▇▇▇▇▇▇▇▇▇█████████████</td></tr><tr><td>train_loss</td><td>█▆▅▄▄▃▃▃▃▂▂▂▂▂▂▂▂▂▂▂▂▂▂▂▂▂▁▁▁▁▁▁▁▁▁▁▁▁▁▁</td></tr><tr><td>train_precision</td><td>▅▇▇████████▁▃▄▄▄▅▅▅▅▅▅▅▅▅▅▅▅▅▅▅▅▅▅▅▅▅▅▅▅</td></tr><tr><td>train_recall</td><td>▁▃▄▄▄▄▄▄▄▅▅▅▅▅▅▅▆▆▇▇▇▇▇▇▇▇▇█████████████</td></tr><tr><td>val_accuracy</td><td>▁▄▆▆▆▆▇▇▇▇▇▇▇▇▇▇▇▇▇██████████████████▇▇▇</td></tr><tr><td>val_f1</td><td>▁▂▃▄▄▄▄▄▄▄▄▄▄▅▆▆▇▇▇███████████████████▇▇</td></tr><tr><td>val_loss</td><td>█▆▅▄▃▃▃▃▂▂▂▂▂▂▂▂▂▂▂▁▁▁▁▁▁▁▁▁▁▁▁▁▁▁▁▁▁▁▁▁</td></tr><tr><td>val_precision</td><td>▆▇▇█████████▁▃▅▅▅▅▅▅▅▅▅▅▅▅▅▅▅▅▅▅▅▅▅▅▅▅▅▅</td></tr><tr><td>val_recall</td><td>▁▃▄▄▄▄▅▅▅▅▅▅▅▅▆▆▇▇▇███████████████████▇▇</td></tr></table><br/></div><div class=\"wandb-col\"><h3>Run summary:</h3><br/><table class=\"wandb\"><tr><td>epoch</td><td>500</td></tr><tr><td>train_accuracy</td><td>0.64108</td></tr><tr><td>train_f1</td><td>0.3053</td></tr><tr><td>train_loss</td><td>0.24221</td></tr><tr><td>train_precision</td><td>0.8043</td></tr><tr><td>train_recall</td><td>0.30867</td></tr><tr><td>val_accuracy</td><td>0.61165</td></tr><tr><td>val_f1</td><td>0.28505</td></tr><tr><td>val_loss</td><td>0.24932</td></tr><tr><td>val_precision</td><td>0.7899</td></tr><tr><td>val_recall</td><td>0.28709</td></tr></table><br/></div></div>"
      ],
      "text/plain": [
       "<IPython.core.display.HTML object>"
      ]
     },
     "metadata": {},
     "output_type": "display_data"
    },
    {
     "data": {
      "text/html": [
       " View run <strong style=\"color:#cdcd00\">MLP_Classifier_0.001_[8, 8]_500</strong> at: <a href='https://wandb.ai/arjundosajh/SMAI-Assignment-3-Task-2.2.4/runs/lmhuh3j0' target=\"_blank\">https://wandb.ai/arjundosajh/SMAI-Assignment-3-Task-2.2.4/runs/lmhuh3j0</a><br/>Synced 5 W&B file(s), 0 media file(s), 0 artifact file(s) and 0 other file(s)"
      ],
      "text/plain": [
       "<IPython.core.display.HTML object>"
      ]
     },
     "metadata": {},
     "output_type": "display_data"
    },
    {
     "data": {
      "text/html": [
       "Find logs at: <code>./wandb/run-20231014_195404-lmhuh3j0/logs</code>"
      ],
      "text/plain": [
       "<IPython.core.display.HTML object>"
      ]
     },
     "metadata": {},
     "output_type": "display_data"
    },
    {
     "data": {
      "text/html": [
       "Successfully finished last run (ID:lmhuh3j0). Initializing new run:<br/>"
      ],
      "text/plain": [
       "<IPython.core.display.HTML object>"
      ]
     },
     "metadata": {},
     "output_type": "display_data"
    },
    {
     "data": {
      "text/html": [
       "Tracking run with wandb version 0.15.12"
      ],
      "text/plain": [
       "<IPython.core.display.HTML object>"
      ]
     },
     "metadata": {},
     "output_type": "display_data"
    },
    {
     "data": {
      "text/html": [
       "Run data is saved locally in <code>/Users/arjundosajh/IIITH/Sem 5/SMAI/assignment-3-ArjunDosajh/wandb/run-20231014_195546-s7xholtx</code>"
      ],
      "text/plain": [
       "<IPython.core.display.HTML object>"
      ]
     },
     "metadata": {},
     "output_type": "display_data"
    },
    {
     "data": {
      "text/html": [
       "Syncing run <strong><a href='https://wandb.ai/arjundosajh/SMAI-Assignment-3-Task-2.2.4/runs/s7xholtx' target=\"_blank\">MLP_Classifier_0.001_[8, 8]_1000</a></strong> to <a href='https://wandb.ai/arjundosajh/SMAI-Assignment-3-Task-2.2.4' target=\"_blank\">Weights & Biases</a> (<a href='https://wandb.me/run' target=\"_blank\">docs</a>)<br/>"
      ],
      "text/plain": [
       "<IPython.core.display.HTML object>"
      ]
     },
     "metadata": {},
     "output_type": "display_data"
    },
    {
     "data": {
      "text/html": [
       " View project at <a href='https://wandb.ai/arjundosajh/SMAI-Assignment-3-Task-2.2.4' target=\"_blank\">https://wandb.ai/arjundosajh/SMAI-Assignment-3-Task-2.2.4</a>"
      ],
      "text/plain": [
       "<IPython.core.display.HTML object>"
      ]
     },
     "metadata": {},
     "output_type": "display_data"
    },
    {
     "data": {
      "text/html": [
       " View run at <a href='https://wandb.ai/arjundosajh/SMAI-Assignment-3-Task-2.2.4/runs/s7xholtx' target=\"_blank\">https://wandb.ai/arjundosajh/SMAI-Assignment-3-Task-2.2.4/runs/s7xholtx</a>"
      ],
      "text/plain": [
       "<IPython.core.display.HTML object>"
      ]
     },
     "metadata": {},
     "output_type": "display_data"
    }
   ],
   "source": [
    "learning_rates = [0.1, 0.01, 0.001]\n",
    "hidden_layers = [[4, 4], [4, 4, 4], [6, 6], [8, 8]]\n",
    "num_epochs = [500, 1000]\n",
    "\n",
    "# Running the model for all possible configurations of hyperparameters\n",
    "for learning_rate in learning_rates:\n",
    "    for hidden_layer in hidden_layers:\n",
    "        for num_epoch in num_epochs:\n",
    "            wandb.init(project='SMAI-Assignment-3-Task-2.2.4', name=f'MLP_Classifier_{learning_rate}_{hidden_layer}_{num_epoch}', config={\n",
    "                \"model\": \"MLP Classifier\",\n",
    "                \"optimizer\": \"sgd\",\n",
    "                \"acitvation_function\": \"sigmoid\",\n",
    "                \"learning_rate\": learning_rate,\n",
    "                \"hidden_layer\": hidden_layer,\n",
    "                \"num_epoch\": num_epoch,\n",
    "            })\n",
    "            mlp = MultiLayerPerceptronClassifier(X_train, y_train, X_val, y_val, hidden_layers=hidden_layer, activation_function=\"sigmoid\", learning_rate=learning_rate, optimizer=\"sgd\", log_to_wandb=True)\n",
    "            mlp.train(epochs=num_epoch)"
   ]
  },
  {
   "cell_type": "markdown",
   "metadata": {},
   "source": [
    "## Printing Classification Report on the test set"
   ]
  },
  {
   "cell_type": "code",
   "execution_count": 14,
   "metadata": {},
   "outputs": [
    {
     "name": "stdout",
     "output_type": "stream",
     "text": [
      "Epoch 1/1000 - Training Loss: 0.3457, Training Accuracy: 0.48%\n",
      "Epoch 2/1000 - Training Loss: 0.3169, Training Accuracy: 0.54%\n",
      "Epoch 3/1000 - Training Loss: 0.3051, Training Accuracy: 0.56%\n",
      "Epoch 4/1000 - Training Loss: 0.2965, Training Accuracy: 0.57%\n",
      "Epoch 5/1000 - Training Loss: 0.2898, Training Accuracy: 0.58%\n",
      "Epoch 6/1000 - Training Loss: 0.2846, Training Accuracy: 0.59%\n",
      "Epoch 7/1000 - Training Loss: 0.2807, Training Accuracy: 0.59%\n",
      "Epoch 8/1000 - Training Loss: 0.2778, Training Accuracy: 0.59%\n",
      "Epoch 9/1000 - Training Loss: 0.2755, Training Accuracy: 0.59%\n",
      "Epoch 10/1000 - Training Loss: 0.2737, Training Accuracy: 0.59%\n",
      "Epoch 11/1000 - Training Loss: 0.2722, Training Accuracy: 0.59%\n",
      "Epoch 12/1000 - Training Loss: 0.2709, Training Accuracy: 0.60%\n",
      "Epoch 13/1000 - Training Loss: 0.2698, Training Accuracy: 0.60%\n",
      "Epoch 14/1000 - Training Loss: 0.2688, Training Accuracy: 0.60%\n",
      "Epoch 15/1000 - Training Loss: 0.2680, Training Accuracy: 0.60%\n",
      "Epoch 16/1000 - Training Loss: 0.2674, Training Accuracy: 0.60%\n",
      "Epoch 17/1000 - Training Loss: 0.2668, Training Accuracy: 0.60%\n",
      "Epoch 18/1000 - Training Loss: 0.2664, Training Accuracy: 0.60%\n",
      "Epoch 19/1000 - Training Loss: 0.2660, Training Accuracy: 0.60%\n",
      "Epoch 20/1000 - Training Loss: 0.2656, Training Accuracy: 0.60%\n",
      "Epoch 21/1000 - Training Loss: 0.2653, Training Accuracy: 0.60%\n",
      "Epoch 22/1000 - Training Loss: 0.2650, Training Accuracy: 0.60%\n",
      "Epoch 23/1000 - Training Loss: 0.2647, Training Accuracy: 0.61%\n",
      "Epoch 24/1000 - Training Loss: 0.2644, Training Accuracy: 0.61%\n",
      "Epoch 25/1000 - Training Loss: 0.2642, Training Accuracy: 0.61%\n",
      "Epoch 26/1000 - Training Loss: 0.2639, Training Accuracy: 0.61%\n",
      "Epoch 27/1000 - Training Loss: 0.2637, Training Accuracy: 0.62%\n",
      "Epoch 28/1000 - Training Loss: 0.2636, Training Accuracy: 0.62%\n",
      "Epoch 29/1000 - Training Loss: 0.2634, Training Accuracy: 0.62%\n",
      "Epoch 30/1000 - Training Loss: 0.2633, Training Accuracy: 0.62%\n",
      "Epoch 31/1000 - Training Loss: 0.2632, Training Accuracy: 0.61%\n",
      "Epoch 32/1000 - Training Loss: 0.2630, Training Accuracy: 0.62%\n",
      "Epoch 33/1000 - Training Loss: 0.2629, Training Accuracy: 0.62%\n",
      "Epoch 34/1000 - Training Loss: 0.2628, Training Accuracy: 0.62%\n",
      "Epoch 35/1000 - Training Loss: 0.2627, Training Accuracy: 0.61%\n",
      "Epoch 36/1000 - Training Loss: 0.2626, Training Accuracy: 0.61%\n",
      "Epoch 37/1000 - Training Loss: 0.2625, Training Accuracy: 0.61%\n",
      "Epoch 38/1000 - Training Loss: 0.2624, Training Accuracy: 0.62%\n",
      "Epoch 39/1000 - Training Loss: 0.2623, Training Accuracy: 0.61%\n",
      "Epoch 40/1000 - Training Loss: 0.2623, Training Accuracy: 0.61%\n",
      "Epoch 41/1000 - Training Loss: 0.2622, Training Accuracy: 0.61%\n",
      "Epoch 42/1000 - Training Loss: 0.2620, Training Accuracy: 0.61%\n",
      "Epoch 43/1000 - Training Loss: 0.2619, Training Accuracy: 0.61%\n",
      "Epoch 44/1000 - Training Loss: 0.2618, Training Accuracy: 0.61%\n",
      "Epoch 45/1000 - Training Loss: 0.2617, Training Accuracy: 0.61%\n",
      "Epoch 46/1000 - Training Loss: 0.2616, Training Accuracy: 0.61%\n",
      "Epoch 47/1000 - Training Loss: 0.2614, Training Accuracy: 0.61%\n",
      "Epoch 48/1000 - Training Loss: 0.2613, Training Accuracy: 0.61%\n",
      "Epoch 49/1000 - Training Loss: 0.2612, Training Accuracy: 0.61%\n",
      "Epoch 50/1000 - Training Loss: 0.2610, Training Accuracy: 0.62%\n",
      "Epoch 51/1000 - Training Loss: 0.2609, Training Accuracy: 0.62%\n",
      "Epoch 52/1000 - Training Loss: 0.2607, Training Accuracy: 0.62%\n",
      "Epoch 53/1000 - Training Loss: 0.2605, Training Accuracy: 0.62%\n",
      "Epoch 54/1000 - Training Loss: 0.2604, Training Accuracy: 0.62%\n",
      "Epoch 55/1000 - Training Loss: 0.2602, Training Accuracy: 0.62%\n",
      "Epoch 56/1000 - Training Loss: 0.2600, Training Accuracy: 0.62%\n",
      "Epoch 57/1000 - Training Loss: 0.2599, Training Accuracy: 0.62%\n",
      "Epoch 58/1000 - Training Loss: 0.2597, Training Accuracy: 0.62%\n",
      "Epoch 59/1000 - Training Loss: 0.2595, Training Accuracy: 0.62%\n",
      "Epoch 60/1000 - Training Loss: 0.2594, Training Accuracy: 0.62%\n",
      "Epoch 61/1000 - Training Loss: 0.2593, Training Accuracy: 0.61%\n",
      "Epoch 62/1000 - Training Loss: 0.2591, Training Accuracy: 0.61%\n",
      "Epoch 63/1000 - Training Loss: 0.2590, Training Accuracy: 0.61%\n",
      "Epoch 64/1000 - Training Loss: 0.2589, Training Accuracy: 0.61%\n",
      "Epoch 65/1000 - Training Loss: 0.2588, Training Accuracy: 0.61%\n",
      "Epoch 66/1000 - Training Loss: 0.2587, Training Accuracy: 0.61%\n",
      "Epoch 67/1000 - Training Loss: 0.2586, Training Accuracy: 0.62%\n",
      "Epoch 68/1000 - Training Loss: 0.2585, Training Accuracy: 0.61%\n",
      "Epoch 69/1000 - Training Loss: 0.2584, Training Accuracy: 0.61%\n",
      "Epoch 70/1000 - Training Loss: 0.2583, Training Accuracy: 0.61%\n",
      "Epoch 71/1000 - Training Loss: 0.2582, Training Accuracy: 0.61%\n",
      "Epoch 72/1000 - Training Loss: 0.2582, Training Accuracy: 0.61%\n",
      "Epoch 73/1000 - Training Loss: 0.2581, Training Accuracy: 0.61%\n",
      "Epoch 74/1000 - Training Loss: 0.2580, Training Accuracy: 0.61%\n",
      "Epoch 75/1000 - Training Loss: 0.2579, Training Accuracy: 0.61%\n",
      "Epoch 76/1000 - Training Loss: 0.2579, Training Accuracy: 0.61%\n",
      "Epoch 77/1000 - Training Loss: 0.2578, Training Accuracy: 0.61%\n",
      "Epoch 78/1000 - Training Loss: 0.2577, Training Accuracy: 0.62%\n",
      "Epoch 79/1000 - Training Loss: 0.2576, Training Accuracy: 0.62%\n",
      "Epoch 80/1000 - Training Loss: 0.2575, Training Accuracy: 0.62%\n",
      "Epoch 81/1000 - Training Loss: 0.2575, Training Accuracy: 0.62%\n",
      "Epoch 82/1000 - Training Loss: 0.2574, Training Accuracy: 0.62%\n",
      "Epoch 83/1000 - Training Loss: 0.2573, Training Accuracy: 0.62%\n",
      "Epoch 84/1000 - Training Loss: 0.2572, Training Accuracy: 0.62%\n",
      "Epoch 85/1000 - Training Loss: 0.2571, Training Accuracy: 0.62%\n",
      "Epoch 86/1000 - Training Loss: 0.2570, Training Accuracy: 0.62%\n",
      "Epoch 87/1000 - Training Loss: 0.2569, Training Accuracy: 0.62%\n",
      "Epoch 88/1000 - Training Loss: 0.2568, Training Accuracy: 0.62%\n",
      "Epoch 89/1000 - Training Loss: 0.2567, Training Accuracy: 0.62%\n",
      "Epoch 90/1000 - Training Loss: 0.2566, Training Accuracy: 0.62%\n",
      "Epoch 91/1000 - Training Loss: 0.2566, Training Accuracy: 0.62%\n",
      "Epoch 92/1000 - Training Loss: 0.2565, Training Accuracy: 0.62%\n",
      "Epoch 93/1000 - Training Loss: 0.2564, Training Accuracy: 0.62%\n",
      "Epoch 94/1000 - Training Loss: 0.2564, Training Accuracy: 0.62%\n",
      "Epoch 95/1000 - Training Loss: 0.2563, Training Accuracy: 0.62%\n",
      "Epoch 96/1000 - Training Loss: 0.2562, Training Accuracy: 0.62%\n",
      "Epoch 97/1000 - Training Loss: 0.2562, Training Accuracy: 0.62%\n",
      "Epoch 98/1000 - Training Loss: 0.2561, Training Accuracy: 0.62%\n",
      "Epoch 99/1000 - Training Loss: 0.2560, Training Accuracy: 0.62%\n",
      "Epoch 100/1000 - Training Loss: 0.2560, Training Accuracy: 0.62%\n",
      "Epoch 101/1000 - Training Loss: 0.2559, Training Accuracy: 0.62%\n",
      "Epoch 102/1000 - Training Loss: 0.2558, Training Accuracy: 0.62%\n",
      "Epoch 103/1000 - Training Loss: 0.2558, Training Accuracy: 0.62%\n",
      "Epoch 104/1000 - Training Loss: 0.2557, Training Accuracy: 0.62%\n",
      "Epoch 105/1000 - Training Loss: 0.2557, Training Accuracy: 0.62%\n",
      "Epoch 106/1000 - Training Loss: 0.2556, Training Accuracy: 0.62%\n",
      "Epoch 107/1000 - Training Loss: 0.2555, Training Accuracy: 0.62%\n",
      "Epoch 108/1000 - Training Loss: 0.2555, Training Accuracy: 0.62%\n",
      "Epoch 109/1000 - Training Loss: 0.2554, Training Accuracy: 0.62%\n",
      "Epoch 110/1000 - Training Loss: 0.2553, Training Accuracy: 0.62%\n",
      "Epoch 111/1000 - Training Loss: 0.2552, Training Accuracy: 0.62%\n",
      "Epoch 112/1000 - Training Loss: 0.2552, Training Accuracy: 0.62%\n",
      "Epoch 113/1000 - Training Loss: 0.2551, Training Accuracy: 0.62%\n",
      "Epoch 114/1000 - Training Loss: 0.2550, Training Accuracy: 0.62%\n",
      "Epoch 115/1000 - Training Loss: 0.2549, Training Accuracy: 0.62%\n",
      "Epoch 116/1000 - Training Loss: 0.2548, Training Accuracy: 0.62%\n",
      "Epoch 117/1000 - Training Loss: 0.2547, Training Accuracy: 0.62%\n",
      "Epoch 118/1000 - Training Loss: 0.2546, Training Accuracy: 0.62%\n",
      "Epoch 119/1000 - Training Loss: 0.2545, Training Accuracy: 0.62%\n",
      "Epoch 120/1000 - Training Loss: 0.2544, Training Accuracy: 0.62%\n",
      "Epoch 121/1000 - Training Loss: 0.2543, Training Accuracy: 0.62%\n",
      "Epoch 122/1000 - Training Loss: 0.2542, Training Accuracy: 0.62%\n",
      "Epoch 123/1000 - Training Loss: 0.2540, Training Accuracy: 0.62%\n",
      "Epoch 124/1000 - Training Loss: 0.2539, Training Accuracy: 0.62%\n",
      "Epoch 125/1000 - Training Loss: 0.2538, Training Accuracy: 0.62%\n",
      "Epoch 126/1000 - Training Loss: 0.2536, Training Accuracy: 0.62%\n",
      "Epoch 127/1000 - Training Loss: 0.2535, Training Accuracy: 0.62%\n",
      "Epoch 128/1000 - Training Loss: 0.2533, Training Accuracy: 0.62%\n",
      "Epoch 129/1000 - Training Loss: 0.2532, Training Accuracy: 0.62%\n",
      "Epoch 130/1000 - Training Loss: 0.2530, Training Accuracy: 0.63%\n",
      "Epoch 131/1000 - Training Loss: 0.2529, Training Accuracy: 0.63%\n",
      "Epoch 132/1000 - Training Loss: 0.2527, Training Accuracy: 0.63%\n",
      "Epoch 133/1000 - Training Loss: 0.2526, Training Accuracy: 0.63%\n",
      "Epoch 134/1000 - Training Loss: 0.2524, Training Accuracy: 0.63%\n",
      "Epoch 135/1000 - Training Loss: 0.2523, Training Accuracy: 0.63%\n",
      "Epoch 136/1000 - Training Loss: 0.2521, Training Accuracy: 0.63%\n",
      "Epoch 137/1000 - Training Loss: 0.2520, Training Accuracy: 0.64%\n",
      "Epoch 138/1000 - Training Loss: 0.2518, Training Accuracy: 0.64%\n",
      "Epoch 139/1000 - Training Loss: 0.2517, Training Accuracy: 0.64%\n",
      "Epoch 140/1000 - Training Loss: 0.2515, Training Accuracy: 0.63%\n",
      "Epoch 141/1000 - Training Loss: 0.2514, Training Accuracy: 0.64%\n",
      "Epoch 142/1000 - Training Loss: 0.2513, Training Accuracy: 0.63%\n",
      "Epoch 143/1000 - Training Loss: 0.2511, Training Accuracy: 0.63%\n",
      "Epoch 144/1000 - Training Loss: 0.2510, Training Accuracy: 0.63%\n",
      "Epoch 145/1000 - Training Loss: 0.2508, Training Accuracy: 0.63%\n",
      "Epoch 146/1000 - Training Loss: 0.2507, Training Accuracy: 0.64%\n",
      "Epoch 147/1000 - Training Loss: 0.2505, Training Accuracy: 0.64%\n",
      "Epoch 148/1000 - Training Loss: 0.2504, Training Accuracy: 0.64%\n",
      "Epoch 149/1000 - Training Loss: 0.2502, Training Accuracy: 0.64%\n",
      "Epoch 150/1000 - Training Loss: 0.2500, Training Accuracy: 0.64%\n",
      "Epoch 151/1000 - Training Loss: 0.2499, Training Accuracy: 0.64%\n",
      "Epoch 152/1000 - Training Loss: 0.2497, Training Accuracy: 0.64%\n",
      "Epoch 153/1000 - Training Loss: 0.2496, Training Accuracy: 0.63%\n",
      "Epoch 154/1000 - Training Loss: 0.2494, Training Accuracy: 0.63%\n",
      "Epoch 155/1000 - Training Loss: 0.2492, Training Accuracy: 0.64%\n",
      "Epoch 156/1000 - Training Loss: 0.2491, Training Accuracy: 0.63%\n",
      "Epoch 157/1000 - Training Loss: 0.2489, Training Accuracy: 0.63%\n",
      "Epoch 158/1000 - Training Loss: 0.2487, Training Accuracy: 0.63%\n",
      "Epoch 159/1000 - Training Loss: 0.2485, Training Accuracy: 0.63%\n",
      "Epoch 160/1000 - Training Loss: 0.2484, Training Accuracy: 0.64%\n",
      "Epoch 161/1000 - Training Loss: 0.2482, Training Accuracy: 0.64%\n",
      "Epoch 162/1000 - Training Loss: 0.2480, Training Accuracy: 0.64%\n",
      "Epoch 163/1000 - Training Loss: 0.2478, Training Accuracy: 0.64%\n",
      "Epoch 164/1000 - Training Loss: 0.2476, Training Accuracy: 0.64%\n",
      "Epoch 165/1000 - Training Loss: 0.2475, Training Accuracy: 0.64%\n",
      "Epoch 166/1000 - Training Loss: 0.2473, Training Accuracy: 0.64%\n",
      "Epoch 167/1000 - Training Loss: 0.2471, Training Accuracy: 0.64%\n",
      "Epoch 168/1000 - Training Loss: 0.2469, Training Accuracy: 0.64%\n",
      "Epoch 169/1000 - Training Loss: 0.2467, Training Accuracy: 0.64%\n",
      "Epoch 170/1000 - Training Loss: 0.2465, Training Accuracy: 0.64%\n",
      "Epoch 171/1000 - Training Loss: 0.2463, Training Accuracy: 0.64%\n",
      "Epoch 172/1000 - Training Loss: 0.2461, Training Accuracy: 0.64%\n",
      "Epoch 173/1000 - Training Loss: 0.2459, Training Accuracy: 0.64%\n",
      "Epoch 174/1000 - Training Loss: 0.2457, Training Accuracy: 0.64%\n",
      "Epoch 175/1000 - Training Loss: 0.2455, Training Accuracy: 0.64%\n",
      "Epoch 176/1000 - Training Loss: 0.2452, Training Accuracy: 0.64%\n",
      "Epoch 177/1000 - Training Loss: 0.2450, Training Accuracy: 0.64%\n",
      "Epoch 178/1000 - Training Loss: 0.2447, Training Accuracy: 0.64%\n",
      "Epoch 179/1000 - Training Loss: 0.2445, Training Accuracy: 0.65%\n",
      "Epoch 180/1000 - Training Loss: 0.2442, Training Accuracy: 0.65%\n",
      "Epoch 181/1000 - Training Loss: 0.2439, Training Accuracy: 0.65%\n",
      "Epoch 182/1000 - Training Loss: 0.2436, Training Accuracy: 0.65%\n",
      "Epoch 183/1000 - Training Loss: 0.2434, Training Accuracy: 0.65%\n",
      "Epoch 184/1000 - Training Loss: 0.2431, Training Accuracy: 0.65%\n",
      "Epoch 185/1000 - Training Loss: 0.2428, Training Accuracy: 0.65%\n",
      "Epoch 186/1000 - Training Loss: 0.2424, Training Accuracy: 0.65%\n",
      "Epoch 187/1000 - Training Loss: 0.2421, Training Accuracy: 0.65%\n",
      "Epoch 188/1000 - Training Loss: 0.2418, Training Accuracy: 0.65%\n",
      "Epoch 189/1000 - Training Loss: 0.2415, Training Accuracy: 0.66%\n",
      "Epoch 190/1000 - Training Loss: 0.2413, Training Accuracy: 0.66%\n",
      "Epoch 191/1000 - Training Loss: 0.2410, Training Accuracy: 0.66%\n",
      "Epoch 192/1000 - Training Loss: 0.2407, Training Accuracy: 0.66%\n",
      "Epoch 193/1000 - Training Loss: 0.2405, Training Accuracy: 0.66%\n",
      "Epoch 194/1000 - Training Loss: 0.2403, Training Accuracy: 0.66%\n",
      "Epoch 195/1000 - Training Loss: 0.2401, Training Accuracy: 0.66%\n",
      "Epoch 196/1000 - Training Loss: 0.2399, Training Accuracy: 0.66%\n",
      "Epoch 197/1000 - Training Loss: 0.2397, Training Accuracy: 0.66%\n",
      "Epoch 198/1000 - Training Loss: 0.2396, Training Accuracy: 0.66%\n",
      "Epoch 199/1000 - Training Loss: 0.2394, Training Accuracy: 0.66%\n",
      "Epoch 200/1000 - Training Loss: 0.2392, Training Accuracy: 0.66%\n",
      "Epoch 201/1000 - Training Loss: 0.2391, Training Accuracy: 0.66%\n",
      "Epoch 202/1000 - Training Loss: 0.2390, Training Accuracy: 0.65%\n",
      "Epoch 203/1000 - Training Loss: 0.2388, Training Accuracy: 0.66%\n",
      "Epoch 204/1000 - Training Loss: 0.2387, Training Accuracy: 0.66%\n",
      "Epoch 205/1000 - Training Loss: 0.2386, Training Accuracy: 0.65%\n",
      "Epoch 206/1000 - Training Loss: 0.2385, Training Accuracy: 0.65%\n",
      "Epoch 207/1000 - Training Loss: 0.2384, Training Accuracy: 0.65%\n",
      "Epoch 208/1000 - Training Loss: 0.2383, Training Accuracy: 0.65%\n",
      "Epoch 209/1000 - Training Loss: 0.2382, Training Accuracy: 0.65%\n",
      "Epoch 210/1000 - Training Loss: 0.2381, Training Accuracy: 0.65%\n",
      "Epoch 211/1000 - Training Loss: 0.2380, Training Accuracy: 0.65%\n",
      "Epoch 212/1000 - Training Loss: 0.2379, Training Accuracy: 0.65%\n",
      "Epoch 213/1000 - Training Loss: 0.2378, Training Accuracy: 0.65%\n",
      "Epoch 214/1000 - Training Loss: 0.2378, Training Accuracy: 0.65%\n",
      "Epoch 215/1000 - Training Loss: 0.2377, Training Accuracy: 0.65%\n",
      "Epoch 216/1000 - Training Loss: 0.2376, Training Accuracy: 0.65%\n",
      "Epoch 217/1000 - Training Loss: 0.2376, Training Accuracy: 0.65%\n",
      "Epoch 218/1000 - Training Loss: 0.2376, Training Accuracy: 0.65%\n",
      "Epoch 219/1000 - Training Loss: 0.2375, Training Accuracy: 0.65%\n",
      "Epoch 220/1000 - Training Loss: 0.2375, Training Accuracy: 0.65%\n",
      "Epoch 221/1000 - Training Loss: 0.2374, Training Accuracy: 0.65%\n",
      "Epoch 222/1000 - Training Loss: 0.2374, Training Accuracy: 0.66%\n",
      "Epoch 223/1000 - Training Loss: 0.2374, Training Accuracy: 0.66%\n",
      "Epoch 224/1000 - Training Loss: 0.2374, Training Accuracy: 0.66%\n",
      "Epoch 225/1000 - Training Loss: 0.2374, Training Accuracy: 0.66%\n",
      "Epoch 226/1000 - Training Loss: 0.2373, Training Accuracy: 0.66%\n",
      "Epoch 227/1000 - Training Loss: 0.2373, Training Accuracy: 0.66%\n",
      "Epoch 228/1000 - Training Loss: 0.2373, Training Accuracy: 0.66%\n",
      "Epoch 229/1000 - Training Loss: 0.2373, Training Accuracy: 0.66%\n",
      "Epoch 230/1000 - Training Loss: 0.2373, Training Accuracy: 0.66%\n",
      "Epoch 231/1000 - Training Loss: 0.2373, Training Accuracy: 0.66%\n",
      "Epoch 232/1000 - Training Loss: 0.2373, Training Accuracy: 0.66%\n",
      "Epoch 233/1000 - Training Loss: 0.2373, Training Accuracy: 0.66%\n",
      "Epoch 234/1000 - Training Loss: 0.2373, Training Accuracy: 0.66%\n",
      "Epoch 235/1000 - Training Loss: 0.2373, Training Accuracy: 0.66%\n",
      "Epoch 236/1000 - Training Loss: 0.2373, Training Accuracy: 0.66%\n",
      "Epoch 237/1000 - Training Loss: 0.2372, Training Accuracy: 0.66%\n",
      "Epoch 238/1000 - Training Loss: 0.2372, Training Accuracy: 0.66%\n",
      "Epoch 239/1000 - Training Loss: 0.2372, Training Accuracy: 0.66%\n",
      "Epoch 240/1000 - Training Loss: 0.2372, Training Accuracy: 0.66%\n",
      "Epoch 241/1000 - Training Loss: 0.2372, Training Accuracy: 0.66%\n",
      "Epoch 242/1000 - Training Loss: 0.2372, Training Accuracy: 0.66%\n",
      "Epoch 243/1000 - Training Loss: 0.2372, Training Accuracy: 0.66%\n",
      "Epoch 244/1000 - Training Loss: 0.2372, Training Accuracy: 0.66%\n",
      "Epoch 245/1000 - Training Loss: 0.2372, Training Accuracy: 0.66%\n",
      "Epoch 246/1000 - Training Loss: 0.2371, Training Accuracy: 0.66%\n",
      "Epoch 247/1000 - Training Loss: 0.2371, Training Accuracy: 0.66%\n",
      "Epoch 248/1000 - Training Loss: 0.2371, Training Accuracy: 0.66%\n",
      "Epoch 249/1000 - Training Loss: 0.2371, Training Accuracy: 0.66%\n",
      "Epoch 250/1000 - Training Loss: 0.2371, Training Accuracy: 0.66%\n",
      "Epoch 251/1000 - Training Loss: 0.2370, Training Accuracy: 0.67%\n",
      "Epoch 252/1000 - Training Loss: 0.2370, Training Accuracy: 0.67%\n",
      "Epoch 253/1000 - Training Loss: 0.2370, Training Accuracy: 0.67%\n",
      "Epoch 254/1000 - Training Loss: 0.2369, Training Accuracy: 0.67%\n",
      "Epoch 255/1000 - Training Loss: 0.2369, Training Accuracy: 0.67%\n",
      "Epoch 256/1000 - Training Loss: 0.2369, Training Accuracy: 0.67%\n",
      "Epoch 257/1000 - Training Loss: 0.2368, Training Accuracy: 0.67%\n",
      "Epoch 258/1000 - Training Loss: 0.2368, Training Accuracy: 0.67%\n",
      "Epoch 259/1000 - Training Loss: 0.2367, Training Accuracy: 0.67%\n",
      "Epoch 260/1000 - Training Loss: 0.2367, Training Accuracy: 0.67%\n",
      "Epoch 261/1000 - Training Loss: 0.2366, Training Accuracy: 0.67%\n",
      "Epoch 262/1000 - Training Loss: 0.2366, Training Accuracy: 0.67%\n",
      "Epoch 263/1000 - Training Loss: 0.2365, Training Accuracy: 0.67%\n",
      "Epoch 264/1000 - Training Loss: 0.2365, Training Accuracy: 0.67%\n",
      "Epoch 265/1000 - Training Loss: 0.2364, Training Accuracy: 0.66%\n",
      "Epoch 266/1000 - Training Loss: 0.2364, Training Accuracy: 0.66%\n",
      "Epoch 267/1000 - Training Loss: 0.2363, Training Accuracy: 0.66%\n",
      "Epoch 268/1000 - Training Loss: 0.2363, Training Accuracy: 0.66%\n",
      "Epoch 269/1000 - Training Loss: 0.2362, Training Accuracy: 0.66%\n",
      "Epoch 270/1000 - Training Loss: 0.2361, Training Accuracy: 0.66%\n",
      "Epoch 271/1000 - Training Loss: 0.2361, Training Accuracy: 0.66%\n",
      "Epoch 272/1000 - Training Loss: 0.2360, Training Accuracy: 0.66%\n",
      "Epoch 273/1000 - Training Loss: 0.2359, Training Accuracy: 0.66%\n",
      "Epoch 274/1000 - Training Loss: 0.2358, Training Accuracy: 0.66%\n",
      "Epoch 275/1000 - Training Loss: 0.2358, Training Accuracy: 0.66%\n",
      "Epoch 276/1000 - Training Loss: 0.2357, Training Accuracy: 0.66%\n",
      "Epoch 277/1000 - Training Loss: 0.2356, Training Accuracy: 0.66%\n",
      "Epoch 278/1000 - Training Loss: 0.2355, Training Accuracy: 0.66%\n",
      "Epoch 279/1000 - Training Loss: 0.2354, Training Accuracy: 0.66%\n",
      "Epoch 280/1000 - Training Loss: 0.2353, Training Accuracy: 0.66%\n",
      "Epoch 281/1000 - Training Loss: 0.2352, Training Accuracy: 0.66%\n",
      "Epoch 282/1000 - Training Loss: 0.2352, Training Accuracy: 0.66%\n",
      "Epoch 283/1000 - Training Loss: 0.2351, Training Accuracy: 0.66%\n",
      "Epoch 284/1000 - Training Loss: 0.2351, Training Accuracy: 0.66%\n",
      "Epoch 285/1000 - Training Loss: 0.2350, Training Accuracy: 0.66%\n",
      "Epoch 286/1000 - Training Loss: 0.2350, Training Accuracy: 0.66%\n",
      "Epoch 287/1000 - Training Loss: 0.2349, Training Accuracy: 0.66%\n",
      "Epoch 288/1000 - Training Loss: 0.2349, Training Accuracy: 0.66%\n",
      "Epoch 289/1000 - Training Loss: 0.2348, Training Accuracy: 0.66%\n",
      "Epoch 290/1000 - Training Loss: 0.2348, Training Accuracy: 0.66%\n",
      "Epoch 291/1000 - Training Loss: 0.2347, Training Accuracy: 0.66%\n",
      "Epoch 292/1000 - Training Loss: 0.2347, Training Accuracy: 0.67%\n",
      "Epoch 293/1000 - Training Loss: 0.2346, Training Accuracy: 0.67%\n",
      "Epoch 294/1000 - Training Loss: 0.2346, Training Accuracy: 0.67%\n",
      "Epoch 295/1000 - Training Loss: 0.2345, Training Accuracy: 0.67%\n",
      "Epoch 296/1000 - Training Loss: 0.2344, Training Accuracy: 0.67%\n",
      "Epoch 297/1000 - Training Loss: 0.2344, Training Accuracy: 0.66%\n",
      "Epoch 298/1000 - Training Loss: 0.2343, Training Accuracy: 0.67%\n",
      "Epoch 299/1000 - Training Loss: 0.2343, Training Accuracy: 0.67%\n",
      "Epoch 300/1000 - Training Loss: 0.2342, Training Accuracy: 0.67%\n",
      "Epoch 301/1000 - Training Loss: 0.2341, Training Accuracy: 0.67%\n",
      "Epoch 302/1000 - Training Loss: 0.2341, Training Accuracy: 0.67%\n",
      "Epoch 303/1000 - Training Loss: 0.2340, Training Accuracy: 0.67%\n",
      "Epoch 304/1000 - Training Loss: 0.2340, Training Accuracy: 0.67%\n",
      "Epoch 305/1000 - Training Loss: 0.2339, Training Accuracy: 0.67%\n",
      "Epoch 306/1000 - Training Loss: 0.2339, Training Accuracy: 0.67%\n",
      "Epoch 307/1000 - Training Loss: 0.2338, Training Accuracy: 0.67%\n",
      "Epoch 308/1000 - Training Loss: 0.2338, Training Accuracy: 0.67%\n",
      "Epoch 309/1000 - Training Loss: 0.2338, Training Accuracy: 0.67%\n",
      "Epoch 310/1000 - Training Loss: 0.2338, Training Accuracy: 0.67%\n",
      "Epoch 311/1000 - Training Loss: 0.2338, Training Accuracy: 0.67%\n",
      "Epoch 312/1000 - Training Loss: 0.2338, Training Accuracy: 0.67%\n",
      "Epoch 313/1000 - Training Loss: 0.2338, Training Accuracy: 0.67%\n",
      "Epoch 314/1000 - Training Loss: 0.2338, Training Accuracy: 0.67%\n",
      "Epoch 315/1000 - Training Loss: 0.2338, Training Accuracy: 0.67%\n",
      "Epoch 316/1000 - Training Loss: 0.2338, Training Accuracy: 0.67%\n",
      "Epoch 317/1000 - Training Loss: 0.2338, Training Accuracy: 0.67%\n",
      "Epoch 318/1000 - Training Loss: 0.2338, Training Accuracy: 0.67%\n",
      "Epoch 319/1000 - Training Loss: 0.2338, Training Accuracy: 0.67%\n",
      "Epoch 320/1000 - Training Loss: 0.2338, Training Accuracy: 0.67%\n",
      "Epoch 321/1000 - Training Loss: 0.2339, Training Accuracy: 0.66%\n",
      "Epoch 322/1000 - Training Loss: 0.2339, Training Accuracy: 0.67%\n",
      "Epoch 323/1000 - Training Loss: 0.2339, Training Accuracy: 0.67%\n",
      "Epoch 324/1000 - Training Loss: 0.2339, Training Accuracy: 0.66%\n",
      "Epoch 325/1000 - Training Loss: 0.2340, Training Accuracy: 0.66%\n",
      "Epoch 326/1000 - Training Loss: 0.2340, Training Accuracy: 0.66%\n",
      "Epoch 327/1000 - Training Loss: 0.2340, Training Accuracy: 0.66%\n",
      "Epoch 328/1000 - Training Loss: 0.2341, Training Accuracy: 0.67%\n",
      "Epoch 329/1000 - Training Loss: 0.2341, Training Accuracy: 0.66%\n",
      "Epoch 330/1000 - Training Loss: 0.2342, Training Accuracy: 0.66%\n",
      "Epoch 331/1000 - Training Loss: 0.2342, Training Accuracy: 0.66%\n",
      "Epoch 332/1000 - Training Loss: 0.2343, Training Accuracy: 0.66%\n",
      "Epoch 333/1000 - Training Loss: 0.2343, Training Accuracy: 0.66%\n",
      "Epoch 334/1000 - Training Loss: 0.2343, Training Accuracy: 0.66%\n",
      "Epoch 335/1000 - Training Loss: 0.2344, Training Accuracy: 0.66%\n",
      "Epoch 336/1000 - Training Loss: 0.2344, Training Accuracy: 0.66%\n",
      "Epoch 337/1000 - Training Loss: 0.2344, Training Accuracy: 0.66%\n",
      "Epoch 338/1000 - Training Loss: 0.2345, Training Accuracy: 0.66%\n",
      "Epoch 339/1000 - Training Loss: 0.2345, Training Accuracy: 0.66%\n",
      "Epoch 340/1000 - Training Loss: 0.2345, Training Accuracy: 0.66%\n",
      "Epoch 341/1000 - Training Loss: 0.2345, Training Accuracy: 0.66%\n",
      "Epoch 342/1000 - Training Loss: 0.2345, Training Accuracy: 0.67%\n",
      "Epoch 343/1000 - Training Loss: 0.2345, Training Accuracy: 0.67%\n",
      "Epoch 344/1000 - Training Loss: 0.2345, Training Accuracy: 0.67%\n",
      "Epoch 345/1000 - Training Loss: 0.2345, Training Accuracy: 0.67%\n",
      "Epoch 346/1000 - Training Loss: 0.2344, Training Accuracy: 0.67%\n",
      "Epoch 347/1000 - Training Loss: 0.2344, Training Accuracy: 0.67%\n",
      "Epoch 348/1000 - Training Loss: 0.2344, Training Accuracy: 0.67%\n",
      "Epoch 349/1000 - Training Loss: 0.2344, Training Accuracy: 0.67%\n",
      "Epoch 350/1000 - Training Loss: 0.2343, Training Accuracy: 0.67%\n",
      "Epoch 351/1000 - Training Loss: 0.2343, Training Accuracy: 0.67%\n",
      "Epoch 352/1000 - Training Loss: 0.2342, Training Accuracy: 0.67%\n",
      "Epoch 353/1000 - Training Loss: 0.2342, Training Accuracy: 0.67%\n",
      "Epoch 354/1000 - Training Loss: 0.2341, Training Accuracy: 0.67%\n",
      "Epoch 355/1000 - Training Loss: 0.2341, Training Accuracy: 0.67%\n",
      "Epoch 356/1000 - Training Loss: 0.2341, Training Accuracy: 0.67%\n",
      "Epoch 357/1000 - Training Loss: 0.2340, Training Accuracy: 0.67%\n",
      "Epoch 358/1000 - Training Loss: 0.2340, Training Accuracy: 0.67%\n",
      "Epoch 359/1000 - Training Loss: 0.2339, Training Accuracy: 0.67%\n",
      "Epoch 360/1000 - Training Loss: 0.2339, Training Accuracy: 0.67%\n",
      "Epoch 361/1000 - Training Loss: 0.2338, Training Accuracy: 0.67%\n",
      "Epoch 362/1000 - Training Loss: 0.2338, Training Accuracy: 0.67%\n",
      "Epoch 363/1000 - Training Loss: 0.2338, Training Accuracy: 0.67%\n",
      "Epoch 364/1000 - Training Loss: 0.2337, Training Accuracy: 0.67%\n",
      "Epoch 365/1000 - Training Loss: 0.2337, Training Accuracy: 0.67%\n",
      "Epoch 366/1000 - Training Loss: 0.2337, Training Accuracy: 0.67%\n",
      "Epoch 367/1000 - Training Loss: 0.2337, Training Accuracy: 0.67%\n",
      "Epoch 368/1000 - Training Loss: 0.2336, Training Accuracy: 0.67%\n",
      "Epoch 369/1000 - Training Loss: 0.2336, Training Accuracy: 0.67%\n",
      "Epoch 370/1000 - Training Loss: 0.2336, Training Accuracy: 0.68%\n",
      "Epoch 371/1000 - Training Loss: 0.2336, Training Accuracy: 0.68%\n",
      "Epoch 372/1000 - Training Loss: 0.2336, Training Accuracy: 0.67%\n",
      "Epoch 373/1000 - Training Loss: 0.2336, Training Accuracy: 0.67%\n",
      "Epoch 374/1000 - Training Loss: 0.2336, Training Accuracy: 0.67%\n",
      "Epoch 375/1000 - Training Loss: 0.2336, Training Accuracy: 0.67%\n",
      "Epoch 376/1000 - Training Loss: 0.2336, Training Accuracy: 0.67%\n",
      "Epoch 377/1000 - Training Loss: 0.2336, Training Accuracy: 0.67%\n",
      "Epoch 378/1000 - Training Loss: 0.2336, Training Accuracy: 0.68%\n",
      "Epoch 379/1000 - Training Loss: 0.2336, Training Accuracy: 0.68%\n",
      "Epoch 380/1000 - Training Loss: 0.2336, Training Accuracy: 0.68%\n",
      "Epoch 381/1000 - Training Loss: 0.2336, Training Accuracy: 0.67%\n",
      "Epoch 382/1000 - Training Loss: 0.2336, Training Accuracy: 0.68%\n",
      "Epoch 383/1000 - Training Loss: 0.2337, Training Accuracy: 0.68%\n",
      "Epoch 384/1000 - Training Loss: 0.2337, Training Accuracy: 0.68%\n",
      "Epoch 385/1000 - Training Loss: 0.2337, Training Accuracy: 0.68%\n",
      "Epoch 386/1000 - Training Loss: 0.2337, Training Accuracy: 0.68%\n",
      "Epoch 387/1000 - Training Loss: 0.2337, Training Accuracy: 0.68%\n",
      "Epoch 388/1000 - Training Loss: 0.2338, Training Accuracy: 0.67%\n",
      "Epoch 389/1000 - Training Loss: 0.2338, Training Accuracy: 0.67%\n",
      "Epoch 390/1000 - Training Loss: 0.2338, Training Accuracy: 0.67%\n",
      "Epoch 391/1000 - Training Loss: 0.2339, Training Accuracy: 0.67%\n",
      "Epoch 392/1000 - Training Loss: 0.2339, Training Accuracy: 0.67%\n",
      "Epoch 393/1000 - Training Loss: 0.2339, Training Accuracy: 0.67%\n",
      "Epoch 394/1000 - Training Loss: 0.2340, Training Accuracy: 0.67%\n",
      "Epoch 395/1000 - Training Loss: 0.2340, Training Accuracy: 0.67%\n",
      "Epoch 396/1000 - Training Loss: 0.2341, Training Accuracy: 0.67%\n",
      "Epoch 397/1000 - Training Loss: 0.2341, Training Accuracy: 0.67%\n",
      "Epoch 398/1000 - Training Loss: 0.2342, Training Accuracy: 0.67%\n",
      "Epoch 399/1000 - Training Loss: 0.2342, Training Accuracy: 0.67%\n",
      "Epoch 400/1000 - Training Loss: 0.2343, Training Accuracy: 0.67%\n",
      "Epoch 401/1000 - Training Loss: 0.2343, Training Accuracy: 0.67%\n",
      "Epoch 402/1000 - Training Loss: 0.2344, Training Accuracy: 0.68%\n",
      "Epoch 403/1000 - Training Loss: 0.2344, Training Accuracy: 0.68%\n",
      "Epoch 404/1000 - Training Loss: 0.2345, Training Accuracy: 0.67%\n",
      "Epoch 405/1000 - Training Loss: 0.2346, Training Accuracy: 0.67%\n",
      "Epoch 406/1000 - Training Loss: 0.2346, Training Accuracy: 0.67%\n",
      "Epoch 407/1000 - Training Loss: 0.2347, Training Accuracy: 0.67%\n",
      "Epoch 408/1000 - Training Loss: 0.2347, Training Accuracy: 0.67%\n",
      "Epoch 409/1000 - Training Loss: 0.2348, Training Accuracy: 0.67%\n",
      "Epoch 410/1000 - Training Loss: 0.2349, Training Accuracy: 0.67%\n",
      "Epoch 411/1000 - Training Loss: 0.2349, Training Accuracy: 0.67%\n",
      "Epoch 412/1000 - Training Loss: 0.2350, Training Accuracy: 0.67%\n",
      "Epoch 413/1000 - Training Loss: 0.2350, Training Accuracy: 0.67%\n",
      "Epoch 414/1000 - Training Loss: 0.2351, Training Accuracy: 0.67%\n",
      "Epoch 415/1000 - Training Loss: 0.2352, Training Accuracy: 0.67%\n",
      "Epoch 416/1000 - Training Loss: 0.2352, Training Accuracy: 0.67%\n",
      "Epoch 417/1000 - Training Loss: 0.2352, Training Accuracy: 0.67%\n",
      "Epoch 418/1000 - Training Loss: 0.2353, Training Accuracy: 0.67%\n",
      "Epoch 419/1000 - Training Loss: 0.2353, Training Accuracy: 0.67%\n",
      "Epoch 420/1000 - Training Loss: 0.2354, Training Accuracy: 0.67%\n",
      "Epoch 421/1000 - Training Loss: 0.2354, Training Accuracy: 0.67%\n",
      "Epoch 422/1000 - Training Loss: 0.2354, Training Accuracy: 0.67%\n",
      "Epoch 423/1000 - Training Loss: 0.2355, Training Accuracy: 0.67%\n",
      "Epoch 424/1000 - Training Loss: 0.2355, Training Accuracy: 0.67%\n",
      "Epoch 425/1000 - Training Loss: 0.2355, Training Accuracy: 0.67%\n",
      "Epoch 426/1000 - Training Loss: 0.2355, Training Accuracy: 0.67%\n",
      "Epoch 427/1000 - Training Loss: 0.2356, Training Accuracy: 0.67%\n",
      "Epoch 428/1000 - Training Loss: 0.2356, Training Accuracy: 0.67%\n",
      "Epoch 429/1000 - Training Loss: 0.2356, Training Accuracy: 0.67%\n",
      "Epoch 430/1000 - Training Loss: 0.2356, Training Accuracy: 0.67%\n",
      "Epoch 431/1000 - Training Loss: 0.2357, Training Accuracy: 0.67%\n",
      "Epoch 432/1000 - Training Loss: 0.2357, Training Accuracy: 0.67%\n",
      "Epoch 433/1000 - Training Loss: 0.2357, Training Accuracy: 0.67%\n",
      "Epoch 434/1000 - Training Loss: 0.2358, Training Accuracy: 0.67%\n",
      "Epoch 435/1000 - Training Loss: 0.2358, Training Accuracy: 0.66%\n",
      "Epoch 436/1000 - Training Loss: 0.2358, Training Accuracy: 0.66%\n",
      "Epoch 437/1000 - Training Loss: 0.2359, Training Accuracy: 0.66%\n",
      "Epoch 438/1000 - Training Loss: 0.2359, Training Accuracy: 0.66%\n",
      "Epoch 439/1000 - Training Loss: 0.2360, Training Accuracy: 0.66%\n",
      "Epoch 440/1000 - Training Loss: 0.2361, Training Accuracy: 0.66%\n",
      "Epoch 441/1000 - Training Loss: 0.2361, Training Accuracy: 0.66%\n",
      "Epoch 442/1000 - Training Loss: 0.2362, Training Accuracy: 0.66%\n",
      "Epoch 443/1000 - Training Loss: 0.2363, Training Accuracy: 0.66%\n",
      "Epoch 444/1000 - Training Loss: 0.2364, Training Accuracy: 0.66%\n",
      "Epoch 445/1000 - Training Loss: 0.2365, Training Accuracy: 0.66%\n",
      "Epoch 446/1000 - Training Loss: 0.2366, Training Accuracy: 0.66%\n",
      "Epoch 447/1000 - Training Loss: 0.2368, Training Accuracy: 0.66%\n",
      "Epoch 448/1000 - Training Loss: 0.2369, Training Accuracy: 0.66%\n",
      "Epoch 449/1000 - Training Loss: 0.2370, Training Accuracy: 0.66%\n",
      "Epoch 450/1000 - Training Loss: 0.2372, Training Accuracy: 0.66%\n",
      "Epoch 451/1000 - Training Loss: 0.2373, Training Accuracy: 0.66%\n",
      "Epoch 452/1000 - Training Loss: 0.2375, Training Accuracy: 0.66%\n",
      "Epoch 453/1000 - Training Loss: 0.2376, Training Accuracy: 0.66%\n",
      "Epoch 454/1000 - Training Loss: 0.2377, Training Accuracy: 0.66%\n",
      "Epoch 455/1000 - Training Loss: 0.2379, Training Accuracy: 0.66%\n",
      "Epoch 456/1000 - Training Loss: 0.2380, Training Accuracy: 0.66%\n",
      "Epoch 457/1000 - Training Loss: 0.2380, Training Accuracy: 0.66%\n",
      "Epoch 458/1000 - Training Loss: 0.2381, Training Accuracy: 0.66%\n",
      "Epoch 459/1000 - Training Loss: 0.2381, Training Accuracy: 0.66%\n",
      "Epoch 460/1000 - Training Loss: 0.2379, Training Accuracy: 0.66%\n",
      "Epoch 461/1000 - Training Loss: 0.2377, Training Accuracy: 0.66%\n",
      "Epoch 462/1000 - Training Loss: 0.2377, Training Accuracy: 0.66%\n",
      "Epoch 463/1000 - Training Loss: 0.2376, Training Accuracy: 0.66%\n",
      "Epoch 464/1000 - Training Loss: 0.2375, Training Accuracy: 0.66%\n",
      "Epoch 465/1000 - Training Loss: 0.2374, Training Accuracy: 0.66%\n",
      "Epoch 466/1000 - Training Loss: 0.2373, Training Accuracy: 0.66%\n",
      "Epoch 467/1000 - Training Loss: 0.2371, Training Accuracy: 0.66%\n",
      "Epoch 468/1000 - Training Loss: 0.2370, Training Accuracy: 0.66%\n",
      "Epoch 469/1000 - Training Loss: 0.2369, Training Accuracy: 0.66%\n",
      "Epoch 470/1000 - Training Loss: 0.2368, Training Accuracy: 0.66%\n",
      "Epoch 471/1000 - Training Loss: 0.2367, Training Accuracy: 0.66%\n",
      "Epoch 472/1000 - Training Loss: 0.2365, Training Accuracy: 0.66%\n",
      "Epoch 473/1000 - Training Loss: 0.2364, Training Accuracy: 0.66%\n",
      "Epoch 474/1000 - Training Loss: 0.2363, Training Accuracy: 0.67%\n",
      "Epoch 475/1000 - Training Loss: 0.2361, Training Accuracy: 0.67%\n",
      "Epoch 476/1000 - Training Loss: 0.2359, Training Accuracy: 0.66%\n",
      "Epoch 477/1000 - Training Loss: 0.2356, Training Accuracy: 0.66%\n",
      "Epoch 478/1000 - Training Loss: 0.2355, Training Accuracy: 0.66%\n",
      "Epoch 479/1000 - Training Loss: 0.2353, Training Accuracy: 0.66%\n",
      "Epoch 480/1000 - Training Loss: 0.2352, Training Accuracy: 0.66%\n",
      "Epoch 481/1000 - Training Loss: 0.2351, Training Accuracy: 0.66%\n",
      "Epoch 482/1000 - Training Loss: 0.2350, Training Accuracy: 0.66%\n",
      "Epoch 483/1000 - Training Loss: 0.2349, Training Accuracy: 0.66%\n",
      "Epoch 484/1000 - Training Loss: 0.2348, Training Accuracy: 0.66%\n",
      "Epoch 485/1000 - Training Loss: 0.2348, Training Accuracy: 0.66%\n",
      "Epoch 486/1000 - Training Loss: 0.2347, Training Accuracy: 0.66%\n",
      "Epoch 487/1000 - Training Loss: 0.2347, Training Accuracy: 0.66%\n",
      "Epoch 488/1000 - Training Loss: 0.2347, Training Accuracy: 0.67%\n",
      "Epoch 489/1000 - Training Loss: 0.2347, Training Accuracy: 0.67%\n",
      "Epoch 490/1000 - Training Loss: 0.2346, Training Accuracy: 0.67%\n",
      "Epoch 491/1000 - Training Loss: 0.2346, Training Accuracy: 0.67%\n",
      "Epoch 492/1000 - Training Loss: 0.2346, Training Accuracy: 0.67%\n",
      "Epoch 493/1000 - Training Loss: 0.2345, Training Accuracy: 0.67%\n",
      "Epoch 494/1000 - Training Loss: 0.2344, Training Accuracy: 0.67%\n",
      "Epoch 495/1000 - Training Loss: 0.2343, Training Accuracy: 0.66%\n",
      "Epoch 496/1000 - Training Loss: 0.2343, Training Accuracy: 0.66%\n",
      "Epoch 497/1000 - Training Loss: 0.2342, Training Accuracy: 0.66%\n",
      "Epoch 498/1000 - Training Loss: 0.2341, Training Accuracy: 0.67%\n",
      "Epoch 499/1000 - Training Loss: 0.2341, Training Accuracy: 0.67%\n",
      "Epoch 500/1000 - Training Loss: 0.2340, Training Accuracy: 0.67%\n",
      "Epoch 501/1000 - Training Loss: 0.2340, Training Accuracy: 0.67%\n",
      "Epoch 502/1000 - Training Loss: 0.2340, Training Accuracy: 0.67%\n",
      "Epoch 503/1000 - Training Loss: 0.2340, Training Accuracy: 0.67%\n",
      "Epoch 504/1000 - Training Loss: 0.2340, Training Accuracy: 0.67%\n",
      "Epoch 505/1000 - Training Loss: 0.2341, Training Accuracy: 0.67%\n",
      "Epoch 506/1000 - Training Loss: 0.2341, Training Accuracy: 0.67%\n",
      "Epoch 507/1000 - Training Loss: 0.2341, Training Accuracy: 0.67%\n",
      "Epoch 508/1000 - Training Loss: 0.2341, Training Accuracy: 0.67%\n",
      "Epoch 509/1000 - Training Loss: 0.2341, Training Accuracy: 0.66%\n",
      "Epoch 510/1000 - Training Loss: 0.2342, Training Accuracy: 0.66%\n",
      "Epoch 511/1000 - Training Loss: 0.2342, Training Accuracy: 0.67%\n",
      "Epoch 512/1000 - Training Loss: 0.2342, Training Accuracy: 0.67%\n",
      "Epoch 513/1000 - Training Loss: 0.2341, Training Accuracy: 0.66%\n",
      "Epoch 514/1000 - Training Loss: 0.2341, Training Accuracy: 0.66%\n",
      "Epoch 515/1000 - Training Loss: 0.2341, Training Accuracy: 0.67%\n",
      "Epoch 516/1000 - Training Loss: 0.2341, Training Accuracy: 0.67%\n",
      "Epoch 517/1000 - Training Loss: 0.2341, Training Accuracy: 0.67%\n",
      "Epoch 518/1000 - Training Loss: 0.2341, Training Accuracy: 0.67%\n",
      "Epoch 519/1000 - Training Loss: 0.2341, Training Accuracy: 0.67%\n",
      "Epoch 520/1000 - Training Loss: 0.2341, Training Accuracy: 0.67%\n",
      "Epoch 521/1000 - Training Loss: 0.2341, Training Accuracy: 0.67%\n",
      "Epoch 522/1000 - Training Loss: 0.2341, Training Accuracy: 0.67%\n",
      "Epoch 523/1000 - Training Loss: 0.2342, Training Accuracy: 0.67%\n",
      "Epoch 524/1000 - Training Loss: 0.2343, Training Accuracy: 0.67%\n",
      "Epoch 525/1000 - Training Loss: 0.2343, Training Accuracy: 0.67%\n",
      "Epoch 526/1000 - Training Loss: 0.2344, Training Accuracy: 0.67%\n",
      "Epoch 527/1000 - Training Loss: 0.2345, Training Accuracy: 0.67%\n",
      "Epoch 528/1000 - Training Loss: 0.2345, Training Accuracy: 0.67%\n",
      "Epoch 529/1000 - Training Loss: 0.2345, Training Accuracy: 0.67%\n",
      "Epoch 530/1000 - Training Loss: 0.2346, Training Accuracy: 0.67%\n",
      "Epoch 531/1000 - Training Loss: 0.2346, Training Accuracy: 0.67%\n",
      "Epoch 532/1000 - Training Loss: 0.2346, Training Accuracy: 0.67%\n",
      "Epoch 533/1000 - Training Loss: 0.2346, Training Accuracy: 0.67%\n",
      "Epoch 534/1000 - Training Loss: 0.2346, Training Accuracy: 0.67%\n",
      "Epoch 535/1000 - Training Loss: 0.2346, Training Accuracy: 0.67%\n",
      "Epoch 536/1000 - Training Loss: 0.2346, Training Accuracy: 0.67%\n",
      "Epoch 537/1000 - Training Loss: 0.2346, Training Accuracy: 0.67%\n",
      "Epoch 538/1000 - Training Loss: 0.2346, Training Accuracy: 0.67%\n",
      "Epoch 539/1000 - Training Loss: 0.2346, Training Accuracy: 0.67%\n",
      "Epoch 540/1000 - Training Loss: 0.2346, Training Accuracy: 0.67%\n",
      "Epoch 541/1000 - Training Loss: 0.2345, Training Accuracy: 0.67%\n",
      "Epoch 542/1000 - Training Loss: 0.2345, Training Accuracy: 0.67%\n",
      "Epoch 543/1000 - Training Loss: 0.2345, Training Accuracy: 0.67%\n",
      "Epoch 544/1000 - Training Loss: 0.2344, Training Accuracy: 0.67%\n",
      "Epoch 545/1000 - Training Loss: 0.2344, Training Accuracy: 0.67%\n",
      "Epoch 546/1000 - Training Loss: 0.2343, Training Accuracy: 0.67%\n",
      "Epoch 547/1000 - Training Loss: 0.2343, Training Accuracy: 0.67%\n",
      "Epoch 548/1000 - Training Loss: 0.2342, Training Accuracy: 0.67%\n",
      "Epoch 549/1000 - Training Loss: 0.2341, Training Accuracy: 0.67%\n",
      "Epoch 550/1000 - Training Loss: 0.2341, Training Accuracy: 0.67%\n",
      "Epoch 551/1000 - Training Loss: 0.2341, Training Accuracy: 0.67%\n",
      "Epoch 552/1000 - Training Loss: 0.2340, Training Accuracy: 0.67%\n",
      "Epoch 553/1000 - Training Loss: 0.2340, Training Accuracy: 0.67%\n",
      "Epoch 554/1000 - Training Loss: 0.2340, Training Accuracy: 0.67%\n",
      "Epoch 555/1000 - Training Loss: 0.2340, Training Accuracy: 0.67%\n",
      "Epoch 556/1000 - Training Loss: 0.2340, Training Accuracy: 0.67%\n",
      "Epoch 557/1000 - Training Loss: 0.2340, Training Accuracy: 0.67%\n",
      "Epoch 558/1000 - Training Loss: 0.2339, Training Accuracy: 0.67%\n",
      "Epoch 559/1000 - Training Loss: 0.2339, Training Accuracy: 0.67%\n",
      "Epoch 560/1000 - Training Loss: 0.2339, Training Accuracy: 0.67%\n",
      "Epoch 561/1000 - Training Loss: 0.2338, Training Accuracy: 0.67%\n",
      "Epoch 562/1000 - Training Loss: 0.2338, Training Accuracy: 0.67%\n",
      "Epoch 563/1000 - Training Loss: 0.2337, Training Accuracy: 0.67%\n",
      "Epoch 564/1000 - Training Loss: 0.2336, Training Accuracy: 0.67%\n",
      "Epoch 565/1000 - Training Loss: 0.2336, Training Accuracy: 0.67%\n",
      "Epoch 566/1000 - Training Loss: 0.2335, Training Accuracy: 0.67%\n",
      "Epoch 567/1000 - Training Loss: 0.2334, Training Accuracy: 0.68%\n",
      "Epoch 568/1000 - Training Loss: 0.2333, Training Accuracy: 0.68%\n",
      "Epoch 569/1000 - Training Loss: 0.2332, Training Accuracy: 0.68%\n",
      "Epoch 570/1000 - Training Loss: 0.2330, Training Accuracy: 0.67%\n",
      "Epoch 571/1000 - Training Loss: 0.2329, Training Accuracy: 0.67%\n",
      "Epoch 572/1000 - Training Loss: 0.2327, Training Accuracy: 0.67%\n",
      "Epoch 573/1000 - Training Loss: 0.2325, Training Accuracy: 0.67%\n",
      "Epoch 574/1000 - Training Loss: 0.2323, Training Accuracy: 0.67%\n",
      "Epoch 575/1000 - Training Loss: 0.2320, Training Accuracy: 0.67%\n",
      "Epoch 576/1000 - Training Loss: 0.2318, Training Accuracy: 0.67%\n",
      "Epoch 577/1000 - Training Loss: 0.2318, Training Accuracy: 0.67%\n",
      "Epoch 578/1000 - Training Loss: 0.2316, Training Accuracy: 0.68%\n",
      "Epoch 579/1000 - Training Loss: 0.2316, Training Accuracy: 0.67%\n",
      "Epoch 580/1000 - Training Loss: 0.2315, Training Accuracy: 0.67%\n",
      "Epoch 581/1000 - Training Loss: 0.2314, Training Accuracy: 0.67%\n",
      "Epoch 582/1000 - Training Loss: 0.2314, Training Accuracy: 0.67%\n",
      "Epoch 583/1000 - Training Loss: 0.2313, Training Accuracy: 0.67%\n",
      "Epoch 584/1000 - Training Loss: 0.2312, Training Accuracy: 0.67%\n",
      "Epoch 585/1000 - Training Loss: 0.2311, Training Accuracy: 0.67%\n",
      "Epoch 586/1000 - Training Loss: 0.2311, Training Accuracy: 0.67%\n",
      "Epoch 587/1000 - Training Loss: 0.2310, Training Accuracy: 0.67%\n",
      "Epoch 588/1000 - Training Loss: 0.2310, Training Accuracy: 0.67%\n",
      "Epoch 589/1000 - Training Loss: 0.2310, Training Accuracy: 0.67%\n",
      "Epoch 590/1000 - Training Loss: 0.2310, Training Accuracy: 0.67%\n",
      "Epoch 591/1000 - Training Loss: 0.2310, Training Accuracy: 0.67%\n",
      "Epoch 592/1000 - Training Loss: 0.2311, Training Accuracy: 0.67%\n",
      "Epoch 593/1000 - Training Loss: 0.2311, Training Accuracy: 0.67%\n",
      "Epoch 594/1000 - Training Loss: 0.2311, Training Accuracy: 0.67%\n",
      "Epoch 595/1000 - Training Loss: 0.2311, Training Accuracy: 0.67%\n",
      "Epoch 596/1000 - Training Loss: 0.2311, Training Accuracy: 0.67%\n",
      "Epoch 597/1000 - Training Loss: 0.2311, Training Accuracy: 0.67%\n",
      "Epoch 598/1000 - Training Loss: 0.2311, Training Accuracy: 0.67%\n",
      "Epoch 599/1000 - Training Loss: 0.2311, Training Accuracy: 0.67%\n",
      "Epoch 600/1000 - Training Loss: 0.2311, Training Accuracy: 0.67%\n",
      "Epoch 601/1000 - Training Loss: 0.2312, Training Accuracy: 0.67%\n",
      "Epoch 602/1000 - Training Loss: 0.2312, Training Accuracy: 0.67%\n",
      "Epoch 603/1000 - Training Loss: 0.2312, Training Accuracy: 0.67%\n",
      "Epoch 604/1000 - Training Loss: 0.2313, Training Accuracy: 0.67%\n",
      "Epoch 605/1000 - Training Loss: 0.2313, Training Accuracy: 0.67%\n",
      "Epoch 606/1000 - Training Loss: 0.2314, Training Accuracy: 0.67%\n",
      "Epoch 607/1000 - Training Loss: 0.2315, Training Accuracy: 0.67%\n",
      "Epoch 608/1000 - Training Loss: 0.2316, Training Accuracy: 0.67%\n",
      "Epoch 609/1000 - Training Loss: 0.2317, Training Accuracy: 0.67%\n",
      "Epoch 610/1000 - Training Loss: 0.2319, Training Accuracy: 0.67%\n",
      "Epoch 611/1000 - Training Loss: 0.2320, Training Accuracy: 0.67%\n",
      "Epoch 612/1000 - Training Loss: 0.2321, Training Accuracy: 0.67%\n",
      "Epoch 613/1000 - Training Loss: 0.2322, Training Accuracy: 0.67%\n",
      "Epoch 614/1000 - Training Loss: 0.2323, Training Accuracy: 0.67%\n",
      "Epoch 615/1000 - Training Loss: 0.2323, Training Accuracy: 0.67%\n",
      "Epoch 616/1000 - Training Loss: 0.2324, Training Accuracy: 0.67%\n",
      "Epoch 617/1000 - Training Loss: 0.2324, Training Accuracy: 0.67%\n",
      "Epoch 618/1000 - Training Loss: 0.2324, Training Accuracy: 0.67%\n",
      "Epoch 619/1000 - Training Loss: 0.2325, Training Accuracy: 0.67%\n",
      "Epoch 620/1000 - Training Loss: 0.2325, Training Accuracy: 0.66%\n",
      "Epoch 621/1000 - Training Loss: 0.2325, Training Accuracy: 0.67%\n",
      "Epoch 622/1000 - Training Loss: 0.2325, Training Accuracy: 0.67%\n",
      "Epoch 623/1000 - Training Loss: 0.2325, Training Accuracy: 0.67%\n",
      "Epoch 624/1000 - Training Loss: 0.2325, Training Accuracy: 0.67%\n",
      "Epoch 625/1000 - Training Loss: 0.2325, Training Accuracy: 0.67%\n",
      "Epoch 626/1000 - Training Loss: 0.2325, Training Accuracy: 0.67%\n",
      "Epoch 627/1000 - Training Loss: 0.2325, Training Accuracy: 0.67%\n",
      "Epoch 628/1000 - Training Loss: 0.2325, Training Accuracy: 0.67%\n",
      "Epoch 629/1000 - Training Loss: 0.2325, Training Accuracy: 0.67%\n",
      "Epoch 630/1000 - Training Loss: 0.2325, Training Accuracy: 0.67%\n",
      "Epoch 631/1000 - Training Loss: 0.2325, Training Accuracy: 0.68%\n",
      "Epoch 632/1000 - Training Loss: 0.2325, Training Accuracy: 0.68%\n",
      "Epoch 633/1000 - Training Loss: 0.2325, Training Accuracy: 0.67%\n",
      "Epoch 634/1000 - Training Loss: 0.2324, Training Accuracy: 0.67%\n",
      "Epoch 635/1000 - Training Loss: 0.2324, Training Accuracy: 0.67%\n",
      "Epoch 636/1000 - Training Loss: 0.2325, Training Accuracy: 0.67%\n",
      "Epoch 637/1000 - Training Loss: 0.2325, Training Accuracy: 0.67%\n",
      "Epoch 638/1000 - Training Loss: 0.2326, Training Accuracy: 0.67%\n",
      "Epoch 639/1000 - Training Loss: 0.2327, Training Accuracy: 0.67%\n",
      "Epoch 640/1000 - Training Loss: 0.2328, Training Accuracy: 0.67%\n",
      "Epoch 641/1000 - Training Loss: 0.2329, Training Accuracy: 0.67%\n",
      "Epoch 642/1000 - Training Loss: 0.2329, Training Accuracy: 0.67%\n",
      "Epoch 643/1000 - Training Loss: 0.2330, Training Accuracy: 0.67%\n",
      "Epoch 644/1000 - Training Loss: 0.2330, Training Accuracy: 0.67%\n",
      "Epoch 645/1000 - Training Loss: 0.2329, Training Accuracy: 0.66%\n",
      "Epoch 646/1000 - Training Loss: 0.2328, Training Accuracy: 0.66%\n",
      "Epoch 647/1000 - Training Loss: 0.2327, Training Accuracy: 0.67%\n",
      "Epoch 648/1000 - Training Loss: 0.2325, Training Accuracy: 0.67%\n",
      "Epoch 649/1000 - Training Loss: 0.2323, Training Accuracy: 0.67%\n",
      "Epoch 650/1000 - Training Loss: 0.2322, Training Accuracy: 0.67%\n",
      "Epoch 651/1000 - Training Loss: 0.2321, Training Accuracy: 0.67%\n",
      "Epoch 652/1000 - Training Loss: 0.2320, Training Accuracy: 0.67%\n",
      "Epoch 653/1000 - Training Loss: 0.2320, Training Accuracy: 0.68%\n",
      "Epoch 654/1000 - Training Loss: 0.2320, Training Accuracy: 0.68%\n",
      "Epoch 655/1000 - Training Loss: 0.2319, Training Accuracy: 0.68%\n",
      "Epoch 656/1000 - Training Loss: 0.2319, Training Accuracy: 0.68%\n",
      "Epoch 657/1000 - Training Loss: 0.2318, Training Accuracy: 0.68%\n",
      "Epoch 658/1000 - Training Loss: 0.2318, Training Accuracy: 0.68%\n",
      "Epoch 659/1000 - Training Loss: 0.2318, Training Accuracy: 0.68%\n",
      "Epoch 660/1000 - Training Loss: 0.2317, Training Accuracy: 0.68%\n",
      "Epoch 661/1000 - Training Loss: 0.2317, Training Accuracy: 0.68%\n",
      "Epoch 662/1000 - Training Loss: 0.2317, Training Accuracy: 0.68%\n",
      "Epoch 663/1000 - Training Loss: 0.2316, Training Accuracy: 0.68%\n",
      "Epoch 664/1000 - Training Loss: 0.2316, Training Accuracy: 0.68%\n",
      "Epoch 665/1000 - Training Loss: 0.2315, Training Accuracy: 0.68%\n",
      "Epoch 666/1000 - Training Loss: 0.2315, Training Accuracy: 0.69%\n",
      "Epoch 667/1000 - Training Loss: 0.2315, Training Accuracy: 0.68%\n",
      "Epoch 668/1000 - Training Loss: 0.2314, Training Accuracy: 0.68%\n",
      "Epoch 669/1000 - Training Loss: 0.2314, Training Accuracy: 0.68%\n",
      "Epoch 670/1000 - Training Loss: 0.2313, Training Accuracy: 0.68%\n",
      "Epoch 671/1000 - Training Loss: 0.2313, Training Accuracy: 0.68%\n",
      "Epoch 672/1000 - Training Loss: 0.2312, Training Accuracy: 0.68%\n",
      "Epoch 673/1000 - Training Loss: 0.2312, Training Accuracy: 0.68%\n",
      "Epoch 674/1000 - Training Loss: 0.2311, Training Accuracy: 0.68%\n",
      "Epoch 675/1000 - Training Loss: 0.2311, Training Accuracy: 0.68%\n",
      "Epoch 676/1000 - Training Loss: 0.2310, Training Accuracy: 0.68%\n",
      "Epoch 677/1000 - Training Loss: 0.2310, Training Accuracy: 0.68%\n",
      "Epoch 678/1000 - Training Loss: 0.2310, Training Accuracy: 0.68%\n",
      "Epoch 679/1000 - Training Loss: 0.2309, Training Accuracy: 0.69%\n",
      "Epoch 680/1000 - Training Loss: 0.2309, Training Accuracy: 0.68%\n",
      "Epoch 681/1000 - Training Loss: 0.2309, Training Accuracy: 0.69%\n",
      "Epoch 682/1000 - Training Loss: 0.2309, Training Accuracy: 0.68%\n",
      "Epoch 683/1000 - Training Loss: 0.2309, Training Accuracy: 0.68%\n",
      "Epoch 684/1000 - Training Loss: 0.2309, Training Accuracy: 0.68%\n",
      "Epoch 685/1000 - Training Loss: 0.2309, Training Accuracy: 0.68%\n",
      "Epoch 686/1000 - Training Loss: 0.2309, Training Accuracy: 0.68%\n",
      "Epoch 687/1000 - Training Loss: 0.2309, Training Accuracy: 0.68%\n",
      "Epoch 688/1000 - Training Loss: 0.2309, Training Accuracy: 0.68%\n",
      "Epoch 689/1000 - Training Loss: 0.2309, Training Accuracy: 0.68%\n",
      "Epoch 690/1000 - Training Loss: 0.2309, Training Accuracy: 0.68%\n",
      "Epoch 691/1000 - Training Loss: 0.2309, Training Accuracy: 0.68%\n",
      "Epoch 692/1000 - Training Loss: 0.2309, Training Accuracy: 0.68%\n",
      "Epoch 693/1000 - Training Loss: 0.2309, Training Accuracy: 0.67%\n",
      "Epoch 694/1000 - Training Loss: 0.2309, Training Accuracy: 0.68%\n",
      "Epoch 695/1000 - Training Loss: 0.2310, Training Accuracy: 0.68%\n",
      "Epoch 696/1000 - Training Loss: 0.2310, Training Accuracy: 0.68%\n",
      "Epoch 697/1000 - Training Loss: 0.2310, Training Accuracy: 0.68%\n",
      "Epoch 698/1000 - Training Loss: 0.2310, Training Accuracy: 0.68%\n",
      "Epoch 699/1000 - Training Loss: 0.2310, Training Accuracy: 0.68%\n",
      "Epoch 700/1000 - Training Loss: 0.2310, Training Accuracy: 0.68%\n",
      "Epoch 701/1000 - Training Loss: 0.2310, Training Accuracy: 0.68%\n",
      "Epoch 702/1000 - Training Loss: 0.2311, Training Accuracy: 0.68%\n",
      "Epoch 703/1000 - Training Loss: 0.2311, Training Accuracy: 0.69%\n",
      "Epoch 704/1000 - Training Loss: 0.2311, Training Accuracy: 0.69%\n",
      "Epoch 705/1000 - Training Loss: 0.2311, Training Accuracy: 0.69%\n",
      "Epoch 706/1000 - Training Loss: 0.2311, Training Accuracy: 0.68%\n",
      "Epoch 707/1000 - Training Loss: 0.2311, Training Accuracy: 0.68%\n",
      "Epoch 708/1000 - Training Loss: 0.2311, Training Accuracy: 0.69%\n",
      "Epoch 709/1000 - Training Loss: 0.2311, Training Accuracy: 0.68%\n",
      "Epoch 710/1000 - Training Loss: 0.2311, Training Accuracy: 0.68%\n",
      "Epoch 711/1000 - Training Loss: 0.2311, Training Accuracy: 0.68%\n",
      "Epoch 712/1000 - Training Loss: 0.2311, Training Accuracy: 0.68%\n",
      "Epoch 713/1000 - Training Loss: 0.2310, Training Accuracy: 0.68%\n",
      "Epoch 714/1000 - Training Loss: 0.2310, Training Accuracy: 0.68%\n",
      "Epoch 715/1000 - Training Loss: 0.2309, Training Accuracy: 0.68%\n",
      "Epoch 716/1000 - Training Loss: 0.2308, Training Accuracy: 0.68%\n",
      "Epoch 717/1000 - Training Loss: 0.2307, Training Accuracy: 0.68%\n",
      "Epoch 718/1000 - Training Loss: 0.2305, Training Accuracy: 0.69%\n",
      "Epoch 719/1000 - Training Loss: 0.2303, Training Accuracy: 0.69%\n",
      "Epoch 720/1000 - Training Loss: 0.2302, Training Accuracy: 0.69%\n",
      "Epoch 721/1000 - Training Loss: 0.2301, Training Accuracy: 0.69%\n",
      "Epoch 722/1000 - Training Loss: 0.2300, Training Accuracy: 0.69%\n",
      "Epoch 723/1000 - Training Loss: 0.2299, Training Accuracy: 0.69%\n",
      "Epoch 724/1000 - Training Loss: 0.2298, Training Accuracy: 0.69%\n",
      "Epoch 725/1000 - Training Loss: 0.2298, Training Accuracy: 0.69%\n",
      "Epoch 726/1000 - Training Loss: 0.2297, Training Accuracy: 0.69%\n",
      "Epoch 727/1000 - Training Loss: 0.2297, Training Accuracy: 0.69%\n",
      "Epoch 728/1000 - Training Loss: 0.2297, Training Accuracy: 0.69%\n",
      "Epoch 729/1000 - Training Loss: 0.2297, Training Accuracy: 0.69%\n",
      "Epoch 730/1000 - Training Loss: 0.2297, Training Accuracy: 0.69%\n",
      "Epoch 731/1000 - Training Loss: 0.2297, Training Accuracy: 0.69%\n",
      "Epoch 732/1000 - Training Loss: 0.2297, Training Accuracy: 0.69%\n",
      "Epoch 733/1000 - Training Loss: 0.2298, Training Accuracy: 0.69%\n",
      "Epoch 734/1000 - Training Loss: 0.2299, Training Accuracy: 0.69%\n",
      "Epoch 735/1000 - Training Loss: 0.2299, Training Accuracy: 0.69%\n",
      "Epoch 736/1000 - Training Loss: 0.2300, Training Accuracy: 0.69%\n",
      "Epoch 737/1000 - Training Loss: 0.2301, Training Accuracy: 0.69%\n",
      "Epoch 738/1000 - Training Loss: 0.2302, Training Accuracy: 0.68%\n",
      "Epoch 739/1000 - Training Loss: 0.2303, Training Accuracy: 0.68%\n",
      "Epoch 740/1000 - Training Loss: 0.2304, Training Accuracy: 0.68%\n",
      "Epoch 741/1000 - Training Loss: 0.2304, Training Accuracy: 0.68%\n",
      "Epoch 742/1000 - Training Loss: 0.2305, Training Accuracy: 0.68%\n",
      "Epoch 743/1000 - Training Loss: 0.2306, Training Accuracy: 0.68%\n",
      "Epoch 744/1000 - Training Loss: 0.2307, Training Accuracy: 0.68%\n",
      "Epoch 745/1000 - Training Loss: 0.2308, Training Accuracy: 0.68%\n",
      "Epoch 746/1000 - Training Loss: 0.2309, Training Accuracy: 0.67%\n",
      "Epoch 747/1000 - Training Loss: 0.2310, Training Accuracy: 0.67%\n",
      "Epoch 748/1000 - Training Loss: 0.2311, Training Accuracy: 0.67%\n",
      "Epoch 749/1000 - Training Loss: 0.2312, Training Accuracy: 0.67%\n",
      "Epoch 750/1000 - Training Loss: 0.2313, Training Accuracy: 0.67%\n",
      "Epoch 751/1000 - Training Loss: 0.2314, Training Accuracy: 0.67%\n",
      "Epoch 752/1000 - Training Loss: 0.2314, Training Accuracy: 0.67%\n",
      "Epoch 753/1000 - Training Loss: 0.2315, Training Accuracy: 0.67%\n",
      "Epoch 754/1000 - Training Loss: 0.2316, Training Accuracy: 0.67%\n",
      "Epoch 755/1000 - Training Loss: 0.2316, Training Accuracy: 0.67%\n",
      "Epoch 756/1000 - Training Loss: 0.2316, Training Accuracy: 0.67%\n",
      "Epoch 757/1000 - Training Loss: 0.2317, Training Accuracy: 0.67%\n",
      "Epoch 758/1000 - Training Loss: 0.2317, Training Accuracy: 0.67%\n",
      "Epoch 759/1000 - Training Loss: 0.2317, Training Accuracy: 0.67%\n",
      "Epoch 760/1000 - Training Loss: 0.2318, Training Accuracy: 0.66%\n",
      "Epoch 761/1000 - Training Loss: 0.2318, Training Accuracy: 0.66%\n",
      "Epoch 762/1000 - Training Loss: 0.2319, Training Accuracy: 0.66%\n",
      "Epoch 763/1000 - Training Loss: 0.2320, Training Accuracy: 0.66%\n",
      "Epoch 764/1000 - Training Loss: 0.2320, Training Accuracy: 0.66%\n",
      "Epoch 765/1000 - Training Loss: 0.2321, Training Accuracy: 0.66%\n",
      "Epoch 766/1000 - Training Loss: 0.2321, Training Accuracy: 0.66%\n",
      "Epoch 767/1000 - Training Loss: 0.2321, Training Accuracy: 0.66%\n",
      "Epoch 768/1000 - Training Loss: 0.2321, Training Accuracy: 0.66%\n",
      "Epoch 769/1000 - Training Loss: 0.2321, Training Accuracy: 0.66%\n",
      "Epoch 770/1000 - Training Loss: 0.2321, Training Accuracy: 0.66%\n",
      "Epoch 771/1000 - Training Loss: 0.2321, Training Accuracy: 0.66%\n",
      "Epoch 772/1000 - Training Loss: 0.2321, Training Accuracy: 0.66%\n",
      "Epoch 773/1000 - Training Loss: 0.2321, Training Accuracy: 0.66%\n",
      "Epoch 774/1000 - Training Loss: 0.2320, Training Accuracy: 0.66%\n",
      "Epoch 775/1000 - Training Loss: 0.2320, Training Accuracy: 0.66%\n",
      "Epoch 776/1000 - Training Loss: 0.2319, Training Accuracy: 0.66%\n",
      "Epoch 777/1000 - Training Loss: 0.2319, Training Accuracy: 0.66%\n",
      "Epoch 778/1000 - Training Loss: 0.2318, Training Accuracy: 0.66%\n",
      "Epoch 779/1000 - Training Loss: 0.2318, Training Accuracy: 0.66%\n",
      "Epoch 780/1000 - Training Loss: 0.2317, Training Accuracy: 0.66%\n",
      "Epoch 781/1000 - Training Loss: 0.2317, Training Accuracy: 0.66%\n",
      "Epoch 782/1000 - Training Loss: 0.2316, Training Accuracy: 0.66%\n",
      "Epoch 783/1000 - Training Loss: 0.2316, Training Accuracy: 0.66%\n",
      "Epoch 784/1000 - Training Loss: 0.2316, Training Accuracy: 0.66%\n",
      "Epoch 785/1000 - Training Loss: 0.2315, Training Accuracy: 0.66%\n",
      "Epoch 786/1000 - Training Loss: 0.2315, Training Accuracy: 0.66%\n",
      "Epoch 787/1000 - Training Loss: 0.2315, Training Accuracy: 0.66%\n",
      "Epoch 788/1000 - Training Loss: 0.2315, Training Accuracy: 0.66%\n",
      "Epoch 789/1000 - Training Loss: 0.2314, Training Accuracy: 0.66%\n",
      "Epoch 790/1000 - Training Loss: 0.2314, Training Accuracy: 0.66%\n",
      "Epoch 791/1000 - Training Loss: 0.2314, Training Accuracy: 0.66%\n",
      "Epoch 792/1000 - Training Loss: 0.2314, Training Accuracy: 0.66%\n",
      "Epoch 793/1000 - Training Loss: 0.2314, Training Accuracy: 0.66%\n",
      "Epoch 794/1000 - Training Loss: 0.2313, Training Accuracy: 0.66%\n",
      "Epoch 795/1000 - Training Loss: 0.2313, Training Accuracy: 0.66%\n",
      "Epoch 796/1000 - Training Loss: 0.2313, Training Accuracy: 0.66%\n",
      "Epoch 797/1000 - Training Loss: 0.2313, Training Accuracy: 0.67%\n",
      "Epoch 798/1000 - Training Loss: 0.2313, Training Accuracy: 0.67%\n",
      "Epoch 799/1000 - Training Loss: 0.2313, Training Accuracy: 0.67%\n",
      "Epoch 800/1000 - Training Loss: 0.2312, Training Accuracy: 0.67%\n",
      "Epoch 801/1000 - Training Loss: 0.2312, Training Accuracy: 0.67%\n",
      "Epoch 802/1000 - Training Loss: 0.2312, Training Accuracy: 0.67%\n",
      "Epoch 803/1000 - Training Loss: 0.2312, Training Accuracy: 0.67%\n",
      "Epoch 804/1000 - Training Loss: 0.2312, Training Accuracy: 0.67%\n",
      "Epoch 805/1000 - Training Loss: 0.2312, Training Accuracy: 0.67%\n",
      "Epoch 806/1000 - Training Loss: 0.2312, Training Accuracy: 0.67%\n",
      "Epoch 807/1000 - Training Loss: 0.2312, Training Accuracy: 0.67%\n",
      "Epoch 808/1000 - Training Loss: 0.2312, Training Accuracy: 0.67%\n",
      "Epoch 809/1000 - Training Loss: 0.2312, Training Accuracy: 0.67%\n",
      "Epoch 810/1000 - Training Loss: 0.2312, Training Accuracy: 0.67%\n",
      "Epoch 811/1000 - Training Loss: 0.2312, Training Accuracy: 0.67%\n",
      "Epoch 812/1000 - Training Loss: 0.2312, Training Accuracy: 0.67%\n",
      "Epoch 813/1000 - Training Loss: 0.2311, Training Accuracy: 0.67%\n",
      "Epoch 814/1000 - Training Loss: 0.2311, Training Accuracy: 0.67%\n",
      "Epoch 815/1000 - Training Loss: 0.2311, Training Accuracy: 0.67%\n",
      "Epoch 816/1000 - Training Loss: 0.2312, Training Accuracy: 0.67%\n",
      "Epoch 817/1000 - Training Loss: 0.2312, Training Accuracy: 0.67%\n",
      "Epoch 818/1000 - Training Loss: 0.2312, Training Accuracy: 0.67%\n",
      "Epoch 819/1000 - Training Loss: 0.2312, Training Accuracy: 0.67%\n",
      "Epoch 820/1000 - Training Loss: 0.2312, Training Accuracy: 0.67%\n",
      "Epoch 821/1000 - Training Loss: 0.2312, Training Accuracy: 0.67%\n",
      "Epoch 822/1000 - Training Loss: 0.2312, Training Accuracy: 0.67%\n",
      "Epoch 823/1000 - Training Loss: 0.2312, Training Accuracy: 0.67%\n",
      "Epoch 824/1000 - Training Loss: 0.2313, Training Accuracy: 0.67%\n",
      "Epoch 825/1000 - Training Loss: 0.2313, Training Accuracy: 0.67%\n",
      "Epoch 826/1000 - Training Loss: 0.2313, Training Accuracy: 0.67%\n",
      "Epoch 827/1000 - Training Loss: 0.2313, Training Accuracy: 0.67%\n",
      "Epoch 828/1000 - Training Loss: 0.2314, Training Accuracy: 0.67%\n",
      "Epoch 829/1000 - Training Loss: 0.2314, Training Accuracy: 0.67%\n",
      "Epoch 830/1000 - Training Loss: 0.2314, Training Accuracy: 0.67%\n",
      "Epoch 831/1000 - Training Loss: 0.2315, Training Accuracy: 0.67%\n",
      "Epoch 832/1000 - Training Loss: 0.2315, Training Accuracy: 0.67%\n",
      "Epoch 833/1000 - Training Loss: 0.2316, Training Accuracy: 0.67%\n",
      "Epoch 834/1000 - Training Loss: 0.2316, Training Accuracy: 0.67%\n",
      "Epoch 835/1000 - Training Loss: 0.2317, Training Accuracy: 0.67%\n",
      "Epoch 836/1000 - Training Loss: 0.2317, Training Accuracy: 0.67%\n",
      "Epoch 837/1000 - Training Loss: 0.2318, Training Accuracy: 0.67%\n",
      "Epoch 838/1000 - Training Loss: 0.2318, Training Accuracy: 0.67%\n",
      "Epoch 839/1000 - Training Loss: 0.2319, Training Accuracy: 0.67%\n",
      "Epoch 840/1000 - Training Loss: 0.2320, Training Accuracy: 0.66%\n",
      "Epoch 841/1000 - Training Loss: 0.2321, Training Accuracy: 0.66%\n",
      "Epoch 842/1000 - Training Loss: 0.2322, Training Accuracy: 0.66%\n",
      "Epoch 843/1000 - Training Loss: 0.2322, Training Accuracy: 0.66%\n",
      "Epoch 844/1000 - Training Loss: 0.2323, Training Accuracy: 0.66%\n",
      "Epoch 845/1000 - Training Loss: 0.2324, Training Accuracy: 0.66%\n",
      "Epoch 846/1000 - Training Loss: 0.2325, Training Accuracy: 0.66%\n",
      "Epoch 847/1000 - Training Loss: 0.2326, Training Accuracy: 0.66%\n",
      "Epoch 848/1000 - Training Loss: 0.2327, Training Accuracy: 0.66%\n",
      "Epoch 849/1000 - Training Loss: 0.2328, Training Accuracy: 0.66%\n",
      "Epoch 850/1000 - Training Loss: 0.2329, Training Accuracy: 0.66%\n",
      "Epoch 851/1000 - Training Loss: 0.2330, Training Accuracy: 0.66%\n",
      "Epoch 852/1000 - Training Loss: 0.2331, Training Accuracy: 0.66%\n",
      "Epoch 853/1000 - Training Loss: 0.2332, Training Accuracy: 0.66%\n",
      "Epoch 854/1000 - Training Loss: 0.2333, Training Accuracy: 0.66%\n",
      "Epoch 855/1000 - Training Loss: 0.2334, Training Accuracy: 0.66%\n",
      "Epoch 856/1000 - Training Loss: 0.2335, Training Accuracy: 0.66%\n",
      "Epoch 857/1000 - Training Loss: 0.2336, Training Accuracy: 0.66%\n",
      "Epoch 858/1000 - Training Loss: 0.2337, Training Accuracy: 0.66%\n",
      "Epoch 859/1000 - Training Loss: 0.2338, Training Accuracy: 0.66%\n",
      "Epoch 860/1000 - Training Loss: 0.2339, Training Accuracy: 0.66%\n",
      "Epoch 861/1000 - Training Loss: 0.2340, Training Accuracy: 0.66%\n",
      "Epoch 862/1000 - Training Loss: 0.2341, Training Accuracy: 0.66%\n",
      "Epoch 863/1000 - Training Loss: 0.2342, Training Accuracy: 0.66%\n",
      "Epoch 864/1000 - Training Loss: 0.2343, Training Accuracy: 0.66%\n",
      "Epoch 865/1000 - Training Loss: 0.2344, Training Accuracy: 0.66%\n",
      "Epoch 866/1000 - Training Loss: 0.2345, Training Accuracy: 0.66%\n",
      "Epoch 867/1000 - Training Loss: 0.2346, Training Accuracy: 0.66%\n",
      "Epoch 868/1000 - Training Loss: 0.2347, Training Accuracy: 0.66%\n",
      "Epoch 869/1000 - Training Loss: 0.2347, Training Accuracy: 0.66%\n",
      "Epoch 870/1000 - Training Loss: 0.2348, Training Accuracy: 0.66%\n",
      "Epoch 871/1000 - Training Loss: 0.2348, Training Accuracy: 0.66%\n",
      "Epoch 872/1000 - Training Loss: 0.2348, Training Accuracy: 0.66%\n",
      "Epoch 873/1000 - Training Loss: 0.2349, Training Accuracy: 0.66%\n",
      "Epoch 874/1000 - Training Loss: 0.2349, Training Accuracy: 0.66%\n",
      "Epoch 875/1000 - Training Loss: 0.2349, Training Accuracy: 0.66%\n",
      "Epoch 876/1000 - Training Loss: 0.2349, Training Accuracy: 0.66%\n",
      "Epoch 877/1000 - Training Loss: 0.2348, Training Accuracy: 0.66%\n",
      "Epoch 878/1000 - Training Loss: 0.2348, Training Accuracy: 0.66%\n",
      "Epoch 879/1000 - Training Loss: 0.2348, Training Accuracy: 0.66%\n",
      "Epoch 880/1000 - Training Loss: 0.2348, Training Accuracy: 0.66%\n",
      "Epoch 881/1000 - Training Loss: 0.2348, Training Accuracy: 0.66%\n",
      "Epoch 882/1000 - Training Loss: 0.2349, Training Accuracy: 0.66%\n",
      "Epoch 883/1000 - Training Loss: 0.2349, Training Accuracy: 0.66%\n",
      "Epoch 884/1000 - Training Loss: 0.2349, Training Accuracy: 0.66%\n",
      "Epoch 885/1000 - Training Loss: 0.2350, Training Accuracy: 0.66%\n",
      "Epoch 886/1000 - Training Loss: 0.2350, Training Accuracy: 0.66%\n",
      "Epoch 887/1000 - Training Loss: 0.2351, Training Accuracy: 0.66%\n",
      "Epoch 888/1000 - Training Loss: 0.2351, Training Accuracy: 0.66%\n",
      "Epoch 889/1000 - Training Loss: 0.2352, Training Accuracy: 0.66%\n",
      "Epoch 890/1000 - Training Loss: 0.2353, Training Accuracy: 0.66%\n",
      "Epoch 891/1000 - Training Loss: 0.2353, Training Accuracy: 0.66%\n",
      "Epoch 892/1000 - Training Loss: 0.2354, Training Accuracy: 0.66%\n",
      "Epoch 893/1000 - Training Loss: 0.2354, Training Accuracy: 0.66%\n",
      "Epoch 894/1000 - Training Loss: 0.2355, Training Accuracy: 0.66%\n",
      "Epoch 895/1000 - Training Loss: 0.2356, Training Accuracy: 0.66%\n",
      "Epoch 896/1000 - Training Loss: 0.2356, Training Accuracy: 0.66%\n",
      "Epoch 897/1000 - Training Loss: 0.2357, Training Accuracy: 0.66%\n",
      "Epoch 898/1000 - Training Loss: 0.2357, Training Accuracy: 0.66%\n",
      "Epoch 899/1000 - Training Loss: 0.2358, Training Accuracy: 0.66%\n",
      "Epoch 900/1000 - Training Loss: 0.2358, Training Accuracy: 0.66%\n",
      "Epoch 901/1000 - Training Loss: 0.2359, Training Accuracy: 0.66%\n",
      "Epoch 902/1000 - Training Loss: 0.2359, Training Accuracy: 0.66%\n",
      "Epoch 903/1000 - Training Loss: 0.2359, Training Accuracy: 0.66%\n",
      "Epoch 904/1000 - Training Loss: 0.2360, Training Accuracy: 0.66%\n",
      "Epoch 905/1000 - Training Loss: 0.2360, Training Accuracy: 0.66%\n",
      "Epoch 906/1000 - Training Loss: 0.2360, Training Accuracy: 0.66%\n",
      "Epoch 907/1000 - Training Loss: 0.2361, Training Accuracy: 0.66%\n",
      "Epoch 908/1000 - Training Loss: 0.2361, Training Accuracy: 0.65%\n",
      "Epoch 909/1000 - Training Loss: 0.2361, Training Accuracy: 0.65%\n",
      "Epoch 910/1000 - Training Loss: 0.2362, Training Accuracy: 0.65%\n",
      "Epoch 911/1000 - Training Loss: 0.2362, Training Accuracy: 0.66%\n",
      "Epoch 912/1000 - Training Loss: 0.2363, Training Accuracy: 0.65%\n",
      "Epoch 913/1000 - Training Loss: 0.2364, Training Accuracy: 0.65%\n",
      "Epoch 914/1000 - Training Loss: 0.2364, Training Accuracy: 0.65%\n",
      "Epoch 915/1000 - Training Loss: 0.2365, Training Accuracy: 0.65%\n",
      "Epoch 916/1000 - Training Loss: 0.2367, Training Accuracy: 0.65%\n",
      "Epoch 917/1000 - Training Loss: 0.2368, Training Accuracy: 0.65%\n",
      "Epoch 918/1000 - Training Loss: 0.2370, Training Accuracy: 0.64%\n",
      "Epoch 919/1000 - Training Loss: 0.2370, Training Accuracy: 0.65%\n",
      "Epoch 920/1000 - Training Loss: 0.2370, Training Accuracy: 0.65%\n",
      "Epoch 921/1000 - Training Loss: 0.2370, Training Accuracy: 0.65%\n",
      "Epoch 922/1000 - Training Loss: 0.2370, Training Accuracy: 0.65%\n",
      "Epoch 923/1000 - Training Loss: 0.2369, Training Accuracy: 0.65%\n",
      "Epoch 924/1000 - Training Loss: 0.2369, Training Accuracy: 0.65%\n",
      "Epoch 925/1000 - Training Loss: 0.2369, Training Accuracy: 0.65%\n",
      "Epoch 926/1000 - Training Loss: 0.2368, Training Accuracy: 0.65%\n",
      "Epoch 927/1000 - Training Loss: 0.2367, Training Accuracy: 0.65%\n",
      "Epoch 928/1000 - Training Loss: 0.2366, Training Accuracy: 0.65%\n",
      "Epoch 929/1000 - Training Loss: 0.2365, Training Accuracy: 0.65%\n",
      "Epoch 930/1000 - Training Loss: 0.2363, Training Accuracy: 0.65%\n",
      "Epoch 931/1000 - Training Loss: 0.2361, Training Accuracy: 0.66%\n",
      "Epoch 932/1000 - Training Loss: 0.2359, Training Accuracy: 0.66%\n",
      "Epoch 933/1000 - Training Loss: 0.2356, Training Accuracy: 0.66%\n",
      "Epoch 934/1000 - Training Loss: 0.2354, Training Accuracy: 0.66%\n",
      "Epoch 935/1000 - Training Loss: 0.2353, Training Accuracy: 0.66%\n",
      "Epoch 936/1000 - Training Loss: 0.2352, Training Accuracy: 0.66%\n",
      "Epoch 937/1000 - Training Loss: 0.2351, Training Accuracy: 0.66%\n",
      "Epoch 938/1000 - Training Loss: 0.2351, Training Accuracy: 0.66%\n",
      "Epoch 939/1000 - Training Loss: 0.2350, Training Accuracy: 0.66%\n",
      "Epoch 940/1000 - Training Loss: 0.2349, Training Accuracy: 0.66%\n",
      "Epoch 941/1000 - Training Loss: 0.2349, Training Accuracy: 0.66%\n",
      "Epoch 942/1000 - Training Loss: 0.2348, Training Accuracy: 0.66%\n",
      "Epoch 943/1000 - Training Loss: 0.2348, Training Accuracy: 0.66%\n",
      "Epoch 944/1000 - Training Loss: 0.2347, Training Accuracy: 0.66%\n",
      "Epoch 945/1000 - Training Loss: 0.2347, Training Accuracy: 0.66%\n",
      "Epoch 946/1000 - Training Loss: 0.2346, Training Accuracy: 0.66%\n",
      "Epoch 947/1000 - Training Loss: 0.2345, Training Accuracy: 0.66%\n",
      "Epoch 948/1000 - Training Loss: 0.2345, Training Accuracy: 0.66%\n",
      "Epoch 949/1000 - Training Loss: 0.2344, Training Accuracy: 0.66%\n",
      "Epoch 950/1000 - Training Loss: 0.2344, Training Accuracy: 0.67%\n",
      "Epoch 951/1000 - Training Loss: 0.2343, Training Accuracy: 0.66%\n",
      "Epoch 952/1000 - Training Loss: 0.2343, Training Accuracy: 0.66%\n",
      "Epoch 953/1000 - Training Loss: 0.2342, Training Accuracy: 0.67%\n",
      "Epoch 954/1000 - Training Loss: 0.2342, Training Accuracy: 0.66%\n",
      "Epoch 955/1000 - Training Loss: 0.2341, Training Accuracy: 0.66%\n",
      "Epoch 956/1000 - Training Loss: 0.2341, Training Accuracy: 0.66%\n",
      "Epoch 957/1000 - Training Loss: 0.2340, Training Accuracy: 0.66%\n",
      "Epoch 958/1000 - Training Loss: 0.2340, Training Accuracy: 0.66%\n",
      "Epoch 959/1000 - Training Loss: 0.2340, Training Accuracy: 0.66%\n",
      "Epoch 960/1000 - Training Loss: 0.2339, Training Accuracy: 0.66%\n",
      "Epoch 961/1000 - Training Loss: 0.2339, Training Accuracy: 0.66%\n",
      "Epoch 962/1000 - Training Loss: 0.2339, Training Accuracy: 0.66%\n",
      "Epoch 963/1000 - Training Loss: 0.2339, Training Accuracy: 0.66%\n",
      "Epoch 964/1000 - Training Loss: 0.2339, Training Accuracy: 0.66%\n",
      "Epoch 965/1000 - Training Loss: 0.2339, Training Accuracy: 0.66%\n",
      "Epoch 966/1000 - Training Loss: 0.2338, Training Accuracy: 0.66%\n",
      "Epoch 967/1000 - Training Loss: 0.2338, Training Accuracy: 0.66%\n",
      "Epoch 968/1000 - Training Loss: 0.2338, Training Accuracy: 0.66%\n",
      "Epoch 969/1000 - Training Loss: 0.2338, Training Accuracy: 0.66%\n",
      "Epoch 970/1000 - Training Loss: 0.2338, Training Accuracy: 0.66%\n",
      "Epoch 971/1000 - Training Loss: 0.2338, Training Accuracy: 0.66%\n",
      "Epoch 972/1000 - Training Loss: 0.2338, Training Accuracy: 0.66%\n",
      "Epoch 973/1000 - Training Loss: 0.2338, Training Accuracy: 0.66%\n",
      "Epoch 974/1000 - Training Loss: 0.2338, Training Accuracy: 0.66%\n",
      "Epoch 975/1000 - Training Loss: 0.2338, Training Accuracy: 0.66%\n",
      "Epoch 976/1000 - Training Loss: 0.2338, Training Accuracy: 0.66%\n",
      "Epoch 977/1000 - Training Loss: 0.2337, Training Accuracy: 0.66%\n",
      "Epoch 978/1000 - Training Loss: 0.2337, Training Accuracy: 0.66%\n",
      "Epoch 979/1000 - Training Loss: 0.2337, Training Accuracy: 0.66%\n",
      "Epoch 980/1000 - Training Loss: 0.2337, Training Accuracy: 0.66%\n",
      "Epoch 981/1000 - Training Loss: 0.2337, Training Accuracy: 0.66%\n",
      "Epoch 982/1000 - Training Loss: 0.2337, Training Accuracy: 0.66%\n",
      "Epoch 983/1000 - Training Loss: 0.2337, Training Accuracy: 0.66%\n",
      "Epoch 984/1000 - Training Loss: 0.2336, Training Accuracy: 0.66%\n",
      "Epoch 985/1000 - Training Loss: 0.2336, Training Accuracy: 0.66%\n",
      "Epoch 986/1000 - Training Loss: 0.2336, Training Accuracy: 0.66%\n",
      "Epoch 987/1000 - Training Loss: 0.2335, Training Accuracy: 0.66%\n",
      "Epoch 988/1000 - Training Loss: 0.2335, Training Accuracy: 0.66%\n",
      "Epoch 989/1000 - Training Loss: 0.2335, Training Accuracy: 0.66%\n",
      "Epoch 990/1000 - Training Loss: 0.2334, Training Accuracy: 0.66%\n",
      "Epoch 991/1000 - Training Loss: 0.2334, Training Accuracy: 0.66%\n",
      "Epoch 992/1000 - Training Loss: 0.2334, Training Accuracy: 0.66%\n",
      "Epoch 993/1000 - Training Loss: 0.2333, Training Accuracy: 0.66%\n",
      "Epoch 994/1000 - Training Loss: 0.2333, Training Accuracy: 0.66%\n",
      "Epoch 995/1000 - Training Loss: 0.2333, Training Accuracy: 0.66%\n",
      "Epoch 996/1000 - Training Loss: 0.2332, Training Accuracy: 0.66%\n",
      "Epoch 997/1000 - Training Loss: 0.2332, Training Accuracy: 0.66%\n",
      "Epoch 998/1000 - Training Loss: 0.2331, Training Accuracy: 0.66%\n",
      "Epoch 999/1000 - Training Loss: 0.2331, Training Accuracy: 0.66%\n",
      "Epoch 1000/1000 - Training Loss: 0.2331, Training Accuracy: 0.66%\n"
     ]
    }
   ],
   "source": [
    "# print the classification report on the test set\n",
    "mlp_model = MultiLayerPerceptronClassifier(X_train, y_train, X_val, y_val, hidden_layers=[6, 6], activation_function=\"tanh\", learning_rate=0.01, optimizer=\"sgd\", log_to_wandb=False)\n",
    "mlp_model.train(epochs=1000)\n",
    "y_pred = mlp_model.predict(X_test)"
   ]
  },
  {
   "cell_type": "code",
   "execution_count": 15,
   "metadata": {},
   "outputs": [
    {
     "name": "stdout",
     "output_type": "stream",
     "text": [
      "Classification Report on Test Set\n",
      "              precision    recall  f1-score   support\n",
      "\n",
      "           1       1.00      0.00      0.00         2\n",
      "           2       0.67      0.77      0.71        47\n",
      "           3       0.65      0.58      0.61        52\n",
      "           4       0.40      0.46      0.43        13\n",
      "           5       1.00      0.00      0.00         1\n",
      "\n",
      "    accuracy                           0.63       115\n",
      "   macro avg       0.74      0.36      0.35       115\n",
      "weighted avg       0.64      0.63      0.62       115\n",
      "\n"
     ]
    }
   ],
   "source": [
    "print(\"Classification Report on Test Set\")\n",
    "print(classification_report(y_test, y_pred, zero_division=1))"
   ]
  },
  {
   "cell_type": "markdown",
   "metadata": {},
   "source": [
    "## Comparing MLP Classifier and Logistic Regression\n",
    "\n",
    "### Using Logistic Regression:\n",
    "Best Accuracy on the val set: 61.17%\n",
    "Best Accuracy on the train set: 57.3%\n",
    "### Using MLP Classifier:\n",
    "Best Accuracy on the val set: 66%\n",
    "Best Accuracy on the train set: 77.5%"
   ]
  },
  {
   "cell_type": "markdown",
   "metadata": {},
   "source": [
    "## Advertisement Dataset"
   ]
  },
  {
   "cell_type": "code",
   "execution_count": 18,
   "metadata": {},
   "outputs": [
    {
     "data": {
      "text/html": [
       "<div>\n",
       "<style scoped>\n",
       "    .dataframe tbody tr th:only-of-type {\n",
       "        vertical-align: middle;\n",
       "    }\n",
       "\n",
       "    .dataframe tbody tr th {\n",
       "        vertical-align: top;\n",
       "    }\n",
       "\n",
       "    .dataframe thead th {\n",
       "        text-align: right;\n",
       "    }\n",
       "</style>\n",
       "<table border=\"1\" class=\"dataframe\">\n",
       "  <thead>\n",
       "    <tr style=\"text-align: right;\">\n",
       "      <th></th>\n",
       "      <th>age</th>\n",
       "      <th>gender</th>\n",
       "      <th>income</th>\n",
       "      <th>education</th>\n",
       "      <th>married</th>\n",
       "      <th>children</th>\n",
       "      <th>city</th>\n",
       "      <th>occupation</th>\n",
       "      <th>purchase_amount</th>\n",
       "      <th>most bought item</th>\n",
       "      <th>labels</th>\n",
       "    </tr>\n",
       "  </thead>\n",
       "  <tbody>\n",
       "    <tr>\n",
       "      <th>0</th>\n",
       "      <td>45</td>\n",
       "      <td>Male</td>\n",
       "      <td>61271.953359</td>\n",
       "      <td>Master</td>\n",
       "      <td>False</td>\n",
       "      <td>3</td>\n",
       "      <td>Lake Sheila</td>\n",
       "      <td>Doctor</td>\n",
       "      <td>87.697118</td>\n",
       "      <td>monitor</td>\n",
       "      <td>electronics clothing sports</td>\n",
       "    </tr>\n",
       "    <tr>\n",
       "      <th>1</th>\n",
       "      <td>24</td>\n",
       "      <td>Female</td>\n",
       "      <td>53229.101074</td>\n",
       "      <td>High School</td>\n",
       "      <td>False</td>\n",
       "      <td>1</td>\n",
       "      <td>Crystalburgh</td>\n",
       "      <td>Businessman</td>\n",
       "      <td>115.135586</td>\n",
       "      <td>lipstick</td>\n",
       "      <td>furniture beauty</td>\n",
       "    </tr>\n",
       "    <tr>\n",
       "      <th>2</th>\n",
       "      <td>45</td>\n",
       "      <td>Female</td>\n",
       "      <td>30066.046684</td>\n",
       "      <td>Bachelor</td>\n",
       "      <td>True</td>\n",
       "      <td>3</td>\n",
       "      <td>Margaretburgh</td>\n",
       "      <td>Engineer</td>\n",
       "      <td>101.694559</td>\n",
       "      <td>biscuits</td>\n",
       "      <td>clothing electronics food sports</td>\n",
       "    </tr>\n",
       "    <tr>\n",
       "      <th>3</th>\n",
       "      <td>19</td>\n",
       "      <td>Male</td>\n",
       "      <td>48950.246384</td>\n",
       "      <td>PhD</td>\n",
       "      <td>False</td>\n",
       "      <td>0</td>\n",
       "      <td>Williamshaven</td>\n",
       "      <td>Lawyer</td>\n",
       "      <td>97.964887</td>\n",
       "      <td>maggi</td>\n",
       "      <td>food</td>\n",
       "    </tr>\n",
       "    <tr>\n",
       "      <th>4</th>\n",
       "      <td>29</td>\n",
       "      <td>Female</td>\n",
       "      <td>44792.627094</td>\n",
       "      <td>Master</td>\n",
       "      <td>False</td>\n",
       "      <td>0</td>\n",
       "      <td>New Paul</td>\n",
       "      <td>Businessman</td>\n",
       "      <td>86.847281</td>\n",
       "      <td>carpet</td>\n",
       "      <td>home</td>\n",
       "    </tr>\n",
       "  </tbody>\n",
       "</table>\n",
       "</div>"
      ],
      "text/plain": [
       "   age  gender        income    education  married  children           city  \\\n",
       "0   45    Male  61271.953359       Master    False         3    Lake Sheila   \n",
       "1   24  Female  53229.101074  High School    False         1   Crystalburgh   \n",
       "2   45  Female  30066.046684     Bachelor     True         3  Margaretburgh   \n",
       "3   19    Male  48950.246384          PhD    False         0  Williamshaven   \n",
       "4   29  Female  44792.627094       Master    False         0       New Paul   \n",
       "\n",
       "    occupation  purchase_amount most bought item  \\\n",
       "0       Doctor        87.697118          monitor   \n",
       "1  Businessman       115.135586         lipstick   \n",
       "2     Engineer       101.694559         biscuits   \n",
       "3       Lawyer        97.964887            maggi   \n",
       "4  Businessman        86.847281           carpet   \n",
       "\n",
       "                             labels  \n",
       "0       electronics clothing sports  \n",
       "1                  furniture beauty  \n",
       "2  clothing electronics food sports  \n",
       "3                              food  \n",
       "4                              home  "
      ]
     },
     "execution_count": 18,
     "metadata": {},
     "output_type": "execute_result"
    },
    {
     "name": "stderr",
     "output_type": "stream",
     "text": [
      "wandb: Network error (ConnectionError), entering retry loop.\n"
     ]
    }
   ],
   "source": [
    "advertisement_dataset = pd.read_csv('advertisement.csv')\n",
    "advertisement_dataset.head()"
   ]
  }
 ],
 "metadata": {
  "kernelspec": {
   "display_name": "myenv",
   "language": "python",
   "name": "python3"
  },
  "language_info": {
   "codemirror_mode": {
    "name": "ipython",
    "version": 3
   },
   "file_extension": ".py",
   "mimetype": "text/x-python",
   "name": "python",
   "nbconvert_exporter": "python",
   "pygments_lexer": "ipython3",
   "version": "3.11.4"
  },
  "orig_nbformat": 4
 },
 "nbformat": 4,
 "nbformat_minor": 2
}
